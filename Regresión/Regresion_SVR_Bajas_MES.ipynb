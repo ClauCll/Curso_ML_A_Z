{
  "nbformat": 4,
  "nbformat_minor": 0,
  "metadata": {
    "colab": {
      "name": "Untitled1.ipynb",
      "provenance": [],
      "include_colab_link": true
    },
    "kernelspec": {
      "name": "python3",
      "display_name": "Python 3"
    }
  },
  "cells": [
    {
      "cell_type": "markdown",
      "metadata": {
        "id": "view-in-github",
        "colab_type": "text"
      },
      "source": [
        "<a href=\"https://colab.research.google.com/github/ClauCll/Curso_ML_A_Z/blob/master/Regresi%C3%B3n/Regresion_SVR_Bajas_MES.ipynb\" target=\"_parent\"><img src=\"https://colab.research.google.com/assets/colab-badge.svg\" alt=\"Open In Colab\"/></a>"
      ]
    },
    {
      "cell_type": "markdown",
      "metadata": {
        "id": "-J3qDXeFwvSb",
        "colab_type": "text"
      },
      "source": [
        "# Regresión con soporte máquina vectorial (SVR)\n",
        "# objetivo: Predecir las bajas del mes"
      ]
    },
    {
      "cell_type": "code",
      "metadata": {
        "id": "Vsqlhqgww1BG",
        "colab_type": "code",
        "colab": {}
      },
      "source": [
        "import pandas as pd\n",
        "import numpy as np\n",
        "import matplotlib.pyplot as plt\n",
        "import gspread\n",
        "from oauth2client.client import GoogleCredentials \n",
        "from google.colab import auth\n",
        "# Autoriza Claudia\n",
        "auth.authenticate_user()\n",
        "gc = gspread.authorize (GoogleCredentials.get_application_default())"
      ],
      "execution_count": 2,
      "outputs": []
    },
    {
      "cell_type": "markdown",
      "metadata": {
        "id": "2xAoqlB_02Do",
        "colab_type": "text"
      },
      "source": [
        "### leemos datos"
      ]
    },
    {
      "cell_type": "code",
      "metadata": {
        "id": "y_VVpj56uzRV",
        "colab_type": "code",
        "colab": {
          "base_uri": "https://localhost:8080/",
          "height": 34
        },
        "outputId": "3ad4affd-aef6-4ccb-b320-8b13c699bdb1"
      },
      "source": [
        "from google.colab import drive\n",
        "drive.mount('/content/drive')"
      ],
      "execution_count": 3,
      "outputs": [
        {
          "output_type": "stream",
          "text": [
            "Mounted at /content/drive\n"
          ],
          "name": "stdout"
        }
      ]
    },
    {
      "cell_type": "code",
      "metadata": {
        "id": "0JYqth2Ty8-k",
        "colab_type": "code",
        "colab": {}
      },
      "source": [
        "data1 = pd.read_csv('/content/drive/My Drive/Dataset/DBajas_PERIODO.txt',delimiter='~')\n",
        "x = data1.iloc [:,:-1].values\n",
        "y = data1.iloc [:,1].values"
      ],
      "execution_count": 4,
      "outputs": []
    },
    {
      "cell_type": "code",
      "metadata": {
        "id": "4zakNkcb222f",
        "colab_type": "code",
        "colab": {}
      },
      "source": [
        "pd.DataFrame(x)"
      ],
      "execution_count": null,
      "outputs": []
    },
    {
      "cell_type": "code",
      "metadata": {
        "id": "1-RPj__o27Us",
        "colab_type": "code",
        "colab": {}
      },
      "source": [
        "pd.DataFrame(y)"
      ],
      "execution_count": null,
      "outputs": []
    },
    {
      "cell_type": "markdown",
      "metadata": {
        "id": "LGqSJaVW53oC",
        "colab_type": "text"
      },
      "source": [
        "### Codificar datos categóricos"
      ]
    },
    {
      "cell_type": "code",
      "metadata": {
        "id": "1xHeUpIU59aN",
        "colab_type": "code",
        "colab": {
          "base_uri": "https://localhost:8080/",
          "height": 69
        },
        "outputId": "bd9699fb-0697-4efd-95bf-27b1bafdf2d9"
      },
      "source": [
        "'''from sklearn.preprocessing import LabelEncoder, OneHotEncoder\n",
        "from sklearn.compose import ColumnTransformer\n",
        "labelencoder  = LabelEncoder()\n",
        "x[:,0] = labelencoder.fit_transform(x[:,0])\n",
        "x[:,1] = labelencoder.fit_transform(x[:,1])\n",
        "ct = ColumnTransformer([('one_hot_encoder',OneHotEncoder(categories='auto'),[0,1])],remainder='passthrough')\n",
        "x= np.array(ct.fit_transform(x),dtype=np.integer)'''"
      ],
      "execution_count": null,
      "outputs": [
        {
          "output_type": "execute_result",
          "data": {
            "application/vnd.google.colaboratory.intrinsic+json": {
              "type": "string"
            },
            "text/plain": [
              "\"from sklearn.preprocessing import LabelEncoder, OneHotEncoder\\nfrom sklearn.compose import ColumnTransformer\\nlabelencoder  = LabelEncoder()\\nx[:,0] = labelencoder.fit_transform(x[:,0])\\nx[:,1] = labelencoder.fit_transform(x[:,1])\\nct = ColumnTransformer([('one_hot_encoder',OneHotEncoder(categories='auto'),[0,1])],remainder='passthrough')\\nx= np.array(ct.fit_transform(x),dtype=np.integer)\""
            ]
          },
          "metadata": {
            "tags": []
          },
          "execution_count": 4
        }
      ]
    },
    {
      "cell_type": "markdown",
      "metadata": {
        "id": "elfJqy4EBVo8",
        "colab_type": "text"
      },
      "source": [
        "### Evitar la trampa de variables Dummy"
      ]
    },
    {
      "cell_type": "code",
      "metadata": {
        "id": "gxuG7JnEBdBU",
        "colab_type": "code",
        "colab": {}
      },
      "source": [
        "'''x = x[:,1:]'''"
      ],
      "execution_count": null,
      "outputs": []
    },
    {
      "cell_type": "code",
      "metadata": {
        "id": "9HByNNfG68OE",
        "colab_type": "code",
        "colab": {}
      },
      "source": [
        "pd.DataFrame(x)"
      ],
      "execution_count": null,
      "outputs": []
    },
    {
      "cell_type": "markdown",
      "metadata": {
        "id": "wNusxNzT3UMP",
        "colab_type": "text"
      },
      "source": [
        "### Dividimos los datos en entrenamiento y test"
      ]
    },
    {
      "cell_type": "code",
      "metadata": {
        "id": "Oc4kco8u3ah-",
        "colab_type": "code",
        "colab": {}
      },
      "source": [
        "from sklearn.model_selection import train_test_split\n",
        "x_train, x_test, y_train, y_test = train_test_split(x,y,test_size= 0.2, random_state=0)"
      ],
      "execution_count": 5,
      "outputs": []
    },
    {
      "cell_type": "markdown",
      "metadata": {
        "id": "TMvIs9DIgZV_",
        "colab_type": "text"
      },
      "source": [
        "### Escalamos los datos"
      ]
    },
    {
      "cell_type": "code",
      "metadata": {
        "id": "xZq1KN4y3NGh",
        "colab_type": "code",
        "colab": {}
      },
      "source": [
        "from sklearn.preprocessing import StandardScaler\n",
        "sc_x = StandardScaler()\n",
        "sc_y = StandardScaler()\n",
        "x_train= sc_x.fit_transform(x_train)\n",
        "y_train= sc_y.fit_transform(y_train.reshape(-1,1))"
      ],
      "execution_count": 6,
      "outputs": []
    },
    {
      "cell_type": "code",
      "metadata": {
        "id": "t5V6r84rgH1Q",
        "colab_type": "code",
        "colab": {}
      },
      "source": [
        "len(x_train[:,0])"
      ],
      "execution_count": null,
      "outputs": []
    },
    {
      "cell_type": "code",
      "metadata": {
        "id": "SNeWMZLd4_UL",
        "colab_type": "code",
        "colab": {}
      },
      "source": [
        "muestra=np.array([])\n",
        "y_muestra=np.array([])\n",
        "for i in range(0, 7):\n",
        "    muestra=np.append(muestra,([x_train[:,0][i]]))\n",
        "    y_muestra=np.append(y_muestra,([y_train[:,0][i]]))"
      ],
      "execution_count": 7,
      "outputs": []
    },
    {
      "cell_type": "markdown",
      "metadata": {
        "id": "Fow-3bkhjOVu",
        "colab_type": "text"
      },
      "source": [
        "### Ajustar las caracteristicas SVR"
      ]
    },
    {
      "cell_type": "code",
      "metadata": {
        "id": "tDBqCWkfjVjY",
        "colab_type": "code",
        "colab": {
          "base_uri": "https://localhost:8080/",
          "height": 51
        },
        "outputId": "3efadb6d-d116-4ab3-a468-1fb69e9561b8"
      },
      "source": [
        "from sklearn.svm import SVR\n",
        "regression = SVR(kernel='rbf')\n",
        "regression.fit(muestra.reshape(-1,1),y_muestra.ravel())"
      ],
      "execution_count": 8,
      "outputs": [
        {
          "output_type": "execute_result",
          "data": {
            "text/plain": [
              "SVR(C=1.0, cache_size=200, coef0=0.0, degree=3, epsilon=0.1, gamma='scale',\n",
              "    kernel='rbf', max_iter=-1, shrinking=True, tol=0.001, verbose=False)"
            ]
          },
          "metadata": {
            "tags": []
          },
          "execution_count": 8
        }
      ]
    },
    {
      "cell_type": "code",
      "metadata": {
        "id": "cQ8W4hTf8Cjm",
        "colab_type": "code",
        "colab": {}
      },
      "source": [
        "x_valor=sc_x.inverse_transform(muestra)\n",
        "y_valor= sc_y.inverse_transform(y_muestra)\n",
        "y_predic_valor= sc_y.inverse_transform(regression.predict(muestra.reshape(-1,1)))"
      ],
      "execution_count": 9,
      "outputs": []
    },
    {
      "cell_type": "code",
      "metadata": {
        "id": "_QIoRMbsqGwI",
        "colab_type": "code",
        "colab": {
          "base_uri": "https://localhost:8080/",
          "height": 425
        },
        "outputId": "9124197c-852c-436f-854c-2c0c035aea06"
      },
      "source": [
        "xx = []; yy = []; yy_predic=[]\n",
        "for i in range(7):\n",
        "  xx.append([x_valor[i]])\n",
        "  yy.append([y_valor[i]])\n",
        "  yy_predic.append([y_predic_valor[i]])\n",
        "print(\"x_valor = \"+str(xx)+\"\\n\")\n",
        "print(\"y_valor = \"+str(yy)+\"\\n\")\n",
        "print(\"y_predic\"+str(yy_predic)+\"\\n\")\n",
        "# Concatenamos \n",
        "tabla = np.concatenate((xx, yy,yy_predic), axis=1)\n",
        "print(\"Antes de organizar:\"+\"\\n\"+str(tabla)+\"\\n\")\n",
        "# Organizamos y recreamos tabla\n",
        "tabla[:,0].sort()\n",
        "for i in range(7):\n",
        "  n_orgz =  tabla[i,0]\n",
        "  for ii in range(7):\n",
        "    n_norgz =  x_valor[ii]\n",
        "    if (int(n_norgz) == int(n_orgz)):\n",
        "      tabla[i,1] = y_valor[ii]\n",
        "      tabla[i,2]= y_predic_valor[ii]\n",
        "    else:\n",
        "      pass \n",
        "print(\"Despues de organizar:\"+\"\\n\"+str(tabla)+\"\\n\")"
      ],
      "execution_count": 12,
      "outputs": [
        {
          "output_type": "stream",
          "text": [
            "x_valor = [[201908.0], [201906.0], [201809.0], [202006.0], [201703.0], [202008.0], [201807.0]]\n",
            "\n",
            "y_valor = [[19108.0], [19541.0], [21942.0], [20818.0], [42866.0], [25478.0], [23298.0]]\n",
            "\n",
            "y_predic[[19763.69433368746], [19735.39123676838], [22597.69421816696], [22994.709848449987], [30106.826162874764], [23060.448852677513], [22746.517089506146]]\n",
            "\n",
            "Antes de organizar:\n",
            "[[201908.          19108.          19763.69433369]\n",
            " [201906.          19541.          19735.39123677]\n",
            " [201809.          21942.          22597.69421817]\n",
            " [202006.          20818.          22994.70984845]\n",
            " [201703.          42866.          30106.82616287]\n",
            " [202008.          25478.          23060.44885268]\n",
            " [201807.          23298.          22746.51708951]]\n",
            "\n",
            "Despues de organizar:\n",
            "[[201703.          42866.          30106.82616287]\n",
            " [201807.          23298.          22746.51708951]\n",
            " [201809.          21942.          22597.69421817]\n",
            " [201906.          19541.          19735.39123677]\n",
            " [201908.          19108.          19763.69433369]\n",
            " [202006.          20818.          22994.70984845]\n",
            " [202008.          25478.          23060.44885268]]\n",
            "\n"
          ],
          "name": "stdout"
        }
      ]
    },
    {
      "cell_type": "code",
      "metadata": {
        "id": "sWGOTjcQr2Fd",
        "colab_type": "code",
        "colab": {
          "base_uri": "https://localhost:8080/",
          "height": 295
        },
        "outputId": "faefa6a9-67b5-449a-a93c-459470678f18"
      },
      "source": [
        "# Graficamos \n",
        "plt.scatter(tabla[:,0],tabla[:,1],color='Red', marker='^',alpha=0.5)\n",
        "plt.plot(tabla[:,0],tabla[:,2],color='Blue', marker='^',alpha=0.5)\n",
        "plt.title(\"Gráfica 1\")\n",
        "plt.xlabel(\"Periodo Baja\")\n",
        "plt.ylabel(\"Cantidad\")\n",
        "plt.show()"
      ],
      "execution_count": 14,
      "outputs": [
        {
          "output_type": "display_data",
          "data": {
            "image/png": "[encoded data removed]",
            "text/plain": [
              "<Figure size 432x288 with 1 Axes>"
            ]
          },
          "metadata": {
            "tags": [],
            "needs_background": "light"
          }
        }
      ]
    },
    {
      "cell_type": "code",
      "metadata": {
        "id": "Qb1Y9sXwMIcZ",
        "colab_type": "code",
        "colab": {}
      },
      "source": [
        "nuevo= np.array([])\n",
        "for i in range(202009 , 202012):\n",
        "  nuevo= np.append(nuevo, i)\n",
        "y_pred=sc_y.inverse_transform(regression.predict(sc_x.transform(nuevo.reshape(-1,1))))\n",
        "pd.DataFrame(y_pred)"
      ],
      "execution_count": null,
      "outputs": []
    },
    {
      "cell_type": "code",
      "metadata": {
        "id": "Zl4LqgK8eUQW",
        "colab_type": "code",
        "colab": {}
      },
      "source": [
        "pd.DataFrame(y_valor)"
      ],
      "execution_count": null,
      "outputs": []
    },
    {
      "cell_type": "markdown",
      "metadata": {
        "id": "4kCSDLgVkpuH",
        "colab_type": "text"
      },
      "source": [
        "### Visualizar los resultados"
      ]
    },
    {
      "cell_type": "code",
      "metadata": {
        "id": "aUtTiDi4MGOr",
        "colab_type": "code",
        "colab": {
          "base_uri": "https://localhost:8080/",
          "height": 295
        },
        "outputId": "b56f48d0-e680-485a-8bb9-e994f2051646"
      },
      "source": [
        "x_grid= np.arange(min(x_valor),max(x_valor),0.01)\n",
        "x_grid= x_grid.reshape(len(x_grid),1)\n",
        "plt.scatter(x_valor,y_valor,color=\"Red\")\n",
        "plt.plot(x_valor,y_predic_valor,color=\"blue\")\n",
        "plt.title(\"Modelo SVR\")\n",
        "plt.xlabel(\"Mes\")\n",
        "plt.ylabel(\"Bajas\")\n",
        "plt.show()"
      ],
      "execution_count": 279,
      "outputs": [
        {
          "output_type": "display_data",
          "data": {
            "image/png": "[encoded data removed]",
            "text/plain": [
              "<Figure size 432x288 with 1 Axes>"
            ]
          },
          "metadata": {
            "tags": [],
            "needs_background": "light"
          }
        }
      ]
    },
    {
      "cell_type": "code",
      "metadata": {
        "id": "5p1Yrg9S_vdl",
        "colab_type": "code",
        "colab": {
          "base_uri": "https://localhost:8080/",
          "height": 34
        },
        "outputId": "71704118-f525-4b30-f7b3-c94ffb468331"
      },
      "source": [
        "x_valor"
      ],
      "execution_count": 263,
      "outputs": [
        {
          "output_type": "execute_result",
          "data": {
            "text/plain": [
              "array([201703., 201807., 201809., 201906., 201908., 202006., 202008.])"
            ]
          },
          "metadata": {
            "tags": []
          },
          "execution_count": 263
        }
      ]
    },
    {
      "cell_type": "code",
      "metadata": {
        "id": "YumGxZCUAJDy",
        "colab_type": "code",
        "colab": {
          "base_uri": "https://localhost:8080/",
          "height": 34
        },
        "outputId": "8fd7b898-7a6c-453e-bae6-a47fd78e1c43"
      },
      "source": [
        "y_valor"
      ],
      "execution_count": 265,
      "outputs": [
        {
          "output_type": "execute_result",
          "data": {
            "text/plain": [
              "array([19108., 19541., 21942., 20818., 42866., 25478., 23298.])"
            ]
          },
          "metadata": {
            "tags": []
          },
          "execution_count": 265
        }
      ]
    },
    {
      "cell_type": "code",
      "metadata": {
        "id": "vqOaX58iAS3b",
        "colab_type": "code",
        "colab": {}
      },
      "source": [
        "pd.DataFrame(y_predic_valor)"
      ],
      "execution_count": null,
      "outputs": []
    },
    {
      "cell_type": "code",
      "metadata": {
        "id": "cR-z7fucxV3B",
        "colab_type": "code",
        "colab": {
          "base_uri": "https://localhost:8080/",
          "height": 295
        },
        "outputId": "4b34b52b-49b8-4aa5-c0b2-458bdf8ea092"
      },
      "source": [
        "x_grid=np.arange(min(nuevo),max(nuevo),0.01)\n",
        "x_grid= x_grid.reshape(len(x_grid),1)\n",
        "'''plt.scatter(x_valor,y_valor,color=\"Red\")'''\n",
        "plt.plot(nuevo,y_pred,color=\"blue\")\n",
        "plt.title(\"Modelo SRV\")\n",
        "plt.xlabel(\"Mes\")\n",
        "plt.ylabel(\"Bajas\")\n",
        "plt.show()"
      ],
      "execution_count": 230,
      "outputs": [
        {
          "output_type": "display_data",
          "data": {
            "image/png": "[encoded data removed]",
            "text/plain": [
              "<Figure size 432x288 with 1 Axes>"
            ]
          },
          "metadata": {
            "tags": [],
            "needs_background": "light"
          }
        }
      ]
    },
    {
      "cell_type": "code",
      "metadata": {
        "id": "V0RjHKm3X3eT",
        "colab_type": "code",
        "colab": {
          "base_uri": "https://localhost:8080/",
          "height": 173
        },
        "outputId": "77331173-a61b-4951-e54f-42ab4c9c320e"
      },
      "source": [
        "pd.DataFrame(nuevo)"
      ],
      "execution_count": 18,
      "outputs": [
        {
          "output_type": "execute_result",
          "data": {
            "text/html": [
              "<div>\n",
              "<style scoped>\n",
              "    .dataframe tbody tr th:only-of-type {\n",
              "        vertical-align: middle;\n",
              "    }\n",
              "\n",
              "    .dataframe tbody tr th {\n",
              "        vertical-align: top;\n",
              "    }\n",
              "\n",
              "    .dataframe thead th {\n",
              "        text-align: right;\n",
              "    }\n",
              "</style>\n",
              "<table border=\"1\" class=\"dataframe\">\n",
              "  <thead>\n",
              "    <tr style=\"text-align: right;\">\n",
              "      <th></th>\n",
              "      <th>0</th>\n",
              "    </tr>\n",
              "  </thead>\n",
              "  <tbody>\n",
              "    <tr>\n",
              "      <th>0</th>\n",
              "      <td>202101.0</td>\n",
              "    </tr>\n",
              "    <tr>\n",
              "      <th>1</th>\n",
              "      <td>202102.0</td>\n",
              "    </tr>\n",
              "    <tr>\n",
              "      <th>2</th>\n",
              "      <td>202103.0</td>\n",
              "    </tr>\n",
              "    <tr>\n",
              "      <th>3</th>\n",
              "      <td>202104.0</td>\n",
              "    </tr>\n",
              "  </tbody>\n",
              "</table>\n",
              "</div>"
            ],
            "text/plain": [
              "          0\n",
              "0  202101.0\n",
              "1  202102.0\n",
              "2  202103.0\n",
              "3  202104.0"
            ]
          },
          "metadata": {
            "tags": []
          },
          "execution_count": 18
        }
      ]
    },
    {
      "cell_type": "code",
      "metadata": {
        "id": "ju2U-RugX-Q3",
        "colab_type": "code",
        "colab": {
          "base_uri": "https://localhost:8080/",
          "height": 173
        },
        "outputId": "109bdbd3-87f2-4476-da30-692885634ab7"
      },
      "source": [
        "pd.DataFrame(y_pred)"
      ],
      "execution_count": 19,
      "outputs": [
        {
          "output_type": "execute_result",
          "data": {
            "text/html": [
              "<div>\n",
              "<style scoped>\n",
              "    .dataframe tbody tr th:only-of-type {\n",
              "        vertical-align: middle;\n",
              "    }\n",
              "\n",
              "    .dataframe tbody tr th {\n",
              "        vertical-align: top;\n",
              "    }\n",
              "\n",
              "    .dataframe thead th {\n",
              "        text-align: right;\n",
              "    }\n",
              "</style>\n",
              "<table border=\"1\" class=\"dataframe\">\n",
              "  <thead>\n",
              "    <tr style=\"text-align: right;\">\n",
              "      <th></th>\n",
              "      <th>0</th>\n",
              "    </tr>\n",
              "  </thead>\n",
              "  <tbody>\n",
              "    <tr>\n",
              "      <th>0</th>\n",
              "      <td>23912.521751</td>\n",
              "    </tr>\n",
              "    <tr>\n",
              "      <th>1</th>\n",
              "      <td>23935.214312</td>\n",
              "    </tr>\n",
              "    <tr>\n",
              "      <th>2</th>\n",
              "      <td>23957.462290</td>\n",
              "    </tr>\n",
              "    <tr>\n",
              "      <th>3</th>\n",
              "      <td>23979.268714</td>\n",
              "    </tr>\n",
              "  </tbody>\n",
              "</table>\n",
              "</div>"
            ],
            "text/plain": [
              "              0\n",
              "0  23912.521751\n",
              "1  23935.214312\n",
              "2  23957.462290\n",
              "3  23979.268714"
            ]
          },
          "metadata": {
            "tags": []
          },
          "execution_count": 19
        }
      ]
    }
  ]
}