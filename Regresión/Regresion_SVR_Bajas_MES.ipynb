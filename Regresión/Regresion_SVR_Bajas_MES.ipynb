{
  "nbformat": 4,
  "nbformat_minor": 0,
  "metadata": {
    "colab": {
      "name": "Untitled1.ipynb",
      "provenance": [],
      "include_colab_link": true
    },
    "kernelspec": {
      "name": "python3",
      "display_name": "Python 3"
    }
  },
  "cells": [
    {
      "cell_type": "markdown",
      "metadata": {
        "id": "view-in-github",
        "colab_type": "text"
      },
      "source": [
        "<a href=\"https://colab.research.google.com/github/ClauCll/Curso_ML_A_Z/blob/master/Regresi%C3%B3n/Regresion_SVR_Bajas_MES.ipynb\" target=\"_parent\"><img src=\"https://colab.research.google.com/assets/colab-badge.svg\" alt=\"Open In Colab\"/></a>"
      ]
    },
    {
      "cell_type": "markdown",
      "metadata": {
        "id": "-J3qDXeFwvSb",
        "colab_type": "text"
      },
      "source": [
        "# Regresión con soporte máquina vectorial (SVR)\n",
        "# objetivo: Predecir las bajas del mes"
      ]
    },
    {
      "cell_type": "code",
      "metadata": {
        "id": "Vsqlhqgww1BG",
        "colab_type": "code",
        "colab": {}
      },
      "source": [
        "import pandas as pd\n",
        "import numpy as np\n",
        "import matplotlib.pyplot as plt\n",
        "import gspread\n",
        "from oauth2client.client import GoogleCredentials \n",
        "from google.colab import auth\n",
        "# Autoriza Claudia\n",
        "auth.authenticate_user()\n",
        "gc = gspread.authorize (GoogleCredentials.get_application_default())"
      ],
      "execution_count": 160,
      "outputs": []
    },
    {
      "cell_type": "markdown",
      "metadata": {
        "id": "2xAoqlB_02Do",
        "colab_type": "text"
      },
      "source": [
        "### leemos datos"
      ]
    },
    {
      "cell_type": "code",
      "metadata": {
        "id": "y_VVpj56uzRV",
        "colab_type": "code",
        "colab": {
          "base_uri": "https://localhost:8080/",
          "height": 34
        },
        "outputId": "cd5a423c-978a-4ea0-f59d-1a64db9471c8"
      },
      "source": [
        "from google.colab import drive\n",
        "drive.mount('/content/drive')"
      ],
      "execution_count": 161,
      "outputs": [
        {
          "output_type": "stream",
          "text": [
            "Drive already mounted at /content/drive; to attempt to forcibly remount, call drive.mount(\"/content/drive\", force_remount=True).\n"
          ],
          "name": "stdout"
        }
      ]
    },
    {
      "cell_type": "code",
      "metadata": {
        "id": "0JYqth2Ty8-k",
        "colab_type": "code",
        "colab": {}
      },
      "source": [
        "data1 = pd.read_csv('/content/drive/My Drive/Dataset/DBajas_PERIODO.txt',delimiter='~')\n",
        "x = data1.iloc [:,:-1].values\n",
        "y = data1.iloc [:,1].values"
      ],
      "execution_count": 162,
      "outputs": []
    },
    {
      "cell_type": "code",
      "metadata": {
        "id": "4zakNkcb222f",
        "colab_type": "code",
        "colab": {}
      },
      "source": [
        "pd.DataFrame(x)"
      ],
      "execution_count": null,
      "outputs": []
    },
    {
      "cell_type": "markdown",
      "metadata": {
        "id": "LGqSJaVW53oC",
        "colab_type": "text"
      },
      "source": [
        "### Codificar datos categóricos"
      ]
    },
    {
      "cell_type": "code",
      "metadata": {
        "id": "1xHeUpIU59aN",
        "colab_type": "code",
        "colab": {
          "base_uri": "https://localhost:8080/",
          "height": 69
        },
        "outputId": "bd9699fb-0697-4efd-95bf-27b1bafdf2d9"
      },
      "source": [
        "'''from sklearn.preprocessing import LabelEncoder, OneHotEncoder\n",
        "from sklearn.compose import ColumnTransformer\n",
        "labelencoder  = LabelEncoder()\n",
        "x[:,0] = labelencoder.fit_transform(x[:,0])\n",
        "x[:,1] = labelencoder.fit_transform(x[:,1])\n",
        "ct = ColumnTransformer([('one_hot_encoder',OneHotEncoder(categories='auto'),[0,1])],remainder='passthrough')\n",
        "x= np.array(ct.fit_transform(x),dtype=np.integer)'''"
      ],
      "execution_count": null,
      "outputs": [
        {
          "output_type": "execute_result",
          "data": {
            "application/vnd.google.colaboratory.intrinsic+json": {
              "type": "string"
            },
            "text/plain": [
              "\"from sklearn.preprocessing import LabelEncoder, OneHotEncoder\\nfrom sklearn.compose import ColumnTransformer\\nlabelencoder  = LabelEncoder()\\nx[:,0] = labelencoder.fit_transform(x[:,0])\\nx[:,1] = labelencoder.fit_transform(x[:,1])\\nct = ColumnTransformer([('one_hot_encoder',OneHotEncoder(categories='auto'),[0,1])],remainder='passthrough')\\nx= np.array(ct.fit_transform(x),dtype=np.integer)\""
            ]
          },
          "metadata": {
            "tags": []
          },
          "execution_count": 4
        }
      ]
    },
    {
      "cell_type": "markdown",
      "metadata": {
        "id": "elfJqy4EBVo8",
        "colab_type": "text"
      },
      "source": [
        "### Evitar la trampa de variables Dummy"
      ]
    },
    {
      "cell_type": "code",
      "metadata": {
        "id": "gxuG7JnEBdBU",
        "colab_type": "code",
        "colab": {}
      },
      "source": [
        "'''x = x[:,1:]'''"
      ],
      "execution_count": null,
      "outputs": []
    },
    {
      "cell_type": "code",
      "metadata": {
        "id": "9HByNNfG68OE",
        "colab_type": "code",
        "colab": {}
      },
      "source": [
        "pd.DataFrame(x)"
      ],
      "execution_count": null,
      "outputs": []
    },
    {
      "cell_type": "markdown",
      "metadata": {
        "id": "wNusxNzT3UMP",
        "colab_type": "text"
      },
      "source": [
        "### Dividimos los datos en entrenamiento y test"
      ]
    },
    {
      "cell_type": "code",
      "metadata": {
        "id": "Oc4kco8u3ah-",
        "colab_type": "code",
        "colab": {}
      },
      "source": [
        "from sklearn.model_selection import train_test_split\n",
        "x_train, x_test, y_train, y_test = train_test_split(x,y,test_size= 0.2, random_state=0)"
      ],
      "execution_count": 163,
      "outputs": []
    },
    {
      "cell_type": "markdown",
      "metadata": {
        "id": "TMvIs9DIgZV_",
        "colab_type": "text"
      },
      "source": [
        "### Escalamos los datos"
      ]
    },
    {
      "cell_type": "code",
      "metadata": {
        "id": "xZq1KN4y3NGh",
        "colab_type": "code",
        "colab": {}
      },
      "source": [
        "from sklearn.preprocessing import StandardScaler\n",
        "sc_x = StandardScaler()\n",
        "sc_y = StandardScaler()\n",
        "x_train= sc_x.fit_transform(x_train)\n",
        "y_train= sc_y.fit_transform(y_train.reshape(-1,1))"
      ],
      "execution_count": 164,
      "outputs": []
    },
    {
      "cell_type": "code",
      "metadata": {
        "id": "t5V6r84rgH1Q",
        "colab_type": "code",
        "colab": {}
      },
      "source": [
        "len(x_train[:,0])"
      ],
      "execution_count": null,
      "outputs": []
    },
    {
      "cell_type": "code",
      "metadata": {
        "id": "jLA8cx9O1gCL",
        "colab_type": "code",
        "colab": {}
      },
      "source": [
        "len(x_test[:,0])"
      ],
      "execution_count": null,
      "outputs": []
    },
    {
      "cell_type": "code",
      "metadata": {
        "id": "SNeWMZLd4_UL",
        "colab_type": "code",
        "colab": {}
      },
      "source": [
        "muestra=np.array([])\n",
        "y_muestra=np.array([])\n",
        "for i in range(0, 7):\n",
        "    muestra=np.append(muestra,([x_train[:,0][i]]))\n",
        "    y_muestra=np.append(y_muestra,([y_train[:,0][i]]))"
      ],
      "execution_count": 165,
      "outputs": []
    },
    {
      "cell_type": "markdown",
      "metadata": {
        "id": "Fow-3bkhjOVu",
        "colab_type": "text"
      },
      "source": [
        "### MODELO SVR"
      ]
    },
    {
      "cell_type": "code",
      "metadata": {
        "id": "tDBqCWkfjVjY",
        "colab_type": "code",
        "colab": {
          "base_uri": "https://localhost:8080/",
          "height": 51
        },
        "outputId": "e5d02747-5938-444b-b4f3-aeec421627a8"
      },
      "source": [
        "from sklearn.svm import SVR\n",
        "regression = SVR(kernel='rbf')\n",
        "regression.fit(muestra.reshape(-1,1),y_muestra.ravel())"
      ],
      "execution_count": 166,
      "outputs": [
        {
          "output_type": "execute_result",
          "data": {
            "text/plain": [
              "SVR(C=1.0, cache_size=200, coef0=0.0, degree=3, epsilon=0.1, gamma='scale',\n",
              "    kernel='rbf', max_iter=-1, shrinking=True, tol=0.001, verbose=False)"
            ]
          },
          "metadata": {
            "tags": []
          },
          "execution_count": 166
        }
      ]
    },
    {
      "cell_type": "code",
      "metadata": {
        "id": "cQ8W4hTf8Cjm",
        "colab_type": "code",
        "colab": {}
      },
      "source": [
        "x_valor=sc_x.inverse_transform(muestra)\n",
        "y_valor= sc_y.inverse_transform(y_muestra)\n",
        "y_predic_valor= sc_y.inverse_transform(regression.predict(muestra.reshape(-1,1)))"
      ],
      "execution_count": 167,
      "outputs": []
    },
    {
      "cell_type": "code",
      "metadata": {
        "id": "_QIoRMbsqGwI",
        "colab_type": "code",
        "colab": {
          "base_uri": "https://localhost:8080/",
          "height": 425
        },
        "outputId": "eeab0e6c-47f0-40a0-d6ea-80134363351b"
      },
      "source": [
        "xx = []; yy = []; yy_predic=[]\n",
        "ciclo= len(muestra)\n",
        "for i in range(ciclo):\n",
        "  xx.append([x_valor[i]])\n",
        "  yy.append([y_valor[i]])\n",
        "  yy_predic.append([y_predic_valor[i]])\n",
        "print(\"x_valor = \"+str(xx)+\"\\n\")\n",
        "print(\"y_valor = \"+str(yy)+\"\\n\")\n",
        "print(\"y_predic\"+str(yy_predic)+\"\\n\")\n",
        "# Concatenamos \n",
        "tabla = np.concatenate((xx, yy,yy_predic), axis=1)\n",
        "print(\"Antes de organizar:\"+\"\\n\"+str(tabla)+\"\\n\")\n",
        "# Organizamos y recreamos tabla\n",
        "tabla[:,0].sort()\n",
        "for i in range(ciclo):\n",
        "  n_orgz =  tabla[i,0]\n",
        "  for ii in range(ciclo):\n",
        "    n_norgz =  x_valor[ii]\n",
        "    if (int(n_norgz) == int(n_orgz)):\n",
        "      tabla[i,1] = y_valor[ii]\n",
        "      tabla[i,2]= y_predic_valor[ii]\n",
        "    else:\n",
        "      pass \n",
        "print(\"Despues de organizar:\"+\"\\n\"+str(tabla)+\"\\n\")"
      ],
      "execution_count": 168,
      "outputs": [
        {
          "output_type": "stream",
          "text": [
            "x_valor = [[201908.0], [201906.0], [201809.0], [202006.0], [201703.0], [202008.0], [201807.0]]\n",
            "\n",
            "y_valor = [[19108.0], [19541.0], [21942.0], [20818.0], [42866.0], [25478.0], [23298.0]]\n",
            "\n",
            "y_predic[[19763.69433368746], [19735.39123676838], [22597.69421816696], [22994.709848449987], [30106.826162874764], [23060.448852677513], [22746.517089506146]]\n",
            "\n",
            "Antes de organizar:\n",
            "[[201908.          19108.          19763.69433369]\n",
            " [201906.          19541.          19735.39123677]\n",
            " [201809.          21942.          22597.69421817]\n",
            " [202006.          20818.          22994.70984845]\n",
            " [201703.          42866.          30106.82616287]\n",
            " [202008.          25478.          23060.44885268]\n",
            " [201807.          23298.          22746.51708951]]\n",
            "\n",
            "Despues de organizar:\n",
            "[[201703.          42866.          30106.82616287]\n",
            " [201807.          23298.          22746.51708951]\n",
            " [201809.          21942.          22597.69421817]\n",
            " [201906.          19541.          19735.39123677]\n",
            " [201908.          19108.          19763.69433369]\n",
            " [202006.          20818.          22994.70984845]\n",
            " [202008.          25478.          23060.44885268]]\n",
            "\n"
          ],
          "name": "stdout"
        }
      ]
    },
    {
      "cell_type": "code",
      "metadata": {
        "id": "BU22NbLT0YvX",
        "colab_type": "code",
        "colab": {}
      },
      "source": [
        "# Analizando datos de test\n",
        "from sklearn.preprocessing import StandardScaler\n",
        "sc_x_t = StandardScaler()\n",
        "sc_y_t = StandardScaler()\n",
        "x_test= sc_x_t.fit_transform(x_test)\n",
        "y_test= sc_y_t.fit_transform(y_test.reshape(-1,1))"
      ],
      "execution_count": 169,
      "outputs": []
    },
    {
      "cell_type": "code",
      "metadata": {
        "id": "jA3VsfUN15Uf",
        "colab_type": "code",
        "colab": {
          "base_uri": "https://localhost:8080/",
          "height": 51
        },
        "outputId": "7f85c66d-e742-4731-e1cd-6efc805d068b"
      },
      "source": [
        "# MODELO SVR - Test\n",
        "from sklearn.svm import SVR\n",
        "regression = SVR(kernel='rbf')\n",
        "regression.fit(x_test.reshape(-1,1),y_test.ravel())"
      ],
      "execution_count": 170,
      "outputs": [
        {
          "output_type": "execute_result",
          "data": {
            "text/plain": [
              "SVR(C=1.0, cache_size=200, coef0=0.0, degree=3, epsilon=0.1, gamma='scale',\n",
              "    kernel='rbf', max_iter=-1, shrinking=True, tol=0.001, verbose=False)"
            ]
          },
          "metadata": {
            "tags": []
          },
          "execution_count": 170
        }
      ]
    },
    {
      "cell_type": "code",
      "metadata": {
        "id": "TbJmZpyq3S9z",
        "colab_type": "code",
        "colab": {}
      },
      "source": [
        "x_valor_t=sc_x_t.inverse_transform(x_test)\n",
        "y_valor_t= sc_y_t.inverse_transform(y_test)\n",
        "y_predic_valor_t= sc_y_t.inverse_transform(regression.predict(x_test.reshape(-1,1)))"
      ],
      "execution_count": 171,
      "outputs": []
    },
    {
      "cell_type": "code",
      "metadata": {
        "id": "_vn6bcP_39G6",
        "colab_type": "code",
        "colab": {}
      },
      "source": [
        "xx_t = []; yy_t =[]; yy_predic_t=[]\n",
        "total_ciclo= len(x_test[:,0])\n",
        "for i in range( total_ciclo ):\n",
        "  xx_t.append(pd.DataFrame([x_valor_t[i]]))\n",
        "  yy_t.append(pd.DataFrame([y_valor_t[i]]))\n",
        "  yy_predic_t.append(pd.DataFrame([y_predic_valor_t[i]]))\n",
        "print(\"x_valor_t = \"+str(xx_t)+\"\\n\")\n",
        "print(\"y_valor_t = \"+str(yy_t)+\"\\n\")\n",
        "print(\"y_predic_t\"+str(yy_predic_t)+\"\\n\")\n",
        "# Concatenamos \n",
        "tabla_t = np.concatenate((xx_t, yy_t,yy_predic_t), axis=1)\n",
        "print(\"Antes de organizar el test:\"+\"\\n\"+str(tabla_t)+\"\\n\")\n",
        "# Organizamos y recreamos tabla test\n",
        "tabla_t[:,0].sort()\n",
        "for i in range(total_ciclo) :\n",
        "  n_orgz_t =  tabla_t[i,0]\n",
        "  for ii in range( total_ciclo ):\n",
        "    n_norgz_t =  x_valor_t[ii]\n",
        "    if (int(n_norgz_t) == int(n_orgz_t)):\n",
        "      tabla_t[i,1] = y_valor_t[ii]\n",
        "      tabla_t[i,2]= y_predic_valor_t[ii]\n",
        "    else:\n",
        "      pass \n",
        "print(\"Despues de organizar:\"+\"\\n\"+str(tabla_t)+\"\\n\")"
      ],
      "execution_count": null,
      "outputs": []
    },
    {
      "cell_type": "code",
      "metadata": {
        "id": "sWGOTjcQr2Fd",
        "colab_type": "code",
        "colab": {
          "base_uri": "https://localhost:8080/",
          "height": 295
        },
        "outputId": "49d378ab-ff9a-41d1-a6a8-4e6f41ffc2ff"
      },
      "source": [
        "# Graficamos \n",
        "plt.scatter(tabla[:,0],tabla[:,1],color='Red', marker='^',alpha=0.5)\n",
        "plt.plot(tabla[:,0],tabla[:,2],color='Blue', marker='^',alpha=0.5)\n",
        "plt.title(\"Bajas vs SVR\")\n",
        "plt.xlabel(\"Periodo Baja\")\n",
        "plt.ylabel(\"Cantidad\")\n",
        "plt.show()"
      ],
      "execution_count": 173,
      "outputs": [
        {
          "output_type": "display_data",
          "data": {
            "image/png": "[encoded data removed]",
            "text/plain": [
              "<Figure size 432x288 with 1 Axes>"
            ]
          },
          "metadata": {
            "tags": [],
            "needs_background": "light"
          }
        }
      ]
    },
    {
      "cell_type": "code",
      "metadata": {
        "id": "qZpysItQ-wvl",
        "colab_type": "code",
        "colab": {
          "base_uri": "https://localhost:8080/",
          "height": 295
        },
        "outputId": "c9b5259e-d675-492a-ca74-a1bf4c36284b"
      },
      "source": [
        "# Graficamos test\n",
        "plt.scatter(tabla_t[:,0],tabla_t[:,1],color='Red', marker='^',alpha=0.5)\n",
        "plt.plot(tabla_t[:,0],tabla_t[:,2],color='Blue', marker='^',alpha=0.5)\n",
        "plt.title(\"Bajas TEST vs SVR\")\n",
        "plt.xlabel(\"Periodo Baja\")\n",
        "plt.ylabel(\"Cantidad\")\n",
        "plt.show()"
      ],
      "execution_count": 174,
      "outputs": [
        {
          "output_type": "display_data",
          "data": {
            "image/png": "[encoded data removed]",
            "text/plain": [
              "<Figure size 432x288 with 1 Axes>"
            ]
          },
          "metadata": {
            "tags": [],
            "needs_background": "light"
          }
        }
      ]
    },
    {
      "cell_type": "code",
      "metadata": {
        "id": "Qb1Y9sXwMIcZ",
        "colab_type": "code",
        "colab": {}
      },
      "source": [
        "'''nuevo= np.array([])\n",
        "for i in range(202009 , 202012):\n",
        "  nuevo= np.append(nuevo, i)\n",
        "y_pred=sc_y.inverse_transform(regression.predict(sc_x.transform(nuevo.reshape(-1,1))))\n",
        "pd.DataFrame(y_pred)'''"
      ],
      "execution_count": null,
      "outputs": []
    },
    {
      "cell_type": "code",
      "metadata": {
        "id": "moOJWv5p_ab9",
        "colab_type": "code",
        "colab": {
          "base_uri": "https://localhost:8080/",
          "height": 374
        },
        "outputId": "835092c3-cfca-469a-dfa2-80e2eb0fa3f9"
      },
      "source": [
        "# Margen de Error entrenamiento\n",
        "error_muestra= []; x_train_muestra=[]\n",
        "for i in range(ciclo):\n",
        "  calculo_error_muestra = (( tabla[i,1] - tabla[i,2] ) / tabla[i,1] ) * 100\n",
        "  calculo_error_muestra = abs(calculo_error_muestra)\n",
        "  error_muestra.append(calculo_error_muestra)\n",
        "  x_train_muestra.append(int(tabla[i,0]))\n",
        "print(\"x train muestra = \"+str(x_train_muestra)+\"\\n\")\n",
        "print(\"error_muestra = \" +str(error_muestra)+\"\\n\")\n",
        "# Concatenamos  \n",
        "var1=np.array([error_muestra]).T\n",
        "var2=np.array([x_train_muestra]).T\n",
        "tabla_error = np.concatenate((var2, var1),axis=1)\n",
        "print(\"Antes de organizar los datos:\"+str(tabla_error)+\"\\n\")\n",
        "# Organizamos y recreamos los datos\n",
        "tabla_error[:,0].sort()\n",
        "for i in range(ciclo) :\n",
        "  n_orgz =  tabla_error[i,0]\n",
        "  for ii in range( ciclo ):\n",
        "    n_norgz =  var2[ii]\n",
        "    if (int(n_norgz) == int(n_orgz)):\n",
        "      tabla_error[i,1] = error_muestra[ii]\n",
        "    else:\n",
        "      pass \n",
        "print(\"Despues de organizar los datos:\"+\"\\n\"+str(tabla_error)+\"\\n\")"
      ],
      "execution_count": 153,
      "outputs": [
        {
          "output_type": "stream",
          "text": [
            "x train muestra = [201703, 201807, 201809, 201906, 201908, 202006, 202008]\n",
            "\n",
            "error_muestra = [29.765254134104502, 2.3670826272377647, 2.9883065270575075, 0.9947865348159286, 3.4315173418853937, 10.455902817033277, 9.48877913228074]\n",
            "\n",
            "Antes de organizar los datos:[[2.01703000e+05 2.97652541e+01]\n",
            " [2.01807000e+05 2.36708263e+00]\n",
            " [2.01809000e+05 2.98830653e+00]\n",
            " [2.01906000e+05 9.94786535e-01]\n",
            " [2.01908000e+05 3.43151734e+00]\n",
            " [2.02006000e+05 1.04559028e+01]\n",
            " [2.02008000e+05 9.48877913e+00]]\n",
            "\n",
            "Despues de organizar los datos:\n",
            "[[2.01703000e+05 2.97652541e+01]\n",
            " [2.01807000e+05 2.36708263e+00]\n",
            " [2.01809000e+05 2.98830653e+00]\n",
            " [2.01906000e+05 9.94786535e-01]\n",
            " [2.01908000e+05 3.43151734e+00]\n",
            " [2.02006000e+05 1.04559028e+01]\n",
            " [2.02008000e+05 9.48877913e+00]]\n",
            "\n"
          ],
          "name": "stdout"
        }
      ]
    },
    {
      "cell_type": "code",
      "metadata": {
        "id": "uPhXSw4LIJNc",
        "colab_type": "code",
        "colab": {
          "base_uri": "https://localhost:8080/",
          "height": 295
        },
        "outputId": "1bb35656-d56f-413b-9160-82cce6a6c0ab"
      },
      "source": [
        "# Graficamos error muestra\n",
        "plt.plot(tabla_error[:,0],tabla_error[:,1],color='Red', marker='^',alpha=0.5)\n",
        "plt.title(\"error entrenamiento\")\n",
        "plt.xlabel(\"Periodo\")\n",
        "plt.ylabel(\"Error\")\n",
        "plt.show()"
      ],
      "execution_count": 154,
      "outputs": [
        {
          "output_type": "display_data",
          "data": {
            "image/png": "[encoded data removed]",
            "text/plain": [
              "<Figure size 432x288 with 1 Axes>"
            ]
          },
          "metadata": {
            "tags": [],
            "needs_background": "light"
          }
        }
      ]
    },
    {
      "cell_type": "code",
      "metadata": {
        "id": "mXcK-MWEJF77",
        "colab_type": "code",
        "colab": {
          "base_uri": "https://localhost:8080/",
          "height": 462
        },
        "outputId": "1b9d7c1b-a147-4c01-870e-e6ad5941b6e4"
      },
      "source": [
        "# Margen de error Test\n",
        "error_test = []; x_e_test =[]\n",
        "for i in range(total_ciclo):\n",
        "  calculo_error_muestra_t = (( tabla_t[i,1] - tabla_t[i,2] ) / tabla_t[i,1] ) * 100\n",
        "  calculo_error_muestra_t = abs(calculo_error_muestra_t)\n",
        "  error_test.append(calculo_error_muestra_t)\n",
        "  x_e_test.append(int(tabla_t[i,0]))\n",
        "print(\"x test = \"+str(x_e_test)+\"\\n\")\n",
        "print(\"error test = \" +str(error_test)+\"\\n\")\n",
        "# Concatenamos  \n",
        "var1_t=np.array([error_test]).T\n",
        "var2_t=np.array([x_e_test]).T\n",
        "tabla_error_t = np.concatenate((var2_t, var1_t),axis=1)\n",
        "print(\"Antes de organizar los datos:\"+str(tabla_error_t)+\"\\n\")\n",
        "# Organizamos y recreamos los datos\n",
        "tabla_error_t[:,0].sort()\n",
        "for i in range(total_ciclo) :\n",
        "  n_orgz_t =  tabla_error_t[i,0]\n",
        "  for ii in range( total_ciclo ):\n",
        "    n_norgz_t =  var2_t[ii]\n",
        "    if (int(n_norgz_t) == int(n_orgz_t)):\n",
        "      tabla_error_t[i,1] = error_test[ii]\n",
        "    else:\n",
        "      pass \n",
        "print(\"Despues de organizar los datos:\"+\"\\n\"+str(tabla_error_t)+\"\\n\")"
      ],
      "execution_count": 155,
      "outputs": [
        {
          "output_type": "stream",
          "text": [
            "x test = [201705, 201711, 201712, 201902, 201904, 201905, 201907, 202002, 202003]\n",
            "\n",
            "error test = [48.30591727141453, 3.584218682356386, 13.255831025583065, 5.725153580859507, 1.0275513621140469, 2.314095832141478, 8.02660662870456, 0.8662118625184153, 5.631804281938475]\n",
            "\n",
            "Antes de organizar los datos:[[2.01705000e+05 4.83059173e+01]\n",
            " [2.01711000e+05 3.58421868e+00]\n",
            " [2.01712000e+05 1.32558310e+01]\n",
            " [2.01902000e+05 5.72515358e+00]\n",
            " [2.01904000e+05 1.02755136e+00]\n",
            " [2.01905000e+05 2.31409583e+00]\n",
            " [2.01907000e+05 8.02660663e+00]\n",
            " [2.02002000e+05 8.66211863e-01]\n",
            " [2.02003000e+05 5.63180428e+00]]\n",
            "\n",
            "Despues de organizar los datos:\n",
            "[[2.01705000e+05 4.83059173e+01]\n",
            " [2.01711000e+05 3.58421868e+00]\n",
            " [2.01712000e+05 1.32558310e+01]\n",
            " [2.01902000e+05 5.72515358e+00]\n",
            " [2.01904000e+05 1.02755136e+00]\n",
            " [2.01905000e+05 2.31409583e+00]\n",
            " [2.01907000e+05 8.02660663e+00]\n",
            " [2.02002000e+05 8.66211863e-01]\n",
            " [2.02003000e+05 5.63180428e+00]]\n",
            "\n"
          ],
          "name": "stdout"
        }
      ]
    },
    {
      "cell_type": "code",
      "metadata": {
        "id": "lEztTGOgJJTj",
        "colab_type": "code",
        "colab": {
          "base_uri": "https://localhost:8080/",
          "height": 295
        },
        "outputId": "04928e48-cacf-4b2a-92c4-b29b6e4f4d0c"
      },
      "source": [
        "# Graficamos error test\n",
        "plt.plot(tabla_error_t[:,0],tabla_error_t[:,1],color='Blue', marker='^',alpha=0.5)\n",
        "plt.title(\"error test\")\n",
        "plt.xlabel(\"Periodo\")\n",
        "plt.ylabel(\"Error\")\n",
        "plt.show()"
      ],
      "execution_count": 156,
      "outputs": [
        {
          "output_type": "display_data",
          "data": {
            "image/png": "[encoded data removed]",
            "text/plain": [
              "<Figure size 432x288 with 1 Axes>"
            ]
          },
          "metadata": {
            "tags": [],
            "needs_background": "light"
          }
        }
      ]
    },
    {
      "cell_type": "code",
      "metadata": {
        "id": "WpHRgL7CKmBI",
        "colab_type": "code",
        "colab": {
          "base_uri": "https://localhost:8080/",
          "height": 295
        },
        "outputId": "2eab2f78-3626-4205-aaba-d99579805759"
      },
      "source": [
        "# Graficamos error \n",
        "plt.plot(tabla_error[:,0],tabla_error[:,1],color='Red', marker='^',alpha=0.5)\n",
        "plt.plot(tabla_error_t[:,0],tabla_error_t[:,1],color='Blue', marker='^',alpha=0.5)\n",
        "plt.title(\"error entrenamiento vs error test\")\n",
        "plt.xlabel(\"Periodo\")\n",
        "plt.ylabel(\"Error\")\n",
        "plt.show()"
      ],
      "execution_count": 157,
      "outputs": [
        {
          "output_type": "display_data",
          "data": {
            "image/png": "[encoded data removed]",
            "text/plain": [
              "<Figure size 432x288 with 1 Axes>"
            ]
          },
          "metadata": {
            "tags": [],
            "needs_background": "light"
          }
        }
      ]
    },
    {
      "cell_type": "code",
      "metadata": {
        "id": "95YNYaBDE8t_",
        "colab_type": "code",
        "colab": {}
      },
      "source": [
        "var_x1=np.array([x_valor]).T\n",
        "var_y1=np.array([y_valor]).T"
      ],
      "execution_count": 188,
      "outputs": []
    },
    {
      "cell_type": "code",
      "metadata": {
        "id": "uEvcJCoYF53G",
        "colab_type": "code",
        "colab": {
          "base_uri": "https://localhost:8080/",
          "height": 34
        },
        "outputId": "0201e5cf-19e3-4b1e-a6ec-ed6f513f94a7"
      },
      "source": [
        "var_y1[:,0]"
      ],
      "execution_count": 189,
      "outputs": [
        {
          "output_type": "execute_result",
          "data": {
            "text/plain": [
              "array([19108., 19541., 21942., 20818., 42866., 25478., 23298.])"
            ]
          },
          "metadata": {
            "tags": []
          },
          "execution_count": 189
        }
      ]
    },
    {
      "cell_type": "code",
      "metadata": {
        "id": "-Byj-y-aFatN",
        "colab_type": "code",
        "colab": {
          "base_uri": "https://localhost:8080/",
          "height": 34
        },
        "outputId": "be6052cb-3ab4-4530-f565-ad05482ce13a"
      },
      "source": [
        "var_x1_t[:,0]"
      ],
      "execution_count": 190,
      "outputs": [
        {
          "output_type": "execute_result",
          "data": {
            "text/plain": [
              "array([201908., 201906., 201809., 202006., 201703., 202008., 201807.])"
            ]
          },
          "metadata": {
            "tags": []
          },
          "execution_count": 190
        }
      ]
    },
    {
      "cell_type": "code",
      "metadata": {
        "id": "dDO6IxqQAVEg",
        "colab_type": "code",
        "colab": {
          "base_uri": "https://localhost:8080/",
          "height": 357
        },
        "outputId": "c6b11d37-8d6d-4f63-d2f4-fb196f8560f4"
      },
      "source": [
        "regression.score(var_x1[:,0], var_y1[:,0], sample_weight=None)"
      ],
      "execution_count": 191,
      "outputs": [
        {
          "output_type": "error",
          "ename": "ValueError",
          "evalue": "ignored",
          "traceback": [
            "\u001b[0;31m---------------------------------------------------------------------------\u001b[0m",
            "\u001b[0;31mValueError\u001b[0m                                Traceback (most recent call last)",
            "\u001b[0;32m<ipython-input-191-e85c46696c24>\u001b[0m in \u001b[0;36m<module>\u001b[0;34m()\u001b[0m\n\u001b[0;32m----> 1\u001b[0;31m \u001b[0mregression\u001b[0m\u001b[0;34m.\u001b[0m\u001b[0mscore\u001b[0m\u001b[0;34m(\u001b[0m\u001b[0mvar_x1\u001b[0m\u001b[0;34m[\u001b[0m\u001b[0;34m:\u001b[0m\u001b[0;34m,\u001b[0m\u001b[0;36m0\u001b[0m\u001b[0;34m]\u001b[0m\u001b[0;34m,\u001b[0m \u001b[0mvar_y1\u001b[0m\u001b[0;34m[\u001b[0m\u001b[0;34m:\u001b[0m\u001b[0;34m,\u001b[0m\u001b[0;36m0\u001b[0m\u001b[0;34m]\u001b[0m\u001b[0;34m,\u001b[0m \u001b[0msample_weight\u001b[0m\u001b[0;34m=\u001b[0m\u001b[0;32mNone\u001b[0m\u001b[0;34m)\u001b[0m\u001b[0;34m\u001b[0m\u001b[0;34m\u001b[0m\u001b[0m\n\u001b[0m",
            "\u001b[0;32m/usr/local/lib/python3.6/dist-packages/sklearn/base.py\u001b[0m in \u001b[0;36mscore\u001b[0;34m(self, X, y, sample_weight)\u001b[0m\n\u001b[1;32m    420\u001b[0m         \u001b[0;32mfrom\u001b[0m \u001b[0;34m.\u001b[0m\u001b[0mmetrics\u001b[0m \u001b[0;32mimport\u001b[0m \u001b[0mr2_score\u001b[0m\u001b[0;34m\u001b[0m\u001b[0;34m\u001b[0m\u001b[0m\n\u001b[1;32m    421\u001b[0m         \u001b[0;32mfrom\u001b[0m \u001b[0;34m.\u001b[0m\u001b[0mmetrics\u001b[0m\u001b[0;34m.\u001b[0m\u001b[0m_regression\u001b[0m \u001b[0;32mimport\u001b[0m \u001b[0m_check_reg_targets\u001b[0m\u001b[0;34m\u001b[0m\u001b[0;34m\u001b[0m\u001b[0m\n\u001b[0;32m--> 422\u001b[0;31m         \u001b[0my_pred\u001b[0m \u001b[0;34m=\u001b[0m \u001b[0mself\u001b[0m\u001b[0;34m.\u001b[0m\u001b[0mpredict\u001b[0m\u001b[0;34m(\u001b[0m\u001b[0mX\u001b[0m\u001b[0;34m)\u001b[0m\u001b[0;34m\u001b[0m\u001b[0;34m\u001b[0m\u001b[0m\n\u001b[0m\u001b[1;32m    423\u001b[0m         \u001b[0;31m# XXX: Remove the check in 0.23\u001b[0m\u001b[0;34m\u001b[0m\u001b[0;34m\u001b[0m\u001b[0;34m\u001b[0m\u001b[0m\n\u001b[1;32m    424\u001b[0m         \u001b[0my_type\u001b[0m\u001b[0;34m,\u001b[0m \u001b[0m_\u001b[0m\u001b[0;34m,\u001b[0m \u001b[0m_\u001b[0m\u001b[0;34m,\u001b[0m \u001b[0m_\u001b[0m \u001b[0;34m=\u001b[0m \u001b[0m_check_reg_targets\u001b[0m\u001b[0;34m(\u001b[0m\u001b[0my\u001b[0m\u001b[0;34m,\u001b[0m \u001b[0my_pred\u001b[0m\u001b[0;34m,\u001b[0m \u001b[0;32mNone\u001b[0m\u001b[0;34m)\u001b[0m\u001b[0;34m\u001b[0m\u001b[0;34m\u001b[0m\u001b[0m\n",
            "\u001b[0;32m/usr/local/lib/python3.6/dist-packages/sklearn/svm/_base.py\u001b[0m in \u001b[0;36mpredict\u001b[0;34m(self, X)\u001b[0m\n\u001b[1;32m    313\u001b[0m         \u001b[0my_pred\u001b[0m \u001b[0;34m:\u001b[0m \u001b[0marray\u001b[0m\u001b[0;34m,\u001b[0m \u001b[0mshape\u001b[0m \u001b[0;34m(\u001b[0m\u001b[0mn_samples\u001b[0m\u001b[0;34m,\u001b[0m\u001b[0;34m)\u001b[0m\u001b[0;34m\u001b[0m\u001b[0;34m\u001b[0m\u001b[0m\n\u001b[1;32m    314\u001b[0m         \"\"\"\n\u001b[0;32m--> 315\u001b[0;31m         \u001b[0mX\u001b[0m \u001b[0;34m=\u001b[0m \u001b[0mself\u001b[0m\u001b[0;34m.\u001b[0m\u001b[0m_validate_for_predict\u001b[0m\u001b[0;34m(\u001b[0m\u001b[0mX\u001b[0m\u001b[0;34m)\u001b[0m\u001b[0;34m\u001b[0m\u001b[0;34m\u001b[0m\u001b[0m\n\u001b[0m\u001b[1;32m    316\u001b[0m         \u001b[0mpredict\u001b[0m \u001b[0;34m=\u001b[0m \u001b[0mself\u001b[0m\u001b[0;34m.\u001b[0m\u001b[0m_sparse_predict\u001b[0m \u001b[0;32mif\u001b[0m \u001b[0mself\u001b[0m\u001b[0;34m.\u001b[0m\u001b[0m_sparse\u001b[0m \u001b[0;32melse\u001b[0m \u001b[0mself\u001b[0m\u001b[0;34m.\u001b[0m\u001b[0m_dense_predict\u001b[0m\u001b[0;34m\u001b[0m\u001b[0;34m\u001b[0m\u001b[0m\n\u001b[1;32m    317\u001b[0m         \u001b[0;32mreturn\u001b[0m \u001b[0mpredict\u001b[0m\u001b[0;34m(\u001b[0m\u001b[0mX\u001b[0m\u001b[0;34m)\u001b[0m\u001b[0;34m\u001b[0m\u001b[0;34m\u001b[0m\u001b[0m\n",
            "\u001b[0;32m/usr/local/lib/python3.6/dist-packages/sklearn/svm/_base.py\u001b[0m in \u001b[0;36m_validate_for_predict\u001b[0;34m(self, X)\u001b[0m\n\u001b[1;32m    445\u001b[0m \u001b[0;34m\u001b[0m\u001b[0m\n\u001b[1;32m    446\u001b[0m         X = check_array(X, accept_sparse='csr', dtype=np.float64, order=\"C\",\n\u001b[0;32m--> 447\u001b[0;31m                         accept_large_sparse=False)\n\u001b[0m\u001b[1;32m    448\u001b[0m         \u001b[0;32mif\u001b[0m \u001b[0mself\u001b[0m\u001b[0;34m.\u001b[0m\u001b[0m_sparse\u001b[0m \u001b[0;32mand\u001b[0m \u001b[0;32mnot\u001b[0m \u001b[0msp\u001b[0m\u001b[0;34m.\u001b[0m\u001b[0misspmatrix\u001b[0m\u001b[0;34m(\u001b[0m\u001b[0mX\u001b[0m\u001b[0;34m)\u001b[0m\u001b[0;34m:\u001b[0m\u001b[0;34m\u001b[0m\u001b[0;34m\u001b[0m\u001b[0m\n\u001b[1;32m    449\u001b[0m             \u001b[0mX\u001b[0m \u001b[0;34m=\u001b[0m \u001b[0msp\u001b[0m\u001b[0;34m.\u001b[0m\u001b[0mcsr_matrix\u001b[0m\u001b[0;34m(\u001b[0m\u001b[0mX\u001b[0m\u001b[0;34m)\u001b[0m\u001b[0;34m\u001b[0m\u001b[0;34m\u001b[0m\u001b[0m\n",
            "\u001b[0;32m/usr/local/lib/python3.6/dist-packages/sklearn/utils/validation.py\u001b[0m in \u001b[0;36mcheck_array\u001b[0;34m(array, accept_sparse, accept_large_sparse, dtype, order, copy, force_all_finite, ensure_2d, allow_nd, ensure_min_samples, ensure_min_features, warn_on_dtype, estimator)\u001b[0m\n\u001b[1;32m    554\u001b[0m                     \u001b[0;34m\"Reshape your data either using array.reshape(-1, 1) if \"\u001b[0m\u001b[0;34m\u001b[0m\u001b[0;34m\u001b[0m\u001b[0m\n\u001b[1;32m    555\u001b[0m                     \u001b[0;34m\"your data has a single feature or array.reshape(1, -1) \"\u001b[0m\u001b[0;34m\u001b[0m\u001b[0;34m\u001b[0m\u001b[0m\n\u001b[0;32m--> 556\u001b[0;31m                     \"if it contains a single sample.\".format(array))\n\u001b[0m\u001b[1;32m    557\u001b[0m \u001b[0;34m\u001b[0m\u001b[0m\n\u001b[1;32m    558\u001b[0m         \u001b[0;31m# in the future np.flexible dtypes will be handled like object dtypes\u001b[0m\u001b[0;34m\u001b[0m\u001b[0;34m\u001b[0m\u001b[0;34m\u001b[0m\u001b[0m\n",
            "\u001b[0;31mValueError\u001b[0m: Expected 2D array, got 1D array instead:\narray=[201908. 201906. 201809. 202006. 201703. 202008. 201807.].\nReshape your data either using array.reshape(-1, 1) if your data has a single feature or array.reshape(1, -1) if it contains a single sample."
          ]
        }
      ]
    }
  ]
}