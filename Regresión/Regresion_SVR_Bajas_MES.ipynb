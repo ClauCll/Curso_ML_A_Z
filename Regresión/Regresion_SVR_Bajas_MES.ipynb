{
  "nbformat": 4,
  "nbformat_minor": 0,
  "metadata": {
    "colab": {
      "name": "Untitled1.ipynb",
      "provenance": [],
      "include_colab_link": true
    },
    "kernelspec": {
      "name": "python3",
      "display_name": "Python 3"
    }
  },
  "cells": [
    {
      "cell_type": "markdown",
      "metadata": {
        "id": "view-in-github",
        "colab_type": "text"
      },
      "source": [
        "<a href=\"https://colab.research.google.com/github/ClauCll/Curso_ML_A_Z/blob/master/Regresi%C3%B3n/Regresion_SVR_Bajas_MES.ipynb\" target=\"_parent\"><img src=\"https://colab.research.google.com/assets/colab-badge.svg\" alt=\"Open In Colab\"/></a>"
      ]
    },
    {
      "cell_type": "markdown",
      "metadata": {
        "id": "-J3qDXeFwvSb",
        "colab_type": "text"
      },
      "source": [
        "# Regresión con soporte máquina vectorial (SVR)\n",
        "# objetivo: Predecir las bajas del mes"
      ]
    },
    {
      "cell_type": "code",
      "metadata": {
        "id": "Vsqlhqgww1BG",
        "colab_type": "code",
        "colab": {}
      },
      "source": [
        "import pandas as pd\n",
        "import numpy as np\n",
        "import matplotlib.pyplot as plt\n",
        "import gspread\n",
        "from oauth2client.client import GoogleCredentials \n",
        "from google.colab import auth\n",
        "# Autoriza Claudia\n",
        "auth.authenticate_user()\n",
        "gc = gspread.authorize (GoogleCredentials.get_application_default())"
      ],
      "execution_count": 2,
      "outputs": []
    },
    {
      "cell_type": "markdown",
      "metadata": {
        "id": "2xAoqlB_02Do",
        "colab_type": "text"
      },
      "source": [
        "### leemos datos"
      ]
    },
    {
      "cell_type": "code",
      "metadata": {
        "id": "y_VVpj56uzRV",
        "colab_type": "code",
        "colab": {
          "base_uri": "https://localhost:8080/",
          "height": 34
        },
        "outputId": "6d0d05c0-715f-46e4-93d6-eab775b3805d"
      },
      "source": [
        "from google.colab import drive\n",
        "drive.mount('/content/drive')"
      ],
      "execution_count": 3,
      "outputs": [
        {
          "output_type": "stream",
          "text": [
            "Drive already mounted at /content/drive; to attempt to forcibly remount, call drive.mount(\"/content/drive\", force_remount=True).\n"
          ],
          "name": "stdout"
        }
      ]
    },
    {
      "cell_type": "code",
      "metadata": {
        "id": "0JYqth2Ty8-k",
        "colab_type": "code",
        "colab": {}
      },
      "source": [
        "data1 = pd.read_csv('/content/drive/My Drive/Dataset/DBajas_PERIODO.txt',delimiter='~')\n",
        "x = data1.iloc [:,:-1].values\n",
        "y = data1.iloc [:,1].values"
      ],
      "execution_count": 4,
      "outputs": []
    },
    {
      "cell_type": "code",
      "metadata": {
        "id": "4zakNkcb222f",
        "colab_type": "code",
        "colab": {}
      },
      "source": [
        "pd.DataFrame(x)"
      ],
      "execution_count": null,
      "outputs": []
    },
    {
      "cell_type": "markdown",
      "metadata": {
        "id": "LGqSJaVW53oC",
        "colab_type": "text"
      },
      "source": [
        "### Codificar datos categóricos"
      ]
    },
    {
      "cell_type": "code",
      "metadata": {
        "id": "1xHeUpIU59aN",
        "colab_type": "code",
        "colab": {
          "base_uri": "https://localhost:8080/",
          "height": 69
        },
        "outputId": "bd9699fb-0697-4efd-95bf-27b1bafdf2d9"
      },
      "source": [
        "'''from sklearn.preprocessing import LabelEncoder, OneHotEncoder\n",
        "from sklearn.compose import ColumnTransformer\n",
        "labelencoder  = LabelEncoder()\n",
        "x[:,0] = labelencoder.fit_transform(x[:,0])\n",
        "x[:,1] = labelencoder.fit_transform(x[:,1])\n",
        "ct = ColumnTransformer([('one_hot_encoder',OneHotEncoder(categories='auto'),[0,1])],remainder='passthrough')\n",
        "x= np.array(ct.fit_transform(x),dtype=np.integer)'''"
      ],
      "execution_count": null,
      "outputs": [
        {
          "output_type": "execute_result",
          "data": {
            "application/vnd.google.colaboratory.intrinsic+json": {
              "type": "string"
            },
            "text/plain": [
              "\"from sklearn.preprocessing import LabelEncoder, OneHotEncoder\\nfrom sklearn.compose import ColumnTransformer\\nlabelencoder  = LabelEncoder()\\nx[:,0] = labelencoder.fit_transform(x[:,0])\\nx[:,1] = labelencoder.fit_transform(x[:,1])\\nct = ColumnTransformer([('one_hot_encoder',OneHotEncoder(categories='auto'),[0,1])],remainder='passthrough')\\nx= np.array(ct.fit_transform(x),dtype=np.integer)\""
            ]
          },
          "metadata": {
            "tags": []
          },
          "execution_count": 4
        }
      ]
    },
    {
      "cell_type": "markdown",
      "metadata": {
        "id": "elfJqy4EBVo8",
        "colab_type": "text"
      },
      "source": [
        "### Evitar la trampa de variables Dummy"
      ]
    },
    {
      "cell_type": "code",
      "metadata": {
        "id": "gxuG7JnEBdBU",
        "colab_type": "code",
        "colab": {}
      },
      "source": [
        "'''x = x[:,1:]'''"
      ],
      "execution_count": null,
      "outputs": []
    },
    {
      "cell_type": "code",
      "metadata": {
        "id": "9HByNNfG68OE",
        "colab_type": "code",
        "colab": {}
      },
      "source": [
        "pd.DataFrame(x)"
      ],
      "execution_count": null,
      "outputs": []
    },
    {
      "cell_type": "markdown",
      "metadata": {
        "id": "wNusxNzT3UMP",
        "colab_type": "text"
      },
      "source": [
        "### Dividimos los datos en entrenamiento y test"
      ]
    },
    {
      "cell_type": "code",
      "metadata": {
        "id": "Oc4kco8u3ah-",
        "colab_type": "code",
        "colab": {}
      },
      "source": [
        "from sklearn.model_selection import train_test_split\n",
        "x_train, x_test, y_train, y_test = train_test_split(x,y,test_size= 0.2, random_state=0)"
      ],
      "execution_count": 5,
      "outputs": []
    },
    {
      "cell_type": "markdown",
      "metadata": {
        "id": "TMvIs9DIgZV_",
        "colab_type": "text"
      },
      "source": [
        "### Escalamos los datos"
      ]
    },
    {
      "cell_type": "code",
      "metadata": {
        "id": "xZq1KN4y3NGh",
        "colab_type": "code",
        "colab": {}
      },
      "source": [
        "from sklearn.preprocessing import StandardScaler\n",
        "sc_x = StandardScaler()\n",
        "sc_y = StandardScaler()\n",
        "x_train= sc_x.fit_transform(x_train)\n",
        "y_train= sc_y.fit_transform(y_train.reshape(-1,1))"
      ],
      "execution_count": 6,
      "outputs": []
    },
    {
      "cell_type": "code",
      "metadata": {
        "id": "t5V6r84rgH1Q",
        "colab_type": "code",
        "colab": {}
      },
      "source": [
        "len(x_train[:,0])"
      ],
      "execution_count": null,
      "outputs": []
    },
    {
      "cell_type": "code",
      "metadata": {
        "id": "jLA8cx9O1gCL",
        "colab_type": "code",
        "colab": {}
      },
      "source": [
        "len(x_test[:,0])"
      ],
      "execution_count": null,
      "outputs": []
    },
    {
      "cell_type": "code",
      "metadata": {
        "id": "SNeWMZLd4_UL",
        "colab_type": "code",
        "colab": {}
      },
      "source": [
        "muestra=np.array([])\n",
        "y_muestra=np.array([])\n",
        "for i in range(0, 7):\n",
        "    muestra=np.append(muestra,([x_train[:,0][i]]))\n",
        "    y_muestra=np.append(y_muestra,([y_train[:,0][i]]))"
      ],
      "execution_count": 7,
      "outputs": []
    },
    {
      "cell_type": "markdown",
      "metadata": {
        "id": "Fow-3bkhjOVu",
        "colab_type": "text"
      },
      "source": [
        "### MODELO SVR"
      ]
    },
    {
      "cell_type": "code",
      "metadata": {
        "id": "tDBqCWkfjVjY",
        "colab_type": "code",
        "colab": {
          "base_uri": "https://localhost:8080/",
          "height": 51
        },
        "outputId": "6f452425-0b7f-41b0-863d-38705f63b87e"
      },
      "source": [
        "from sklearn.svm import SVR\n",
        "regression = SVR(kernel='rbf')\n",
        "regression.fit(muestra.reshape(-1,1),y_muestra.ravel())"
      ],
      "execution_count": 8,
      "outputs": [
        {
          "output_type": "execute_result",
          "data": {
            "text/plain": [
              "SVR(C=1.0, cache_size=200, coef0=0.0, degree=3, epsilon=0.1, gamma='scale',\n",
              "    kernel='rbf', max_iter=-1, shrinking=True, tol=0.001, verbose=False)"
            ]
          },
          "metadata": {
            "tags": []
          },
          "execution_count": 8
        }
      ]
    },
    {
      "cell_type": "code",
      "metadata": {
        "id": "cQ8W4hTf8Cjm",
        "colab_type": "code",
        "colab": {}
      },
      "source": [
        "x_valor=sc_x.inverse_transform(muestra)\n",
        "y_valor= sc_y.inverse_transform(y_muestra)\n",
        "y_predic_valor= sc_y.inverse_transform(regression.predict(muestra.reshape(-1,1)))"
      ],
      "execution_count": 9,
      "outputs": []
    },
    {
      "cell_type": "code",
      "metadata": {
        "id": "_QIoRMbsqGwI",
        "colab_type": "code",
        "colab": {}
      },
      "source": [
        "xx = []; yy = []; yy_predic=[]\n",
        "ciclo= len(muestra)\n",
        "for i in range(ciclo):\n",
        "  xx.append([x_valor[i]])\n",
        "  yy.append([y_valor[i]])\n",
        "  yy_predic.append([y_predic_valor[i]])\n",
        "print(\"x_valor = \"+str(xx)+\"\\n\")\n",
        "print(\"y_valor = \"+str(yy)+\"\\n\")\n",
        "print(\"y_predic\"+str(yy_predic)+\"\\n\")\n",
        "# Concatenamos \n",
        "tabla = np.concatenate((xx, yy,yy_predic), axis=1)\n",
        "print(\"Antes de organizar:\"+\"\\n\"+str(tabla)+\"\\n\")\n",
        "# Organizamos y recreamos tabla\n",
        "tabla[:,0].sort()\n",
        "for i in range(ciclo):\n",
        "  n_orgz =  tabla[i,0]\n",
        "  for ii in range(ciclo):\n",
        "    n_norgz =  x_valor[ii]\n",
        "    if (int(n_norgz) == int(n_orgz)):\n",
        "      tabla[i,1] = y_valor[ii]\n",
        "      tabla[i,2]= y_predic_valor[ii]\n",
        "    else:\n",
        "      pass \n",
        "print(\"Despues de organizar:\"+\"\\n\"+str(tabla)+\"\\n\")"
      ],
      "execution_count": null,
      "outputs": []
    },
    {
      "cell_type": "code",
      "metadata": {
        "id": "BU22NbLT0YvX",
        "colab_type": "code",
        "colab": {}
      },
      "source": [
        "# Analizando datos de test\n",
        "from sklearn.preprocessing import StandardScaler\n",
        "sc_x_t = StandardScaler()\n",
        "sc_y_t = StandardScaler()\n",
        "x_test= sc_x_t.fit_transform(x_test)\n",
        "y_test= sc_y_t.fit_transform(y_test.reshape(-1,1))"
      ],
      "execution_count": 11,
      "outputs": []
    },
    {
      "cell_type": "code",
      "metadata": {
        "id": "jA3VsfUN15Uf",
        "colab_type": "code",
        "colab": {
          "base_uri": "https://localhost:8080/",
          "height": 51
        },
        "outputId": "9123af6c-2cb9-451a-d237-54d4209c99b6"
      },
      "source": [
        "# MODELO SVR - Test\n",
        "from sklearn.svm import SVR\n",
        "regression = SVR(kernel='rbf')\n",
        "regression.fit(x_test.reshape(-1,1),y_test.ravel())"
      ],
      "execution_count": 12,
      "outputs": [
        {
          "output_type": "execute_result",
          "data": {
            "text/plain": [
              "SVR(C=1.0, cache_size=200, coef0=0.0, degree=3, epsilon=0.1, gamma='scale',\n",
              "    kernel='rbf', max_iter=-1, shrinking=True, tol=0.001, verbose=False)"
            ]
          },
          "metadata": {
            "tags": []
          },
          "execution_count": 12
        }
      ]
    },
    {
      "cell_type": "code",
      "metadata": {
        "id": "TbJmZpyq3S9z",
        "colab_type": "code",
        "colab": {}
      },
      "source": [
        "x_valor_t=sc_x_t.inverse_transform(x_test)\n",
        "y_valor_t= sc_y_t.inverse_transform(y_test)\n",
        "y_predic_valor_t= sc_y_t.inverse_transform(regression.predict(x_test.reshape(-1,1)))"
      ],
      "execution_count": 13,
      "outputs": []
    },
    {
      "cell_type": "code",
      "metadata": {
        "id": "_vn6bcP_39G6",
        "colab_type": "code",
        "colab": {}
      },
      "source": [
        "xx_t = []; yy_t =[]; yy_predic_t=[]\n",
        "total_ciclo= len(x_test[:,0])\n",
        "for i in range( total_ciclo ):\n",
        "  xx_t.append(pd.DataFrame([x_valor_t[i]]))\n",
        "  yy_t.append(pd.DataFrame([y_valor_t[i]]))\n",
        "  yy_predic_t.append(pd.DataFrame([y_predic_valor_t[i]]))\n",
        "print(\"x_valor_t = \"+str(xx_t)+\"\\n\")\n",
        "print(\"y_valor_t = \"+str(yy_t)+\"\\n\")\n",
        "print(\"y_predic_t\"+str(yy_predic_t)+\"\\n\")\n",
        "# Concatenamos \n",
        "tabla_t = np.concatenate((xx_t, yy_t,yy_predic_t), axis=1)\n",
        "print(\"Antes de organizar el test:\"+\"\\n\"+str(tabla_t)+\"\\n\")\n",
        "# Organizamos y recreamos tabla test\n",
        "tabla_t[:,0].sort()\n",
        "for i in range(total_ciclo) :\n",
        "  n_orgz_t =  tabla_t[i,0]\n",
        "  for ii in range( total_ciclo ):\n",
        "    n_norgz_t =  x_valor_t[ii]\n",
        "    if (int(n_norgz_t) == int(n_orgz_t)):\n",
        "      tabla_t[i,1] = y_valor_t[ii]\n",
        "      tabla_t[i,2]= y_predic_valor_t[ii]\n",
        "    else:\n",
        "      pass \n",
        "print(\"Despues de organizar:\"+\"\\n\"+str(tabla_t)+\"\\n\")"
      ],
      "execution_count": null,
      "outputs": []
    },
    {
      "cell_type": "code",
      "metadata": {
        "id": "sWGOTjcQr2Fd",
        "colab_type": "code",
        "colab": {
          "base_uri": "https://localhost:8080/",
          "height": 295
        },
        "outputId": "7ce9f3c3-d87b-480a-dfec-e82070fa8d62"
      },
      "source": [
        "# Graficamos \n",
        "plt.scatter(tabla[:,0],tabla[:,1],color='Red', marker='^',alpha=0.5)\n",
        "plt.plot(tabla[:,0],tabla[:,2],color='Blue', marker='^',alpha=0.5)\n",
        "plt.title(\"Bajas vs SVR\")\n",
        "plt.xlabel(\"Periodo Baja\")\n",
        "plt.ylabel(\"Cantidad\")\n",
        "plt.show()"
      ],
      "execution_count": 16,
      "outputs": [
        {
          "output_type": "display_data",
          "data": {
            "image/png": "[encoded data removed]",
            "text/plain": [
              "<Figure size 432x288 with 1 Axes>"
            ]
          },
          "metadata": {
            "tags": [],
            "needs_background": "light"
          }
        }
      ]
    },
    {
      "cell_type": "code",
      "metadata": {
        "id": "qZpysItQ-wvl",
        "colab_type": "code",
        "colab": {
          "base_uri": "https://localhost:8080/",
          "height": 295
        },
        "outputId": "da6df1d9-3de8-4564-9d89-6094ca0476ea"
      },
      "source": [
        "# Graficamos test\n",
        "plt.scatter(tabla_t[:,0],tabla_t[:,1],color='Red', marker='^',alpha=0.5)\n",
        "plt.plot(tabla_t[:,0],tabla_t[:,2],color='Blue', marker='^',alpha=0.5)\n",
        "plt.title(\"Bajas TEST vs SVR\")\n",
        "plt.xlabel(\"Periodo Baja\")\n",
        "plt.ylabel(\"Cantidad\")\n",
        "plt.show()"
      ],
      "execution_count": 17,
      "outputs": [
        {
          "output_type": "display_data",
          "data": {
            "image/png": "[encoded data removed]",
            "text/plain": [
              "<Figure size 432x288 with 1 Axes>"
            ]
          },
          "metadata": {
            "tags": [],
            "needs_background": "light"
          }
        }
      ]
    },
    {
      "cell_type": "code",
      "metadata": {
        "id": "Qb1Y9sXwMIcZ",
        "colab_type": "code",
        "colab": {}
      },
      "source": [
        "'''nuevo= np.array([])\n",
        "for i in range(202009 , 202012):\n",
        "  nuevo= np.append(nuevo, i)\n",
        "y_pred=sc_y.inverse_transform(regression.predict(sc_x.transform(nuevo.reshape(-1,1))))\n",
        "pd.DataFrame(y_pred)'''"
      ],
      "execution_count": null,
      "outputs": []
    },
    {
      "cell_type": "code",
      "metadata": {
        "id": "cVv1egFjMLRy",
        "colab_type": "code",
        "colab": {
          "base_uri": "https://localhost:8080/",
          "height": 136
        },
        "outputId": "3076bbfa-6233-4176-dab5-87625ba3d089"
      },
      "source": [
        "tabla"
      ],
      "execution_count": 38,
      "outputs": [
        {
          "output_type": "execute_result",
          "data": {
            "text/plain": [
              "array([[201703.        ,  42866.        ,  30106.82616287],\n",
              "       [201807.        ,  23298.        ,  22746.51708951],\n",
              "       [201809.        ,  21942.        ,  22597.69421817],\n",
              "       [201906.        ,  19541.        ,  19735.39123677],\n",
              "       [201908.        ,  19108.        ,  19763.69433369],\n",
              "       [202006.        ,  20818.        ,  22994.70984845],\n",
              "       [202008.        ,  25478.        ,  23060.44885268]])"
            ]
          },
          "metadata": {
            "tags": []
          },
          "execution_count": 38
        }
      ]
    },
    {
      "cell_type": "code",
      "metadata": {
        "id": "moOJWv5p_ab9",
        "colab_type": "code",
        "colab": {
          "base_uri": "https://localhost:8080/",
          "height": 334
        },
        "outputId": "67cbb877-2142-4ca7-a785-cbae2cd20e08"
      },
      "source": [
        "# Margen de Error entrenamiento\n",
        "error_muestra= []; x_train_muestra=[]\n",
        "for i in range(ciclo):\n",
        "  calculo_error_muestra = (( tabla[i,1] - tabla[i,2] ) / tabla[i,1] ) * 100\n",
        "  calculo_error_muestra = abs(calculo_error_muestra)\n",
        "  error_muestra.append(calculo_error_muestra)\n",
        "  x_train_muestra.append(tabla[i,1])\n",
        "print(\"x train muestra = \"+str(x_train_muestra)+\"\\n\")\n",
        "print(\"error_muestra = \" +str(error_muestra)+\"\\n\")\n",
        "# Concatenamos \n",
        "tabla_error = np.concatenate((x_train_muestra, error_muestra), axis=1)\n",
        "print(\"Antes de organizar los datos:\"+str(tabla_error)+\"\\n\")\n",
        "# Organizamos y recreamos los datos\n",
        "tabla_error[:,0].sort()\n",
        "for i in range(ciclo) :\n",
        "  n_orgz =  tabla_error[i,0]\n",
        "  for ii in range( ciclo ):\n",
        "    n_norgz =  x_train_muestra[ii]\n",
        "    if (int(n_norgz) == int(n_orgz)):\n",
        "      tabla_error[i,1] = error_muestra[ii]\n",
        "    else:\n",
        "      pass \n",
        "print(\"Despues de organizar los datos:\"+\"\\n\"+str(tabla_error)+\"\\n\")"
      ],
      "execution_count": 58,
      "outputs": [
        {
          "output_type": "stream",
          "text": [
            "x train muestra = [42866.0, 23298.0, 21942.0, 19541.0, 19108.0, 20818.0, 25478.0]\n",
            "\n",
            "error_muestra = [29.765254134104502, 2.3670826272377647, 2.9883065270575075, 0.9947865348159286, 3.4315173418853937, 10.455902817033277, 9.48877913228074]\n",
            "\n"
          ],
          "name": "stdout"
        },
        {
          "output_type": "error",
          "ename": "AxisError",
          "evalue": "ignored",
          "traceback": [
            "\u001b[0;31m---------------------------------------------------------------------------\u001b[0m",
            "\u001b[0;31mAxisError\u001b[0m                                 Traceback (most recent call last)",
            "\u001b[0;32m<ipython-input-58-bbf48420866f>\u001b[0m in \u001b[0;36m<module>\u001b[0;34m()\u001b[0m\n\u001b[1;32m      9\u001b[0m \u001b[0mprint\u001b[0m\u001b[0;34m(\u001b[0m\u001b[0;34m\"error_muestra = \"\u001b[0m \u001b[0;34m+\u001b[0m\u001b[0mstr\u001b[0m\u001b[0;34m(\u001b[0m\u001b[0merror_muestra\u001b[0m\u001b[0;34m)\u001b[0m\u001b[0;34m+\u001b[0m\u001b[0;34m\"\\n\"\u001b[0m\u001b[0;34m)\u001b[0m\u001b[0;34m\u001b[0m\u001b[0;34m\u001b[0m\u001b[0m\n\u001b[1;32m     10\u001b[0m \u001b[0;31m# Concatenamos\u001b[0m\u001b[0;34m\u001b[0m\u001b[0;34m\u001b[0m\u001b[0;34m\u001b[0m\u001b[0m\n\u001b[0;32m---> 11\u001b[0;31m \u001b[0mtabla_error\u001b[0m \u001b[0;34m=\u001b[0m \u001b[0mnp\u001b[0m\u001b[0;34m.\u001b[0m\u001b[0mconcatenate\u001b[0m\u001b[0;34m(\u001b[0m\u001b[0;34m(\u001b[0m\u001b[0mx_train_muestra\u001b[0m\u001b[0;34m,\u001b[0m \u001b[0merror_muestra\u001b[0m\u001b[0;34m)\u001b[0m\u001b[0;34m,\u001b[0m \u001b[0maxis\u001b[0m\u001b[0;34m=\u001b[0m\u001b[0;36m1\u001b[0m\u001b[0;34m)\u001b[0m\u001b[0;34m\u001b[0m\u001b[0;34m\u001b[0m\u001b[0m\n\u001b[0m\u001b[1;32m     12\u001b[0m \u001b[0mprint\u001b[0m\u001b[0;34m(\u001b[0m\u001b[0;34m\"Antes de organizar los datos:\"\u001b[0m\u001b[0;34m+\u001b[0m\u001b[0mstr\u001b[0m\u001b[0;34m(\u001b[0m\u001b[0mtabla_error\u001b[0m\u001b[0;34m)\u001b[0m\u001b[0;34m+\u001b[0m\u001b[0;34m\"\\n\"\u001b[0m\u001b[0;34m)\u001b[0m\u001b[0;34m\u001b[0m\u001b[0;34m\u001b[0m\u001b[0m\n\u001b[1;32m     13\u001b[0m \u001b[0;31m# Organizamos y recreamos los datos\u001b[0m\u001b[0;34m\u001b[0m\u001b[0;34m\u001b[0m\u001b[0;34m\u001b[0m\u001b[0m\n",
            "\u001b[0;32m<__array_function__ internals>\u001b[0m in \u001b[0;36mconcatenate\u001b[0;34m(*args, **kwargs)\u001b[0m\n",
            "\u001b[0;31mAxisError\u001b[0m: axis 1 is out of bounds for array of dimension 1"
          ]
        }
      ]
    },
    {
      "cell_type": "code",
      "metadata": {
        "id": "uPhXSw4LIJNc",
        "colab_type": "code",
        "colab": {
          "base_uri": "https://localhost:8080/",
          "height": 295
        },
        "outputId": "a884f524-8ce8-4e0d-9fac-8ad363959d2e"
      },
      "source": [
        "# Graficamos error muestra\n",
        "plt.plot(tabla[:,0],error_muestra,color='Red', marker='^',alpha=0.5)\n",
        "plt.title(\"error entrenamiento\")\n",
        "plt.xlabel(\"Periodo\")\n",
        "plt.ylabel(\"Error\")\n",
        "plt.show()"
      ],
      "execution_count": 29,
      "outputs": [
        {
          "output_type": "display_data",
          "data": {
            "image/png": "[encoded data removed]",
            "text/plain": [
              "<Figure size 432x288 with 1 Axes>"
            ]
          },
          "metadata": {
            "tags": [],
            "needs_background": "light"
          }
        }
      ]
    },
    {
      "cell_type": "code",
      "metadata": {
        "id": "mXcK-MWEJF77",
        "colab_type": "code",
        "colab": {
          "base_uri": "https://localhost:8080/",
          "height": 71
        },
        "outputId": "311d407a-72b8-4ee8-c1d8-7598fcfd2c18"
      },
      "source": [
        "# Margen de error Test\n",
        "error_test = [];\n",
        "for i in range( total_ciclo ):\n",
        "  calculo_error_test = (( tabla_t[i,1] - tabla_t[i,2] ) / tabla_t[i,1] ) * 100\n",
        "  error_test.append(calculo_error_test)\n",
        "print(\"error_test = \"+str(error_test)+\"\\n\")\n",
        "# Organizamos y recreamos tabla \n",
        "error_test.sort()"
      ],
      "execution_count": 32,
      "outputs": [
        {
          "output_type": "stream",
          "text": [
            "error_test = [48.30591727141453, 3.584218682356386, -13.255831025583065, 5.725153580859507, -1.0275513621140469, 2.314095832141478, -8.02660662870456, -0.8662118625184153, -5.631804281938475]\n",
            "\n"
          ],
          "name": "stdout"
        }
      ]
    },
    {
      "cell_type": "code",
      "metadata": {
        "id": "lEztTGOgJJTj",
        "colab_type": "code",
        "colab": {
          "base_uri": "https://localhost:8080/",
          "height": 295
        },
        "outputId": "fcf5fd2b-88aa-4745-b520-c7122e4242ef"
      },
      "source": [
        "# Graficamos error test\n",
        "plt.plot(tabla_t[:,0],error_test,color='Blue', marker='^',alpha=0.5)\n",
        "plt.title(\"error test\")\n",
        "plt.xlabel(\"Periodo\")\n",
        "plt.ylabel(\"Error\")\n",
        "plt.show()"
      ],
      "execution_count": 33,
      "outputs": [
        {
          "output_type": "display_data",
          "data": {
            "image/png": "[encoded data removed]",
            "text/plain": [
              "<Figure size 432x288 with 1 Axes>"
            ]
          },
          "metadata": {
            "tags": [],
            "needs_background": "light"
          }
        }
      ]
    },
    {
      "cell_type": "code",
      "metadata": {
        "id": "WpHRgL7CKmBI",
        "colab_type": "code",
        "colab": {
          "base_uri": "https://localhost:8080/",
          "height": 295
        },
        "outputId": "5fdc4d75-525d-409a-dff5-260bdb07dd2a"
      },
      "source": [
        "# Graficamos error\n",
        "plt.plot(error_muestra,color='Red', marker='^',alpha=0.5)\n",
        "plt.plot(error_test,color='Blue', marker='^',alpha=0.5)\n",
        "plt.title(\"error muestra vs error test\")\n",
        "plt.xlabel(\" \")\n",
        "plt.ylabel(\"Error\")\n",
        "plt.show()"
      ],
      "execution_count": 34,
      "outputs": [
        {
          "output_type": "display_data",
          "data": {
            "image/png": "[encoded data removed]",
            "text/plain": [
              "<Figure size 432x288 with 1 Axes>"
            ]
          },
          "metadata": {
            "tags": [],
            "needs_background": "light"
          }
        }
      ]
    },
    {
      "cell_type": "code",
      "metadata": {
        "id": "1PoyJJhGLyWE",
        "colab_type": "code",
        "colab": {
          "base_uri": "https://localhost:8080/",
          "height": 136
        },
        "outputId": "dd569f45-da9a-4ef6-f789-5c1bd5306a69"
      },
      "source": [
        "error_muestra"
      ],
      "execution_count": 35,
      "outputs": [
        {
          "output_type": "execute_result",
          "data": {
            "text/plain": [
              "[-10.455902817033277,\n",
              " -3.4315173418853937,\n",
              " -2.9883065270575075,\n",
              " -0.9947865348159286,\n",
              " 2.3670826272377647,\n",
              " 9.48877913228074,\n",
              " 29.765254134104502]"
            ]
          },
          "metadata": {
            "tags": []
          },
          "execution_count": 35
        }
      ]
    },
    {
      "cell_type": "code",
      "metadata": {
        "id": "3L_lVh3vLz_9",
        "colab_type": "code",
        "colab": {
          "base_uri": "https://localhost:8080/",
          "height": 170
        },
        "outputId": "d129d8be-3bc6-4df8-a85a-dbaee439fc92"
      },
      "source": [
        "error_test"
      ],
      "execution_count": 36,
      "outputs": [
        {
          "output_type": "execute_result",
          "data": {
            "text/plain": [
              "[-13.255831025583065,\n",
              " -8.02660662870456,\n",
              " -5.631804281938475,\n",
              " -1.0275513621140469,\n",
              " -0.8662118625184153,\n",
              " 2.314095832141478,\n",
              " 3.584218682356386,\n",
              " 5.725153580859507,\n",
              " 48.30591727141453]"
            ]
          },
          "metadata": {
            "tags": []
          },
          "execution_count": 36
        }
      ]
    }
  ]
}