{
  "nbformat": 4,
  "nbformat_minor": 0,
  "metadata": {
    "colab": {
      "name": "Untitled1.ipynb",
      "provenance": [],
      "include_colab_link": true
    },
    "kernelspec": {
      "name": "python3",
      "display_name": "Python 3"
    }
  },
  "cells": [
    {
      "cell_type": "markdown",
      "metadata": {
        "id": "view-in-github",
        "colab_type": "text"
      },
      "source": [
        "<a href=\"https://colab.research.google.com/github/ClauCll/Curso_ML_A_Z/blob/master/Regresi%C3%B3n/Regresion_Bajas_Antiguedad_v7.ipynb\" target=\"_parent\"><img src=\"https://colab.research.google.com/assets/colab-badge.svg\" alt=\"Open In Colab\"/></a>"
      ]
    },
    {
      "cell_type": "markdown",
      "metadata": {
        "id": "-J3qDXeFwvSb"
      },
      "source": [
        "## Cuantas serán las bajas voluntarias de los clientes fijos para un periodo x. (Agosto - Diciembre 2020)\n",
        " "
      ]
    },
    {
      "cell_type": "code",
      "metadata": {
        "id": "Vsqlhqgww1BG"
      },
      "source": [
        "import pandas as pd\n",
        "import numpy as np\n",
        "\n",
        "#Gráfico\n",
        "from mpl_toolkits.mplot3d import axes3d\n",
        "import matplotlib.pyplot as plt \n",
        "from matplotlib import style\n",
        "import matplotlib.ticker as ticker\n",
        "import seaborn as sns\n",
        "\n",
        "import gspread\n",
        "from oauth2client.client import GoogleCredentials \n",
        "from google.colab import auth\n",
        "# Autoriza Claudia\n",
        "auth.authenticate_user()\n",
        "gc = gspread.authorize (GoogleCredentials.get_application_default())"
      ],
      "execution_count": 121,
      "outputs": []
    },
    {
      "cell_type": "markdown",
      "metadata": {
        "id": "2xAoqlB_02Do"
      },
      "source": [
        "### leemos datos"
      ]
    },
    {
      "cell_type": "code",
      "metadata": {
        "id": "y_VVpj56uzRV",
        "outputId": "66cdd91e-b63b-4b15-aa01-12b7fae33358",
        "colab": {
          "base_uri": "https://localhost:8080/",
          "height": 54
        }
      },
      "source": [
        "from google.colab import drive\n",
        "drive.mount('/content/drive')"
      ],
      "execution_count": 122,
      "outputs": [
        {
          "output_type": "stream",
          "text": [
            "Drive already mounted at /content/drive; to attempt to forcibly remount, call drive.mount(\"/content/drive\", force_remount=True).\n"
          ],
          "name": "stdout"
        }
      ]
    },
    {
      "cell_type": "code",
      "metadata": {
        "id": "0JYqth2Ty8-k"
      },
      "source": [
        "data = pd.read_csv('/content/drive/My Drive/Dataset/BAJAS.txt',delimiter='~')\n",
        " \n",
        "X  = data.iloc[:,:-1].values\n",
        "Y  = data.iloc[:,8].values\n",
        "Y = Y[:,np.newaxis]"
      ],
      "execution_count": 123,
      "outputs": []
    },
    {
      "cell_type": "code",
      "metadata": {
        "id": "RbQx30WIGlcX",
        "outputId": "b3cdb8b9-8cd7-4c5a-d62c-9e7349399190",
        "colab": {
          "base_uri": "https://localhost:8080/",
          "height": 402
        }
      },
      "source": [
        "#data.info()#\n",
        "#data.describe()\n",
        "data"
      ],
      "execution_count": 124,
      "outputs": [
        {
          "output_type": "execute_result",
          "data": {
            "text/html": [
              "<div>\n",
              "<style scoped>\n",
              "    .dataframe tbody tr th:only-of-type {\n",
              "        vertical-align: middle;\n",
              "    }\n",
              "\n",
              "    .dataframe tbody tr th {\n",
              "        vertical-align: top;\n",
              "    }\n",
              "\n",
              "    .dataframe thead th {\n",
              "        text-align: right;\n",
              "    }\n",
              "</style>\n",
              "<table border=\"1\" class=\"dataframe\">\n",
              "  <thead>\n",
              "    <tr style=\"text-align: right;\">\n",
              "      <th></th>\n",
              "      <th>MES_BAJA</th>\n",
              "      <th>TRIM_1</th>\n",
              "      <th>TRIM_2</th>\n",
              "      <th>TRIM_3</th>\n",
              "      <th>TRIM_4</th>\n",
              "      <th>ENTRE_1_2_ANIOS</th>\n",
              "      <th>ENTRE_3_4_ANIOS</th>\n",
              "      <th>MAS_5_ANIOS</th>\n",
              "      <th>TOTAL_BAJAS</th>\n",
              "    </tr>\n",
              "  </thead>\n",
              "  <tbody>\n",
              "    <tr>\n",
              "      <th>0</th>\n",
              "      <td>11</td>\n",
              "      <td>35</td>\n",
              "      <td>19</td>\n",
              "      <td>22</td>\n",
              "      <td>153</td>\n",
              "      <td>484</td>\n",
              "      <td>294</td>\n",
              "      <td>11</td>\n",
              "      <td>1018</td>\n",
              "    </tr>\n",
              "    <tr>\n",
              "      <th>1</th>\n",
              "      <td>6</td>\n",
              "      <td>54</td>\n",
              "      <td>35</td>\n",
              "      <td>23</td>\n",
              "      <td>174</td>\n",
              "      <td>672</td>\n",
              "      <td>369</td>\n",
              "      <td>58</td>\n",
              "      <td>1384</td>\n",
              "    </tr>\n",
              "    <tr>\n",
              "      <th>2</th>\n",
              "      <td>2</td>\n",
              "      <td>39</td>\n",
              "      <td>19</td>\n",
              "      <td>32</td>\n",
              "      <td>343</td>\n",
              "      <td>925</td>\n",
              "      <td>511</td>\n",
              "      <td>22</td>\n",
              "      <td>1889</td>\n",
              "    </tr>\n",
              "    <tr>\n",
              "      <th>3</th>\n",
              "      <td>3</td>\n",
              "      <td>48</td>\n",
              "      <td>24</td>\n",
              "      <td>25</td>\n",
              "      <td>240</td>\n",
              "      <td>736</td>\n",
              "      <td>424</td>\n",
              "      <td>38</td>\n",
              "      <td>1534</td>\n",
              "    </tr>\n",
              "    <tr>\n",
              "      <th>4</th>\n",
              "      <td>10</td>\n",
              "      <td>29</td>\n",
              "      <td>15</td>\n",
              "      <td>17</td>\n",
              "      <td>134</td>\n",
              "      <td>470</td>\n",
              "      <td>294</td>\n",
              "      <td>19</td>\n",
              "      <td>978</td>\n",
              "    </tr>\n",
              "    <tr>\n",
              "      <th>5</th>\n",
              "      <td>12</td>\n",
              "      <td>42</td>\n",
              "      <td>19</td>\n",
              "      <td>15</td>\n",
              "      <td>181</td>\n",
              "      <td>603</td>\n",
              "      <td>1470</td>\n",
              "      <td>105</td>\n",
              "      <td>2435</td>\n",
              "    </tr>\n",
              "    <tr>\n",
              "      <th>6</th>\n",
              "      <td>8</td>\n",
              "      <td>19</td>\n",
              "      <td>18</td>\n",
              "      <td>19</td>\n",
              "      <td>168</td>\n",
              "      <td>590</td>\n",
              "      <td>294</td>\n",
              "      <td>6</td>\n",
              "      <td>1114</td>\n",
              "    </tr>\n",
              "    <tr>\n",
              "      <th>7</th>\n",
              "      <td>9</td>\n",
              "      <td>26</td>\n",
              "      <td>19</td>\n",
              "      <td>20</td>\n",
              "      <td>142</td>\n",
              "      <td>498</td>\n",
              "      <td>316</td>\n",
              "      <td>10</td>\n",
              "      <td>1031</td>\n",
              "    </tr>\n",
              "    <tr>\n",
              "      <th>8</th>\n",
              "      <td>4</td>\n",
              "      <td>45</td>\n",
              "      <td>24</td>\n",
              "      <td>20</td>\n",
              "      <td>173</td>\n",
              "      <td>546</td>\n",
              "      <td>318</td>\n",
              "      <td>29</td>\n",
              "      <td>1153</td>\n",
              "    </tr>\n",
              "    <tr>\n",
              "      <th>9</th>\n",
              "      <td>5</td>\n",
              "      <td>56</td>\n",
              "      <td>20</td>\n",
              "      <td>24</td>\n",
              "      <td>203</td>\n",
              "      <td>546</td>\n",
              "      <td>314</td>\n",
              "      <td>21</td>\n",
              "      <td>1183</td>\n",
              "    </tr>\n",
              "    <tr>\n",
              "      <th>10</th>\n",
              "      <td>1</td>\n",
              "      <td>31</td>\n",
              "      <td>22</td>\n",
              "      <td>22</td>\n",
              "      <td>271</td>\n",
              "      <td>728</td>\n",
              "      <td>399</td>\n",
              "      <td>19</td>\n",
              "      <td>1491</td>\n",
              "    </tr>\n",
              "    <tr>\n",
              "      <th>11</th>\n",
              "      <td>7</td>\n",
              "      <td>60</td>\n",
              "      <td>44</td>\n",
              "      <td>27</td>\n",
              "      <td>166</td>\n",
              "      <td>680</td>\n",
              "      <td>383</td>\n",
              "      <td>73</td>\n",
              "      <td>1430</td>\n",
              "    </tr>\n",
              "  </tbody>\n",
              "</table>\n",
              "</div>"
            ],
            "text/plain": [
              "    MES_BAJA  TRIM_1  TRIM_2  ...  ENTRE_3_4_ANIOS  MAS_5_ANIOS  TOTAL_BAJAS\n",
              "0         11      35      19  ...              294           11         1018\n",
              "1          6      54      35  ...              369           58         1384\n",
              "2          2      39      19  ...              511           22         1889\n",
              "3          3      48      24  ...              424           38         1534\n",
              "4         10      29      15  ...              294           19          978\n",
              "5         12      42      19  ...             1470          105         2435\n",
              "6          8      19      18  ...              294            6         1114\n",
              "7          9      26      19  ...              316           10         1031\n",
              "8          4      45      24  ...              318           29         1153\n",
              "9          5      56      20  ...              314           21         1183\n",
              "10         1      31      22  ...              399           19         1491\n",
              "11         7      60      44  ...              383           73         1430\n",
              "\n",
              "[12 rows x 9 columns]"
            ]
          },
          "metadata": {
            "tags": []
          },
          "execution_count": 124
        }
      ]
    },
    {
      "cell_type": "code",
      "metadata": {
        "id": "2TE6QtHbPGlm",
        "outputId": "0815ec37-9c75-42b2-e974-ca82299f3bd8",
        "colab": {
          "base_uri": "https://localhost:8080/",
          "height": 238
        }
      },
      "source": [
        "from sklearn.model_selection import train_test_split\n",
        "from sklearn.metrics import accuracy_score\n",
        "from sklearn.svm import SVR\n",
        "from sklearn.linear_model import LogisticRegression\n",
        "\n",
        "# 1trim\n",
        "#entrenamos datos\n",
        "x1 = X[:,0]\n",
        "x1 = x1[:,np.newaxis]\n",
        "y1 = X[:,1]\n",
        "y1 = y1[:,np.newaxis]\n",
        "\n",
        "x_train, x_test, y_train, y_test = train_test_split(x1, y1,test_size = 0.2,\n",
        "                                        random_state = 0,\n",
        "                                        shuffle      = True\n",
        "                                    )\n",
        "\n",
        "\n",
        "#Modelo regresión Logística\n",
        "logreg= LogisticRegression()\n",
        "logreg.fit(x_train, y_train)\n",
        "y_predic_test_m1 = logreg.predict(x_test)\n",
        "y_predic_train_m1 = logreg.predict(x_train)\n",
        "print('Precisión Modelo Regresión Logística')\n",
        "print(logreg.score(x_train,y_train))\n"
      ],
      "execution_count": 126,
      "outputs": [
        {
          "output_type": "stream",
          "text": [
            "Precisión Modelo Regresión Logística\n",
            "0.6666666666666666\n"
          ],
          "name": "stdout"
        },
        {
          "output_type": "stream",
          "text": [
            "/usr/local/lib/python3.6/dist-packages/sklearn/utils/validation.py:760: DataConversionWarning: A column-vector y was passed when a 1d array was expected. Please change the shape of y to (n_samples, ), for example using ravel().\n",
            "  y = column_or_1d(y, warn=True)\n",
            "/usr/local/lib/python3.6/dist-packages/sklearn/linear_model/_logistic.py:940: ConvergenceWarning: lbfgs failed to converge (status=1):\n",
            "STOP: TOTAL NO. of ITERATIONS REACHED LIMIT.\n",
            "\n",
            "Increase the number of iterations (max_iter) or scale the data as shown in:\n",
            "    https://scikit-learn.org/stable/modules/preprocessing.html\n",
            "Please also refer to the documentation for alternative solver options:\n",
            "    https://scikit-learn.org/stable/modules/linear_model.html#logistic-regression\n",
            "  extra_warning_msg=_LOGISTIC_SOLVER_CONVERGENCE_MSG)\n"
          ],
          "name": "stderr"
        }
      ]
    },
    {
      "cell_type": "code",
      "metadata": {
        "id": "lM440GPiUC7w",
        "outputId": "0e66292a-a477-4000-afe4-8b4713c8fcde",
        "colab": {
          "base_uri": "https://localhost:8080/",
          "height": 370
        }
      },
      "source": [
        "print('Datos entrenamiento')\n",
        "print(y_train)\n",
        "print('Resultado predicción entrenamiento')\n",
        "print(pd.DataFrame(y_predic_train_m1))"
      ],
      "execution_count": 127,
      "outputs": [
        {
          "output_type": "stream",
          "text": [
            "Datos entrenamiento\n",
            "[[31]\n",
            " [39]\n",
            " [45]\n",
            " [54]\n",
            " [26]\n",
            " [56]\n",
            " [48]\n",
            " [35]\n",
            " [42]]\n",
            "Resultado predicción entrenamiento\n",
            "    0\n",
            "0  31\n",
            "1  31\n",
            "2  45\n",
            "3  54\n",
            "4  26\n",
            "5  56\n",
            "6  39\n",
            "7  42\n",
            "8  42\n"
          ],
          "name": "stdout"
        }
      ]
    },
    {
      "cell_type": "code",
      "metadata": {
        "id": "iod3jZg-vyXg",
        "outputId": "15270527-f837-40ac-af6a-a25df154ddc6",
        "colab": {
          "base_uri": "https://localhost:8080/",
          "height": 295
        }
      },
      "source": [
        "plt.scatter(x_train, y_train, c='red', marker='^', alpha=0.5)\n",
        "plt.scatter(x_test , y_test , c='red', marker='*', alpha=0.5)\n",
        "plt.scatter(x_train, y_predic_train_m1, c='green', marker='o', alpha=0.3)\n",
        "plt.scatter(x_test , y_predic_test_m1 , c='green', marker='o', alpha=0.3)\n",
        "plt.xlabel('Mes')\n",
        "plt.ylabel('Cantidad')\n",
        "plt.title('Bajas clientes con antiguedad a 3 meses')\n",
        "plt.show()"
      ],
      "execution_count": 128,
      "outputs": [
        {
          "output_type": "display_data",
          "data": {
            "image/png": "[encoded data removed]",
            "text/plain": [
              "<Figure size 432x288 with 1 Axes>"
            ]
          },
          "metadata": {
            "tags": [],
            "needs_background": "light"
          }
        }
      ]
    },
    {
      "cell_type": "code",
      "metadata": {
        "id": "l3L8HXGeXEf9"
      },
      "source": [
        "#Guardamos los resultados\n",
        "concat_y1, concat_x1 = [],[]\n",
        "\n",
        "for _ in list(range(len(y_predic_valor))):\n",
        "  concat_y1.append(y_predic_train_m1[_])\n",
        "  concat_x1.append(x_train[_])\n",
        "\n",
        "for _ in list(range(len(y_predic_valor_t))):\n",
        "  concat_y1.append(y_predic_test_m1[_])\n",
        "  concat_x1.append(x_test[_])"
      ],
      "execution_count": 129,
      "outputs": []
    },
    {
      "cell_type": "code",
      "metadata": {
        "id": "AP__9C1poii_",
        "outputId": "1c1d3849-ee8f-445a-f5bd-f6c27dc6f06d",
        "colab": {
          "base_uri": "https://localhost:8080/",
          "height": 104
        }
      },
      "source": [
        "from sklearn.model_selection import train_test_split\n",
        "from sklearn.metrics import accuracy_score\n",
        "from sklearn.svm import SVR\n",
        "from sklearn.linear_model import LogisticRegression\n",
        "\n",
        "# 2trim\n",
        "#entrenamos datos\n",
        "x1 = X[:,0]\n",
        "x1 = x1[:,np.newaxis]\n",
        "y1 = X[:,2]\n",
        "y1 = y1[:,np.newaxis]\n",
        "\n",
        "x_train, x_test, y_train, y_test = train_test_split(x1, y1,test_size = 0.2,\n",
        "                                        random_state = 0,\n",
        "                                        shuffle      = True\n",
        "                                    )\n",
        "\n",
        "\n",
        "#Modelo regresión Logística\n",
        "logreg= LogisticRegression()\n",
        "logreg.fit(x_train, y_train)\n",
        "y_predic_test_m1 = logreg.predict(x_test)\n",
        "y_predic_train_m1 = logreg.predict(x_train)\n",
        "print('Precisión Modelo Regresión Logística')\n",
        "print(logreg.score(x_train,y_train))\n"
      ],
      "execution_count": 131,
      "outputs": [
        {
          "output_type": "stream",
          "text": [
            "Precisión Modelo Regresión Logística\n",
            "0.6666666666666666\n"
          ],
          "name": "stdout"
        },
        {
          "output_type": "stream",
          "text": [
            "/usr/local/lib/python3.6/dist-packages/sklearn/utils/validation.py:760: DataConversionWarning: A column-vector y was passed when a 1d array was expected. Please change the shape of y to (n_samples, ), for example using ravel().\n",
            "  y = column_or_1d(y, warn=True)\n"
          ],
          "name": "stderr"
        }
      ]
    },
    {
      "cell_type": "code",
      "metadata": {
        "id": "yjTnmZNYpeHY",
        "outputId": "1c4ab5e1-20a4-4c29-965b-3b2dd10f7300",
        "colab": {
          "base_uri": "https://localhost:8080/",
          "height": 370
        }
      },
      "source": [
        "print('Datos entrenamiento')\n",
        "print(y_train)\n",
        "print('Resultado predicción entrenamiento')\n",
        "print(pd.DataFrame(y_predic_train_m1))"
      ],
      "execution_count": 132,
      "outputs": [
        {
          "output_type": "stream",
          "text": [
            "Datos entrenamiento\n",
            "[[22]\n",
            " [19]\n",
            " [24]\n",
            " [35]\n",
            " [19]\n",
            " [20]\n",
            " [24]\n",
            " [19]\n",
            " [19]]\n",
            "Resultado predicción entrenamiento\n",
            "    0\n",
            "0  22\n",
            "1  24\n",
            "2  24\n",
            "3  19\n",
            "4  19\n",
            "5  19\n",
            "6  24\n",
            "7  19\n",
            "8  19\n"
          ],
          "name": "stdout"
        }
      ]
    },
    {
      "cell_type": "code",
      "metadata": {
        "id": "IBlgYiZhpkvE",
        "outputId": "dde73849-fc05-4beb-a016-e3a1daceee7c",
        "colab": {
          "base_uri": "https://localhost:8080/",
          "height": 295
        }
      },
      "source": [
        "plt.scatter(x_train, y_train, c='red', marker='^', alpha=0.5)\n",
        "plt.scatter(x_test , y_test , c='red', marker='*', alpha=0.5)\n",
        "plt.scatter(x_train, y_predic_train_m1, c='green', marker='o', alpha=0.3)\n",
        "plt.scatter(x_test , y_predic_test_m1 , c='green', marker='o', alpha=0.3)\n",
        "plt.xlabel('Mes')\n",
        "plt.ylabel('Cantidad')\n",
        "plt.title('Bajas clientes con antiguedad entre 4 - 6 meses')\n",
        "plt.show()"
      ],
      "execution_count": 133,
      "outputs": [
        {
          "output_type": "display_data",
          "data": {
            "image/png": "[encoded data removed]",
            "text/plain": [
              "<Figure size 432x288 with 1 Axes>"
            ]
          },
          "metadata": {
            "tags": [],
            "needs_background": "light"
          }
        }
      ]
    },
    {
      "cell_type": "code",
      "metadata": {
        "id": "lQaN86b9plv8"
      },
      "source": [
        "#Guardamos los resultados\n",
        "concat_y2, concat_x2 = [],[]\n",
        "\n",
        "for _ in list(range(len(y_predic_valor))):\n",
        "  concat_y2.append(y_predic_train_m1[_])\n",
        "  concat_x2.append(x_train[_])\n",
        "\n",
        "for _ in list(range(len(y_predic_valor_t))):\n",
        "  concat_y2.append(y_predic_test_m1[_])\n",
        "  concat_x2.append(x_test[_])"
      ],
      "execution_count": 134,
      "outputs": []
    },
    {
      "cell_type": "code",
      "metadata": {
        "id": "ShpHPQ_cp6Rs",
        "outputId": "4cd52b37-e08e-41c8-82e0-dcecdb9489f8",
        "colab": {
          "base_uri": "https://localhost:8080/",
          "height": 104
        }
      },
      "source": [
        "from sklearn.model_selection import train_test_split\n",
        "from sklearn.metrics import accuracy_score\n",
        "from sklearn.svm import SVR\n",
        "from sklearn.linear_model import LogisticRegression\n",
        "\n",
        "# 3trim\n",
        "#entrenamos datos\n",
        "x1 = X[:,0]\n",
        "x1 = x1[:,np.newaxis]\n",
        "y1 = X[:,3]\n",
        "y1 = y1[:,np.newaxis]\n",
        "\n",
        "x_train, x_test, y_train, y_test = train_test_split(x1, y1,test_size = 0.2,\n",
        "                                        random_state = 0,\n",
        "                                        shuffle      = True\n",
        "                                    )\n",
        "\n",
        "\n",
        "#Modelo regresión Logística\n",
        "logreg= LogisticRegression()\n",
        "logreg.fit(x_train, y_train)\n",
        "y_predic_test_m1 = logreg.predict(x_test)\n",
        "y_predic_train_m1 = logreg.predict(x_train)\n",
        "print('Precisión Modelo Regresión Logística')\n",
        "print(logreg.score(x_train,y_train))"
      ],
      "execution_count": 135,
      "outputs": [
        {
          "output_type": "stream",
          "text": [
            "Precisión Modelo Regresión Logística\n",
            "0.3333333333333333\n"
          ],
          "name": "stdout"
        },
        {
          "output_type": "stream",
          "text": [
            "/usr/local/lib/python3.6/dist-packages/sklearn/utils/validation.py:760: DataConversionWarning: A column-vector y was passed when a 1d array was expected. Please change the shape of y to (n_samples, ), for example using ravel().\n",
            "  y = column_or_1d(y, warn=True)\n"
          ],
          "name": "stderr"
        }
      ]
    },
    {
      "cell_type": "code",
      "metadata": {
        "id": "WhrmwBppqQJB",
        "outputId": "002e4e39-6131-4944-9684-d6fd6dabd012",
        "colab": {
          "base_uri": "https://localhost:8080/",
          "height": 370
        }
      },
      "source": [
        "print('Datos entrenamiento')\n",
        "print(y_train)\n",
        "print('Resultado predicción entrenamiento')\n",
        "print(pd.DataFrame(y_predic_train_m1))"
      ],
      "execution_count": 136,
      "outputs": [
        {
          "output_type": "stream",
          "text": [
            "Datos entrenamiento\n",
            "[[22]\n",
            " [32]\n",
            " [20]\n",
            " [23]\n",
            " [20]\n",
            " [24]\n",
            " [25]\n",
            " [22]\n",
            " [15]]\n",
            "Resultado predicción entrenamiento\n",
            "    0\n",
            "0  32\n",
            "1  32\n",
            "2  22\n",
            "3  22\n",
            "4  20\n",
            "5  22\n",
            "6  22\n",
            "7  15\n",
            "8  15\n"
          ],
          "name": "stdout"
        }
      ]
    },
    {
      "cell_type": "code",
      "metadata": {
        "id": "Pu0ZCr7oqRKX",
        "outputId": "b6524f09-89ee-4dd2-dbb4-3a49b2eb6303",
        "colab": {
          "base_uri": "https://localhost:8080/",
          "height": 295
        }
      },
      "source": [
        "plt.scatter(x_train, y_train, c='red', marker='^', alpha=0.5)\n",
        "plt.scatter(x_test , y_test , c='red', marker='*', alpha=0.5)\n",
        "plt.scatter(x_train, y_predic_train_m1, c='green', marker='o', alpha=0.3)\n",
        "plt.scatter(x_test , y_predic_test_m1 , c='green', marker='o', alpha=0.3)\n",
        "plt.xlabel('Mes')\n",
        "plt.ylabel('Cantidad')\n",
        "plt.title('Bajas clientes con antiguedad entre 7 - 9 meses')\n",
        "plt.show()"
      ],
      "execution_count": 137,
      "outputs": [
        {
          "output_type": "display_data",
          "data": {
            "image/png": "[encoded data removed]",
            "text/plain": [
              "<Figure size 432x288 with 1 Axes>"
            ]
          },
          "metadata": {
            "tags": [],
            "needs_background": "light"
          }
        }
      ]
    },
    {
      "cell_type": "code",
      "metadata": {
        "id": "I8g0-W-qqbpX"
      },
      "source": [
        "#Guardamos los resultados\n",
        "concat_y3, concat_x3 = [],[]\n",
        "\n",
        "for _ in list(range(len(y_predic_valor))):\n",
        "  concat_y3.append(y_predic_train_m1[_])\n",
        "  concat_x3.append(x_train[_])\n",
        "\n",
        "for _ in list(range(len(y_predic_valor_t))):\n",
        "  concat_y3.append(y_predic_test_m1[_])\n",
        "  concat_x3.append(x_test[_])"
      ],
      "execution_count": 138,
      "outputs": []
    },
    {
      "cell_type": "code",
      "metadata": {
        "id": "D2xYzFBqqiq6",
        "outputId": "ccbcd1d2-5a37-4ea0-f66b-374627118835",
        "colab": {
          "base_uri": "https://localhost:8080/",
          "height": 238
        }
      },
      "source": [
        "from sklearn.model_selection import train_test_split\n",
        "from sklearn.metrics import accuracy_score\n",
        "from sklearn.svm import SVR\n",
        "from sklearn.linear_model import LogisticRegression\n",
        "\n",
        "# 4trim\n",
        "#entrenamos datos\n",
        "x1 = X[:,0]\n",
        "x1 = x1[:,np.newaxis]\n",
        "y1 = X[:,4]\n",
        "y1 = y1[:,np.newaxis]\n",
        "\n",
        "x_train, x_test, y_train, y_test = train_test_split(x1, y1,test_size = 0.2,\n",
        "                                        random_state = 0,\n",
        "                                        shuffle      = True\n",
        "                                    )\n",
        "\n",
        "\n",
        "#Modelo regresión Logística\n",
        "logreg= LogisticRegression()\n",
        "logreg.fit(x_train, y_train)\n",
        "y_predic_test_m1 = logreg.predict(x_test)\n",
        "y_predic_train_m1 = logreg.predict(x_train)\n",
        "print('Precisión Modelo Regresión Logística')\n",
        "print(logreg.score(x_train,y_train))"
      ],
      "execution_count": 139,
      "outputs": [
        {
          "output_type": "stream",
          "text": [
            "Precisión Modelo Regresión Logística\n",
            "0.6666666666666666\n"
          ],
          "name": "stdout"
        },
        {
          "output_type": "stream",
          "text": [
            "/usr/local/lib/python3.6/dist-packages/sklearn/utils/validation.py:760: DataConversionWarning: A column-vector y was passed when a 1d array was expected. Please change the shape of y to (n_samples, ), for example using ravel().\n",
            "  y = column_or_1d(y, warn=True)\n",
            "/usr/local/lib/python3.6/dist-packages/sklearn/linear_model/_logistic.py:940: ConvergenceWarning: lbfgs failed to converge (status=1):\n",
            "STOP: TOTAL NO. of ITERATIONS REACHED LIMIT.\n",
            "\n",
            "Increase the number of iterations (max_iter) or scale the data as shown in:\n",
            "    https://scikit-learn.org/stable/modules/preprocessing.html\n",
            "Please also refer to the documentation for alternative solver options:\n",
            "    https://scikit-learn.org/stable/modules/linear_model.html#logistic-regression\n",
            "  extra_warning_msg=_LOGISTIC_SOLVER_CONVERGENCE_MSG)\n"
          ],
          "name": "stderr"
        }
      ]
    },
    {
      "cell_type": "code",
      "metadata": {
        "id": "Je4mlTndqrX6",
        "outputId": "0bd23a33-929e-4e76-cc06-76aa619f13c4",
        "colab": {
          "base_uri": "https://localhost:8080/",
          "height": 370
        }
      },
      "source": [
        "print('Datos entrenamiento')\n",
        "print(y_train)\n",
        "print('Resultado predicción entrenamiento')\n",
        "print(pd.DataFrame(y_predic_train_m1))"
      ],
      "execution_count": 140,
      "outputs": [
        {
          "output_type": "stream",
          "text": [
            "Datos entrenamiento\n",
            "[[271]\n",
            " [343]\n",
            " [173]\n",
            " [174]\n",
            " [142]\n",
            " [203]\n",
            " [240]\n",
            " [153]\n",
            " [181]]\n",
            "Resultado predicción entrenamiento\n",
            "     0\n",
            "0  271\n",
            "1  271\n",
            "2  173\n",
            "3  174\n",
            "4  142\n",
            "5  203\n",
            "6  343\n",
            "7  181\n",
            "8  181\n"
          ],
          "name": "stdout"
        }
      ]
    },
    {
      "cell_type": "code",
      "metadata": {
        "id": "TW-oYp11quVn",
        "outputId": "60debe2c-f981-4412-f7ac-cc03fe81f71c",
        "colab": {
          "base_uri": "https://localhost:8080/",
          "height": 295
        }
      },
      "source": [
        "plt.scatter(x_train, y_train, c='red', marker='^', alpha=0.5)\n",
        "plt.scatter(x_test , y_test , c='red', marker='*', alpha=0.5)\n",
        "plt.scatter(x_train, y_predic_train_m1, c='green', marker='o', alpha=0.3)\n",
        "plt.scatter(x_test , y_predic_test_m1 , c='green', marker='o', alpha=0.3)\n",
        "plt.xlabel('Mes')\n",
        "plt.ylabel('Cantidad')\n",
        "plt.title('Bajas clientes con antiguedad entre 10 - 12 meses')\n",
        "plt.show()"
      ],
      "execution_count": 141,
      "outputs": [
        {
          "output_type": "display_data",
          "data": {
            "image/png": "[encoded data removed]",
            "text/plain": [
              "<Figure size 432x288 with 1 Axes>"
            ]
          },
          "metadata": {
            "tags": [],
            "needs_background": "light"
          }
        }
      ]
    },
    {
      "cell_type": "code",
      "metadata": {
        "id": "l13iJaGWqyZ5"
      },
      "source": [
        "#Guardamos los resultados\n",
        "concat_y4, concat_x4 = [],[]\n",
        "\n",
        "for _ in list(range(len(y_predic_valor))):\n",
        "  concat_y4.append(y_predic_train_m1[_])\n",
        "  concat_x4.append(x_train[_])\n",
        "\n",
        "for _ in list(range(len(y_predic_valor_t))):\n",
        "  concat_y4.append(y_predic_test_m1[_])\n",
        "  concat_x4.append(x_test[_])"
      ],
      "execution_count": 142,
      "outputs": []
    },
    {
      "cell_type": "code",
      "metadata": {
        "id": "GuHT2Iy3q6PO",
        "outputId": "e7b6c941-831c-4e04-b11e-d62bac7898dc",
        "colab": {
          "base_uri": "https://localhost:8080/",
          "height": 238
        }
      },
      "source": [
        "from sklearn.model_selection import train_test_split\n",
        "from sklearn.metrics import accuracy_score\n",
        "from sklearn.svm import SVR\n",
        "from sklearn.linear_model import LogisticRegression\n",
        "\n",
        "# ENTRE_1_2_ANIOS\n",
        "#entrenamos datos\n",
        "x1 = X[:,0]\n",
        "x1 = x1[:,np.newaxis]\n",
        "y1 = X[:,5]\n",
        "y1 = y1[:,np.newaxis]\n",
        "\n",
        "x_train, x_test, y_train, y_test = train_test_split(x1, y1,test_size = 0.2,\n",
        "                                        random_state = 0,\n",
        "                                        shuffle      = True\n",
        "                                    )\n",
        "\n",
        "\n",
        "#Modelo regresión Logística\n",
        "logreg= LogisticRegression()\n",
        "logreg.fit(x_train, y_train)\n",
        "y_predic_test_m1 = logreg.predict(x_test)\n",
        "y_predic_train_m1 = logreg.predict(x_train)\n",
        "print('Precisión Modelo Regresión Logística')\n",
        "print(logreg.score(x_train,y_train))"
      ],
      "execution_count": 143,
      "outputs": [
        {
          "output_type": "stream",
          "text": [
            "Precisión Modelo Regresión Logística\n",
            "0.5555555555555556\n"
          ],
          "name": "stdout"
        },
        {
          "output_type": "stream",
          "text": [
            "/usr/local/lib/python3.6/dist-packages/sklearn/utils/validation.py:760: DataConversionWarning: A column-vector y was passed when a 1d array was expected. Please change the shape of y to (n_samples, ), for example using ravel().\n",
            "  y = column_or_1d(y, warn=True)\n",
            "/usr/local/lib/python3.6/dist-packages/sklearn/linear_model/_logistic.py:940: ConvergenceWarning: lbfgs failed to converge (status=1):\n",
            "STOP: TOTAL NO. of ITERATIONS REACHED LIMIT.\n",
            "\n",
            "Increase the number of iterations (max_iter) or scale the data as shown in:\n",
            "    https://scikit-learn.org/stable/modules/preprocessing.html\n",
            "Please also refer to the documentation for alternative solver options:\n",
            "    https://scikit-learn.org/stable/modules/linear_model.html#logistic-regression\n",
            "  extra_warning_msg=_LOGISTIC_SOLVER_CONVERGENCE_MSG)\n"
          ],
          "name": "stderr"
        }
      ]
    },
    {
      "cell_type": "code",
      "metadata": {
        "id": "4X9ub-fOrEcn",
        "outputId": "3e78b88e-3ae5-474f-e252-11182f461616",
        "colab": {
          "base_uri": "https://localhost:8080/",
          "height": 370
        }
      },
      "source": [
        "print('Datos entrenamiento')\n",
        "print(y_train)\n",
        "print('Resultado predicción entrenamiento')\n",
        "print(pd.DataFrame(y_predic_train_m1))"
      ],
      "execution_count": 144,
      "outputs": [
        {
          "output_type": "stream",
          "text": [
            "Datos entrenamiento\n",
            "[[728]\n",
            " [925]\n",
            " [546]\n",
            " [672]\n",
            " [498]\n",
            " [546]\n",
            " [736]\n",
            " [484]\n",
            " [603]]\n",
            "Resultado predicción entrenamiento\n",
            "     0\n",
            "0  728\n",
            "1  728\n",
            "2  546\n",
            "3  546\n",
            "4  498\n",
            "5  546\n",
            "6  546\n",
            "7  603\n",
            "8  603\n"
          ],
          "name": "stdout"
        }
      ]
    },
    {
      "cell_type": "code",
      "metadata": {
        "id": "AGzz_Y_ErHyW",
        "outputId": "d98feb94-7006-4699-cc59-637fc297b788",
        "colab": {
          "base_uri": "https://localhost:8080/",
          "height": 295
        }
      },
      "source": [
        "plt.scatter(x_train, y_train, c='red', marker='^', alpha=0.5)\n",
        "plt.scatter(x_test , y_test , c='red', marker='*', alpha=0.5)\n",
        "plt.scatter(x_train, y_predic_train_m1, c='green', marker='o', alpha=0.3)\n",
        "plt.scatter(x_test , y_predic_test_m1 , c='green', marker='o', alpha=0.3)\n",
        "plt.xlabel('Mes')\n",
        "plt.ylabel('Cantidad')\n",
        "plt.title('Bajas clientes con antiguedad entre 1 - 2 años')\n",
        "plt.show()"
      ],
      "execution_count": 145,
      "outputs": [
        {
          "output_type": "display_data",
          "data": {
            "image/png": "[encoded data removed]",
            "text/plain": [
              "<Figure size 432x288 with 1 Axes>"
            ]
          },
          "metadata": {
            "tags": [],
            "needs_background": "light"
          }
        }
      ]
    },
    {
      "cell_type": "code",
      "metadata": {
        "id": "oeBdN-U2rORF"
      },
      "source": [
        "#Guardamos los resultados\n",
        "concat_y5, concat_x5 = [],[]\n",
        "\n",
        "for _ in list(range(len(y_predic_valor))):\n",
        "  concat_y5.append(y_predic_train_m1[_])\n",
        "  concat_x5.append(x_train[_])\n",
        "\n",
        "for _ in list(range(len(y_predic_valor_t))):\n",
        "  concat_y5.append(y_predic_test_m1[_])\n",
        "  concat_x5.append(x_test[_])"
      ],
      "execution_count": 146,
      "outputs": []
    },
    {
      "cell_type": "code",
      "metadata": {
        "id": "Em1uTOlirUkm",
        "outputId": "51d242dc-a65b-4316-f08d-716e6df5e28d",
        "colab": {
          "base_uri": "https://localhost:8080/",
          "height": 238
        }
      },
      "source": [
        "from sklearn.model_selection import train_test_split\n",
        "from sklearn.metrics import accuracy_score\n",
        "from sklearn.svm import SVR\n",
        "from sklearn.linear_model import LogisticRegression\n",
        "\n",
        "# ENTRE_3_4_ANIOS\n",
        "#entrenamos datos\n",
        "x1 = X[:,0]\n",
        "x1 = x1[:,np.newaxis]\n",
        "y1 = X[:,6]\n",
        "y1 = y1[:,np.newaxis]\n",
        "\n",
        "x_train, x_test, y_train, y_test = train_test_split(x1, y1,test_size = 0.2,\n",
        "                                        random_state = 0,\n",
        "                                        shuffle      = True\n",
        "                                    )\n",
        "\n",
        "\n",
        "#Modelo regresión Logística\n",
        "logreg= LogisticRegression()\n",
        "logreg.fit(x_train, y_train)\n",
        "y_predic_test_m1 = logreg.predict(x_test)\n",
        "y_predic_train_m1 = logreg.predict(x_train)\n",
        "print('Precisión Modelo Regresión Logística')\n",
        "print(logreg.score(x_train,y_train))"
      ],
      "execution_count": 147,
      "outputs": [
        {
          "output_type": "stream",
          "text": [
            "Precisión Modelo Regresión Logística\n",
            "0.6666666666666666\n"
          ],
          "name": "stdout"
        },
        {
          "output_type": "stream",
          "text": [
            "/usr/local/lib/python3.6/dist-packages/sklearn/utils/validation.py:760: DataConversionWarning: A column-vector y was passed when a 1d array was expected. Please change the shape of y to (n_samples, ), for example using ravel().\n",
            "  y = column_or_1d(y, warn=True)\n",
            "/usr/local/lib/python3.6/dist-packages/sklearn/linear_model/_logistic.py:940: ConvergenceWarning: lbfgs failed to converge (status=1):\n",
            "STOP: TOTAL NO. of ITERATIONS REACHED LIMIT.\n",
            "\n",
            "Increase the number of iterations (max_iter) or scale the data as shown in:\n",
            "    https://scikit-learn.org/stable/modules/preprocessing.html\n",
            "Please also refer to the documentation for alternative solver options:\n",
            "    https://scikit-learn.org/stable/modules/linear_model.html#logistic-regression\n",
            "  extra_warning_msg=_LOGISTIC_SOLVER_CONVERGENCE_MSG)\n"
          ],
          "name": "stderr"
        }
      ]
    },
    {
      "cell_type": "code",
      "metadata": {
        "id": "3-9CodCErb8Q",
        "outputId": "11228d2f-e9dd-46ab-d854-72d27bd6b814",
        "colab": {
          "base_uri": "https://localhost:8080/",
          "height": 370
        }
      },
      "source": [
        "print('Datos entrenamiento')\n",
        "print(y_train)\n",
        "print('Resultado predicción entrenamiento')\n",
        "print(pd.DataFrame(y_predic_train_m1))"
      ],
      "execution_count": 148,
      "outputs": [
        {
          "output_type": "stream",
          "text": [
            "Datos entrenamiento\n",
            "[[ 399]\n",
            " [ 511]\n",
            " [ 318]\n",
            " [ 369]\n",
            " [ 316]\n",
            " [ 314]\n",
            " [ 424]\n",
            " [ 294]\n",
            " [1470]]\n",
            "Resultado predicción entrenamiento\n",
            "      0\n",
            "0   399\n",
            "1   399\n",
            "2   318\n",
            "3   369\n",
            "4   316\n",
            "5   314\n",
            "6   511\n",
            "7  1470\n",
            "8  1470\n"
          ],
          "name": "stdout"
        }
      ]
    },
    {
      "cell_type": "code",
      "metadata": {
        "id": "XqVBVGRxrfO1",
        "outputId": "15338969-8eec-4d7b-d653-6a5f814e9c78",
        "colab": {
          "base_uri": "https://localhost:8080/",
          "height": 295
        }
      },
      "source": [
        "plt.scatter(x_train, y_train, c='red', marker='^', alpha=0.5)\n",
        "plt.scatter(x_test , y_test , c='red', marker='*', alpha=0.5)\n",
        "plt.scatter(x_train, y_predic_train_m1, c='green', marker='o', alpha=0.3)\n",
        "plt.scatter(x_test , y_predic_test_m1 , c='green', marker='o', alpha=0.3)\n",
        "plt.xlabel('Mes')\n",
        "plt.ylabel('Cantidad')\n",
        "plt.title('Bajas clientes con antiguedad entre 3 - 4 años')\n",
        "plt.show()"
      ],
      "execution_count": 149,
      "outputs": [
        {
          "output_type": "display_data",
          "data": {
            "image/png": "[encoded data removed]",
            "text/plain": [
              "<Figure size 432x288 with 1 Axes>"
            ]
          },
          "metadata": {
            "tags": [],
            "needs_background": "light"
          }
        }
      ]
    },
    {
      "cell_type": "code",
      "metadata": {
        "id": "a4Bo29Hdrjb4"
      },
      "source": [
        "#Guardamos los resultados\n",
        "concat_y6, concat_x6 = [],[]\n",
        "\n",
        "for _ in list(range(len(y_predic_valor))):\n",
        "  concat_y6.append(y_predic_train_m1[_])\n",
        "  concat_x6.append(x_train[_])\n",
        "\n",
        "for _ in list(range(len(y_predic_valor_t))):\n",
        "  concat_y6.append(y_predic_test_m1[_])\n",
        "  concat_x6.append(x_test[_])"
      ],
      "execution_count": 150,
      "outputs": []
    },
    {
      "cell_type": "code",
      "metadata": {
        "id": "bDKByPgHrqOh",
        "outputId": "345af58e-fc3d-44b9-90ac-7eb1f25f55dc",
        "colab": {
          "base_uri": "https://localhost:8080/",
          "height": 238
        }
      },
      "source": [
        "from sklearn.model_selection import train_test_split\n",
        "from sklearn.metrics import accuracy_score\n",
        "from sklearn.svm import SVR\n",
        "from sklearn.linear_model import LogisticRegression\n",
        "\n",
        "# MAS_5_ANIOS\n",
        "#entrenamos datos\n",
        "x1 = X[:,0]\n",
        "x1 = x1[:,np.newaxis]\n",
        "y1 = X[:,7]\n",
        "y1 = y1[:,np.newaxis]\n",
        "\n",
        "x_train, x_test, y_train, y_test = train_test_split(x1, y1,test_size = 0.2,\n",
        "                                        random_state = 0,\n",
        "                                        shuffle      = True\n",
        "                                    )\n",
        "\n",
        "\n",
        "#Modelo regresión Logística\n",
        "logreg= LogisticRegression()\n",
        "logreg.fit(x_train, y_train)\n",
        "y_predic_test_m1 = logreg.predict(x_test)\n",
        "y_predic_train_m1 = logreg.predict(x_train)\n",
        "print('Precisión Modelo Regresión Logística')\n",
        "print(logreg.score(x_train,y_train))"
      ],
      "execution_count": 151,
      "outputs": [
        {
          "output_type": "stream",
          "text": [
            "Precisión Modelo Regresión Logística\n",
            "0.6666666666666666\n"
          ],
          "name": "stdout"
        },
        {
          "output_type": "stream",
          "text": [
            "/usr/local/lib/python3.6/dist-packages/sklearn/utils/validation.py:760: DataConversionWarning: A column-vector y was passed when a 1d array was expected. Please change the shape of y to (n_samples, ), for example using ravel().\n",
            "  y = column_or_1d(y, warn=True)\n",
            "/usr/local/lib/python3.6/dist-packages/sklearn/linear_model/_logistic.py:940: ConvergenceWarning: lbfgs failed to converge (status=1):\n",
            "STOP: TOTAL NO. of ITERATIONS REACHED LIMIT.\n",
            "\n",
            "Increase the number of iterations (max_iter) or scale the data as shown in:\n",
            "    https://scikit-learn.org/stable/modules/preprocessing.html\n",
            "Please also refer to the documentation for alternative solver options:\n",
            "    https://scikit-learn.org/stable/modules/linear_model.html#logistic-regression\n",
            "  extra_warning_msg=_LOGISTIC_SOLVER_CONVERGENCE_MSG)\n"
          ],
          "name": "stderr"
        }
      ]
    },
    {
      "cell_type": "code",
      "metadata": {
        "id": "oICKkbp7wrPK",
        "outputId": "1163d28b-9500-46d6-ead9-94dbca0cf667",
        "colab": {
          "base_uri": "https://localhost:8080/",
          "height": 370
        }
      },
      "source": [
        "print('Datos entrenamiento')\n",
        "print(y_train)\n",
        "print('Resultado predicción entrenamiento')\n",
        "print(pd.DataFrame(y_predic_train_m1))"
      ],
      "execution_count": 152,
      "outputs": [
        {
          "output_type": "stream",
          "text": [
            "Datos entrenamiento\n",
            "[[ 19]\n",
            " [ 22]\n",
            " [ 29]\n",
            " [ 58]\n",
            " [ 10]\n",
            " [ 21]\n",
            " [ 38]\n",
            " [ 11]\n",
            " [105]]\n",
            "Resultado predicción entrenamiento\n",
            "     0\n",
            "0   19\n",
            "1   19\n",
            "2   29\n",
            "3   58\n",
            "4   10\n",
            "5   21\n",
            "6   22\n",
            "7  105\n",
            "8  105\n"
          ],
          "name": "stdout"
        }
      ]
    },
    {
      "cell_type": "code",
      "metadata": {
        "id": "7nOc3g2fwt2N",
        "outputId": "80335719-0275-4637-fa87-a83c8e07c4cb",
        "colab": {
          "base_uri": "https://localhost:8080/",
          "height": 295
        }
      },
      "source": [
        "plt.scatter(x_train, y_train, c='red', marker='^', alpha=0.5)\n",
        "plt.scatter(x_test , y_test , c='red', marker='*', alpha=0.5)\n",
        "plt.scatter(x_train, y_predic_train_m1, c='green', marker='o', alpha=0.3)\n",
        "plt.scatter(x_test , y_predic_test_m1 , c='green', marker='o', alpha=0.3)\n",
        "plt.xlabel('Mes')\n",
        "plt.ylabel('Cantidad')\n",
        "plt.title('Bajas clientes con antiguedad >= 5 años')\n",
        "plt.show()"
      ],
      "execution_count": 153,
      "outputs": [
        {
          "output_type": "display_data",
          "data": {
            "image/png": "[encoded data removed]",
            "text/plain": [
              "<Figure size 432x288 with 1 Axes>"
            ]
          },
          "metadata": {
            "tags": [],
            "needs_background": "light"
          }
        }
      ]
    },
    {
      "cell_type": "code",
      "metadata": {
        "id": "SmGrPMaBw5gD"
      },
      "source": [
        "#Guardamos los resultados\n",
        "concat_y7, concat_x7 = [],[]\n",
        "\n",
        "for _ in list(range(len(y_predic_valor))):\n",
        "  concat_y7.append(y_predic_train_m1[_])\n",
        "  concat_x7.append(x_train[_])\n",
        "\n",
        "for _ in list(range(len(y_predic_valor_t))):\n",
        "  concat_y7.append(y_predic_test_m1[_])\n",
        "  concat_x7.append(x_test[_])"
      ],
      "execution_count": 154,
      "outputs": []
    }
  ]
}