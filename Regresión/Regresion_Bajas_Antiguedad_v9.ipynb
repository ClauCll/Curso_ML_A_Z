{
  "nbformat": 4,
  "nbformat_minor": 0,
  "metadata": {
    "colab": {
      "name": "Untitled1.ipynb",
      "provenance": [],
      "include_colab_link": true
    },
    "kernelspec": {
      "name": "python3",
      "display_name": "Python 3"
    }
  },
  "cells": [
    {
      "cell_type": "markdown",
      "metadata": {
        "id": "view-in-github",
        "colab_type": "text"
      },
      "source": [
        "<a href=\"https://colab.research.google.com/github/ClauCll/Curso_ML_A_Z/blob/master/Regresi%C3%B3n/Regresion_Bajas_Antiguedad_v9.ipynb\" target=\"_parent\"><img src=\"https://colab.research.google.com/assets/colab-badge.svg\" alt=\"Open In Colab\"/></a>"
      ]
    },
    {
      "cell_type": "markdown",
      "metadata": {
        "id": "-J3qDXeFwvSb"
      },
      "source": [
        "## Cuantas serán las bajas voluntarias de los clientes fijos para un periodo x. (Agosto - Diciembre 2020)\n",
        " "
      ]
    },
    {
      "cell_type": "code",
      "metadata": {
        "id": "Vsqlhqgww1BG"
      },
      "source": [
        "import pandas as pd\n",
        "import numpy as np\n",
        "\n",
        "#Gráfico\n",
        "from mpl_toolkits.mplot3d import axes3d\n",
        "import matplotlib.pyplot as plt \n",
        "from matplotlib import style\n",
        "import matplotlib.ticker as ticker\n",
        "import seaborn as sns\n",
        "\n",
        "import gspread\n",
        "from oauth2client.client import GoogleCredentials \n",
        "from google.colab import auth\n",
        "# Autoriza Claudia\n",
        "auth.authenticate_user()\n",
        "gc = gspread.authorize (GoogleCredentials.get_application_default())"
      ],
      "execution_count": 1,
      "outputs": []
    },
    {
      "cell_type": "markdown",
      "metadata": {
        "id": "2xAoqlB_02Do"
      },
      "source": [
        "### leemos datos"
      ]
    },
    {
      "cell_type": "code",
      "metadata": {
        "id": "y_VVpj56uzRV",
        "colab": {
          "base_uri": "https://localhost:8080/"
        },
        "outputId": "72480697-944a-4a11-cfe7-cae2a820ec21"
      },
      "source": [
        "from google.colab import drive\n",
        "drive.mount('/content/drive')"
      ],
      "execution_count": 2,
      "outputs": [
        {
          "output_type": "stream",
          "text": [
            "Mounted at /content/drive\n"
          ],
          "name": "stdout"
        }
      ]
    },
    {
      "cell_type": "code",
      "metadata": {
        "id": "0JYqth2Ty8-k",
        "colab": {
          "base_uri": "https://localhost:8080/"
        },
        "outputId": "6f8153bf-72c9-47fe-ce3a-53e6a9020e71"
      },
      "source": [
        "data = pd.read_csv('/content/drive/My Drive/Dataset/M_BAJAS.txt',delimiter='~')\n",
        "data.Fecha = pd.to_datetime(data.FECHA_BAJA)"
      ],
      "execution_count": 3,
      "outputs": [
        {
          "output_type": "stream",
          "text": [
            "/usr/local/lib/python3.6/dist-packages/ipykernel_launcher.py:2: UserWarning: Pandas doesn't allow columns to be created via a new attribute name - see https://pandas.pydata.org/pandas-docs/stable/indexing.html#attribute-access\n",
            "  \n"
          ],
          "name": "stderr"
        }
      ]
    },
    {
      "cell_type": "code",
      "metadata": {
        "id": "RbQx30WIGlcX",
        "colab": {
          "base_uri": "https://localhost:8080/",
          "height": 204
        },
        "outputId": "cdb2f745-f23a-4732-a97a-452d7473ec03"
      },
      "source": [
        "data.head(5)"
      ],
      "execution_count": 4,
      "outputs": [
        {
          "output_type": "execute_result",
          "data": {
            "text/html": [
              "<div>\n",
              "<style scoped>\n",
              "    .dataframe tbody tr th:only-of-type {\n",
              "        vertical-align: middle;\n",
              "    }\n",
              "\n",
              "    .dataframe tbody tr th {\n",
              "        vertical-align: top;\n",
              "    }\n",
              "\n",
              "    .dataframe thead th {\n",
              "        text-align: right;\n",
              "    }\n",
              "</style>\n",
              "<table border=\"1\" class=\"dataframe\">\n",
              "  <thead>\n",
              "    <tr style=\"text-align: right;\">\n",
              "      <th></th>\n",
              "      <th>ANIO_BAJA</th>\n",
              "      <th>MES_BAJA</th>\n",
              "      <th>FECHA_BAJA</th>\n",
              "      <th>ANTIGUEDAD</th>\n",
              "      <th>CANT</th>\n",
              "    </tr>\n",
              "  </thead>\n",
              "  <tbody>\n",
              "    <tr>\n",
              "      <th>0</th>\n",
              "      <td>2019</td>\n",
              "      <td>11</td>\n",
              "      <td>01/11/2019</td>\n",
              "      <td>1068</td>\n",
              "      <td>3</td>\n",
              "    </tr>\n",
              "    <tr>\n",
              "      <th>1</th>\n",
              "      <td>2020</td>\n",
              "      <td>4</td>\n",
              "      <td>01/04/2020</td>\n",
              "      <td>860</td>\n",
              "      <td>1</td>\n",
              "    </tr>\n",
              "    <tr>\n",
              "      <th>2</th>\n",
              "      <td>2019</td>\n",
              "      <td>11</td>\n",
              "      <td>05/11/2019</td>\n",
              "      <td>1673</td>\n",
              "      <td>1</td>\n",
              "    </tr>\n",
              "    <tr>\n",
              "      <th>3</th>\n",
              "      <td>2020</td>\n",
              "      <td>2</td>\n",
              "      <td>01/02/2020</td>\n",
              "      <td>1419</td>\n",
              "      <td>1</td>\n",
              "    </tr>\n",
              "    <tr>\n",
              "      <th>4</th>\n",
              "      <td>2019</td>\n",
              "      <td>8</td>\n",
              "      <td>01/08/2019</td>\n",
              "      <td>782</td>\n",
              "      <td>1</td>\n",
              "    </tr>\n",
              "  </tbody>\n",
              "</table>\n",
              "</div>"
            ],
            "text/plain": [
              "   ANIO_BAJA  MES_BAJA  FECHA_BAJA  ANTIGUEDAD  CANT\n",
              "0       2019        11  01/11/2019        1068     3\n",
              "1       2020         4  01/04/2020         860     1\n",
              "2       2019        11  05/11/2019        1673     1\n",
              "3       2020         2  01/02/2020        1419     1\n",
              "4       2019         8  01/08/2019         782     1"
            ]
          },
          "metadata": {
            "tags": []
          },
          "execution_count": 4
        }
      ]
    },
    {
      "cell_type": "code",
      "metadata": {
        "id": "x5gI0SJbW5W6"
      },
      "source": [
        "encabezados= ['Año','Mes','Fecha','Antiguedad','Cant_Bajas']\n",
        "data.columns=encabezados"
      ],
      "execution_count": 5,
      "outputs": []
    },
    {
      "cell_type": "code",
      "metadata": {
        "id": "lB5IaAuJXHsS",
        "colab": {
          "base_uri": "https://localhost:8080/",
          "height": 204
        },
        "outputId": "2abc84a9-44cb-4a24-bfe0-1ce779a8eed0"
      },
      "source": [
        "data.head(5)"
      ],
      "execution_count": 6,
      "outputs": [
        {
          "output_type": "execute_result",
          "data": {
            "text/html": [
              "<div>\n",
              "<style scoped>\n",
              "    .dataframe tbody tr th:only-of-type {\n",
              "        vertical-align: middle;\n",
              "    }\n",
              "\n",
              "    .dataframe tbody tr th {\n",
              "        vertical-align: top;\n",
              "    }\n",
              "\n",
              "    .dataframe thead th {\n",
              "        text-align: right;\n",
              "    }\n",
              "</style>\n",
              "<table border=\"1\" class=\"dataframe\">\n",
              "  <thead>\n",
              "    <tr style=\"text-align: right;\">\n",
              "      <th></th>\n",
              "      <th>Año</th>\n",
              "      <th>Mes</th>\n",
              "      <th>Fecha</th>\n",
              "      <th>Antiguedad</th>\n",
              "      <th>Cant_Bajas</th>\n",
              "    </tr>\n",
              "  </thead>\n",
              "  <tbody>\n",
              "    <tr>\n",
              "      <th>0</th>\n",
              "      <td>2019</td>\n",
              "      <td>11</td>\n",
              "      <td>01/11/2019</td>\n",
              "      <td>1068</td>\n",
              "      <td>3</td>\n",
              "    </tr>\n",
              "    <tr>\n",
              "      <th>1</th>\n",
              "      <td>2020</td>\n",
              "      <td>4</td>\n",
              "      <td>01/04/2020</td>\n",
              "      <td>860</td>\n",
              "      <td>1</td>\n",
              "    </tr>\n",
              "    <tr>\n",
              "      <th>2</th>\n",
              "      <td>2019</td>\n",
              "      <td>11</td>\n",
              "      <td>05/11/2019</td>\n",
              "      <td>1673</td>\n",
              "      <td>1</td>\n",
              "    </tr>\n",
              "    <tr>\n",
              "      <th>3</th>\n",
              "      <td>2020</td>\n",
              "      <td>2</td>\n",
              "      <td>01/02/2020</td>\n",
              "      <td>1419</td>\n",
              "      <td>1</td>\n",
              "    </tr>\n",
              "    <tr>\n",
              "      <th>4</th>\n",
              "      <td>2019</td>\n",
              "      <td>8</td>\n",
              "      <td>01/08/2019</td>\n",
              "      <td>782</td>\n",
              "      <td>1</td>\n",
              "    </tr>\n",
              "  </tbody>\n",
              "</table>\n",
              "</div>"
            ],
            "text/plain": [
              "    Año  Mes       Fecha  Antiguedad  Cant_Bajas\n",
              "0  2019   11  01/11/2019        1068           3\n",
              "1  2020    4  01/04/2020         860           1\n",
              "2  2019   11  05/11/2019        1673           1\n",
              "3  2020    2  01/02/2020        1419           1\n",
              "4  2019    8  01/08/2019         782           1"
            ]
          },
          "metadata": {
            "tags": []
          },
          "execution_count": 6
        }
      ]
    },
    {
      "cell_type": "code",
      "metadata": {
        "id": "MND5wUGBWhcM"
      },
      "source": [
        " #validamos datos faltantes\n",
        " print(pd.isnull(data).sum())"
      ],
      "execution_count": null,
      "outputs": []
    },
    {
      "cell_type": "code",
      "metadata": {
        "id": "S5N5IgkXbwjx"
      },
      "source": [
        "data.describe(include='all')"
      ],
      "execution_count": null,
      "outputs": []
    },
    {
      "cell_type": "code",
      "metadata": {
        "id": "lK3hH5q9eBqY"
      },
      "source": [
        "data.info "
      ],
      "execution_count": null,
      "outputs": []
    },
    {
      "cell_type": "code",
      "metadata": {
        "id": "m-qkKEZo3o6b"
      },
      "source": [
        "#Agrupamos la columna antiguedad\n",
        "#1 : 1 TRIMESTRE (0-93 DIAS)\n",
        "#2 : 2 TRIMESTRE (94-186 DIAS)\n",
        "#3 : 3 TRIMESTRE (187-279 DIAS)\n",
        "#4 : 4 TRIMESTRE (280-370 DIAS)\n",
        "#5 : A 2 AÑOS (371-725 DIAS) \n",
        "#6 : A 3 AÑOS (726-1095 DIAS)\n",
        "#7 : 4 años en adelante (Máximo DIAS 7276) \n",
        "bins=[-1,93,186,279,370,725,1095,7276]\n",
        "names=['1','2','3','4','5','6','7']\n",
        "data['Antiguedad'] = pd.cut(data['Antiguedad'],bins,labels=names)"
      ],
      "execution_count": 7,
      "outputs": []
    },
    {
      "cell_type": "code",
      "metadata": {
        "id": "t_YnKeJCPmXl"
      },
      "source": [
        "#validamos datos sin clasificar\n",
        "data[pd.isnull(data.Antiguedad)]"
      ],
      "execution_count": null,
      "outputs": []
    },
    {
      "cell_type": "code",
      "metadata": {
        "id": "T8h3TtquOWsY"
      },
      "source": [
        "#pasamos datos a clasificados a entero\n",
        "data['Antiguedad'] = data['Antiguedad'].astype('int64')"
      ],
      "execution_count": 9,
      "outputs": []
    },
    {
      "cell_type": "code",
      "metadata": {
        "id": "GWnAOMUBv4Ph"
      },
      "source": [
        "data.dtypes"
      ],
      "execution_count": null,
      "outputs": []
    },
    {
      "cell_type": "code",
      "metadata": {
        "id": "DN0uT17ujuNd"
      },
      "source": [
        " #validamos datos faltantes\n",
        " print(pd.isnull(data).sum())"
      ],
      "execution_count": null,
      "outputs": []
    },
    {
      "cell_type": "code",
      "metadata": {
        "id": "74Ihp7XaMISv"
      },
      "source": [
        "grupo = data.groupby(by = ['Año','Mes','Antiguedad']).sum()\n",
        "grupo= pd.DataFrame(grupo).reset_index()"
      ],
      "execution_count": 10,
      "outputs": []
    },
    {
      "cell_type": "code",
      "metadata": {
        "id": "z8BJoYLEN3I5",
        "colab": {
          "base_uri": "https://localhost:8080/",
          "height": 204
        },
        "outputId": "c84eaf08-ee6e-48c3-e366-e8860d81c15f"
      },
      "source": [
        "grupo.head(5)"
      ],
      "execution_count": 11,
      "outputs": [
        {
          "output_type": "execute_result",
          "data": {
            "text/html": [
              "<div>\n",
              "<style scoped>\n",
              "    .dataframe tbody tr th:only-of-type {\n",
              "        vertical-align: middle;\n",
              "    }\n",
              "\n",
              "    .dataframe tbody tr th {\n",
              "        vertical-align: top;\n",
              "    }\n",
              "\n",
              "    .dataframe thead th {\n",
              "        text-align: right;\n",
              "    }\n",
              "</style>\n",
              "<table border=\"1\" class=\"dataframe\">\n",
              "  <thead>\n",
              "    <tr style=\"text-align: right;\">\n",
              "      <th></th>\n",
              "      <th>Año</th>\n",
              "      <th>Mes</th>\n",
              "      <th>Antiguedad</th>\n",
              "      <th>Cant_Bajas</th>\n",
              "    </tr>\n",
              "  </thead>\n",
              "  <tbody>\n",
              "    <tr>\n",
              "      <th>0</th>\n",
              "      <td>2019</td>\n",
              "      <td>1</td>\n",
              "      <td>1</td>\n",
              "      <td>29</td>\n",
              "    </tr>\n",
              "    <tr>\n",
              "      <th>1</th>\n",
              "      <td>2019</td>\n",
              "      <td>1</td>\n",
              "      <td>2</td>\n",
              "      <td>28</td>\n",
              "    </tr>\n",
              "    <tr>\n",
              "      <th>2</th>\n",
              "      <td>2019</td>\n",
              "      <td>1</td>\n",
              "      <td>3</td>\n",
              "      <td>35</td>\n",
              "    </tr>\n",
              "    <tr>\n",
              "      <th>3</th>\n",
              "      <td>2019</td>\n",
              "      <td>1</td>\n",
              "      <td>4</td>\n",
              "      <td>125</td>\n",
              "    </tr>\n",
              "    <tr>\n",
              "      <th>4</th>\n",
              "      <td>2019</td>\n",
              "      <td>1</td>\n",
              "      <td>5</td>\n",
              "      <td>587</td>\n",
              "    </tr>\n",
              "  </tbody>\n",
              "</table>\n",
              "</div>"
            ],
            "text/plain": [
              "    Año  Mes  Antiguedad  Cant_Bajas\n",
              "0  2019    1           1          29\n",
              "1  2019    1           2          28\n",
              "2  2019    1           3          35\n",
              "3  2019    1           4         125\n",
              "4  2019    1           5         587"
            ]
          },
          "metadata": {
            "tags": []
          },
          "execution_count": 11
        }
      ]
    },
    {
      "cell_type": "code",
      "metadata": {
        "id": "8oP46fCvdWkB"
      },
      "source": [
        " #validamos datos faltantes\n",
        " print(pd.isnull(grupo).sum())"
      ],
      "execution_count": null,
      "outputs": []
    },
    {
      "cell_type": "code",
      "metadata": {
        "id": "yh8BKX9FeFxK"
      },
      "source": [
        "#grupo.dropna(subset = ['Cant_Bajas'] , axis=0, inplace=True)"
      ],
      "execution_count": null,
      "outputs": []
    },
    {
      "cell_type": "code",
      "metadata": {
        "id": "WLKCRVJ2MmrV"
      },
      "source": [
        "x= grupo.iloc[:,:-1].values\n",
        "x=np.array(x)\n",
        "y= grupo.iloc[:,3].values\n",
        "y = y[:,np.newaxis]"
      ],
      "execution_count": 13,
      "outputs": []
    },
    {
      "cell_type": "code",
      "metadata": {
        "id": "19Ctqj3hMOGB"
      },
      "source": [
        "from sklearn.model_selection import train_test_split\n",
        "x_train, x_test, y_train, y_test = train_test_split(x,y,test_size=0.2, random_state=30)"
      ],
      "execution_count": 24,
      "outputs": []
    },
    {
      "cell_type": "code",
      "metadata": {
        "id": "IHam3VSCVqOA",
        "colab": {
          "base_uri": "https://localhost:8080/"
        },
        "outputId": "bac2ec06-ceb2-4eb4-cae6-6a5ef44be3e1"
      },
      "source": [
        "from sklearn.preprocessing import PolynomialFeatures\n",
        "poly_reg = PolynomialFeatures(degree = 3)\n",
        "x_poly_train = poly_reg.fit_transform(x_train)\n",
        "x_poly_test = poly_reg.fit_transform(x_test)\n",
        "\n",
        "from sklearn.linear_model import LinearRegression\n",
        "lineal_poly = LinearRegression()\n",
        "lineal_poly.fit(x_poly_train,y_train)\n",
        "\n",
        "print(\"precisión del modelo regresión polinomial\")\n",
        "print(lineal_poly.score(x_poly_train,y_train))"
      ],
      "execution_count": 25,
      "outputs": [
        {
          "output_type": "stream",
          "text": [
            "precisión del modelo regresión polinomial\n",
            "0.7097360023202347\n"
          ],
          "name": "stdout"
        }
      ]
    },
    {
      "cell_type": "code",
      "metadata": {
        "id": "Y8e8nJB9wEnL"
      },
      "source": [
        "y_predic_train = lineal_poly.predict(x_poly_train)\n",
        "y_predic_test = lineal_poly.predict(x_poly_test)"
      ],
      "execution_count": 26,
      "outputs": []
    },
    {
      "cell_type": "code",
      "metadata": {
        "id": "_E-5sbVoWAbV"
      },
      "source": [
        "pd.DataFrame(x_train)"
      ],
      "execution_count": null,
      "outputs": []
    },
    {
      "cell_type": "code",
      "metadata": {
        "id": "qT4vZSmWVygB"
      },
      "source": [
        "cont_reg=0\n",
        "año=2019\n",
        "acum1=0\n",
        "acum2=0\n",
        "acum3=0\n",
        "acum4=0\n",
        "acum5=0\n",
        "acum6=0\n",
        "acum7=0\n",
        "acum8=0\n",
        "acum9=0\n",
        "acum10=0\n",
        "acum11=0\n",
        "acum12=0\n",
        "acump1=0\n",
        "acump2=0\n",
        "acump3=0\n",
        "acump4=0\n",
        "acump5=0\n",
        "acump6=0\n",
        "acump7=0\n",
        "acump8=0\n",
        "acump9=0\n",
        "acump10=0\n",
        "acump11=0\n",
        "acump12=0\n",
        "for _ in x_train[:,1]:\n",
        "  if x_train[cont_reg,0] == año:\n",
        "    if x_train[cont_reg,1]== 1:\n",
        "      acum1=acum1+ y_train[cont_reg]\n",
        "      acump1=acump1+ y_predic_train[cont_reg]\n",
        "    else:\n",
        "      if x_train[cont_reg,1]== 2:\n",
        "        acum2=acum2+ y_train[cont_reg]\n",
        "        acump2=acump2+ y_predic_train[cont_reg]      \n",
        "      else:\n",
        "        if x_train[cont_reg,1]== 3:\n",
        "          acum3=acum3+ y_train[cont_reg]\n",
        "          acump3=acump3+ y_predic_train[cont_reg]     \n",
        "        else:\n",
        "          if x_train[cont_reg,1]== 4:\n",
        "            acum4=acum4+ y_train[cont_reg]\n",
        "            acump4=acump4+ y_predic_train[cont_reg]      \n",
        "          else:\n",
        "            if x_train[cont_reg,1]== 5:\n",
        "              acum5=acum5+ y_train[cont_reg]\n",
        "              acump5=acump5+ y_predic_train[cont_reg]      \n",
        "            else:\n",
        "              if x_train[cont_reg,1]== 6:\n",
        "                acum6=acum6+ y_train[cont_reg]\n",
        "                acump6=acump6+ y_predic_train[cont_reg]      \n",
        "              else:\n",
        "                if x_train[cont_reg,1]== 7:\n",
        "                  acum7=acum7+ y_train[cont_reg]\n",
        "                  acump7=acump7+y_predic_train[cont_reg]      \n",
        "                else:\n",
        "                  if x_train[cont_reg,1]== 8:\n",
        "                    acum8=acum8+ y_train[cont_reg]\n",
        "                    acump8=acump8+ y_predic_train[cont_reg]     \n",
        "                  else:\n",
        "                    if x_train[cont_reg,1]== 9:\n",
        "                      acum9=acum9+ y_train[cont_reg]\n",
        "                      acump9=acump9+ y_predic_train[cont_reg]      \n",
        "                    else:\n",
        "                      if x_train[cont_reg,1]== 10:\n",
        "                        acum10=acum10+ y_train[cont_reg]\n",
        "                        acump10=acump10+ y_predic_train[cont_reg]    \n",
        "                      else:\n",
        "                        if x_train[cont_reg,1]== 11:\n",
        "                          acum11=acum11+ y_train[cont_reg]\n",
        "                          acump11=acump11+ y_predic_train[cont_reg]    \n",
        "                        else:\n",
        "                          if x_train[cont_reg,1]== 12:\n",
        "                            acum12=acum12+ y_train[cont_reg]     \n",
        "                            acump12=acump12+ y_predic_train[cont_reg]       \n",
        "  else:\n",
        "      pass\n",
        "  cont_reg=cont_reg+1\n",
        "x_g, y_g, y_g_p = [],[],[]\n",
        "for _ in range(1,13):\n",
        "  x_g.append(_)\n",
        "  if _ == 1:\n",
        "    y_g.append(acum1)\n",
        "    y_g_p.append(acump1)  \n",
        "  if _== 2:\n",
        "    y_g.append(acum2)\n",
        "    y_g_p.append(acump2)\n",
        "  if _== 3:\n",
        "    y_g.append(acum3)\n",
        "    y_g_p.append(acump3)\n",
        "  if _ == 4:\n",
        "    y_g.append(acum4)\n",
        "    y_g_p.append(acump4)\n",
        "  if _== 5:\n",
        "    y_g.append(acum5)\n",
        "    y_g_p.append(acump5)\n",
        "  if _== 6:\n",
        "    y_g.append(acum6)\n",
        "    y_g_p.append(acump6)\n",
        "  if _ ==7:\n",
        "    y_g.append(acum7)\n",
        "    y_g_p.append(acump7)\n",
        "  if _== 8:\n",
        "    y_g.append(acum8)\n",
        "    y_g_p.append(acump8)\n",
        "  if _== 9:\n",
        "    y_g.append(acum9)\n",
        "    y_g_p.append(acump9)\n",
        "  if _== 10:\n",
        "    y_g.append(acum10)\n",
        "    y_g_p.append(acump10)\n",
        "  if _== 11:\n",
        "    y_g.append(acum11)\n",
        "    y_g_p.append(acump11)\n",
        "  if _== 12:\n",
        "    y_g.append(acum12) \n",
        "    y_g_p.append(acump12)\n",
        "  "
      ],
      "execution_count": 28,
      "outputs": []
    },
    {
      "cell_type": "code",
      "metadata": {
        "id": "SacM1SUXwoMA",
        "colab": {
          "base_uri": "https://localhost:8080/",
          "height": 295
        },
        "outputId": "d1d01829-b6af-4b16-90b5-a5b6a65a99df"
      },
      "source": [
        "#Gráfica\n",
        "fig, ax = plt.subplots()\n",
        "for ciclo in list(range (año,año+1)):   \n",
        "  if ciclo == año:      \n",
        "    marca =\"^\"\n",
        "  else:\n",
        "    print ('cero')\n",
        "    marca =\"o\"\n",
        "  ax.scatter(\n",
        "    x_g[:],    \n",
        "    y_g[:],\n",
        "    c=\"Blue\",\n",
        "    marker = marca,\n",
        "    label = ciclo,\n",
        "    alpha=0.5)\n",
        "  ax.plot(\n",
        "    x_g[:],    \n",
        "    y_g_p[:],\n",
        "    c=\"Red\",\n",
        "    marker = marca,\n",
        "    label = ciclo,\n",
        "    alpha=0.5)\n",
        "#plt.legend()\n",
        "plt.title(\"Bajas FTTH Voluntario - Datos de entrenamiento\")\n",
        "plt.xlabel (\"Mes\")\n",
        "plt.ylabel (\"Cantidad\" )\n",
        "plt.show()"
      ],
      "execution_count": 29,
      "outputs": [
        {
          "output_type": "display_data",
          "data": {
            "image/png": "[encoded data removed]",
            "text/plain": [
              "<Figure size 432x288 with 1 Axes>"
            ]
          },
          "metadata": {
            "tags": [],
            "needs_background": "light"
          }
        }
      ]
    },
    {
      "cell_type": "code",
      "metadata": {
        "id": "kq3ISRqMrOFQ"
      },
      "source": [
        "cont_reg=0\n",
        "año=2019\n",
        "acum1=0\n",
        "acum2=0\n",
        "acum3=0\n",
        "acum4=0\n",
        "acum5=0\n",
        "acum6=0\n",
        "acum7=0\n",
        "acum8=0\n",
        "acum9=0\n",
        "acum10=0\n",
        "acum11=0\n",
        "acum12=0\n",
        "acump1=0\n",
        "acump2=0\n",
        "acump3=0\n",
        "acump4=0\n",
        "acump5=0\n",
        "acump6=0\n",
        "acump7=0\n",
        "acump8=0\n",
        "acump9=0\n",
        "acump10=0\n",
        "acump11=0\n",
        "acump12=0\n",
        "for _ in x_test[:,1]:\n",
        "  if x_test[cont_reg,0] == año:\n",
        "    if x_test[cont_reg,1]== 1:\n",
        "      acum1=acum1+ y_test[cont_reg]\n",
        "      acump1=acump1+ y_predic_test[cont_reg]      \n",
        "    else:\n",
        "      if x_test[cont_reg,1]== 2:\n",
        "        acum2=acum2+ y_test[cont_reg]\n",
        "        acump2=acump2+ y_predic_test[cont_reg]       \n",
        "      else:\n",
        "        if x_test[cont_reg,1]== 3:\n",
        "          acum3=acum3+ y_test[cont_reg]\n",
        "          acump3=acump3+ y_predic_test[cont_reg]      \n",
        "        else:\n",
        "          if x_test[cont_reg,1]== 4:\n",
        "            acum4=acum4+ y_test[cont_reg]\n",
        "            acump4=acump4+ y_predic_test[cont_reg]      \n",
        "          else:\n",
        "            if x_test[cont_reg,1]== 5:\n",
        "              acum5=acum5+ y_test[cont_reg]\n",
        "              acump5=acump5+ y_predic_test[cont_reg]       \n",
        "            else:\n",
        "              if x_test[cont_reg,1]== 6:\n",
        "                acum6=acum6+ y_test[cont_reg]\n",
        "                acump6=acump6+ y_predic_test[cont_reg]       \n",
        "              else:\n",
        "                if x_test[cont_reg,1]== 7:\n",
        "                  acum7=acum7+ y_test[cont_reg]\n",
        "                  acump7=acump7+ y_predic_test[cont_reg]       \n",
        "                else:\n",
        "                  if x_test[cont_reg,1]== 8:\n",
        "                    acum8=acum8+ y_test[cont_reg]\n",
        "                    acump8=acump8+ y_predic_test[cont_reg]       \n",
        "                  else:\n",
        "                    if x_test[cont_reg,1]== 9:\n",
        "                      acum9=acum9+ y_test[cont_reg]\n",
        "                      acump9=acump9+ y_predic_test[cont_reg]      \n",
        "                    else:\n",
        "                      if x_test[cont_reg,1]== 10:\n",
        "                        acum10=acum10+ y_test[cont_reg]\n",
        "                        acump10=acump10+ y_predic_test[cont_reg]       \n",
        "                      else:\n",
        "                        if x_test[cont_reg,1]== 11:\n",
        "                          acum11=acum11+ y_test[cont_reg]\n",
        "                          acump11=acump11+ y_predic_test[cont_reg]       \n",
        "                        else:\n",
        "                          if x_test[cont_reg,1]== 12:\n",
        "                            acum12=acum12+ y_test[cont_reg]     \n",
        "                            acump12=acump12+ y_predic_test[cont_reg]        \n",
        "  else:\n",
        "      pass\n",
        "  cont_reg=cont_reg+1\n",
        "x_g_t, y_g_t, y_g_p_t = [],[],[]\n",
        "for _ in range(1,13):\n",
        "  x_g_t.append(_)   \n",
        "  if _ == 1:\n",
        "    y_g_t.append(acum1)\n",
        "    y_g_p_t.append(acump1)    \n",
        "  if _== 2:\n",
        "    y_g_t.append(acum2)\n",
        "    y_g_p_t.append(acump2)\n",
        "  if _== 3:\n",
        "    y_g_t.append(acum3)\n",
        "    y_g_p_t.append(acump3)\n",
        "  if _ == 4:\n",
        "    y_g_t.append(acum4)\n",
        "    y_g_p_t.append(acump4)\n",
        "  if _== 5:\n",
        "    y_g_t.append(acum5)\n",
        "    y_g_p_t.append(acump5)\n",
        "  if _== 6:\n",
        "    y_g_t.append(acum6)\n",
        "    y_g_p_t.append(acump6)\n",
        "  if _ ==7:\n",
        "    y_g_t.append(acum7)\n",
        "    y_g_p_t.append(acump7)\n",
        "  if _== 8:\n",
        "    y_g_t.append(acum8)\n",
        "    y_g_p_t.append(acump8)\n",
        "  if _== 9:\n",
        "    y_g_t.append(acum9)\n",
        "    y_g_p_t.append(acump9)\n",
        "  if _== 10:\n",
        "    y_g_t.append(acum10)\n",
        "    y_g_p_t.append(acump10)\n",
        "  if _== 11:\n",
        "    y_g_t.append(acum11)\n",
        "    y_g_p_t.append(acump11)\n",
        "  if _== 12:\n",
        "    y_g_t.append(acum12) \n",
        "    y_g_p_t.append(acump12)\n",
        "  "
      ],
      "execution_count": 30,
      "outputs": []
    },
    {
      "cell_type": "code",
      "metadata": {
        "id": "hXzIBtJzry2W",
        "colab": {
          "base_uri": "https://localhost:8080/",
          "height": 295
        },
        "outputId": "222afed5-552a-4ba0-a8a1-9dcdb0fc9476"
      },
      "source": [
        "#Gráfica datos test\n",
        "fig, ax = plt.subplots()\n",
        "for ciclo in list(range (año,año+1)):   \n",
        "  if ciclo == año:      \n",
        "    marca =\"^\"\n",
        "  else:\n",
        "    print ('cero')\n",
        "    marca =\"o\"\n",
        "  ax.scatter(\n",
        "    x_g_t[:],    \n",
        "    y_g_t[:],\n",
        "    c=\"Blue\",\n",
        "    marker = marca,\n",
        "    label = ciclo,\n",
        "    alpha=0.5)\n",
        "  ax.plot(\n",
        "    x_g_t[:],    \n",
        "    y_g_p_t[:],\n",
        "    c=\"Red\",\n",
        "    marker = marca,\n",
        "    label = ciclo,\n",
        "    alpha=0.5)\n",
        "#plt.legend()\n",
        "plt.title(\"Bajas FTTH Voluntario - Datos de test\")\n",
        "plt.xlabel (\"Mes\")\n",
        "plt.ylabel (\"Cantidad\" )\n",
        "plt.show()"
      ],
      "execution_count": 31,
      "outputs": [
        {
          "output_type": "display_data",
          "data": {
            "image/png": "[encoded data removed]",
            "text/plain": [
              "<Figure size 432x288 with 1 Axes>"
            ]
          },
          "metadata": {
            "tags": [],
            "needs_background": "light"
          }
        }
      ]
    },
    {
      "cell_type": "code",
      "metadata": {
        "id": "6p6NiWKGEgIc"
      },
      "source": [
        "#Datos a predecir\n",
        "c_anio = [\"2020\"] * 35\n",
        "c_mes = [\"8\"] * 7 + [\"9\"] * 7 + [\"10\"] * 7 + [\"11\"] * 7 + [\"12\"] * 7\n",
        "c_antiguedad = [1,2,3,4,5,6,7] + [1,2,3,4,5,6,7] +[1,2,3,4,5,6,7] +[1,2,3,4,5,6,7] +[1,2,3,4,5,6,7]  \n",
        "df2 = pd.DataFrame({\"Año\": c_anio, \"Mes\": c_mes, \"Antiguedad\": c_antiguedad})"
      ],
      "execution_count": null,
      "outputs": []
    },
    {
      "cell_type": "code",
      "metadata": {
        "id": "AvIz4cZg0tjk",
        "colab": {
          "base_uri": "https://localhost:8080/",
          "height": 204
        },
        "outputId": "3cd041fc-2f3b-4176-fef9-3bb2acb7f8e1"
      },
      "source": [
        "df2.head(5)"
      ],
      "execution_count": null,
      "outputs": [
        {
          "output_type": "execute_result",
          "data": {
            "text/html": [
              "<div>\n",
              "<style scoped>\n",
              "    .dataframe tbody tr th:only-of-type {\n",
              "        vertical-align: middle;\n",
              "    }\n",
              "\n",
              "    .dataframe tbody tr th {\n",
              "        vertical-align: top;\n",
              "    }\n",
              "\n",
              "    .dataframe thead th {\n",
              "        text-align: right;\n",
              "    }\n",
              "</style>\n",
              "<table border=\"1\" class=\"dataframe\">\n",
              "  <thead>\n",
              "    <tr style=\"text-align: right;\">\n",
              "      <th></th>\n",
              "      <th>Año</th>\n",
              "      <th>Mes</th>\n",
              "      <th>Antiguedad</th>\n",
              "    </tr>\n",
              "  </thead>\n",
              "  <tbody>\n",
              "    <tr>\n",
              "      <th>0</th>\n",
              "      <td>2020</td>\n",
              "      <td>8</td>\n",
              "      <td>1</td>\n",
              "    </tr>\n",
              "    <tr>\n",
              "      <th>1</th>\n",
              "      <td>2020</td>\n",
              "      <td>8</td>\n",
              "      <td>2</td>\n",
              "    </tr>\n",
              "    <tr>\n",
              "      <th>2</th>\n",
              "      <td>2020</td>\n",
              "      <td>8</td>\n",
              "      <td>3</td>\n",
              "    </tr>\n",
              "    <tr>\n",
              "      <th>3</th>\n",
              "      <td>2020</td>\n",
              "      <td>8</td>\n",
              "      <td>4</td>\n",
              "    </tr>\n",
              "    <tr>\n",
              "      <th>4</th>\n",
              "      <td>2020</td>\n",
              "      <td>8</td>\n",
              "      <td>5</td>\n",
              "    </tr>\n",
              "  </tbody>\n",
              "</table>\n",
              "</div>"
            ],
            "text/plain": [
              "    Año Mes  Antiguedad\n",
              "0  2020   8           1\n",
              "1  2020   8           2\n",
              "2  2020   8           3\n",
              "3  2020   8           4\n",
              "4  2020   8           5"
            ]
          },
          "metadata": {
            "tags": []
          },
          "execution_count": 20
        }
      ]
    },
    {
      "cell_type": "code",
      "metadata": {
        "id": "u8UQdBqTHTWJ"
      },
      "source": [
        "x2= df2.iloc[:,:].values\n",
        "x2=np.array(x2)\n",
        "\n",
        "from sklearn.preprocessing import LabelEncoder, OneHotEncoder\n",
        "from sklearn.compose import ColumnTransformer\n",
        "\n",
        "labelencoder2= LabelEncoder()\n",
        "x2[:,2] = labelencoder2.fit_transform(x2[:,2])\n",
        "ct2 = ColumnTransformer([('one_hot_encoder',OneHotEncoder(categories='auto'),[2])],remainder='passthrough')\n",
        "x2=np.array(ct2.fit_transform(x2),dtype=np.int)"
      ],
      "execution_count": null,
      "outputs": []
    },
    {
      "cell_type": "code",
      "metadata": {
        "id": "1YXKFVDQ1eOU"
      },
      "source": [
        "x_poly_p = poly_reg.fit_transform(x2)\n",
        "y_predic_x2 = lineal_poly.predict(x_poly_p)"
      ],
      "execution_count": null,
      "outputs": []
    },
    {
      "cell_type": "code",
      "metadata": {
        "id": "4pDzRptII6lC"
      },
      "source": [
        "cont_reg=0\n",
        "año=2020\n",
        "acump1=0\n",
        "acump2=0\n",
        "acump3=0\n",
        "acump4=0\n",
        "acump5=0\n",
        "acump6=0\n",
        "acump7=0\n",
        "acump8=0\n",
        "acump9=0\n",
        "acump10=0\n",
        "acump11=0\n",
        "acump12=0\n",
        "for _ in x2[:,8]:\n",
        "  if x2[cont_reg,7] == año:\n",
        "    if x2[cont_reg,8]== 1:      \n",
        "      acump1=acump1+ y_predic_x2[cont_reg]      \n",
        "    else:\n",
        "      if x2[cont_reg,8]== 2:        \n",
        "        acump2=acump2+ y_predic_x2[cont_reg]       \n",
        "      else:\n",
        "        if x2[cont_reg,8]== 3:          \n",
        "          acump3=acump3+ y_predic_x2[cont_reg]      \n",
        "        else:\n",
        "          if x2[cont_reg,8]== 4:            \n",
        "            acump4=acump4+ y_predic_x2[cont_reg]      \n",
        "          else:\n",
        "            if x2[cont_reg,8]== 5:              \n",
        "              acump5=acump5+ y_predic_x2[cont_reg]       \n",
        "            else:\n",
        "              if x2[cont_reg,8]== 6:                \n",
        "                acump6=acump6+ y_predic_x2[cont_reg]       \n",
        "              else:\n",
        "                if x2[cont_reg,8]== 7:                  \n",
        "                  acump7=acump7+ y_predic_x2[cont_reg]       \n",
        "                else:\n",
        "                  if x2[cont_reg,8]== 8:                    \n",
        "                    acump8=acump8+ y_predic_x2[cont_reg]       \n",
        "                  else:\n",
        "                    if x2[cont_reg,8]== 9:                      \n",
        "                      acump9=acump9+ y_predic_x2[cont_reg]      \n",
        "                    else:\n",
        "                      if x2[cont_reg,8]== 10:                        \n",
        "                        acump10=acump10+ y_predic_x2[cont_reg]       \n",
        "                      else:\n",
        "                        if x2[cont_reg,8]== 11:                          \n",
        "                          acump11=acump11+ y_predic_x2[cont_reg]       \n",
        "                        else:\n",
        "                          if x2[cont_reg,8]== 12:                               \n",
        "                            acump12=acump12+ y_predic_x2[cont_reg]        \n",
        "  else:\n",
        "      pass\n",
        "  cont_reg=cont_reg+1\n",
        "x2_p, y2_p = [],[]\n",
        "for _ in range(1,13):\n",
        "  x2_p.append(_)   \n",
        "  if _ == 1:    \n",
        "    y2_p.append(acump1)    \n",
        "  if _== 2:    \n",
        "    y2_p.append(acump2)\n",
        "  if _== 3:    \n",
        "    y2_p.append(acump3)\n",
        "  if _ == 4:    \n",
        "    y2_p.append(acump4)\n",
        "  if _== 5:    \n",
        "    y2_p.append(acump5)\n",
        "  if _== 6:    \n",
        "    y2_p.append(acump6)\n",
        "  if _ ==7:    \n",
        "    y2_p.append(acump7)\n",
        "  if _== 8:    \n",
        "    y2_p.append(acump8)\n",
        "  if _== 9:    \n",
        "    y2_p.append(acump9)\n",
        "  if _== 10:    \n",
        "    y2_p.append(acump10)\n",
        "  if _== 11:    \n",
        "    y2_p.append(acump11)\n",
        "  if _== 12:    \n",
        "    y2_p.append(acump12)\n"
      ],
      "execution_count": null,
      "outputs": []
    },
    {
      "cell_type": "code",
      "metadata": {
        "id": "ngEdh3bYJDvE",
        "colab": {
          "base_uri": "https://localhost:8080/",
          "height": 295
        },
        "outputId": "251b5c0a-e2d6-4ed1-9af9-c5408e112db5"
      },
      "source": [
        "#Gráfica datos predicción\n",
        "fig, ax = plt.subplots()\n",
        "for ciclo in list(range (año,año+1)):   \n",
        "  if ciclo == año:      \n",
        "    marca =\"o\"\n",
        "  else:\n",
        "    print ('cero')\n",
        "    marca =\"o\"  \n",
        "  ax.scatter(\n",
        "    x_g_t[:],    \n",
        "    y_g_t[:],\n",
        "    c=\"Blue\",\n",
        "    marker = marca,\n",
        "    label = ciclo,\n",
        "    alpha=0.5)\n",
        "  ax.plot(\n",
        "    x2_p[:],    \n",
        "    y2_p[:],\n",
        "    c=\"Red\",\n",
        "    marker = marca,\n",
        "    label = ciclo,\n",
        "    alpha=0.5)\n",
        "#plt.legend()\n",
        "plt.title(\"Bajas FTTH Voluntario - Agosto - Diciembre 2020\")\n",
        "plt.xlabel (\"Mes\")\n",
        "plt.ylabel (\"Cantidad\" )\n",
        "plt.show()"
      ],
      "execution_count": null,
      "outputs": [
        {
          "output_type": "display_data",
          "data": {
            "image/png": "[encoded data removed]",
            "text/plain": [
              "<Figure size 432x288 with 1 Axes>"
            ]
          },
          "metadata": {
            "tags": [],
            "needs_background": "light"
          }
        }
      ]
    },
    {
      "cell_type": "code",
      "metadata": {
        "id": "7ZZ5F9WBb99E",
        "colab": {
          "base_uri": "https://localhost:8080/",
          "height": 173
        },
        "outputId": "996bd4ac-1717-4351-e522-089f3e79e6f0"
      },
      "source": [
        "grupo.corr(method ='pearson')"
      ],
      "execution_count": null,
      "outputs": [
        {
          "output_type": "execute_result",
          "data": {
            "text/html": [
              "<div>\n",
              "<style scoped>\n",
              "    .dataframe tbody tr th:only-of-type {\n",
              "        vertical-align: middle;\n",
              "    }\n",
              "\n",
              "    .dataframe tbody tr th {\n",
              "        vertical-align: top;\n",
              "    }\n",
              "\n",
              "    .dataframe thead th {\n",
              "        text-align: right;\n",
              "    }\n",
              "</style>\n",
              "<table border=\"1\" class=\"dataframe\">\n",
              "  <thead>\n",
              "    <tr style=\"text-align: right;\">\n",
              "      <th></th>\n",
              "      <th>Año</th>\n",
              "      <th>Mes</th>\n",
              "      <th>Antiguedad</th>\n",
              "      <th>Cant_Bajas</th>\n",
              "    </tr>\n",
              "  </thead>\n",
              "  <tbody>\n",
              "    <tr>\n",
              "      <th>Año</th>\n",
              "      <td>1.000000</td>\n",
              "      <td>-3.729741e-01</td>\n",
              "      <td>0.000000e+00</td>\n",
              "      <td>0.000419</td>\n",
              "    </tr>\n",
              "    <tr>\n",
              "      <th>Mes</th>\n",
              "      <td>-0.372974</td>\n",
              "      <td>1.000000e+00</td>\n",
              "      <td>-2.065386e-18</td>\n",
              "      <td>-0.032045</td>\n",
              "    </tr>\n",
              "    <tr>\n",
              "      <th>Antiguedad</th>\n",
              "      <td>0.000000</td>\n",
              "      <td>-2.065386e-18</td>\n",
              "      <td>1.000000e+00</td>\n",
              "      <td>0.701732</td>\n",
              "    </tr>\n",
              "    <tr>\n",
              "      <th>Cant_Bajas</th>\n",
              "      <td>0.000419</td>\n",
              "      <td>-3.204475e-02</td>\n",
              "      <td>7.017319e-01</td>\n",
              "      <td>1.000000</td>\n",
              "    </tr>\n",
              "  </tbody>\n",
              "</table>\n",
              "</div>"
            ],
            "text/plain": [
              "                 Año           Mes    Antiguedad  Cant_Bajas\n",
              "Año         1.000000 -3.729741e-01  0.000000e+00    0.000419\n",
              "Mes        -0.372974  1.000000e+00 -2.065386e-18   -0.032045\n",
              "Antiguedad  0.000000 -2.065386e-18  1.000000e+00    0.701732\n",
              "Cant_Bajas  0.000419 -3.204475e-02  7.017319e-01    1.000000"
            ]
          },
          "metadata": {
            "tags": []
          },
          "execution_count": 26
        }
      ]
    },
    {
      "cell_type": "code",
      "metadata": {
        "id": "xAebe_Wnug3X",
        "colab": {
          "base_uri": "https://localhost:8080/"
        },
        "outputId": "8b577e90-6b16-48fc-f859-fc998a198506"
      },
      "source": [
        "print('Datos del modelo de Regresión')\n",
        "print()\n",
        "print('\"Valor de la pendiente o coeficiente \"a\":')\n",
        "print(lineal_poly.coef_)\n",
        "print('\"Valor de la Intersección \"b\":')\n",
        "print(lineal_poly.intercept_)"
      ],
      "execution_count": null,
      "outputs": [
        {
          "output_type": "stream",
          "text": [
            "Datos del modelo de Regresión\n",
            "\n",
            "\"Valor de la pendiente o coeficiente \"a\":\n",
            "[[-2.87487810e-02  7.15277146e-03 -1.94815510e-02 -2.51496507e-02\n",
            "   3.24481515e-02  2.86025724e-02  4.09451218e-02  4.87287368e-02\n",
            "  -4.82496641e-04  1.06575468e-01 -4.08036490e-02 -5.04361183e-08\n",
            "  -2.02297050e-06  3.89938484e-06 -2.36613980e-05 -8.12563464e-07\n",
            "   1.40603600e-08 -4.12518137e+01  1.75752399e+04 -3.98209673e-02\n",
            "  -3.10917763e-08  1.28014528e-08  6.15999607e-08  2.57806043e-08\n",
            "  -1.78023924e-08 -4.02090461e+01  1.68285496e+04 -4.86982752e-02\n",
            "   1.70335968e-13  2.32418529e-10  1.45519152e-11 -1.04208309e-13\n",
            "  -4.91730715e+01  2.61213766e+04  2.36871841e-02 -5.45696821e-12\n",
            "  -1.07203135e-12 -2.16715534e-13  2.39181269e+01 -1.89753546e+03\n",
            "   1.70960872e-02 -1.32516220e-12 -9.66338121e-13  1.72627793e+01\n",
            "   3.88804655e+03  4.00028543e-02  6.48014975e-12  4.03928715e+01\n",
            "  -5.74648710e+03  4.85864683e-02  4.90601627e+01 -5.67690832e+04\n",
            "  -8.04666796e-06  1.07957569e+02 -2.78923272e+04 -4.08535130e-02\n",
            "   1.81898940e-12  1.81898940e-12  1.81898940e-12  1.45519152e-11\n",
            "  -1.81898940e-12 -7.27595761e-12 -4.12518143e+01  1.75752399e+04\n",
            "   4.33680869e-19 -1.56701095e-20  2.71050543e-20  5.42101086e-20\n",
            "   5.42101086e-20  0.00000000e+00  1.01643954e-20  0.00000000e+00\n",
            "   1.65436123e-24  0.00000000e+00 -3.30872245e-24 -2.48154184e-24\n",
            "  -3.30872245e-24  0.00000000e+00 -7.75481824e-26  0.00000000e+00\n",
            "   1.29246971e-26 -3.23117427e-27  6.46234854e-27  8.07793567e-28\n",
            "  -4.03896783e-28 -7.06819371e-28 -4.03896783e-28 -1.00974196e-28\n",
            "   3.78653235e-29 -1.26217745e-29  0.00000000e+00  2.52435490e-29\n",
            "  -1.26217745e-29  0.00000000e+00 -1.00974196e-28  0.00000000e+00\n",
            "   0.00000000e+00  4.46312172e-02 -1.94869730e+00 -3.99052953e+03\n",
            "  -3.98208063e-02  3.15544362e-30  0.00000000e+00  1.26217745e-29\n",
            "  -7.88860905e-31  0.00000000e+00 -4.02090460e+01  1.68285496e+04\n",
            "   0.00000000e+00  0.00000000e+00  0.00000000e+00  0.00000000e+00\n",
            "   0.00000000e+00  0.00000000e+00  0.00000000e+00  0.00000000e+00\n",
            "   0.00000000e+00  0.00000000e+00  0.00000000e+00  0.00000000e+00\n",
            "   0.00000000e+00  0.00000000e+00  0.00000000e+00  0.00000000e+00\n",
            "   0.00000000e+00  0.00000000e+00  0.00000000e+00  0.00000000e+00\n",
            "   0.00000000e+00  0.00000000e+00  0.00000000e+00  0.00000000e+00\n",
            "   0.00000000e+00  4.35997204e-02 -1.21196129e+00 -3.99012230e+03\n",
            "  -4.86982798e-02  0.00000000e+00  0.00000000e+00  0.00000000e+00\n",
            "   0.00000000e+00 -4.91730715e+01  2.61213766e+04  0.00000000e+00\n",
            "   0.00000000e+00  0.00000000e+00  0.00000000e+00  0.00000000e+00\n",
            "   0.00000000e+00  0.00000000e+00  0.00000000e+00  0.00000000e+00\n",
            "   0.00000000e+00  0.00000000e+00  0.00000000e+00  0.00000000e+00\n",
            "   0.00000000e+00  0.00000000e+00  0.00000000e+00  0.00000000e+00\n",
            "   0.00000000e+00  5.24742179e-02 -1.04126929e+01 -3.99084697e+03\n",
            "   2.36871841e-02  0.00000000e+00  0.00000000e+00  0.00000000e+00\n",
            "   2.39181269e+01 -1.89753546e+03  0.00000000e+00  0.00000000e+00\n",
            "   0.00000000e+00  0.00000000e+00  0.00000000e+00  0.00000000e+00\n",
            "   0.00000000e+00  0.00000000e+00  0.00000000e+00  0.00000000e+00\n",
            "   0.00000000e+00  0.00000000e+00 -1.98510662e-02  1.73000817e+01\n",
            "  -3.98494635e+03  1.70960872e-02  0.00000000e+00  0.00000000e+00\n",
            "   1.72627793e+01  3.88804655e+03  0.00000000e+00  0.00000000e+00\n",
            "   0.00000000e+00  0.00000000e+00  0.00000000e+00  0.00000000e+00\n",
            "   0.00000000e+00 -1.31347115e-02  1.15654291e+01 -3.98588034e+03\n",
            "   4.00028543e-02  0.00000000e+00  4.03928715e+01 -5.74648710e+03\n",
            "   0.00000000e+00  0.00000000e+00  0.00000000e+00 -3.61184054e-02\n",
            "   2.11155839e+01 -3.98618076e+03  4.85864683e-02  4.90601627e+01\n",
            "  -5.67690832e+04 -4.46042128e-02  7.15498575e+01 -3.96382096e+03\n",
            "   1.40168538e-05 -6.10773483e-02  1.57746369e+01  1.59880764e+00]]\n",
            "\"Valor de la Intersección \"b\":\n",
            "[-131001.22518557]\n"
          ],
          "name": "stdout"
        }
      ]
    }
  ]
}