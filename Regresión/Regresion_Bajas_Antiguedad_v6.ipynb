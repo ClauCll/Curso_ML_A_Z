{
  "nbformat": 4,
  "nbformat_minor": 0,
  "metadata": {
    "colab": {
      "name": "Untitled1.ipynb",
      "provenance": [],
      "include_colab_link": true
    },
    "kernelspec": {
      "name": "python3",
      "display_name": "Python 3"
    }
  },
  "cells": [
    {
      "cell_type": "markdown",
      "metadata": {
        "id": "view-in-github",
        "colab_type": "text"
      },
      "source": [
        "<a href=\"https://colab.research.google.com/github/ClauCll/Curso_ML_A_Z/blob/master/Regresi%C3%B3n/Regresion_Bajas_Antiguedad_v6.ipynb\" target=\"_parent\"><img src=\"https://colab.research.google.com/assets/colab-badge.svg\" alt=\"Open In Colab\"/></a>"
      ]
    },
    {
      "cell_type": "markdown",
      "metadata": {
        "id": "-J3qDXeFwvSb"
      },
      "source": [
        "## Cuantas serán las bajas voluntarias de los clientes fijos para un periodo x. (Agosto - Diciembre 2020)\n",
        " "
      ]
    },
    {
      "cell_type": "code",
      "metadata": {
        "id": "Vsqlhqgww1BG"
      },
      "source": [
        "import pandas as pd\n",
        "import numpy as np\n",
        "\n",
        "#Gráfico\n",
        "from mpl_toolkits.mplot3d import axes3d\n",
        "import matplotlib.pyplot as plt \n",
        "from matplotlib import style\n",
        "import matplotlib.ticker as ticker\n",
        "import seaborn as sns\n",
        "\n",
        "import gspread\n",
        "from oauth2client.client import GoogleCredentials \n",
        "from google.colab import auth\n",
        "# Autoriza Claudia\n",
        "auth.authenticate_user()\n",
        "gc = gspread.authorize (GoogleCredentials.get_application_default())"
      ],
      "execution_count": 655,
      "outputs": []
    },
    {
      "cell_type": "markdown",
      "metadata": {
        "id": "2xAoqlB_02Do"
      },
      "source": [
        "### leemos datos"
      ]
    },
    {
      "cell_type": "code",
      "metadata": {
        "id": "y_VVpj56uzRV",
        "outputId": "05af7c02-082b-43a9-c529-8d40f9f60a82",
        "colab": {
          "base_uri": "https://localhost:8080/",
          "height": 54
        }
      },
      "source": [
        "from google.colab import drive\n",
        "drive.mount('/content/drive')"
      ],
      "execution_count": 692,
      "outputs": [
        {
          "output_type": "stream",
          "text": [
            "Drive already mounted at /content/drive; to attempt to forcibly remount, call drive.mount(\"/content/drive\", force_remount=True).\n"
          ],
          "name": "stdout"
        }
      ]
    },
    {
      "cell_type": "code",
      "metadata": {
        "id": "0JYqth2Ty8-k"
      },
      "source": [
        "data = pd.read_csv('/content/drive/My Drive/Dataset/BAJAS.txt',delimiter='~')\n",
        "data['ANIO_BAJA'].replace([2019,2020],[1,0],inplace=True)\n",
        "x  = data.iloc[:,:-1].values\n",
        "y  = data.iloc[:,3].values \n",
        "y = y[:,np.newaxis]"
      ],
      "execution_count": 721,
      "outputs": []
    },
    {
      "cell_type": "code",
      "metadata": {
        "id": "SFcT3pVv_J2G",
        "outputId": "3a3461c7-1a92-4ad1-b69b-121d76f05db8",
        "colab": {
          "base_uri": "https://localhost:8080/",
          "height": 202
        }
      },
      "source": [
        "data.info()\n",
        "#data.describe()"
      ],
      "execution_count": 719,
      "outputs": [
        {
          "output_type": "stream",
          "text": [
            "<class 'pandas.core.frame.DataFrame'>\n",
            "RangeIndex: 132 entries, 0 to 131\n",
            "Data columns (total 4 columns):\n",
            " #   Column            Non-Null Count  Dtype\n",
            "---  ------            --------------  -----\n",
            " 0   ANIO_BAJA         132 non-null    int64\n",
            " 1   MES_BAJA          132 non-null    int64\n",
            " 2   GRUPO_ANTIGUEDAD  132 non-null    int64\n",
            " 3   TOTAL_BAJAS       132 non-null    int64\n",
            "dtypes: int64(4)\n",
            "memory usage: 4.2 KB\n"
          ],
          "name": "stdout"
        }
      ]
    },
    {
      "cell_type": "code",
      "metadata": {
        "id": "2yc7PeBbtRbM",
        "outputId": "ff295c2d-a64f-4b2b-ae65-aa8cf2235aea",
        "colab": {
          "base_uri": "https://localhost:8080/",
          "height": 101
        }
      },
      "source": [
        "data.dtypes "
      ],
      "execution_count": 720,
      "outputs": [
        {
          "output_type": "execute_result",
          "data": {
            "text/plain": [
              "ANIO_BAJA           int64\n",
              "MES_BAJA            int64\n",
              "GRUPO_ANTIGUEDAD    int64\n",
              "TOTAL_BAJAS         int64\n",
              "dtype: object"
            ]
          },
          "metadata": {
            "tags": []
          },
          "execution_count": 720
        }
      ]
    },
    {
      "cell_type": "code",
      "metadata": {
        "id": "LJBPGtqo_rE-"
      },
      "source": [
        "x[:,1]"
      ],
      "execution_count": null,
      "outputs": []
    },
    {
      "cell_type": "code",
      "metadata": {
        "id": "y9pG_Xpx9wrv"
      },
      "source": [
        "from sklearn.preprocessing import LabelEncoder, OneHotEncoder\n",
        "from sklearn.compose import ColumnTransformer\n",
        "\n",
        "labelencoder= LabelEncoder()\n",
        "#x[:,0] = labelencoder.fit_transform(x[:,0])\n",
        "#x[:,2] = labelencoder.fit_transform(x[:,2])\n",
        "ct = ColumnTransformer([('one_hot_encoder',OneHotEncoder(categories='auto'),[0,2])],remainder='passthrough')\n",
        "### remainder='passthrough'. deja el resto de las columnas en pié\n",
        "x=np.array(ct.fit_transform(x),dtype=np.int)\n",
        "\n",
        "x = x[:,1:]"
      ],
      "execution_count": 725,
      "outputs": []
    },
    {
      "cell_type": "code",
      "metadata": {
        "id": "VIkJ0cmJAD3N"
      },
      "source": [
        "x.shape"
      ],
      "execution_count": null,
      "outputs": []
    },
    {
      "cell_type": "code",
      "metadata": {
        "id": "9EaQnmdN_aYV"
      },
      "source": [
        "pd.DataFrame(x)"
      ],
      "execution_count": null,
      "outputs": []
    },
    {
      "cell_type": "code",
      "metadata": {
        "id": "ApvdMwgrASjY",
        "outputId": "54c3b428-5987-4ff7-e04a-357b6474f4fd",
        "colab": {
          "base_uri": "https://localhost:8080/",
          "height": 87
        }
      },
      "source": [
        "#selección de caracteristicas basadas en L1\n",
        "from sklearn.svm import LinearSVC\n",
        "from sklearn.feature_selection import SelectFromModel\n",
        "\n",
        "lsvc = LinearSVC(C=0.01, penalty=\"l1\", dual=False).fit(x, y)\n",
        "model = SelectFromModel(lsvc, prefit=True)\n",
        "x2 = model.transform(x)\n",
        "x2.shape"
      ],
      "execution_count": 729,
      "outputs": [
        {
          "output_type": "stream",
          "text": [
            "/usr/local/lib/python3.6/dist-packages/sklearn/utils/validation.py:760: DataConversionWarning: A column-vector y was passed when a 1d array was expected. Please change the shape of y to (n_samples, ), for example using ravel().\n",
            "  y = column_or_1d(y, warn=True)\n"
          ],
          "name": "stderr"
        },
        {
          "output_type": "execute_result",
          "data": {
            "text/plain": [
              "(132, 1)"
            ]
          },
          "metadata": {
            "tags": []
          },
          "execution_count": 729
        }
      ]
    },
    {
      "cell_type": "code",
      "metadata": {
        "id": "L0fXqpYdBDGi"
      },
      "source": [
        "pd.DataFrame(x2)"
      ],
      "execution_count": null,
      "outputs": []
    },
    {
      "cell_type": "code",
      "metadata": {
        "id": "6LOitxc2Dh4A",
        "outputId": "c524e195-c4f1-40e8-e82f-67526fe5f714",
        "colab": {
          "base_uri": "https://localhost:8080/",
          "height": 306
        }
      },
      "source": [
        "from sklearn.model_selection import train_test_split\n",
        "from sklearn.metrics import accuracy_score\n",
        "from sklearn.svm import SVC\n",
        "from sklearn.linear_model import LogisticRegression \n",
        "\n",
        "x_train, x_test, y_train, y_test = train_test_split(x2,y,test_size=0.2, random_state=0)                                 \n",
        "\n",
        "#Modelo regresión Logística\n",
        "logreg= LogisticRegression()\n",
        "logreg.fit(x_train, y_train)\n",
        "y_predic_test_m1 = logreg.predict(x_test)\n",
        "y_predic_train_m1 = logreg.predict(x_train)\n",
        "print('Precisión Modelo Regresión Logística')\n",
        "print(logreg.score(x_train,y_train))\n",
        "\n",
        "#Modelo vectores de soporte\n",
        "svc = SVC()\n",
        "svc.fit(x_train,y_train)\n",
        "y_predic_test_m2 = svc.predict(x_test)\n",
        "#y_predic_train_m2 = svc.predict(x_train)\n",
        "print('Precisión Vectores de soporte')\n",
        "print(svc.score(x_train,y_train))\n",
        " "
      ],
      "execution_count": 730,
      "outputs": [
        {
          "output_type": "stream",
          "text": [
            "Precisión Modelo Regresión Logística\n",
            "0.08571428571428572\n",
            "Precisión Vectores de soporte\n",
            "0.09523809523809523\n"
          ],
          "name": "stdout"
        },
        {
          "output_type": "stream",
          "text": [
            "/usr/local/lib/python3.6/dist-packages/sklearn/utils/validation.py:760: DataConversionWarning: A column-vector y was passed when a 1d array was expected. Please change the shape of y to (n_samples, ), for example using ravel().\n",
            "  y = column_or_1d(y, warn=True)\n",
            "/usr/local/lib/python3.6/dist-packages/sklearn/linear_model/_logistic.py:940: ConvergenceWarning: lbfgs failed to converge (status=1):\n",
            "STOP: TOTAL NO. of ITERATIONS REACHED LIMIT.\n",
            "\n",
            "Increase the number of iterations (max_iter) or scale the data as shown in:\n",
            "    https://scikit-learn.org/stable/modules/preprocessing.html\n",
            "Please also refer to the documentation for alternative solver options:\n",
            "    https://scikit-learn.org/stable/modules/linear_model.html#logistic-regression\n",
            "  extra_warning_msg=_LOGISTIC_SOLVER_CONVERGENCE_MSG)\n",
            "/usr/local/lib/python3.6/dist-packages/sklearn/utils/validation.py:760: DataConversionWarning: A column-vector y was passed when a 1d array was expected. Please change the shape of y to (n_samples, ), for example using ravel().\n",
            "  y = column_or_1d(y, warn=True)\n"
          ],
          "name": "stderr"
        }
      ]
    },
    {
      "cell_type": "code",
      "metadata": {
        "id": "VDOMDhZ20OYN"
      },
      "source": [
        "y_predic_train_m2 = y_predic_train_m2[:,np.newaxis]  "
      ],
      "execution_count": 665,
      "outputs": []
    },
    {
      "cell_type": "code",
      "metadata": {
        "id": "Iz1rdkR05bJl",
        "outputId": "c4c232a2-6684-4418-bdcb-a58c2996b038",
        "colab": {
          "base_uri": "https://localhost:8080/",
          "height": 470
        }
      },
      "source": [
        "print(y_test)"
      ],
      "execution_count": 671,
      "outputs": [
        {
          "output_type": "stream",
          "text": [
            "[[326]\n",
            " [ 99]\n",
            " [686]\n",
            " [343]\n",
            " [ 20]\n",
            " [ 18]\n",
            " [  2]\n",
            " [ 19]\n",
            " [247]\n",
            " [ 54]\n",
            " [ 26]\n",
            " [ 44]\n",
            " [ 74]\n",
            " [168]\n",
            " [350]\n",
            " [484]\n",
            " [142]\n",
            " [746]\n",
            " [ 38]\n",
            " [ 28]\n",
            " [ 42]\n",
            " [ 35]\n",
            " [ 33]\n",
            " [741]\n",
            " [190]\n",
            " [ 88]\n",
            " [726]]\n"
          ],
          "name": "stdout"
        }
      ]
    },
    {
      "cell_type": "code",
      "metadata": {
        "id": "IoDWOyuQ5vfT",
        "outputId": "bbd6cad2-1ecf-4d53-f460-578f9246e49e",
        "colab": {
          "base_uri": "https://localhost:8080/",
          "height": 50
        }
      },
      "source": [
        "y_predic_test_m2  \n",
        " "
      ],
      "execution_count": 673,
      "outputs": [
        {
          "output_type": "execute_result",
          "data": {
            "text/plain": [
              "array([19, 19, 19, 19, 19, 19, 19, 19, 19, 19, 19, 19, 19, 19, 19, 19, 19,\n",
              "       19, 19, 19, 19, 19, 19, 19, 19, 19, 19])"
            ]
          },
          "metadata": {
            "tags": []
          },
          "execution_count": 673
        }
      ]
    },
    {
      "cell_type": "code",
      "metadata": {
        "id": "wz-cmeoT44k6",
        "outputId": "a9dab8ea-9c0a-4fa8-f60b-4f6bd14b0f21",
        "colab": {
          "base_uri": "https://localhost:8080/",
          "height": 302
        }
      },
      "source": [
        "for _ in x_test:\n",
        "  print(_)\n"
      ],
      "execution_count": 651,
      "outputs": [
        {
          "output_type": "stream",
          "text": [
            "[6 7]\n",
            "[7 5]\n",
            "[4 2]\n",
            "[8 5]\n",
            "[12  6]\n",
            "[5 2]\n",
            "[12  2]\n",
            "[2 3]\n",
            "[10  3]\n",
            "[11  3]\n",
            "[1 6]\n",
            "[1 3]\n",
            "[3 2]\n",
            "[6 6]\n",
            "[12  1]\n",
            "[7 7]\n",
            "[5 3]\n"
          ],
          "name": "stdout"
        }
      ]
    },
    {
      "cell_type": "code",
      "metadata": {
        "id": "msotLybHVfI-",
        "outputId": "799e2e5e-b126-413c-f838-d69932de5216",
        "colab": {
          "base_uri": "https://localhost:8080/",
          "height": 295
        }
      },
      "source": [
        "#gráfica\n",
        "#plt.scatter(x[:,0], y, c='Blue', marker='^', alpha=0.5)\n",
        "plt.scatter(x_test[:,0] , y_test , c='red', marker='*', alpha=0.5)\n",
        "#plt.scatter(x, y_predic_train_m2, c='green', marker='o', alpha=0.3)\n",
        "plt.scatter(x_test[:,0] , y_predic_test_m2 , c='green', marker='o', alpha=0.3)\n",
        "plt.xlabel('Mes')\n",
        "plt.ylabel('Cantidad')\n",
        "plt.title('Bajas clientes')\n",
        "plt.show()"
      ],
      "execution_count": 635,
      "outputs": [
        {
          "output_type": "display_data",
          "data": {
            "image/png": "[encoded data removed]",
            "text/plain": [
              "<Figure size 432x288 with 1 Axes>"
            ]
          },
          "metadata": {
            "tags": [],
            "needs_background": "light"
          }
        }
      ]
    }
  ]
}