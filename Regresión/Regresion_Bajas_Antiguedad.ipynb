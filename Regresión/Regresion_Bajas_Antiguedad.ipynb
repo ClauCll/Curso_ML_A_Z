{
  "nbformat": 4,
  "nbformat_minor": 0,
  "metadata": {
    "colab": {
      "name": "Untitled1.ipynb",
      "provenance": [],
      "include_colab_link": true
    },
    "kernelspec": {
      "name": "python3",
      "display_name": "Python 3"
    }
  },
  "cells": [
    {
      "cell_type": "markdown",
      "metadata": {
        "id": "view-in-github",
        "colab_type": "text"
      },
      "source": [
        "<a href=\"https://colab.research.google.com/github/ClauCll/Curso_ML_A_Z/blob/master/Regresi%C3%B3n/Regresion_Bajas_Antiguedad.ipynb\" target=\"_parent\"><img src=\"https://colab.research.google.com/assets/colab-badge.svg\" alt=\"Open In Colab\"/></a>"
      ]
    },
    {
      "cell_type": "markdown",
      "metadata": {
        "id": "-J3qDXeFwvSb"
      },
      "source": [
        "## Cuantas serán las bajas voluntarias de los clientes fijos para el periodo 202009. \n",
        " "
      ]
    },
    {
      "cell_type": "code",
      "metadata": {
        "id": "Vsqlhqgww1BG"
      },
      "source": [
        "import pandas as pd\n",
        "import numpy as np\n",
        "import matplotlib.pyplot as plt\n",
        "import gspread\n",
        "from oauth2client.client import GoogleCredentials \n",
        "from google.colab import auth\n",
        "# Autoriza Claudia\n",
        "auth.authenticate_user()\n",
        "gc = gspread.authorize (GoogleCredentials.get_application_default())"
      ],
      "execution_count": 129,
      "outputs": []
    },
    {
      "cell_type": "markdown",
      "metadata": {
        "id": "2xAoqlB_02Do"
      },
      "source": [
        "### leemos datos"
      ]
    },
    {
      "cell_type": "code",
      "metadata": {
        "id": "y_VVpj56uzRV",
        "outputId": "86c648d7-c9d7-43c1-bc5a-a9e081c015e4",
        "colab": {
          "base_uri": "https://localhost:8080/",
          "height": 34
        }
      },
      "source": [
        "from google.colab import drive\n",
        "drive.mount('/content/drive')"
      ],
      "execution_count": 130,
      "outputs": [
        {
          "output_type": "stream",
          "text": [
            "Drive already mounted at /content/drive; to attempt to forcibly remount, call drive.mount(\"/content/drive\", force_remount=True).\n"
          ],
          "name": "stdout"
        }
      ]
    },
    {
      "cell_type": "code",
      "metadata": {
        "id": "0JYqth2Ty8-k"
      },
      "source": [
        "data1 = pd.read_csv('/content/drive/My Drive/Dataset/DBajas_ANTIGUEDAD.txt',delimiter='~')\n",
        "x = data1.iloc [:,:-1].values\n",
        "y = data1.iloc [:,2].values"
      ],
      "execution_count": 131,
      "outputs": []
    },
    {
      "cell_type": "code",
      "metadata": {
        "id": "4zakNkcb222f"
      },
      "source": [
        "pd.DataFrame(x)"
      ],
      "execution_count": null,
      "outputs": []
    },
    {
      "cell_type": "markdown",
      "metadata": {
        "id": "LGqSJaVW53oC"
      },
      "source": [
        "### Codificar datos categóricos"
      ]
    },
    {
      "cell_type": "code",
      "metadata": {
        "id": "1xHeUpIU59aN"
      },
      "source": [
        "'''from sklearn.preprocessing import LabelEncoder, OneHotEncoder\n",
        "from sklearn.compose import ColumnTransformer\n",
        "labelencoder  = LabelEncoder()\n",
        "labelencoder  = LabelEncoder()\n",
        "x[:,1] = labelencoder.fit_transform(x[:,1])\n",
        "ct = ColumnTransformer([('one_hot_encoder',OneHotEncoder(categories='auto'),[1])],remainder='passthrough')\n",
        "x= np.array(ct.fit_transform(x),dtype=np.integer)'''"
      ],
      "execution_count": null,
      "outputs": []
    },
    {
      "cell_type": "code",
      "metadata": {
        "id": "nmeZH3I84EtO"
      },
      "source": [
        "pd.DataFrame(x)"
      ],
      "execution_count": null,
      "outputs": []
    },
    {
      "cell_type": "markdown",
      "metadata": {
        "id": "elfJqy4EBVo8"
      },
      "source": [
        "### Evitar la trampa de variables Dummy"
      ]
    },
    {
      "cell_type": "code",
      "metadata": {
        "id": "gxuG7JnEBdBU"
      },
      "source": [
        "'''x = x[:,1:]'''"
      ],
      "execution_count": null,
      "outputs": []
    },
    {
      "cell_type": "markdown",
      "metadata": {
        "id": "wNusxNzT3UMP"
      },
      "source": [
        "### Dividimos los datos en entrenamiento y test"
      ]
    },
    {
      "cell_type": "code",
      "metadata": {
        "id": "Oc4kco8u3ah-"
      },
      "source": [
        "from sklearn.model_selection import train_test_split\n",
        "x_train, x_test, y_train, y_test = train_test_split(x,y,test_size= 0.2, random_state=0)"
      ],
      "execution_count": null,
      "outputs": []
    },
    {
      "cell_type": "markdown",
      "metadata": {
        "id": "TMvIs9DIgZV_"
      },
      "source": [
        "### Escalamos los datos"
      ]
    },
    {
      "cell_type": "code",
      "metadata": {
        "id": "xZq1KN4y3NGh",
        "outputId": "7e411895-061c-4b3d-e66d-94b7a0cd113c",
        "colab": {
          "base_uri": "https://localhost:8080/",
          "height": 358
        }
      },
      "source": [
        "from sklearn.preprocessing import StandardScaler\n",
        "sc_x = StandardScaler()\n",
        "sc_y = StandardScaler()\n",
        "x_train= sc_x.fit_transform(x_train)\n",
        "y_train= sc_y.fit_transform(y_train.reshape(-1,1))"
      ],
      "execution_count": null,
      "outputs": [
        {
          "output_type": "error",
          "ename": "ValueError",
          "evalue": "ignored",
          "traceback": [
            "\u001b[0;31m---------------------------------------------------------------------------\u001b[0m",
            "\u001b[0;31mValueError\u001b[0m                                Traceback (most recent call last)",
            "\u001b[0;32m<ipython-input-84-f3e632fc044d>\u001b[0m in \u001b[0;36m<module>\u001b[0;34m()\u001b[0m\n\u001b[1;32m      2\u001b[0m \u001b[0msc_x\u001b[0m \u001b[0;34m=\u001b[0m \u001b[0mStandardScaler\u001b[0m\u001b[0;34m(\u001b[0m\u001b[0;34m)\u001b[0m\u001b[0;34m\u001b[0m\u001b[0;34m\u001b[0m\u001b[0m\n\u001b[1;32m      3\u001b[0m \u001b[0msc_y\u001b[0m \u001b[0;34m=\u001b[0m \u001b[0mStandardScaler\u001b[0m\u001b[0;34m(\u001b[0m\u001b[0;34m)\u001b[0m\u001b[0;34m\u001b[0m\u001b[0;34m\u001b[0m\u001b[0m\n\u001b[0;32m----> 4\u001b[0;31m \u001b[0mx_train\u001b[0m\u001b[0;34m=\u001b[0m \u001b[0msc_x\u001b[0m\u001b[0;34m.\u001b[0m\u001b[0mfit_transform\u001b[0m\u001b[0;34m(\u001b[0m\u001b[0mx_train\u001b[0m\u001b[0;34m)\u001b[0m\u001b[0;34m\u001b[0m\u001b[0;34m\u001b[0m\u001b[0m\n\u001b[0m\u001b[1;32m      5\u001b[0m \u001b[0my_train\u001b[0m\u001b[0;34m=\u001b[0m \u001b[0msc_y\u001b[0m\u001b[0;34m.\u001b[0m\u001b[0mfit_transform\u001b[0m\u001b[0;34m(\u001b[0m\u001b[0my_train\u001b[0m\u001b[0;34m.\u001b[0m\u001b[0mreshape\u001b[0m\u001b[0;34m(\u001b[0m\u001b[0;34m-\u001b[0m\u001b[0;36m1\u001b[0m\u001b[0;34m,\u001b[0m\u001b[0;36m1\u001b[0m\u001b[0;34m)\u001b[0m\u001b[0;34m)\u001b[0m\u001b[0;34m\u001b[0m\u001b[0;34m\u001b[0m\u001b[0m\n",
            "\u001b[0;32m/usr/local/lib/python3.6/dist-packages/sklearn/base.py\u001b[0m in \u001b[0;36mfit_transform\u001b[0;34m(self, X, y, **fit_params)\u001b[0m\n\u001b[1;32m    569\u001b[0m         \u001b[0;32mif\u001b[0m \u001b[0my\u001b[0m \u001b[0;32mis\u001b[0m \u001b[0;32mNone\u001b[0m\u001b[0;34m:\u001b[0m\u001b[0;34m\u001b[0m\u001b[0;34m\u001b[0m\u001b[0m\n\u001b[1;32m    570\u001b[0m             \u001b[0;31m# fit method of arity 1 (unsupervised transformation)\u001b[0m\u001b[0;34m\u001b[0m\u001b[0;34m\u001b[0m\u001b[0;34m\u001b[0m\u001b[0m\n\u001b[0;32m--> 571\u001b[0;31m             \u001b[0;32mreturn\u001b[0m \u001b[0mself\u001b[0m\u001b[0;34m.\u001b[0m\u001b[0mfit\u001b[0m\u001b[0;34m(\u001b[0m\u001b[0mX\u001b[0m\u001b[0;34m,\u001b[0m \u001b[0;34m**\u001b[0m\u001b[0mfit_params\u001b[0m\u001b[0;34m)\u001b[0m\u001b[0;34m.\u001b[0m\u001b[0mtransform\u001b[0m\u001b[0;34m(\u001b[0m\u001b[0mX\u001b[0m\u001b[0;34m)\u001b[0m\u001b[0;34m\u001b[0m\u001b[0;34m\u001b[0m\u001b[0m\n\u001b[0m\u001b[1;32m    572\u001b[0m         \u001b[0;32melse\u001b[0m\u001b[0;34m:\u001b[0m\u001b[0;34m\u001b[0m\u001b[0;34m\u001b[0m\u001b[0m\n\u001b[1;32m    573\u001b[0m             \u001b[0;31m# fit method of arity 2 (supervised transformation)\u001b[0m\u001b[0;34m\u001b[0m\u001b[0;34m\u001b[0m\u001b[0;34m\u001b[0m\u001b[0m\n",
            "\u001b[0;32m/usr/local/lib/python3.6/dist-packages/sklearn/preprocessing/_data.py\u001b[0m in \u001b[0;36mfit\u001b[0;34m(self, X, y)\u001b[0m\n\u001b[1;32m    667\u001b[0m         \u001b[0;31m# Reset internal state before fitting\u001b[0m\u001b[0;34m\u001b[0m\u001b[0;34m\u001b[0m\u001b[0;34m\u001b[0m\u001b[0m\n\u001b[1;32m    668\u001b[0m         \u001b[0mself\u001b[0m\u001b[0;34m.\u001b[0m\u001b[0m_reset\u001b[0m\u001b[0;34m(\u001b[0m\u001b[0;34m)\u001b[0m\u001b[0;34m\u001b[0m\u001b[0;34m\u001b[0m\u001b[0m\n\u001b[0;32m--> 669\u001b[0;31m         \u001b[0;32mreturn\u001b[0m \u001b[0mself\u001b[0m\u001b[0;34m.\u001b[0m\u001b[0mpartial_fit\u001b[0m\u001b[0;34m(\u001b[0m\u001b[0mX\u001b[0m\u001b[0;34m,\u001b[0m \u001b[0my\u001b[0m\u001b[0;34m)\u001b[0m\u001b[0;34m\u001b[0m\u001b[0;34m\u001b[0m\u001b[0m\n\u001b[0m\u001b[1;32m    670\u001b[0m \u001b[0;34m\u001b[0m\u001b[0m\n\u001b[1;32m    671\u001b[0m     \u001b[0;32mdef\u001b[0m \u001b[0mpartial_fit\u001b[0m\u001b[0;34m(\u001b[0m\u001b[0mself\u001b[0m\u001b[0;34m,\u001b[0m \u001b[0mX\u001b[0m\u001b[0;34m,\u001b[0m \u001b[0my\u001b[0m\u001b[0;34m=\u001b[0m\u001b[0;32mNone\u001b[0m\u001b[0;34m)\u001b[0m\u001b[0;34m:\u001b[0m\u001b[0;34m\u001b[0m\u001b[0;34m\u001b[0m\u001b[0m\n",
            "\u001b[0;32m/usr/local/lib/python3.6/dist-packages/sklearn/preprocessing/_data.py\u001b[0m in \u001b[0;36mpartial_fit\u001b[0;34m(self, X, y)\u001b[0m\n\u001b[1;32m    698\u001b[0m         X = check_array(X, accept_sparse=('csr', 'csc'),\n\u001b[1;32m    699\u001b[0m                         \u001b[0mestimator\u001b[0m\u001b[0;34m=\u001b[0m\u001b[0mself\u001b[0m\u001b[0;34m,\u001b[0m \u001b[0mdtype\u001b[0m\u001b[0;34m=\u001b[0m\u001b[0mFLOAT_DTYPES\u001b[0m\u001b[0;34m,\u001b[0m\u001b[0;34m\u001b[0m\u001b[0;34m\u001b[0m\u001b[0m\n\u001b[0;32m--> 700\u001b[0;31m                         force_all_finite='allow-nan')\n\u001b[0m\u001b[1;32m    701\u001b[0m \u001b[0;34m\u001b[0m\u001b[0m\n\u001b[1;32m    702\u001b[0m         \u001b[0;31m# Even in the case of `with_mean=False`, we update the mean anyway\u001b[0m\u001b[0;34m\u001b[0m\u001b[0;34m\u001b[0m\u001b[0;34m\u001b[0m\u001b[0m\n",
            "\u001b[0;32m/usr/local/lib/python3.6/dist-packages/sklearn/utils/validation.py\u001b[0m in \u001b[0;36mcheck_array\u001b[0;34m(array, accept_sparse, accept_large_sparse, dtype, order, copy, force_all_finite, ensure_2d, allow_nd, ensure_min_samples, ensure_min_features, warn_on_dtype, estimator)\u001b[0m\n\u001b[1;32m    529\u001b[0m                     \u001b[0marray\u001b[0m \u001b[0;34m=\u001b[0m \u001b[0marray\u001b[0m\u001b[0;34m.\u001b[0m\u001b[0mastype\u001b[0m\u001b[0;34m(\u001b[0m\u001b[0mdtype\u001b[0m\u001b[0;34m,\u001b[0m \u001b[0mcasting\u001b[0m\u001b[0;34m=\u001b[0m\u001b[0;34m\"unsafe\"\u001b[0m\u001b[0;34m,\u001b[0m \u001b[0mcopy\u001b[0m\u001b[0;34m=\u001b[0m\u001b[0;32mFalse\u001b[0m\u001b[0;34m)\u001b[0m\u001b[0;34m\u001b[0m\u001b[0;34m\u001b[0m\u001b[0m\n\u001b[1;32m    530\u001b[0m                 \u001b[0;32melse\u001b[0m\u001b[0;34m:\u001b[0m\u001b[0;34m\u001b[0m\u001b[0;34m\u001b[0m\u001b[0m\n\u001b[0;32m--> 531\u001b[0;31m                     \u001b[0marray\u001b[0m \u001b[0;34m=\u001b[0m \u001b[0mnp\u001b[0m\u001b[0;34m.\u001b[0m\u001b[0masarray\u001b[0m\u001b[0;34m(\u001b[0m\u001b[0marray\u001b[0m\u001b[0;34m,\u001b[0m \u001b[0morder\u001b[0m\u001b[0;34m=\u001b[0m\u001b[0morder\u001b[0m\u001b[0;34m,\u001b[0m \u001b[0mdtype\u001b[0m\u001b[0;34m=\u001b[0m\u001b[0mdtype\u001b[0m\u001b[0;34m)\u001b[0m\u001b[0;34m\u001b[0m\u001b[0;34m\u001b[0m\u001b[0m\n\u001b[0m\u001b[1;32m    532\u001b[0m             \u001b[0;32mexcept\u001b[0m \u001b[0mComplexWarning\u001b[0m\u001b[0;34m:\u001b[0m\u001b[0;34m\u001b[0m\u001b[0;34m\u001b[0m\u001b[0m\n\u001b[1;32m    533\u001b[0m                 raise ValueError(\"Complex data not supported\\n\"\n",
            "\u001b[0;32m/usr/local/lib/python3.6/dist-packages/numpy/core/_asarray.py\u001b[0m in \u001b[0;36masarray\u001b[0;34m(a, dtype, order)\u001b[0m\n\u001b[1;32m     83\u001b[0m \u001b[0;34m\u001b[0m\u001b[0m\n\u001b[1;32m     84\u001b[0m     \"\"\"\n\u001b[0;32m---> 85\u001b[0;31m     \u001b[0;32mreturn\u001b[0m \u001b[0marray\u001b[0m\u001b[0;34m(\u001b[0m\u001b[0ma\u001b[0m\u001b[0;34m,\u001b[0m \u001b[0mdtype\u001b[0m\u001b[0;34m,\u001b[0m \u001b[0mcopy\u001b[0m\u001b[0;34m=\u001b[0m\u001b[0;32mFalse\u001b[0m\u001b[0;34m,\u001b[0m \u001b[0morder\u001b[0m\u001b[0;34m=\u001b[0m\u001b[0morder\u001b[0m\u001b[0;34m)\u001b[0m\u001b[0;34m\u001b[0m\u001b[0;34m\u001b[0m\u001b[0m\n\u001b[0m\u001b[1;32m     86\u001b[0m \u001b[0;34m\u001b[0m\u001b[0m\n\u001b[1;32m     87\u001b[0m \u001b[0;34m\u001b[0m\u001b[0m\n",
            "\u001b[0;31mValueError\u001b[0m: could not convert string to float: 'TRIO'"
          ]
        }
      ]
    },
    {
      "cell_type": "code",
      "metadata": {
        "id": "t5V6r84rgH1Q"
      },
      "source": [
        "len(x_train[:,0])"
      ],
      "execution_count": null,
      "outputs": []
    },
    {
      "cell_type": "code",
      "metadata": {
        "id": "BKP7Xb2ap7Gf",
        "outputId": "1cdae86e-0ac4-4cab-a19f-d7320506259d",
        "colab": {
          "base_uri": "https://localhost:8080/",
          "height": 419
        }
      },
      "source": [
        "pd.DataFrame(x_train)"
      ],
      "execution_count": null,
      "outputs": [
        {
          "output_type": "execute_result",
          "data": {
            "text/html": [
              "<div>\n",
              "<style scoped>\n",
              "    .dataframe tbody tr th:only-of-type {\n",
              "        vertical-align: middle;\n",
              "    }\n",
              "\n",
              "    .dataframe tbody tr th {\n",
              "        vertical-align: top;\n",
              "    }\n",
              "\n",
              "    .dataframe thead th {\n",
              "        text-align: right;\n",
              "    }\n",
              "</style>\n",
              "<table border=\"1\" class=\"dataframe\">\n",
              "  <thead>\n",
              "    <tr style=\"text-align: right;\">\n",
              "      <th></th>\n",
              "      <th>0</th>\n",
              "      <th>1</th>\n",
              "      <th>2</th>\n",
              "      <th>3</th>\n",
              "      <th>4</th>\n",
              "      <th>5</th>\n",
              "      <th>6</th>\n",
              "      <th>7</th>\n",
              "    </tr>\n",
              "  </thead>\n",
              "  <tbody>\n",
              "    <tr>\n",
              "      <th>0</th>\n",
              "      <td>-0.014876</td>\n",
              "      <td>-0.829995</td>\n",
              "      <td>-0.728744</td>\n",
              "      <td>-0.005622</td>\n",
              "      <td>2.402464</td>\n",
              "      <td>-0.026379</td>\n",
              "      <td>-0.467288</td>\n",
              "      <td>1.450313</td>\n",
              "    </tr>\n",
              "    <tr>\n",
              "      <th>1</th>\n",
              "      <td>-0.014876</td>\n",
              "      <td>-0.829995</td>\n",
              "      <td>1.372223</td>\n",
              "      <td>-0.005622</td>\n",
              "      <td>-0.416239</td>\n",
              "      <td>-0.026379</td>\n",
              "      <td>0.095942</td>\n",
              "      <td>-0.283268</td>\n",
              "    </tr>\n",
              "    <tr>\n",
              "      <th>2</th>\n",
              "      <td>-0.014876</td>\n",
              "      <td>-0.829995</td>\n",
              "      <td>1.372223</td>\n",
              "      <td>-0.005622</td>\n",
              "      <td>-0.416239</td>\n",
              "      <td>-0.026379</td>\n",
              "      <td>0.625236</td>\n",
              "      <td>-0.283268</td>\n",
              "    </tr>\n",
              "    <tr>\n",
              "      <th>3</th>\n",
              "      <td>-0.014876</td>\n",
              "      <td>-0.829995</td>\n",
              "      <td>-0.728744</td>\n",
              "      <td>-0.005622</td>\n",
              "      <td>2.402464</td>\n",
              "      <td>-0.026379</td>\n",
              "      <td>-0.685855</td>\n",
              "      <td>1.450313</td>\n",
              "    </tr>\n",
              "    <tr>\n",
              "      <th>4</th>\n",
              "      <td>-0.014876</td>\n",
              "      <td>1.204827</td>\n",
              "      <td>-0.728744</td>\n",
              "      <td>-0.005622</td>\n",
              "      <td>-0.416239</td>\n",
              "      <td>-0.026379</td>\n",
              "      <td>0.122718</td>\n",
              "      <td>-1.438989</td>\n",
              "    </tr>\n",
              "    <tr>\n",
              "      <th>...</th>\n",
              "      <td>...</td>\n",
              "      <td>...</td>\n",
              "      <td>...</td>\n",
              "      <td>...</td>\n",
              "      <td>...</td>\n",
              "      <td>...</td>\n",
              "      <td>...</td>\n",
              "      <td>...</td>\n",
              "    </tr>\n",
              "    <tr>\n",
              "      <th>31633</th>\n",
              "      <td>-0.014876</td>\n",
              "      <td>-0.829995</td>\n",
              "      <td>1.372223</td>\n",
              "      <td>-0.005622</td>\n",
              "      <td>-0.416239</td>\n",
              "      <td>-0.026379</td>\n",
              "      <td>1.650508</td>\n",
              "      <td>-0.861129</td>\n",
              "    </tr>\n",
              "    <tr>\n",
              "      <th>31634</th>\n",
              "      <td>-0.014876</td>\n",
              "      <td>-0.829995</td>\n",
              "      <td>-0.728744</td>\n",
              "      <td>-0.005622</td>\n",
              "      <td>-0.416239</td>\n",
              "      <td>-0.026379</td>\n",
              "      <td>-0.458882</td>\n",
              "      <td>-1.438989</td>\n",
              "    </tr>\n",
              "    <tr>\n",
              "      <th>31635</th>\n",
              "      <td>-0.014876</td>\n",
              "      <td>1.204827</td>\n",
              "      <td>-0.728744</td>\n",
              "      <td>-0.005622</td>\n",
              "      <td>-0.416239</td>\n",
              "      <td>-0.026379</td>\n",
              "      <td>-0.619538</td>\n",
              "      <td>0.872453</td>\n",
              "    </tr>\n",
              "    <tr>\n",
              "      <th>31636</th>\n",
              "      <td>-0.014876</td>\n",
              "      <td>-0.829995</td>\n",
              "      <td>-0.728744</td>\n",
              "      <td>-0.005622</td>\n",
              "      <td>2.402464</td>\n",
              "      <td>-0.026379</td>\n",
              "      <td>-0.782996</td>\n",
              "      <td>1.450313</td>\n",
              "    </tr>\n",
              "    <tr>\n",
              "      <th>31637</th>\n",
              "      <td>-0.014876</td>\n",
              "      <td>1.204827</td>\n",
              "      <td>-0.728744</td>\n",
              "      <td>-0.005622</td>\n",
              "      <td>-0.416239</td>\n",
              "      <td>-0.026379</td>\n",
              "      <td>-0.655654</td>\n",
              "      <td>-0.861129</td>\n",
              "    </tr>\n",
              "  </tbody>\n",
              "</table>\n",
              "<p>31638 rows × 8 columns</p>\n",
              "</div>"
            ],
            "text/plain": [
              "              0         1         2  ...         5         6         7\n",
              "0     -0.014876 -0.829995 -0.728744  ... -0.026379 -0.467288  1.450313\n",
              "1     -0.014876 -0.829995  1.372223  ... -0.026379  0.095942 -0.283268\n",
              "2     -0.014876 -0.829995  1.372223  ... -0.026379  0.625236 -0.283268\n",
              "3     -0.014876 -0.829995 -0.728744  ... -0.026379 -0.685855  1.450313\n",
              "4     -0.014876  1.204827 -0.728744  ... -0.026379  0.122718 -1.438989\n",
              "...         ...       ...       ...  ...       ...       ...       ...\n",
              "31633 -0.014876 -0.829995  1.372223  ... -0.026379  1.650508 -0.861129\n",
              "31634 -0.014876 -0.829995 -0.728744  ... -0.026379 -0.458882 -1.438989\n",
              "31635 -0.014876  1.204827 -0.728744  ... -0.026379 -0.619538  0.872453\n",
              "31636 -0.014876 -0.829995 -0.728744  ... -0.026379 -0.782996  1.450313\n",
              "31637 -0.014876  1.204827 -0.728744  ... -0.026379 -0.655654 -0.861129\n",
              "\n",
              "[31638 rows x 8 columns]"
            ]
          },
          "metadata": {
            "tags": []
          },
          "execution_count": 67
        }
      ]
    },
    {
      "cell_type": "markdown",
      "metadata": {
        "id": "0liVi8gi6pae"
      },
      "source": [
        "### DETERMINAR DIMENSIONES.  ELIMINACION HACIA ATRAS"
      ]
    },
    {
      "cell_type": "code",
      "metadata": {
        "id": "Elnz3K6k62oQ"
      },
      "source": [
        "x_train=np.append(arr=np.ones((len(x_train[:,0]),1)).astype(int),values=x_train,axis=1)"
      ],
      "execution_count": null,
      "outputs": []
    },
    {
      "cell_type": "code",
      "metadata": {
        "id": "IFbdKOGNqD-T",
        "outputId": "bee1cb5d-1117-4832-cd32-4156866b211f",
        "colab": {
          "base_uri": "https://localhost:8080/",
          "height": 419
        }
      },
      "source": [
        "pd.DataFrame(x_train)"
      ],
      "execution_count": null,
      "outputs": [
        {
          "output_type": "execute_result",
          "data": {
            "text/html": [
              "<div>\n",
              "<style scoped>\n",
              "    .dataframe tbody tr th:only-of-type {\n",
              "        vertical-align: middle;\n",
              "    }\n",
              "\n",
              "    .dataframe tbody tr th {\n",
              "        vertical-align: top;\n",
              "    }\n",
              "\n",
              "    .dataframe thead th {\n",
              "        text-align: right;\n",
              "    }\n",
              "</style>\n",
              "<table border=\"1\" class=\"dataframe\">\n",
              "  <thead>\n",
              "    <tr style=\"text-align: right;\">\n",
              "      <th></th>\n",
              "      <th>0</th>\n",
              "      <th>1</th>\n",
              "      <th>2</th>\n",
              "      <th>3</th>\n",
              "      <th>4</th>\n",
              "      <th>5</th>\n",
              "      <th>6</th>\n",
              "      <th>7</th>\n",
              "      <th>8</th>\n",
              "    </tr>\n",
              "  </thead>\n",
              "  <tbody>\n",
              "    <tr>\n",
              "      <th>0</th>\n",
              "      <td>1.0</td>\n",
              "      <td>-0.014876</td>\n",
              "      <td>-0.829995</td>\n",
              "      <td>-0.728744</td>\n",
              "      <td>-0.005622</td>\n",
              "      <td>2.402464</td>\n",
              "      <td>-0.026379</td>\n",
              "      <td>-0.467288</td>\n",
              "      <td>1.450313</td>\n",
              "    </tr>\n",
              "    <tr>\n",
              "      <th>1</th>\n",
              "      <td>1.0</td>\n",
              "      <td>-0.014876</td>\n",
              "      <td>-0.829995</td>\n",
              "      <td>1.372223</td>\n",
              "      <td>-0.005622</td>\n",
              "      <td>-0.416239</td>\n",
              "      <td>-0.026379</td>\n",
              "      <td>0.095942</td>\n",
              "      <td>-0.283268</td>\n",
              "    </tr>\n",
              "    <tr>\n",
              "      <th>2</th>\n",
              "      <td>1.0</td>\n",
              "      <td>-0.014876</td>\n",
              "      <td>-0.829995</td>\n",
              "      <td>1.372223</td>\n",
              "      <td>-0.005622</td>\n",
              "      <td>-0.416239</td>\n",
              "      <td>-0.026379</td>\n",
              "      <td>0.625236</td>\n",
              "      <td>-0.283268</td>\n",
              "    </tr>\n",
              "    <tr>\n",
              "      <th>3</th>\n",
              "      <td>1.0</td>\n",
              "      <td>-0.014876</td>\n",
              "      <td>-0.829995</td>\n",
              "      <td>-0.728744</td>\n",
              "      <td>-0.005622</td>\n",
              "      <td>2.402464</td>\n",
              "      <td>-0.026379</td>\n",
              "      <td>-0.685855</td>\n",
              "      <td>1.450313</td>\n",
              "    </tr>\n",
              "    <tr>\n",
              "      <th>4</th>\n",
              "      <td>1.0</td>\n",
              "      <td>-0.014876</td>\n",
              "      <td>1.204827</td>\n",
              "      <td>-0.728744</td>\n",
              "      <td>-0.005622</td>\n",
              "      <td>-0.416239</td>\n",
              "      <td>-0.026379</td>\n",
              "      <td>0.122718</td>\n",
              "      <td>-1.438989</td>\n",
              "    </tr>\n",
              "    <tr>\n",
              "      <th>...</th>\n",
              "      <td>...</td>\n",
              "      <td>...</td>\n",
              "      <td>...</td>\n",
              "      <td>...</td>\n",
              "      <td>...</td>\n",
              "      <td>...</td>\n",
              "      <td>...</td>\n",
              "      <td>...</td>\n",
              "      <td>...</td>\n",
              "    </tr>\n",
              "    <tr>\n",
              "      <th>31633</th>\n",
              "      <td>1.0</td>\n",
              "      <td>-0.014876</td>\n",
              "      <td>-0.829995</td>\n",
              "      <td>1.372223</td>\n",
              "      <td>-0.005622</td>\n",
              "      <td>-0.416239</td>\n",
              "      <td>-0.026379</td>\n",
              "      <td>1.650508</td>\n",
              "      <td>-0.861129</td>\n",
              "    </tr>\n",
              "    <tr>\n",
              "      <th>31634</th>\n",
              "      <td>1.0</td>\n",
              "      <td>-0.014876</td>\n",
              "      <td>-0.829995</td>\n",
              "      <td>-0.728744</td>\n",
              "      <td>-0.005622</td>\n",
              "      <td>-0.416239</td>\n",
              "      <td>-0.026379</td>\n",
              "      <td>-0.458882</td>\n",
              "      <td>-1.438989</td>\n",
              "    </tr>\n",
              "    <tr>\n",
              "      <th>31635</th>\n",
              "      <td>1.0</td>\n",
              "      <td>-0.014876</td>\n",
              "      <td>1.204827</td>\n",
              "      <td>-0.728744</td>\n",
              "      <td>-0.005622</td>\n",
              "      <td>-0.416239</td>\n",
              "      <td>-0.026379</td>\n",
              "      <td>-0.619538</td>\n",
              "      <td>0.872453</td>\n",
              "    </tr>\n",
              "    <tr>\n",
              "      <th>31636</th>\n",
              "      <td>1.0</td>\n",
              "      <td>-0.014876</td>\n",
              "      <td>-0.829995</td>\n",
              "      <td>-0.728744</td>\n",
              "      <td>-0.005622</td>\n",
              "      <td>2.402464</td>\n",
              "      <td>-0.026379</td>\n",
              "      <td>-0.782996</td>\n",
              "      <td>1.450313</td>\n",
              "    </tr>\n",
              "    <tr>\n",
              "      <th>31637</th>\n",
              "      <td>1.0</td>\n",
              "      <td>-0.014876</td>\n",
              "      <td>1.204827</td>\n",
              "      <td>-0.728744</td>\n",
              "      <td>-0.005622</td>\n",
              "      <td>-0.416239</td>\n",
              "      <td>-0.026379</td>\n",
              "      <td>-0.655654</td>\n",
              "      <td>-0.861129</td>\n",
              "    </tr>\n",
              "  </tbody>\n",
              "</table>\n",
              "<p>31638 rows × 9 columns</p>\n",
              "</div>"
            ],
            "text/plain": [
              "         0         1         2  ...         6         7         8\n",
              "0      1.0 -0.014876 -0.829995  ... -0.026379 -0.467288  1.450313\n",
              "1      1.0 -0.014876 -0.829995  ... -0.026379  0.095942 -0.283268\n",
              "2      1.0 -0.014876 -0.829995  ... -0.026379  0.625236 -0.283268\n",
              "3      1.0 -0.014876 -0.829995  ... -0.026379 -0.685855  1.450313\n",
              "4      1.0 -0.014876  1.204827  ... -0.026379  0.122718 -1.438989\n",
              "...    ...       ...       ...  ...       ...       ...       ...\n",
              "31633  1.0 -0.014876 -0.829995  ... -0.026379  1.650508 -0.861129\n",
              "31634  1.0 -0.014876 -0.829995  ... -0.026379 -0.458882 -1.438989\n",
              "31635  1.0 -0.014876  1.204827  ... -0.026379 -0.619538  0.872453\n",
              "31636  1.0 -0.014876 -0.829995  ... -0.026379 -0.782996  1.450313\n",
              "31637  1.0 -0.014876  1.204827  ... -0.026379 -0.655654 -0.861129\n",
              "\n",
              "[31638 rows x 9 columns]"
            ]
          },
          "metadata": {
            "tags": []
          },
          "execution_count": 69
        }
      ]
    },
    {
      "cell_type": "code",
      "metadata": {
        "id": "um6qq4xg9qX9"
      },
      "source": [
        "import statsmodels.api as sm\n",
        "def elimnaAtras (x,SL):\n",
        "  numvar = len(x[0])\n",
        "  for i in range(0 , numvar):\n",
        "    regresor_ols = sm.OLS(y, x.tolist()).fit()\n",
        "    maxvar=max(regresor_ols.pvalues).astype(float)\n",
        "    if maxvar>SL:\n",
        "      for j in range(0,numvar-i):\n",
        "        if (regresor_ols.pvalues[j].astype(float)== maxvar):\n",
        "          x=np.delete(x,j,1)\n",
        "  regresor_ols.summary()\n",
        "  return x\n",
        "SL=0.05\n",
        "x_opt = x[:,[0,1,2,3,4,5,6,7]]        \n",
        "x_modelo = elimnaAtras(x_opt, SL)"
      ],
      "execution_count": null,
      "outputs": []
    },
    {
      "cell_type": "code",
      "metadata": {
        "id": "BSfzmrR-7FeO",
        "outputId": "84d27dc1-b79c-471d-9446-ca0134a3e8de",
        "colab": {
          "base_uri": "https://localhost:8080/",
          "height": 419
        }
      },
      "source": [
        "pd.DataFrame(x_modelo)"
      ],
      "execution_count": null,
      "outputs": [
        {
          "output_type": "execute_result",
          "data": {
            "text/html": [
              "<div>\n",
              "<style scoped>\n",
              "    .dataframe tbody tr th:only-of-type {\n",
              "        vertical-align: middle;\n",
              "    }\n",
              "\n",
              "    .dataframe tbody tr th {\n",
              "        vertical-align: top;\n",
              "    }\n",
              "\n",
              "    .dataframe thead th {\n",
              "        text-align: right;\n",
              "    }\n",
              "</style>\n",
              "<table border=\"1\" class=\"dataframe\">\n",
              "  <thead>\n",
              "    <tr style=\"text-align: right;\">\n",
              "      <th></th>\n",
              "      <th>0</th>\n",
              "      <th>1</th>\n",
              "      <th>2</th>\n",
              "      <th>3</th>\n",
              "      <th>4</th>\n",
              "    </tr>\n",
              "  </thead>\n",
              "  <tbody>\n",
              "    <tr>\n",
              "      <th>0</th>\n",
              "      <td>0</td>\n",
              "      <td>1</td>\n",
              "      <td>0</td>\n",
              "      <td>18078</td>\n",
              "      <td>6</td>\n",
              "    </tr>\n",
              "    <tr>\n",
              "      <th>1</th>\n",
              "      <td>0</td>\n",
              "      <td>1</td>\n",
              "      <td>0</td>\n",
              "      <td>17986</td>\n",
              "      <td>3</td>\n",
              "    </tr>\n",
              "    <tr>\n",
              "      <th>2</th>\n",
              "      <td>0</td>\n",
              "      <td>1</td>\n",
              "      <td>0</td>\n",
              "      <td>17952</td>\n",
              "      <td>2</td>\n",
              "    </tr>\n",
              "    <tr>\n",
              "      <th>3</th>\n",
              "      <td>1</td>\n",
              "      <td>0</td>\n",
              "      <td>0</td>\n",
              "      <td>95</td>\n",
              "      <td>5</td>\n",
              "    </tr>\n",
              "    <tr>\n",
              "      <th>4</th>\n",
              "      <td>1</td>\n",
              "      <td>0</td>\n",
              "      <td>0</td>\n",
              "      <td>369</td>\n",
              "      <td>2</td>\n",
              "    </tr>\n",
              "    <tr>\n",
              "      <th>...</th>\n",
              "      <td>...</td>\n",
              "      <td>...</td>\n",
              "      <td>...</td>\n",
              "      <td>...</td>\n",
              "      <td>...</td>\n",
              "    </tr>\n",
              "    <tr>\n",
              "      <th>39543</th>\n",
              "      <td>0</td>\n",
              "      <td>0</td>\n",
              "      <td>0</td>\n",
              "      <td>1104</td>\n",
              "      <td>6</td>\n",
              "    </tr>\n",
              "    <tr>\n",
              "      <th>39544</th>\n",
              "      <td>0</td>\n",
              "      <td>1</td>\n",
              "      <td>0</td>\n",
              "      <td>10271</td>\n",
              "      <td>2</td>\n",
              "    </tr>\n",
              "    <tr>\n",
              "      <th>39545</th>\n",
              "      <td>0</td>\n",
              "      <td>1</td>\n",
              "      <td>0</td>\n",
              "      <td>8872</td>\n",
              "      <td>5</td>\n",
              "    </tr>\n",
              "    <tr>\n",
              "      <th>39546</th>\n",
              "      <td>0</td>\n",
              "      <td>0</td>\n",
              "      <td>1</td>\n",
              "      <td>1790</td>\n",
              "      <td>3</td>\n",
              "    </tr>\n",
              "    <tr>\n",
              "      <th>39547</th>\n",
              "      <td>1</td>\n",
              "      <td>0</td>\n",
              "      <td>0</td>\n",
              "      <td>2544</td>\n",
              "      <td>2</td>\n",
              "    </tr>\n",
              "  </tbody>\n",
              "</table>\n",
              "<p>39548 rows × 5 columns</p>\n",
              "</div>"
            ],
            "text/plain": [
              "       0  1  2      3  4\n",
              "0      0  1  0  18078  6\n",
              "1      0  1  0  17986  3\n",
              "2      0  1  0  17952  2\n",
              "3      1  0  0     95  5\n",
              "4      1  0  0    369  2\n",
              "...   .. .. ..    ... ..\n",
              "39543  0  0  0   1104  6\n",
              "39544  0  1  0  10271  2\n",
              "39545  0  1  0   8872  5\n",
              "39546  0  0  1   1790  3\n",
              "39547  1  0  0   2544  2\n",
              "\n",
              "[39548 rows x 5 columns]"
            ]
          },
          "metadata": {
            "tags": []
          },
          "execution_count": 71
        }
      ]
    },
    {
      "cell_type": "markdown",
      "metadata": {
        "id": "Fow-3bkhjOVu"
      },
      "source": [
        "### MODELO SVR"
      ]
    },
    {
      "cell_type": "code",
      "metadata": {
        "id": "tDBqCWkfjVjY",
        "outputId": "f7366062-4e28-4e53-a5c7-d11f1ddb0bc0",
        "colab": {
          "base_uri": "https://localhost:8080/",
          "height": 395
        }
      },
      "source": [
        "from sklearn.svm import SVR\n",
        "regression = SVR(kernel='rbf', C=1.0, epsilon= 0.2)\n",
        "regression.fit(x_modelo[:,0:4],y_train)"
      ],
      "execution_count": null,
      "outputs": [
        {
          "output_type": "stream",
          "text": [
            "/usr/local/lib/python3.6/dist-packages/sklearn/utils/validation.py:760: DataConversionWarning: A column-vector y was passed when a 1d array was expected. Please change the shape of y to (n_samples, ), for example using ravel().\n",
            "  y = column_or_1d(y, warn=True)\n"
          ],
          "name": "stderr"
        },
        {
          "output_type": "error",
          "ename": "ValueError",
          "evalue": "ignored",
          "traceback": [
            "\u001b[0;31m---------------------------------------------------------------------------\u001b[0m",
            "\u001b[0;31mValueError\u001b[0m                                Traceback (most recent call last)",
            "\u001b[0;32m<ipython-input-78-28d525023e20>\u001b[0m in \u001b[0;36m<module>\u001b[0;34m()\u001b[0m\n\u001b[1;32m      1\u001b[0m \u001b[0;32mfrom\u001b[0m \u001b[0msklearn\u001b[0m\u001b[0;34m.\u001b[0m\u001b[0msvm\u001b[0m \u001b[0;32mimport\u001b[0m \u001b[0mSVR\u001b[0m\u001b[0;34m\u001b[0m\u001b[0;34m\u001b[0m\u001b[0m\n\u001b[1;32m      2\u001b[0m \u001b[0mregression\u001b[0m \u001b[0;34m=\u001b[0m \u001b[0mSVR\u001b[0m\u001b[0;34m(\u001b[0m\u001b[0mkernel\u001b[0m\u001b[0;34m=\u001b[0m\u001b[0;34m'rbf'\u001b[0m\u001b[0;34m,\u001b[0m \u001b[0mC\u001b[0m\u001b[0;34m=\u001b[0m\u001b[0;36m1.0\u001b[0m\u001b[0;34m,\u001b[0m \u001b[0mepsilon\u001b[0m\u001b[0;34m=\u001b[0m \u001b[0;36m0.2\u001b[0m\u001b[0;34m)\u001b[0m\u001b[0;34m\u001b[0m\u001b[0;34m\u001b[0m\u001b[0m\n\u001b[0;32m----> 3\u001b[0;31m \u001b[0mregression\u001b[0m\u001b[0;34m.\u001b[0m\u001b[0mfit\u001b[0m\u001b[0;34m(\u001b[0m\u001b[0mx_modelo\u001b[0m\u001b[0;34m[\u001b[0m\u001b[0;34m:\u001b[0m\u001b[0;34m,\u001b[0m\u001b[0;36m0\u001b[0m\u001b[0;34m:\u001b[0m\u001b[0;36m4\u001b[0m\u001b[0;34m]\u001b[0m\u001b[0;34m,\u001b[0m\u001b[0my_train\u001b[0m\u001b[0;34m)\u001b[0m\u001b[0;34m\u001b[0m\u001b[0;34m\u001b[0m\u001b[0m\n\u001b[0m",
            "\u001b[0;32m/usr/local/lib/python3.6/dist-packages/sklearn/svm/_base.py\u001b[0m in \u001b[0;36mfit\u001b[0;34m(self, X, y, sample_weight)\u001b[0m\n\u001b[1;32m    146\u001b[0m         X, y = check_X_y(X, y, dtype=np.float64,\n\u001b[1;32m    147\u001b[0m                          \u001b[0morder\u001b[0m\u001b[0;34m=\u001b[0m\u001b[0;34m'C'\u001b[0m\u001b[0;34m,\u001b[0m \u001b[0maccept_sparse\u001b[0m\u001b[0;34m=\u001b[0m\u001b[0;34m'csr'\u001b[0m\u001b[0;34m,\u001b[0m\u001b[0;34m\u001b[0m\u001b[0;34m\u001b[0m\u001b[0m\n\u001b[0;32m--> 148\u001b[0;31m                          accept_large_sparse=False)\n\u001b[0m\u001b[1;32m    149\u001b[0m         \u001b[0my\u001b[0m \u001b[0;34m=\u001b[0m \u001b[0mself\u001b[0m\u001b[0;34m.\u001b[0m\u001b[0m_validate_targets\u001b[0m\u001b[0;34m(\u001b[0m\u001b[0my\u001b[0m\u001b[0;34m)\u001b[0m\u001b[0;34m\u001b[0m\u001b[0;34m\u001b[0m\u001b[0m\n\u001b[1;32m    150\u001b[0m \u001b[0;34m\u001b[0m\u001b[0m\n",
            "\u001b[0;32m/usr/local/lib/python3.6/dist-packages/sklearn/utils/validation.py\u001b[0m in \u001b[0;36mcheck_X_y\u001b[0;34m(X, y, accept_sparse, accept_large_sparse, dtype, order, copy, force_all_finite, ensure_2d, allow_nd, multi_output, ensure_min_samples, ensure_min_features, y_numeric, warn_on_dtype, estimator)\u001b[0m\n\u001b[1;32m    763\u001b[0m         \u001b[0my\u001b[0m \u001b[0;34m=\u001b[0m \u001b[0my\u001b[0m\u001b[0;34m.\u001b[0m\u001b[0mastype\u001b[0m\u001b[0;34m(\u001b[0m\u001b[0mnp\u001b[0m\u001b[0;34m.\u001b[0m\u001b[0mfloat64\u001b[0m\u001b[0;34m)\u001b[0m\u001b[0;34m\u001b[0m\u001b[0;34m\u001b[0m\u001b[0m\n\u001b[1;32m    764\u001b[0m \u001b[0;34m\u001b[0m\u001b[0m\n\u001b[0;32m--> 765\u001b[0;31m     \u001b[0mcheck_consistent_length\u001b[0m\u001b[0;34m(\u001b[0m\u001b[0mX\u001b[0m\u001b[0;34m,\u001b[0m \u001b[0my\u001b[0m\u001b[0;34m)\u001b[0m\u001b[0;34m\u001b[0m\u001b[0;34m\u001b[0m\u001b[0m\n\u001b[0m\u001b[1;32m    766\u001b[0m \u001b[0;34m\u001b[0m\u001b[0m\n\u001b[1;32m    767\u001b[0m     \u001b[0;32mreturn\u001b[0m \u001b[0mX\u001b[0m\u001b[0;34m,\u001b[0m \u001b[0my\u001b[0m\u001b[0;34m\u001b[0m\u001b[0;34m\u001b[0m\u001b[0m\n",
            "\u001b[0;32m/usr/local/lib/python3.6/dist-packages/sklearn/utils/validation.py\u001b[0m in \u001b[0;36mcheck_consistent_length\u001b[0;34m(*arrays)\u001b[0m\n\u001b[1;32m    210\u001b[0m     \u001b[0;32mif\u001b[0m \u001b[0mlen\u001b[0m\u001b[0;34m(\u001b[0m\u001b[0muniques\u001b[0m\u001b[0;34m)\u001b[0m \u001b[0;34m>\u001b[0m \u001b[0;36m1\u001b[0m\u001b[0;34m:\u001b[0m\u001b[0;34m\u001b[0m\u001b[0;34m\u001b[0m\u001b[0m\n\u001b[1;32m    211\u001b[0m         raise ValueError(\"Found input variables with inconsistent numbers of\"\n\u001b[0;32m--> 212\u001b[0;31m                          \" samples: %r\" % [int(l) for l in lengths])\n\u001b[0m\u001b[1;32m    213\u001b[0m \u001b[0;34m\u001b[0m\u001b[0m\n\u001b[1;32m    214\u001b[0m \u001b[0;34m\u001b[0m\u001b[0m\n",
            "\u001b[0;31mValueError\u001b[0m: Found input variables with inconsistent numbers of samples: [39548, 31638]"
          ]
        }
      ]
    },
    {
      "cell_type": "code",
      "metadata": {
        "id": "cQ8W4hTf8Cjm"
      },
      "source": [
        "x_valor=sc_x.inverse_transform(muestra)\n",
        "y_valor= sc_y.inverse_transform(y_muestra)\n",
        "y_predic_valor= sc_y.inverse_transform(regression.predict(muestra.reshape(-1,1)))"
      ],
      "execution_count": null,
      "outputs": []
    },
    {
      "cell_type": "code",
      "metadata": {
        "id": "_QIoRMbsqGwI"
      },
      "source": [
        "xx = []; yy = []; yy_predic=[]\n",
        "ciclo= len(muestra)\n",
        "for i in range(ciclo):\n",
        "  xx.append([x_valor[i]])\n",
        "  yy.append([y_valor[i]])\n",
        "  yy_predic.append([y_predic_valor[i]])\n",
        "print(\"x_valor = \"+str(xx)+\"\\n\")\n",
        "print(\"y_valor = \"+str(yy)+\"\\n\")\n",
        "print(\"y_predic\"+str(yy_predic)+\"\\n\")\n",
        "# Concatenamos \n",
        "tabla = np.concatenate((xx, yy,yy_predic), axis=1)\n",
        "print(\"Antes de organizar:\"+\"\\n\"+str(tabla)+\"\\n\")\n",
        "# Organizamos y recreamos tabla\n",
        "tabla[:,0].sort()\n",
        "for i in range(ciclo):\n",
        "  n_orgz =  tabla[i,0]\n",
        "  for ii in range(ciclo):\n",
        "    n_norgz =  x_valor[ii]\n",
        "    if (int(n_norgz) == int(n_orgz)):\n",
        "      tabla[i,1] = y_valor[ii]\n",
        "      tabla[i,2]= y_predic_valor[ii]\n",
        "    else:\n",
        "      pass \n",
        "print(\"Despues de organizar:\"+\"\\n\"+str(tabla)+\"\\n\")"
      ],
      "execution_count": null,
      "outputs": []
    },
    {
      "cell_type": "code",
      "metadata": {
        "id": "BU22NbLT0YvX"
      },
      "source": [
        "# Analizando datos de test\n",
        "from sklearn.preprocessing import StandardScaler\n",
        "sc_x_t = StandardScaler()\n",
        "sc_y_t = StandardScaler()\n",
        "x_test= sc_x_t.fit_transform(x_test)\n",
        "y_test= sc_y_t.fit_transform(y_test.reshape(-1,1))"
      ],
      "execution_count": null,
      "outputs": []
    },
    {
      "cell_type": "code",
      "metadata": {
        "id": "jA3VsfUN15Uf"
      },
      "source": [
        "# MODELO SVR - Test\n",
        "from sklearn.svm import SVR\n",
        "regression = SVR(kernel='rbf')\n",
        "regression.fit(x_test.reshape(-1,1),y_test.ravel())"
      ],
      "execution_count": null,
      "outputs": []
    },
    {
      "cell_type": "code",
      "metadata": {
        "id": "TbJmZpyq3S9z"
      },
      "source": [
        "x_valor_t=sc_x_t.inverse_transform(x_test)\n",
        "y_valor_t= sc_y_t.inverse_transform(y_test)\n",
        "y_predic_valor_t= sc_y_t.inverse_transform(regression.predict(x_test.reshape(-1,1)))"
      ],
      "execution_count": null,
      "outputs": []
    },
    {
      "cell_type": "code",
      "metadata": {
        "id": "_vn6bcP_39G6"
      },
      "source": [
        "xx_t = []; yy_t =[]; yy_predic_t=[]\n",
        "total_ciclo= len(x_test[:,0])\n",
        "for i in range( total_ciclo ):\n",
        "  xx_t.append(pd.DataFrame([x_valor_t[i]]))\n",
        "  yy_t.append(pd.DataFrame([y_valor_t[i]]))\n",
        "  yy_predic_t.append(pd.DataFrame([y_predic_valor_t[i]]))\n",
        "print(\"x_valor_t = \"+str(xx_t)+\"\\n\")\n",
        "print(\"y_valor_t = \"+str(yy_t)+\"\\n\")\n",
        "print(\"y_predic_t\"+str(yy_predic_t)+\"\\n\")\n",
        "# Concatenamos \n",
        "tabla_t = np.concatenate((xx_t, yy_t,yy_predic_t), axis=1)\n",
        "print(\"Antes de organizar el test:\"+\"\\n\"+str(tabla_t)+\"\\n\")\n",
        "# Organizamos y recreamos tabla test\n",
        "tabla_t[:,0].sort()\n",
        "for i in range(total_ciclo) :\n",
        "  n_orgz_t =  tabla_t[i,0]\n",
        "  for ii in range( total_ciclo ):\n",
        "    n_norgz_t =  x_valor_t[ii]\n",
        "    if (int(n_norgz_t) == int(n_orgz_t)):\n",
        "      tabla_t[i,1] = y_valor_t[ii]\n",
        "      tabla_t[i,2]= y_predic_valor_t[ii]\n",
        "    else:\n",
        "      pass \n",
        "print(\"Despues de organizar:\"+\"\\n\"+str(tabla_t)+\"\\n\")"
      ],
      "execution_count": null,
      "outputs": []
    },
    {
      "cell_type": "code",
      "metadata": {
        "id": "sWGOTjcQr2Fd"
      },
      "source": [
        "# Graficamos \n",
        "plt.scatter(tabla[:,0],tabla[:,1],color='Red', marker='^',alpha=0.5)\n",
        "plt.plot(tabla[:,0],tabla[:,2],color='Blue', marker='^',alpha=0.5)\n",
        "plt.title(\"Bajas vs SVR\")\n",
        "plt.xlabel(\"Periodo Baja\")\n",
        "plt.ylabel(\"Cantidad\")\n",
        "plt.show()"
      ],
      "execution_count": null,
      "outputs": []
    },
    {
      "cell_type": "code",
      "metadata": {
        "id": "qZpysItQ-wvl"
      },
      "source": [
        "# Graficamos test\n",
        "plt.scatter(tabla_t[:,0],tabla_t[:,1],color='Red', marker='^',alpha=0.5)\n",
        "plt.plot(tabla_t[:,0],tabla_t[:,2],color='Blue', marker='^',alpha=0.5)\n",
        "plt.title(\"Bajas TEST vs SVR\")\n",
        "plt.xlabel(\"Periodo Baja\")\n",
        "plt.ylabel(\"Cantidad\")\n",
        "plt.show()"
      ],
      "execution_count": null,
      "outputs": []
    },
    {
      "cell_type": "code",
      "metadata": {
        "id": "Qb1Y9sXwMIcZ"
      },
      "source": [
        "'''nuevo= np.array([])\n",
        "for i in range(202009 , 202012):\n",
        "  nuevo= np.append(nuevo, i)\n",
        "y_pred=sc_y.inverse_transform(regression.predict(sc_x.transform(nuevo.reshape(-1,1))))\n",
        "pd.DataFrame(y_pred)'''"
      ],
      "execution_count": null,
      "outputs": []
    },
    {
      "cell_type": "code",
      "metadata": {
        "id": "moOJWv5p_ab9"
      },
      "source": [
        "# Margen de Error entrenamiento\n",
        "error_muestra= []; x_train_muestra=[]\n",
        "for i in range(ciclo):\n",
        "  calculo_error_muestra = (( tabla[i,1] - tabla[i,2] ) / tabla[i,1] ) * 100\n",
        "  calculo_error_muestra = abs(calculo_error_muestra)\n",
        "  error_muestra.append(calculo_error_muestra)\n",
        "  x_train_muestra.append(int(tabla[i,0]))\n",
        "print(\"x train muestra = \"+str(x_train_muestra)+\"\\n\")\n",
        "print(\"error_muestra = \" +str(error_muestra)+\"\\n\")\n",
        "# Concatenamos  \n",
        "var1=np.array([error_muestra]).T\n",
        "var2=np.array([x_train_muestra]).T\n",
        "tabla_error = np.concatenate((var2, var1),axis=1)\n",
        "print(\"Antes de organizar los datos:\"+str(tabla_error)+\"\\n\")\n",
        "# Organizamos y recreamos los datos\n",
        "tabla_error[:,0].sort()\n",
        "for i in range(ciclo) :\n",
        "  n_orgz =  tabla_error[i,0]\n",
        "  for ii in range( ciclo ):\n",
        "    n_norgz =  var2[ii]\n",
        "    if (int(n_norgz) == int(n_orgz)):\n",
        "      tabla_error[i,1] = error_muestra[ii]\n",
        "    else:\n",
        "      pass \n",
        "print(\"Despues de organizar los datos:\"+\"\\n\"+str(tabla_error)+\"\\n\")"
      ],
      "execution_count": null,
      "outputs": []
    },
    {
      "cell_type": "code",
      "metadata": {
        "id": "uPhXSw4LIJNc"
      },
      "source": [
        "# Graficamos error muestra\n",
        "plt.plot(tabla_error[:,0],tabla_error[:,1],color='Red', marker='^',alpha=0.5)\n",
        "plt.title(\"error entrenamiento\")\n",
        "plt.xlabel(\"Periodo\")\n",
        "plt.ylabel(\"Error\")\n",
        "plt.show()"
      ],
      "execution_count": null,
      "outputs": []
    },
    {
      "cell_type": "code",
      "metadata": {
        "id": "mXcK-MWEJF77"
      },
      "source": [
        "# Margen de error Test\n",
        "error_test = []; x_e_test =[]\n",
        "for i in range(total_ciclo):\n",
        "  calculo_error_muestra_t = (( tabla_t[i,1] - tabla_t[i,2] ) / tabla_t[i,1] ) * 100\n",
        "  calculo_error_muestra_t = abs(calculo_error_muestra_t)\n",
        "  error_test.append(calculo_error_muestra_t)\n",
        "  x_e_test.append(int(tabla_t[i,0]))\n",
        "print(\"x test = \"+str(x_e_test)+\"\\n\")\n",
        "print(\"error test = \" +str(error_test)+\"\\n\")\n",
        "# Concatenamos  \n",
        "var1_t=np.array([error_test]).T\n",
        "var2_t=np.array([x_e_test]).T\n",
        "tabla_error_t = np.concatenate((var2_t, var1_t),axis=1)\n",
        "print(\"Antes de organizar los datos:\"+str(tabla_error_t)+\"\\n\")\n",
        "# Organizamos y recreamos los datos\n",
        "tabla_error_t[:,0].sort()\n",
        "for i in range(total_ciclo) :\n",
        "  n_orgz_t =  tabla_error_t[i,0]\n",
        "  for ii in range( total_ciclo ):\n",
        "    n_norgz_t =  var2_t[ii]\n",
        "    if (int(n_norgz_t) == int(n_orgz_t)):\n",
        "      tabla_error_t[i,1] = error_test[ii]\n",
        "    else:\n",
        "      pass \n",
        "print(\"Despues de organizar los datos:\"+\"\\n\"+str(tabla_error_t)+\"\\n\")"
      ],
      "execution_count": null,
      "outputs": []
    },
    {
      "cell_type": "code",
      "metadata": {
        "id": "lEztTGOgJJTj"
      },
      "source": [
        "# Graficamos error test\n",
        "plt.plot(tabla_error_t[:,0],tabla_error_t[:,1],color='Blue', marker='^',alpha=0.5)\n",
        "plt.title(\"error test\")\n",
        "plt.xlabel(\"Periodo\")\n",
        "plt.ylabel(\"Error\")\n",
        "plt.show()"
      ],
      "execution_count": null,
      "outputs": []
    },
    {
      "cell_type": "code",
      "metadata": {
        "id": "WpHRgL7CKmBI"
      },
      "source": [
        "# Graficamos error \n",
        "plt.plot(tabla_error[:,0],tabla_error[:,1],color='Red', marker='^',alpha=0.5)\n",
        "plt.plot(tabla_error_t[:,0],tabla_error_t[:,1],color='Blue', marker='^',alpha=0.5)\n",
        "plt.title(\"error entrenamiento vs error test\")\n",
        "plt.xlabel(\"Periodo\")\n",
        "plt.ylabel(\"Error\")\n",
        "plt.show()"
      ],
      "execution_count": null,
      "outputs": []
    },
    {
      "cell_type": "code",
      "metadata": {
        "id": "95YNYaBDE8t_"
      },
      "source": [
        "var_x1=np.array([x_valor]).T\n",
        "var_y1=np.array([y_valor]).T"
      ],
      "execution_count": null,
      "outputs": []
    },
    {
      "cell_type": "code",
      "metadata": {
        "id": "uEvcJCoYF53G"
      },
      "source": [
        "var_y1[:,0]"
      ],
      "execution_count": null,
      "outputs": []
    },
    {
      "cell_type": "code",
      "metadata": {
        "id": "-Byj-y-aFatN"
      },
      "source": [
        "var_x1_t[:,0]"
      ],
      "execution_count": null,
      "outputs": []
    },
    {
      "cell_type": "code",
      "metadata": {
        "id": "dDO6IxqQAVEg"
      },
      "source": [
        "regression.score(var_x1[:,0], var_y1[:,0], sample_weight=None)"
      ],
      "execution_count": null,
      "outputs": []
    }
  ]
}