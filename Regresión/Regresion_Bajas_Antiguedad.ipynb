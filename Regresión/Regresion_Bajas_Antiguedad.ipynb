{
  "nbformat": 4,
  "nbformat_minor": 0,
  "metadata": {
    "colab": {
      "name": "Untitled1.ipynb",
      "provenance": [],
      "include_colab_link": true
    },
    "kernelspec": {
      "name": "python3",
      "display_name": "Python 3"
    }
  },
  "cells": [
    {
      "cell_type": "markdown",
      "metadata": {
        "id": "view-in-github",
        "colab_type": "text"
      },
      "source": [
        "<a href=\"https://colab.research.google.com/github/ClauCll/Curso_ML_A_Z/blob/master/Regresi%C3%B3n/Regresion_Bajas_Antiguedad.ipynb\" target=\"_parent\"><img src=\"https://colab.research.google.com/assets/colab-badge.svg\" alt=\"Open In Colab\"/></a>"
      ]
    },
    {
      "cell_type": "markdown",
      "metadata": {
        "id": "-J3qDXeFwvSb"
      },
      "source": [
        "## Cuantas serán las bajas voluntarias de los clientes fijos para el periodo 202009. \n",
        " "
      ]
    },
    {
      "cell_type": "code",
      "metadata": {
        "id": "Vsqlhqgww1BG"
      },
      "source": [
        "import pandas as pd\n",
        "import numpy as np\n",
        "from mpl_toolkits.mplot3d import axes3d\n",
        "import matplotlib.pyplot as plt\n",
        "import gspread\n",
        "from oauth2client.client import GoogleCredentials \n",
        "from google.colab import auth\n",
        "# Autoriza Claudia\n",
        "auth.authenticate_user()\n",
        "gc = gspread.authorize (GoogleCredentials.get_application_default())"
      ],
      "execution_count": 8,
      "outputs": []
    },
    {
      "cell_type": "markdown",
      "metadata": {
        "id": "2xAoqlB_02Do"
      },
      "source": [
        "### leemos datos"
      ]
    },
    {
      "cell_type": "code",
      "metadata": {
        "id": "y_VVpj56uzRV",
        "outputId": "d5049efe-20c3-434b-f25b-5fc6fc6dd724",
        "colab": {
          "base_uri": "https://localhost:8080/",
          "height": 34
        }
      },
      "source": [
        "from google.colab import drive\n",
        "drive.mount('/content/drive')"
      ],
      "execution_count": 9,
      "outputs": [
        {
          "output_type": "stream",
          "text": [
            "Drive already mounted at /content/drive; to attempt to forcibly remount, call drive.mount(\"/content/drive\", force_remount=True).\n"
          ],
          "name": "stdout"
        }
      ]
    },
    {
      "cell_type": "code",
      "metadata": {
        "id": "0JYqth2Ty8-k"
      },
      "source": [
        "data1 = pd.read_csv('/content/drive/My Drive/Dataset/DBajas_ANTIGUEDAD.txt',delimiter='~')\n",
        "x = data1.iloc [:,:-1].values\n",
        "y = data1.iloc [:,2].values"
      ],
      "execution_count": 10,
      "outputs": []
    },
    {
      "cell_type": "code",
      "metadata": {
        "id": "EYca9i97JQXc"
      },
      "source": [
        "x"
      ],
      "execution_count": null,
      "outputs": []
    },
    {
      "cell_type": "markdown",
      "metadata": {
        "id": "LGqSJaVW53oC"
      },
      "source": [
        "### Codificar datos categóricos"
      ]
    },
    {
      "cell_type": "code",
      "metadata": {
        "id": "1xHeUpIU59aN",
        "outputId": "91b76d39-807d-4e53-8a1d-e9fa69c8a701",
        "colab": {
          "base_uri": "https://localhost:8080/",
          "height": 282
        }
      },
      "source": [
        "from sklearn.preprocessing import LabelEncoder, OneHotEncoder\n",
        "from sklearn.compose import ColumnTransformer\n",
        "labelencoder  = LabelEncoder()\n",
        "labelencoder  = LabelEncoder()\n",
        "x[:,1] = labelencoder.fit_transform(x[:,1])\n",
        "ct = ColumnTransformer([('one_hot_encoder',OneHotEncoder(categories='auto'),[1])],remainder='passthrough')\n",
        "x= np.array(ct.fit_transform(x),dtype=np.integer)"
      ],
      "execution_count": 7,
      "outputs": [
        {
          "output_type": "error",
          "ename": "ValueError",
          "evalue": "ignored",
          "traceback": [
            "\u001b[0;31m---------------------------------------------------------------------------\u001b[0m",
            "\u001b[0;31mTypeError\u001b[0m                                 Traceback (most recent call last)",
            "\u001b[0;31mTypeError\u001b[0m: int() argument must be a string, a bytes-like object or a number, not 'csr_matrix'",
            "\nThe above exception was the direct cause of the following exception:\n",
            "\u001b[0;31mValueError\u001b[0m                                Traceback (most recent call last)",
            "\u001b[0;32m<ipython-input-7-9da2c2a4d2df>\u001b[0m in \u001b[0;36m<module>\u001b[0;34m()\u001b[0m\n\u001b[1;32m      5\u001b[0m \u001b[0mx\u001b[0m\u001b[0;34m[\u001b[0m\u001b[0;34m:\u001b[0m\u001b[0;34m,\u001b[0m\u001b[0;36m1\u001b[0m\u001b[0;34m]\u001b[0m \u001b[0;34m=\u001b[0m \u001b[0mlabelencoder\u001b[0m\u001b[0;34m.\u001b[0m\u001b[0mfit_transform\u001b[0m\u001b[0;34m(\u001b[0m\u001b[0mx\u001b[0m\u001b[0;34m[\u001b[0m\u001b[0;34m:\u001b[0m\u001b[0;34m,\u001b[0m\u001b[0;36m1\u001b[0m\u001b[0;34m]\u001b[0m\u001b[0;34m)\u001b[0m\u001b[0;34m\u001b[0m\u001b[0;34m\u001b[0m\u001b[0m\n\u001b[1;32m      6\u001b[0m \u001b[0mct\u001b[0m \u001b[0;34m=\u001b[0m \u001b[0mColumnTransformer\u001b[0m\u001b[0;34m(\u001b[0m\u001b[0;34m[\u001b[0m\u001b[0;34m(\u001b[0m\u001b[0;34m'one_hot_encoder'\u001b[0m\u001b[0;34m,\u001b[0m\u001b[0mOneHotEncoder\u001b[0m\u001b[0;34m(\u001b[0m\u001b[0mcategories\u001b[0m\u001b[0;34m=\u001b[0m\u001b[0;34m'auto'\u001b[0m\u001b[0;34m)\u001b[0m\u001b[0;34m,\u001b[0m\u001b[0;34m[\u001b[0m\u001b[0;36m1\u001b[0m\u001b[0;34m]\u001b[0m\u001b[0;34m)\u001b[0m\u001b[0;34m]\u001b[0m\u001b[0;34m,\u001b[0m\u001b[0mremainder\u001b[0m\u001b[0;34m=\u001b[0m\u001b[0;34m'passthrough'\u001b[0m\u001b[0;34m)\u001b[0m\u001b[0;34m\u001b[0m\u001b[0;34m\u001b[0m\u001b[0m\n\u001b[0;32m----> 7\u001b[0;31m \u001b[0mx\u001b[0m\u001b[0;34m=\u001b[0m \u001b[0mnp\u001b[0m\u001b[0;34m.\u001b[0m\u001b[0marray\u001b[0m\u001b[0;34m(\u001b[0m\u001b[0mct\u001b[0m\u001b[0;34m.\u001b[0m\u001b[0mfit_transform\u001b[0m\u001b[0;34m(\u001b[0m\u001b[0mx\u001b[0m\u001b[0;34m)\u001b[0m\u001b[0;34m,\u001b[0m\u001b[0mdtype\u001b[0m\u001b[0;34m=\u001b[0m\u001b[0mnp\u001b[0m\u001b[0;34m.\u001b[0m\u001b[0minteger\u001b[0m\u001b[0;34m)\u001b[0m\u001b[0;34m\u001b[0m\u001b[0;34m\u001b[0m\u001b[0m\n\u001b[0m",
            "\u001b[0;31mValueError\u001b[0m: setting an array element with a sequence."
          ]
        }
      ]
    },
    {
      "cell_type": "code",
      "metadata": {
        "id": "nmeZH3I84EtO"
      },
      "source": [
        "pd.DataFrame(x)"
      ],
      "execution_count": null,
      "outputs": []
    },
    {
      "cell_type": "markdown",
      "metadata": {
        "id": "elfJqy4EBVo8"
      },
      "source": [
        "### Evitar la trampa de variables Dummy"
      ]
    },
    {
      "cell_type": "code",
      "metadata": {
        "id": "gxuG7JnEBdBU"
      },
      "source": [
        "'''x = x[:,1:]'''"
      ],
      "execution_count": null,
      "outputs": []
    },
    {
      "cell_type": "markdown",
      "metadata": {
        "id": "wNusxNzT3UMP"
      },
      "source": [
        "### Dividimos los datos en entrenamiento y test"
      ]
    },
    {
      "cell_type": "code",
      "metadata": {
        "id": "Oc4kco8u3ah-"
      },
      "source": [
        "from sklearn.model_selection import train_test_split\n",
        "x_train, x_test, y_train, y_test = train_test_split(x,y,test_size= 0.2, random_state=0)"
      ],
      "execution_count": 11,
      "outputs": []
    },
    {
      "cell_type": "markdown",
      "metadata": {
        "id": "TMvIs9DIgZV_"
      },
      "source": [
        "### Escalamos los datos"
      ]
    },
    {
      "cell_type": "code",
      "metadata": {
        "id": "xZq1KN4y3NGh"
      },
      "source": [
        "'''from sklearn.preprocessing import StandardScaler\n",
        "sc_x = StandardScaler()\n",
        "sc_y = StandardScaler()\n",
        "x_train= sc_x.fit_transform(x_train)\n",
        "y_train= sc_y.fit_transform(y_train.reshape(-1,1))'''"
      ],
      "execution_count": 224,
      "outputs": []
    },
    {
      "cell_type": "code",
      "metadata": {
        "id": "t5V6r84rgH1Q"
      },
      "source": [
        "'''len(x_train[:,0])"
      ],
      "execution_count": null,
      "outputs": []
    },
    {
      "cell_type": "code",
      "metadata": {
        "id": "BKP7Xb2ap7Gf"
      },
      "source": [
        "'''pd.DataFrame(x_train)"
      ],
      "execution_count": null,
      "outputs": []
    },
    {
      "cell_type": "code",
      "metadata": {
        "id": "x4teI7B4o9ew",
        "outputId": "01801bb2-05c1-470d-efc6-8925991dc5bf",
        "colab": {
          "base_uri": "https://localhost:8080/",
          "height": 1000
        }
      },
      "source": [
        "x_train"
      ],
      "execution_count": 12,
      "outputs": [
        {
          "output_type": "execute_result",
          "data": {
            "text/plain": [
              "array([[202007, '1_3_ANIOS'],\n",
              "       [202003, '4_TRIM'],\n",
              "       [202002, '4_TRIM'],\n",
              "       [201909, '2_TRIM'],\n",
              "       [201908, '3_TRIM'],\n",
              "       [202004, '4_6_ANIOS'],\n",
              "       [201909, '4_6_ANIOS'],\n",
              "       [202006, '1_3_ANIOS'],\n",
              "       [202003, '1_TRIM'],\n",
              "       [202004, '2_TRIM'],\n",
              "       [201912, '4_6_ANIOS'],\n",
              "       [202002, '1_3_ANIOS'],\n",
              "       [202008, 'MAYOR_6_ANIOS'],\n",
              "       [201908, '2_TRIM'],\n",
              "       [202005, '3_TRIM'],\n",
              "       [201910, '4_TRIM'],\n",
              "       [202005, '4_TRIM'],\n",
              "       [202007, '4_6_ANIOS'],\n",
              "       [202005, '2_TRIM'],\n",
              "       [202001, '4_TRIM'],\n",
              "       [201912, '4_TRIM'],\n",
              "       [201909, '3_TRIM'],\n",
              "       [202005, '4_6_ANIOS'],\n",
              "       [201911, '1_3_ANIOS'],\n",
              "       [201909, '4_TRIM'],\n",
              "       [202001, '1_3_ANIOS'],\n",
              "       [202007, 'MAYOR_6_ANIOS'],\n",
              "       [202007, '4_TRIM'],\n",
              "       [201908, '4_TRIM'],\n",
              "       [202001, '3_TRIM'],\n",
              "       [202007, '3_TRIM'],\n",
              "       [201910, '1_TRIM'],\n",
              "       [202004, '1_3_ANIOS'],\n",
              "       [201911, '1_TRIM'],\n",
              "       [201912, '2_TRIM'],\n",
              "       [202006, 'MAYOR_6_ANIOS'],\n",
              "       [202004, '1_TRIM'],\n",
              "       [201911, '2_TRIM'],\n",
              "       [202001, '1_TRIM'],\n",
              "       [201910, 'MAYOR_6_ANIOS'],\n",
              "       [201908, '4_6_ANIOS'],\n",
              "       [202008, '1_3_ANIOS'],\n",
              "       [201910, '4_6_ANIOS'],\n",
              "       [201908, '1_3_ANIOS'],\n",
              "       [202006, '4_TRIM'],\n",
              "       [201910, '3_TRIM'],\n",
              "       [202004, '4_TRIM'],\n",
              "       [201911, '4_TRIM'],\n",
              "       [202008, '4_TRIM'],\n",
              "       [201912, '3_TRIM'],\n",
              "       [202002, '4_6_ANIOS'],\n",
              "       [202003, '4_6_ANIOS'],\n",
              "       [202002, '3_TRIM'],\n",
              "       [202006, '4_6_ANIOS'],\n",
              "       [202005, '1_3_ANIOS'],\n",
              "       [201910, '2_TRIM'],\n",
              "       [202007, '2_TRIM'],\n",
              "       [202001, '2_TRIM'],\n",
              "       [201911, '3_TRIM'],\n",
              "       [201909, '1_3_ANIOS'],\n",
              "       [202008, '3_TRIM'],\n",
              "       [202006, '1_TRIM'],\n",
              "       [202006, '2_TRIM'],\n",
              "       [202003, '2_TRIM'],\n",
              "       [202003, '1_3_ANIOS']], dtype=object)"
            ]
          },
          "metadata": {
            "tags": []
          },
          "execution_count": 12
        }
      ]
    },
    {
      "cell_type": "markdown",
      "metadata": {
        "id": "0liVi8gi6pae"
      },
      "source": [
        "### DETERMINAR DIMENSIONES.  ELIMINACION HACIA ATRAS"
      ]
    },
    {
      "cell_type": "code",
      "metadata": {
        "id": "Elnz3K6k62oQ"
      },
      "source": [
        "##x_train=np.append(arr=np.ones((len(x_train[:,0]),1)).astype(int),values=x_train,axis=1)"
      ],
      "execution_count": null,
      "outputs": []
    },
    {
      "cell_type": "code",
      "metadata": {
        "id": "IFbdKOGNqD-T"
      },
      "source": [
        "##pd.DataFrame(x_train)"
      ],
      "execution_count": null,
      "outputs": []
    },
    {
      "cell_type": "code",
      "metadata": {
        "id": "um6qq4xg9qX9"
      },
      "source": [
        "'''import statsmodels.api as sm\n",
        "def elimnaAtras (x,SL):\n",
        "  numvar = len(x[0])\n",
        "  for i in range(0 , numvar):\n",
        "    regresor_ols = sm.OLS(y, x.tolist()).fit()\n",
        "    maxvar=max(regresor_ols.pvalues).astype(float)\n",
        "    if maxvar>SL:\n",
        "      for j in range(0,numvar-i):\n",
        "        if (regresor_ols.pvalues[j].astype(float)== maxvar):\n",
        "          x=np.delete(x,j,1)\n",
        "  regresor_ols.summary()\n",
        "  return x\n",
        "SL=0.05\n",
        "x_opt = x[:,[0,1,2,3,4,5,6,7]]        \n",
        "x_modelo = elimnaAtras(x_opt, SL)'''"
      ],
      "execution_count": null,
      "outputs": []
    },
    {
      "cell_type": "code",
      "metadata": {
        "id": "BSfzmrR-7FeO"
      },
      "source": [
        "##pd.DataFrame(x_modelo)"
      ],
      "execution_count": null,
      "outputs": []
    },
    {
      "cell_type": "markdown",
      "metadata": {
        "id": "Fow-3bkhjOVu"
      },
      "source": [
        "### MODELO REGRESION POLINOMICA"
      ]
    },
    {
      "cell_type": "code",
      "metadata": {
        "id": "tDBqCWkfjVjY",
        "outputId": "2b9191fc-b2e4-4301-ad0b-8c73bc8ab2ef",
        "colab": {
          "base_uri": "https://localhost:8080/",
          "height": 34
        }
      },
      "source": [
        "from sklearn.preprocessing import PolynomialFeatures\n",
        "poly_reg = PolynomialFeatures(degree = 2)\n",
        "x_poly = poly_reg.fit_transform(x_train)\n",
        "\n",
        "from sklearn.linear_model import LinearRegression\n",
        "lineal_poly = LinearRegression()\n",
        "lineal_poly.fit(x_poly,y_train)"
      ],
      "execution_count": 271,
      "outputs": [
        {
          "output_type": "execute_result",
          "data": {
            "text/plain": [
              "LinearRegression(copy_X=True, fit_intercept=True, n_jobs=None, normalize=False)"
            ]
          },
          "metadata": {
            "tags": []
          },
          "execution_count": 271
        }
      ]
    },
    {
      "cell_type": "code",
      "metadata": {
        "id": "cQ8W4hTf8Cjm"
      },
      "source": [
        "'''x_valor=sc_x.inverse_transform(x_train)\n",
        "y_valor= sc_y.inverse_transform(y_train)\n",
        "y_predic_valor= sc_y.inverse_transform(regression.predict(x_train))'''"
      ],
      "execution_count": 226,
      "outputs": []
    },
    {
      "cell_type": "code",
      "metadata": {
        "id": "dwwzroSL4J3G"
      },
      "source": [
        "pd.DataFrame(lineal_poly.predict(x_poly))"
      ],
      "execution_count": null,
      "outputs": []
    },
    {
      "cell_type": "code",
      "metadata": {
        "id": "xx7RR2QsIKdx",
        "outputId": "a7547c41-cc19-4520-85e8-2b71f58ce280",
        "colab": {
          "base_uri": "https://localhost:8080/",
          "height": 419
        }
      },
      "source": [
        "pd.DataFrame(x_poly)"
      ],
      "execution_count": 286,
      "outputs": [
        {
          "output_type": "execute_result",
          "data": {
            "text/html": [
              "<div>\n",
              "<style scoped>\n",
              "    .dataframe tbody tr th:only-of-type {\n",
              "        vertical-align: middle;\n",
              "    }\n",
              "\n",
              "    .dataframe tbody tr th {\n",
              "        vertical-align: top;\n",
              "    }\n",
              "\n",
              "    .dataframe thead th {\n",
              "        text-align: right;\n",
              "    }\n",
              "</style>\n",
              "<table border=\"1\" class=\"dataframe\">\n",
              "  <thead>\n",
              "    <tr style=\"text-align: right;\">\n",
              "      <th></th>\n",
              "      <th>0</th>\n",
              "      <th>1</th>\n",
              "      <th>2</th>\n",
              "      <th>3</th>\n",
              "      <th>4</th>\n",
              "      <th>5</th>\n",
              "    </tr>\n",
              "  </thead>\n",
              "  <tbody>\n",
              "    <tr>\n",
              "      <th>0</th>\n",
              "      <td>1.0</td>\n",
              "      <td>202007.0</td>\n",
              "      <td>7.0</td>\n",
              "      <td>4.080683e+10</td>\n",
              "      <td>1414049.0</td>\n",
              "      <td>49.0</td>\n",
              "    </tr>\n",
              "    <tr>\n",
              "      <th>1</th>\n",
              "      <td>1.0</td>\n",
              "      <td>202003.0</td>\n",
              "      <td>3.0</td>\n",
              "      <td>4.080521e+10</td>\n",
              "      <td>606009.0</td>\n",
              "      <td>9.0</td>\n",
              "    </tr>\n",
              "    <tr>\n",
              "      <th>2</th>\n",
              "      <td>1.0</td>\n",
              "      <td>202002.0</td>\n",
              "      <td>3.0</td>\n",
              "      <td>4.080481e+10</td>\n",
              "      <td>606006.0</td>\n",
              "      <td>9.0</td>\n",
              "    </tr>\n",
              "    <tr>\n",
              "      <th>3</th>\n",
              "      <td>1.0</td>\n",
              "      <td>201909.0</td>\n",
              "      <td>5.0</td>\n",
              "      <td>4.076724e+10</td>\n",
              "      <td>1009545.0</td>\n",
              "      <td>25.0</td>\n",
              "    </tr>\n",
              "    <tr>\n",
              "      <th>4</th>\n",
              "      <td>1.0</td>\n",
              "      <td>201908.0</td>\n",
              "      <td>2.0</td>\n",
              "      <td>4.076684e+10</td>\n",
              "      <td>403816.0</td>\n",
              "      <td>4.0</td>\n",
              "    </tr>\n",
              "    <tr>\n",
              "      <th>...</th>\n",
              "      <td>...</td>\n",
              "      <td>...</td>\n",
              "      <td>...</td>\n",
              "      <td>...</td>\n",
              "      <td>...</td>\n",
              "      <td>...</td>\n",
              "    </tr>\n",
              "    <tr>\n",
              "      <th>60</th>\n",
              "      <td>1.0</td>\n",
              "      <td>202008.0</td>\n",
              "      <td>7.0</td>\n",
              "      <td>4.080723e+10</td>\n",
              "      <td>1414056.0</td>\n",
              "      <td>49.0</td>\n",
              "    </tr>\n",
              "    <tr>\n",
              "      <th>61</th>\n",
              "      <td>1.0</td>\n",
              "      <td>202006.0</td>\n",
              "      <td>4.0</td>\n",
              "      <td>4.080642e+10</td>\n",
              "      <td>808024.0</td>\n",
              "      <td>16.0</td>\n",
              "    </tr>\n",
              "    <tr>\n",
              "      <th>62</th>\n",
              "      <td>1.0</td>\n",
              "      <td>202006.0</td>\n",
              "      <td>5.0</td>\n",
              "      <td>4.080642e+10</td>\n",
              "      <td>1010030.0</td>\n",
              "      <td>25.0</td>\n",
              "    </tr>\n",
              "    <tr>\n",
              "      <th>63</th>\n",
              "      <td>1.0</td>\n",
              "      <td>202003.0</td>\n",
              "      <td>5.0</td>\n",
              "      <td>4.080521e+10</td>\n",
              "      <td>1010015.0</td>\n",
              "      <td>25.0</td>\n",
              "    </tr>\n",
              "    <tr>\n",
              "      <th>64</th>\n",
              "      <td>1.0</td>\n",
              "      <td>202003.0</td>\n",
              "      <td>1.0</td>\n",
              "      <td>4.080521e+10</td>\n",
              "      <td>202003.0</td>\n",
              "      <td>1.0</td>\n",
              "    </tr>\n",
              "  </tbody>\n",
              "</table>\n",
              "<p>65 rows × 6 columns</p>\n",
              "</div>"
            ],
            "text/plain": [
              "      0         1    2             3          4     5\n",
              "0   1.0  202007.0  7.0  4.080683e+10  1414049.0  49.0\n",
              "1   1.0  202003.0  3.0  4.080521e+10   606009.0   9.0\n",
              "2   1.0  202002.0  3.0  4.080481e+10   606006.0   9.0\n",
              "3   1.0  201909.0  5.0  4.076724e+10  1009545.0  25.0\n",
              "4   1.0  201908.0  2.0  4.076684e+10   403816.0   4.0\n",
              "..  ...       ...  ...           ...        ...   ...\n",
              "60  1.0  202008.0  7.0  4.080723e+10  1414056.0  49.0\n",
              "61  1.0  202006.0  4.0  4.080642e+10   808024.0  16.0\n",
              "62  1.0  202006.0  5.0  4.080642e+10  1010030.0  25.0\n",
              "63  1.0  202003.0  5.0  4.080521e+10  1010015.0  25.0\n",
              "64  1.0  202003.0  1.0  4.080521e+10   202003.0   1.0\n",
              "\n",
              "[65 rows x 6 columns]"
            ]
          },
          "metadata": {
            "tags": []
          },
          "execution_count": 286
        }
      ]
    },
    {
      "cell_type": "code",
      "metadata": {
        "id": "FPVQ5suz5izx"
      },
      "source": [
        "pd.DataFrame(y_train)"
      ],
      "execution_count": null,
      "outputs": []
    },
    {
      "cell_type": "code",
      "metadata": {
        "id": "CPBCDc7zy7Eg"
      },
      "source": [
        "# GRAFICO ENTRENAMIENTO\n",
        "x_grid = np.arange(min(x_train[:,0]), max(x_train[:,0]), 0.1)\n",
        "x_grid= x_grid.reshape(len(x_grid),1)\n",
        "plt.scatter (x_train[:,0],y_train, color=\"Red\")\n",
        "plt.plot (x_train[:,0],lineal_poly.predict(x_poly),color=\"blue\")\n",
        "plt.title (\"Modelo polinómico\")\n",
        "plt.xlabel(\"Periodo\")\n",
        "plt.ylabel(\"Cantidad Bajas\")\n",
        "plt.show()"
      ],
      "execution_count": null,
      "outputs": []
    },
    {
      "cell_type": "code",
      "metadata": {
        "id": "So6S1Wv2Hq8W"
      },
      "source": [
        "x_train[:,0]"
      ],
      "execution_count": null,
      "outputs": []
    }
  ]
}