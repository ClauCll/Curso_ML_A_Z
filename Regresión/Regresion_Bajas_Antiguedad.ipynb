{
  "nbformat": 4,
  "nbformat_minor": 0,
  "metadata": {
    "colab": {
      "name": "Untitled1.ipynb",
      "provenance": [],
      "include_colab_link": true
    },
    "kernelspec": {
      "name": "python3",
      "display_name": "Python 3"
    }
  },
  "cells": [
    {
      "cell_type": "markdown",
      "metadata": {
        "id": "view-in-github",
        "colab_type": "text"
      },
      "source": [
        "<a href=\"https://colab.research.google.com/github/ClauCll/Curso_ML_A_Z/blob/master/Regresi%C3%B3n/Regresion_Bajas_Antiguedad.ipynb\" target=\"_parent\"><img src=\"https://colab.research.google.com/assets/colab-badge.svg\" alt=\"Open In Colab\"/></a>"
      ]
    },
    {
      "cell_type": "markdown",
      "metadata": {
        "id": "-J3qDXeFwvSb"
      },
      "source": [
        "## Cuantas serán las bajas voluntarias de los clientes fijos para el periodo 202009. \n",
        " "
      ]
    },
    {
      "cell_type": "code",
      "metadata": {
        "id": "Vsqlhqgww1BG"
      },
      "source": [
        "import pandas as pd\n",
        "import numpy as np\n",
        "from mpl_toolkits.mplot3d import axes3d\n",
        "import matplotlib.pyplot as plt\n",
        "import gspread\n",
        "from oauth2client.client import GoogleCredentials \n",
        "from google.colab import auth\n",
        "# Autoriza Claudia\n",
        "auth.authenticate_user()\n",
        "gc = gspread.authorize (GoogleCredentials.get_application_default())"
      ],
      "execution_count": 155,
      "outputs": []
    },
    {
      "cell_type": "markdown",
      "metadata": {
        "id": "2xAoqlB_02Do"
      },
      "source": [
        "### leemos datos"
      ]
    },
    {
      "cell_type": "code",
      "metadata": {
        "id": "y_VVpj56uzRV",
        "outputId": "6ca421d4-1644-4a6f-9f63-efce9e8b2b41",
        "colab": {
          "base_uri": "https://localhost:8080/",
          "height": 34
        }
      },
      "source": [
        "from google.colab import drive\n",
        "drive.mount('/content/drive')"
      ],
      "execution_count": 156,
      "outputs": [
        {
          "output_type": "stream",
          "text": [
            "Drive already mounted at /content/drive; to attempt to forcibly remount, call drive.mount(\"/content/drive\", force_remount=True).\n"
          ],
          "name": "stdout"
        }
      ]
    },
    {
      "cell_type": "code",
      "metadata": {
        "id": "0JYqth2Ty8-k"
      },
      "source": [
        "data1 = pd.read_csv('/content/drive/My Drive/Dataset/DBajas_ANTIGUEDAD.txt',delimiter='~')\n",
        "x = data1.iloc [:,:-1].values\n",
        "x = np.array(x)\n",
        "y = data1.iloc [:,2].values"
      ],
      "execution_count": 157,
      "outputs": []
    },
    {
      "cell_type": "code",
      "metadata": {
        "id": "4zakNkcb222f"
      },
      "source": [
        "x"
      ],
      "execution_count": null,
      "outputs": []
    },
    {
      "cell_type": "code",
      "metadata": {
        "id": "SjBMsScDnRjl"
      },
      "source": [
        "y"
      ],
      "execution_count": null,
      "outputs": []
    },
    {
      "cell_type": "markdown",
      "metadata": {
        "id": "LGqSJaVW53oC"
      },
      "source": [
        "### Codificar datos categóricos"
      ]
    },
    {
      "cell_type": "code",
      "metadata": {
        "id": "1xHeUpIU59aN"
      },
      "source": [
        "'''from sklearn.preprocessing import LabelEncoder, OneHotEncoder\n",
        "from sklearn.compose import ColumnTransformer\n",
        "labelencoder  = LabelEncoder()\n",
        "labelencoder  = LabelEncoder()\n",
        "x[:,1] = labelencoder.fit_transform(x[:,1])\n",
        "ct = ColumnTransformer([('one_hot_encoder',OneHotEncoder(categories='auto'),[1])],remainder='passthrough')\n",
        "x= np.array(ct.fit_transform(x),dtype=np.integer)'''"
      ],
      "execution_count": null,
      "outputs": []
    },
    {
      "cell_type": "code",
      "metadata": {
        "id": "nmeZH3I84EtO"
      },
      "source": [
        "##pd.DataFrame(x)"
      ],
      "execution_count": null,
      "outputs": []
    },
    {
      "cell_type": "markdown",
      "metadata": {
        "id": "elfJqy4EBVo8"
      },
      "source": [
        "### Evitar la trampa de variables Dummy"
      ]
    },
    {
      "cell_type": "code",
      "metadata": {
        "id": "gxuG7JnEBdBU"
      },
      "source": [
        "'''x = x[:,1:]'''"
      ],
      "execution_count": null,
      "outputs": []
    },
    {
      "cell_type": "markdown",
      "metadata": {
        "id": "wNusxNzT3UMP"
      },
      "source": [
        "### Dividimos los datos en entrenamiento y test"
      ]
    },
    {
      "cell_type": "code",
      "metadata": {
        "id": "Oc4kco8u3ah-"
      },
      "source": [
        "from sklearn.model_selection import train_test_split\n",
        "x_train, x_test, y_train, y_test = train_test_split(x,y,test_size= 0.2, random_state=0)"
      ],
      "execution_count": 160,
      "outputs": []
    },
    {
      "cell_type": "markdown",
      "metadata": {
        "id": "TMvIs9DIgZV_"
      },
      "source": [
        "### Escalamos los datos"
      ]
    },
    {
      "cell_type": "code",
      "metadata": {
        "id": "xZq1KN4y3NGh"
      },
      "source": [
        "from sklearn.preprocessing import StandardScaler\n",
        "sc_x = StandardScaler()\n",
        "sc_y = StandardScaler()\n",
        "x_train= sc_x.fit_transform(x_train)\n",
        "y_train= sc_y.fit_transform(y_train.reshape(-1,1))"
      ],
      "execution_count": 161,
      "outputs": []
    },
    {
      "cell_type": "code",
      "metadata": {
        "id": "t5V6r84rgH1Q"
      },
      "source": [
        "len(x_train[:,0])"
      ],
      "execution_count": null,
      "outputs": []
    },
    {
      "cell_type": "code",
      "metadata": {
        "id": "BKP7Xb2ap7Gf"
      },
      "source": [
        "pd.DataFrame(x_train)"
      ],
      "execution_count": null,
      "outputs": []
    },
    {
      "cell_type": "code",
      "metadata": {
        "id": "x4teI7B4o9ew"
      },
      "source": [
        "x_train"
      ],
      "execution_count": null,
      "outputs": []
    },
    {
      "cell_type": "markdown",
      "metadata": {
        "id": "0liVi8gi6pae"
      },
      "source": [
        "### DETERMINAR DIMENSIONES.  ELIMINACION HACIA ATRAS"
      ]
    },
    {
      "cell_type": "code",
      "metadata": {
        "id": "Elnz3K6k62oQ"
      },
      "source": [
        "##x_train=np.append(arr=np.ones((len(x_train[:,0]),1)).astype(int),values=x_train,axis=1)"
      ],
      "execution_count": null,
      "outputs": []
    },
    {
      "cell_type": "code",
      "metadata": {
        "id": "IFbdKOGNqD-T"
      },
      "source": [
        "##pd.DataFrame(x_train)"
      ],
      "execution_count": null,
      "outputs": []
    },
    {
      "cell_type": "code",
      "metadata": {
        "id": "um6qq4xg9qX9"
      },
      "source": [
        "'''import statsmodels.api as sm\n",
        "def elimnaAtras (x,SL):\n",
        "  numvar = len(x[0])\n",
        "  for i in range(0 , numvar):\n",
        "    regresor_ols = sm.OLS(y, x.tolist()).fit()\n",
        "    maxvar=max(regresor_ols.pvalues).astype(float)\n",
        "    if maxvar>SL:\n",
        "      for j in range(0,numvar-i):\n",
        "        if (regresor_ols.pvalues[j].astype(float)== maxvar):\n",
        "          x=np.delete(x,j,1)\n",
        "  regresor_ols.summary()\n",
        "  return x\n",
        "SL=0.05\n",
        "x_opt = x[:,[0,1,2,3,4,5,6,7]]        \n",
        "x_modelo = elimnaAtras(x_opt, SL)'''"
      ],
      "execution_count": null,
      "outputs": []
    },
    {
      "cell_type": "code",
      "metadata": {
        "id": "BSfzmrR-7FeO"
      },
      "source": [
        "##pd.DataFrame(x_modelo)"
      ],
      "execution_count": null,
      "outputs": []
    },
    {
      "cell_type": "markdown",
      "metadata": {
        "id": "Fow-3bkhjOVu"
      },
      "source": [
        "### MODELO SOPORTE VECTORIAL"
      ]
    },
    {
      "cell_type": "code",
      "metadata": {
        "id": "tDBqCWkfjVjY",
        "outputId": "9ec2a341-5adb-4fd3-9ad4-c33841da12e9",
        "colab": {
          "base_uri": "https://localhost:8080/",
          "height": 105
        }
      },
      "source": [
        "from sklearn.svm import SVR\n",
        "regression = SVR(kernel='rbf', C=1.0, epsilon= 0.2)\n",
        "regression.fit(x_train,y_train)"
      ],
      "execution_count": 165,
      "outputs": [
        {
          "output_type": "stream",
          "text": [
            "/usr/local/lib/python3.6/dist-packages/sklearn/utils/validation.py:760: DataConversionWarning: A column-vector y was passed when a 1d array was expected. Please change the shape of y to (n_samples, ), for example using ravel().\n",
            "  y = column_or_1d(y, warn=True)\n"
          ],
          "name": "stderr"
        },
        {
          "output_type": "execute_result",
          "data": {
            "text/plain": [
              "SVR(C=1.0, cache_size=200, coef0=0.0, degree=3, epsilon=0.2, gamma='scale',\n",
              "    kernel='rbf', max_iter=-1, shrinking=True, tol=0.001, verbose=False)"
            ]
          },
          "metadata": {
            "tags": []
          },
          "execution_count": 165
        }
      ]
    },
    {
      "cell_type": "code",
      "metadata": {
        "id": "cQ8W4hTf8Cjm"
      },
      "source": [
        "x_valor=sc_x.inverse_transform(x_train)\n",
        "y_valor= sc_y.inverse_transform(y_train)\n",
        "y_predic_valor= sc_y.inverse_transform(regression.predict(x_train))"
      ],
      "execution_count": 181,
      "outputs": []
    },
    {
      "cell_type": "code",
      "metadata": {
        "id": "dwwzroSL4J3G",
        "outputId": "ea9dbd1e-5a29-4fe9-bfb3-bb8cd3917e10",
        "colab": {
          "base_uri": "https://localhost:8080/",
          "height": 419
        }
      },
      "source": [
        "pd.DataFrame(x_valor)"
      ],
      "execution_count": 187,
      "outputs": [
        {
          "output_type": "execute_result",
          "data": {
            "text/html": [
              "<div>\n",
              "<style scoped>\n",
              "    .dataframe tbody tr th:only-of-type {\n",
              "        vertical-align: middle;\n",
              "    }\n",
              "\n",
              "    .dataframe tbody tr th {\n",
              "        vertical-align: top;\n",
              "    }\n",
              "\n",
              "    .dataframe thead th {\n",
              "        text-align: right;\n",
              "    }\n",
              "</style>\n",
              "<table border=\"1\" class=\"dataframe\">\n",
              "  <thead>\n",
              "    <tr style=\"text-align: right;\">\n",
              "      <th></th>\n",
              "      <th>0</th>\n",
              "      <th>1</th>\n",
              "    </tr>\n",
              "  </thead>\n",
              "  <tbody>\n",
              "    <tr>\n",
              "      <th>0</th>\n",
              "      <td>202007.0</td>\n",
              "      <td>7.0</td>\n",
              "    </tr>\n",
              "    <tr>\n",
              "      <th>1</th>\n",
              "      <td>202003.0</td>\n",
              "      <td>3.0</td>\n",
              "    </tr>\n",
              "    <tr>\n",
              "      <th>2</th>\n",
              "      <td>202002.0</td>\n",
              "      <td>3.0</td>\n",
              "    </tr>\n",
              "    <tr>\n",
              "      <th>3</th>\n",
              "      <td>201909.0</td>\n",
              "      <td>5.0</td>\n",
              "    </tr>\n",
              "    <tr>\n",
              "      <th>4</th>\n",
              "      <td>201908.0</td>\n",
              "      <td>2.0</td>\n",
              "    </tr>\n",
              "    <tr>\n",
              "      <th>...</th>\n",
              "      <td>...</td>\n",
              "      <td>...</td>\n",
              "    </tr>\n",
              "    <tr>\n",
              "      <th>60</th>\n",
              "      <td>202008.0</td>\n",
              "      <td>7.0</td>\n",
              "    </tr>\n",
              "    <tr>\n",
              "      <th>61</th>\n",
              "      <td>202006.0</td>\n",
              "      <td>4.0</td>\n",
              "    </tr>\n",
              "    <tr>\n",
              "      <th>62</th>\n",
              "      <td>202006.0</td>\n",
              "      <td>5.0</td>\n",
              "    </tr>\n",
              "    <tr>\n",
              "      <th>63</th>\n",
              "      <td>202003.0</td>\n",
              "      <td>5.0</td>\n",
              "    </tr>\n",
              "    <tr>\n",
              "      <th>64</th>\n",
              "      <td>202003.0</td>\n",
              "      <td>1.0</td>\n",
              "    </tr>\n",
              "  </tbody>\n",
              "</table>\n",
              "<p>65 rows × 2 columns</p>\n",
              "</div>"
            ],
            "text/plain": [
              "           0    1\n",
              "0   202007.0  7.0\n",
              "1   202003.0  3.0\n",
              "2   202002.0  3.0\n",
              "3   201909.0  5.0\n",
              "4   201908.0  2.0\n",
              "..       ...  ...\n",
              "60  202008.0  7.0\n",
              "61  202006.0  4.0\n",
              "62  202006.0  5.0\n",
              "63  202003.0  5.0\n",
              "64  202003.0  1.0\n",
              "\n",
              "[65 rows x 2 columns]"
            ]
          },
          "metadata": {
            "tags": []
          },
          "execution_count": 187
        }
      ]
    },
    {
      "cell_type": "code",
      "metadata": {
        "id": "FPVQ5suz5izx",
        "outputId": "74d0730f-d351-49b6-cfc8-b3e823d88ad6",
        "colab": {
          "base_uri": "https://localhost:8080/",
          "height": 419
        }
      },
      "source": [
        "pd.DataFrame(y_valor)"
      ],
      "execution_count": 186,
      "outputs": [
        {
          "output_type": "execute_result",
          "data": {
            "text/html": [
              "<div>\n",
              "<style scoped>\n",
              "    .dataframe tbody tr th:only-of-type {\n",
              "        vertical-align: middle;\n",
              "    }\n",
              "\n",
              "    .dataframe tbody tr th {\n",
              "        vertical-align: top;\n",
              "    }\n",
              "\n",
              "    .dataframe thead th {\n",
              "        text-align: right;\n",
              "    }\n",
              "</style>\n",
              "<table border=\"1\" class=\"dataframe\">\n",
              "  <thead>\n",
              "    <tr style=\"text-align: right;\">\n",
              "      <th></th>\n",
              "      <th>0</th>\n",
              "    </tr>\n",
              "  </thead>\n",
              "  <tbody>\n",
              "    <tr>\n",
              "      <th>0</th>\n",
              "      <td>6.0</td>\n",
              "    </tr>\n",
              "    <tr>\n",
              "      <th>1</th>\n",
              "      <td>24.0</td>\n",
              "    </tr>\n",
              "    <tr>\n",
              "      <th>2</th>\n",
              "      <td>16.0</td>\n",
              "    </tr>\n",
              "    <tr>\n",
              "      <th>3</th>\n",
              "      <td>632.0</td>\n",
              "    </tr>\n",
              "    <tr>\n",
              "      <th>4</th>\n",
              "      <td>12.0</td>\n",
              "    </tr>\n",
              "    <tr>\n",
              "      <th>...</th>\n",
              "      <td>...</td>\n",
              "    </tr>\n",
              "    <tr>\n",
              "      <th>60</th>\n",
              "      <td>6.0</td>\n",
              "    </tr>\n",
              "    <tr>\n",
              "      <th>61</th>\n",
              "      <td>33.0</td>\n",
              "    </tr>\n",
              "    <tr>\n",
              "      <th>62</th>\n",
              "      <td>817.0</td>\n",
              "    </tr>\n",
              "    <tr>\n",
              "      <th>63</th>\n",
              "      <td>927.0</td>\n",
              "    </tr>\n",
              "    <tr>\n",
              "      <th>64</th>\n",
              "      <td>40.0</td>\n",
              "    </tr>\n",
              "  </tbody>\n",
              "</table>\n",
              "<p>65 rows × 1 columns</p>\n",
              "</div>"
            ],
            "text/plain": [
              "        0\n",
              "0     6.0\n",
              "1    24.0\n",
              "2    16.0\n",
              "3   632.0\n",
              "4    12.0\n",
              "..    ...\n",
              "60    6.0\n",
              "61   33.0\n",
              "62  817.0\n",
              "63  927.0\n",
              "64   40.0\n",
              "\n",
              "[65 rows x 1 columns]"
            ]
          },
          "metadata": {
            "tags": []
          },
          "execution_count": 186
        }
      ]
    },
    {
      "cell_type": "code",
      "metadata": {
        "id": "lTJxLvrQ3CQo",
        "outputId": "1d7cbf65-01f1-4665-c44b-a6fc2c8136f6",
        "colab": {
          "base_uri": "https://localhost:8080/",
          "height": 419
        }
      },
      "source": [
        "pd.DataFrame(y_predic_valor)"
      ],
      "execution_count": 185,
      "outputs": [
        {
          "output_type": "execute_result",
          "data": {
            "text/html": [
              "<div>\n",
              "<style scoped>\n",
              "    .dataframe tbody tr th:only-of-type {\n",
              "        vertical-align: middle;\n",
              "    }\n",
              "\n",
              "    .dataframe tbody tr th {\n",
              "        vertical-align: top;\n",
              "    }\n",
              "\n",
              "    .dataframe thead th {\n",
              "        text-align: right;\n",
              "    }\n",
              "</style>\n",
              "<table border=\"1\" class=\"dataframe\">\n",
              "  <thead>\n",
              "    <tr style=\"text-align: right;\">\n",
              "      <th></th>\n",
              "      <th>0</th>\n",
              "    </tr>\n",
              "  </thead>\n",
              "  <tbody>\n",
              "    <tr>\n",
              "      <th>0</th>\n",
              "      <td>88.081051</td>\n",
              "    </tr>\n",
              "    <tr>\n",
              "      <th>1</th>\n",
              "      <td>-41.370949</td>\n",
              "    </tr>\n",
              "    <tr>\n",
              "      <th>2</th>\n",
              "      <td>-42.101375</td>\n",
              "    </tr>\n",
              "    <tr>\n",
              "      <th>3</th>\n",
              "      <td>343.492781</td>\n",
              "    </tr>\n",
              "    <tr>\n",
              "      <th>4</th>\n",
              "      <td>-42.942904</td>\n",
              "    </tr>\n",
              "    <tr>\n",
              "      <th>...</th>\n",
              "      <td>...</td>\n",
              "    </tr>\n",
              "    <tr>\n",
              "      <th>60</th>\n",
              "      <td>86.684980</td>\n",
              "    </tr>\n",
              "    <tr>\n",
              "      <th>61</th>\n",
              "      <td>182.620272</td>\n",
              "    </tr>\n",
              "    <tr>\n",
              "      <th>62</th>\n",
              "      <td>442.819145</td>\n",
              "    </tr>\n",
              "    <tr>\n",
              "      <th>63</th>\n",
              "      <td>447.502262</td>\n",
              "    </tr>\n",
              "    <tr>\n",
              "      <th>64</th>\n",
              "      <td>60.794680</td>\n",
              "    </tr>\n",
              "  </tbody>\n",
              "</table>\n",
              "<p>65 rows × 1 columns</p>\n",
              "</div>"
            ],
            "text/plain": [
              "             0\n",
              "0    88.081051\n",
              "1   -41.370949\n",
              "2   -42.101375\n",
              "3   343.492781\n",
              "4   -42.942904\n",
              "..         ...\n",
              "60   86.684980\n",
              "61  182.620272\n",
              "62  442.819145\n",
              "63  447.502262\n",
              "64   60.794680\n",
              "\n",
              "[65 rows x 1 columns]"
            ]
          },
          "metadata": {
            "tags": []
          },
          "execution_count": 185
        }
      ]
    },
    {
      "cell_type": "code",
      "metadata": {
        "id": "CPBCDc7zy7Eg"
      },
      "source": [
        "# GRAFICO 3D DATOS ENTRENAMIENTO\n",
        "# importamos las librerias necesarias\n",
        "\n",
        "# Creamos la figura\n",
        "fig = plt.figure()\n",
        "# Creamos el plano 3D\n",
        "ax1 = fig.add_subplot(111, projection='3d')\n",
        "\n",
        "x = x_valor\n",
        "y = y_valor\n",
        "z = y_predic_valor\n",
        "\n",
        "# Agregamos los puntos en el plano 3D\n",
        "ax1.scatter(x, y, z, c='g', marker='o')\n",
        "\n",
        "# Mostramos el gráfico\n",
        "plt.show()"
      ],
      "execution_count": null,
      "outputs": []
    },
    {
      "cell_type": "code",
      "metadata": {
        "id": "_QIoRMbsqGwI",
        "outputId": "45bcc725-e5d3-4604-deb8-1a7204017358",
        "colab": {
          "base_uri": "https://localhost:8080/",
          "height": 404
        }
      },
      "source": [
        "xx = []; yy = []; yy_predic=[]\n",
        "ciclo= len(x_train)\n",
        "for i in range(ciclo):\n",
        "  xx.append([x_valor[i]])\n",
        "  yy.append([y_valor[i]])\n",
        "  yy_predic.append([y_predic_valor[i]])\n",
        "print(\"x_train = \"+str(xx)+\"\\n\")\n",
        "print(\"y_train = \"+str(yy)+\"\\n\")\n",
        "print(\"y_predic\"+str(yy_predic)+\"\\n\")\n",
        "# Concatenamos \n",
        "tabla = np.concatenate((xx, yy,yy_predic), axis=1)\n",
        "print(\"Antes de organizar:\"+\"\\n\"+str(tabla)+\"\\n\")\n",
        "# Organizamos y recreamos tabla\n",
        "tabla[:,0].sort()\n",
        "for i in range(ciclo):\n",
        "  n_orgz =  tabla[i,0]\n",
        "  for ii in range(ciclo):\n",
        "    n_norgz =  x_valor[ii]\n",
        "    if (int(n_norgz) == int(n_orgz)):\n",
        "      tabla[i,1] = y_valor[ii]\n",
        "      tabla[i,2]= y_predic_valor[ii]\n",
        "    else:\n",
        "      pass \n",
        "print(\"Despues de organizar:\"+\"\\n\"+str(tabla)+\"\\n\")"
      ],
      "execution_count": 170,
      "outputs": [
        {
          "output_type": "stream",
          "text": [
            "x_train = [[array([2.02007e+05, 7.00000e+00])], [array([2.02003e+05, 3.00000e+00])], [array([2.02002e+05, 3.00000e+00])], [array([2.01909e+05, 5.00000e+00])], [array([2.01908e+05, 2.00000e+00])], [array([2.02004e+05, 5.00000e+00])], [array([2.01909e+05, 3.00000e+00])], [array([2.02006e+05, 6.00000e+00])], [array([2.02003e+05, 4.00000e+00])], [array([2.02004e+05, 3.00000e+00])], [array([2.01912e+05, 1.00000e+00])], [array([2.02002e+05, 5.00000e+00])], [array([2.02008e+05, 4.00000e+00])], [array([2.01908e+05, 1.00000e+00])], [array([2.02005e+05, 3.00000e+00])], [array([2.0191e+05, 6.0000e+00])], [array([2.02005e+05, 6.00000e+00])], [array([2.02007e+05, 1.00000e+00])], [array([2.02005e+05, 5.00000e+00])], [array([2.02001e+05, 6.00000e+00])], [array([2.01912e+05, 3.00000e+00])], [array([2.01909e+05, 1.00000e+00])], [array([2.02005e+05, 2.00000e+00])], [array([2.01911e+05, 1.00000e+00])], [array([2.01909e+05, 4.00000e+00])], [array([2.02001e+05, 3.00000e+00])], [array([2.02007e+05, 3.00000e+00])], [array([2.02007e+05, 4.00000e+00])], [array([2.01908e+05, 3.00000e+00])], [array([2.02001e+05, 4.00000e+00])], [array([2.02007e+05, 5.00000e+00])], [array([2.0191e+05, 7.0000e+00])], [array([2.02004e+05, 4.00000e+00])], [array([2.01911e+05, 5.00000e+00])], [array([2.01912e+05, 4.00000e+00])], [array([2.02006e+05, 3.00000e+00])], [array([2.02004e+05, 1.00000e+00])], [array([2.01911e+05, 2.00000e+00])], [array([2.02001e+05, 5.00000e+00])], [array([2.0191e+05, 1.0000e+00])], [array([2.01908e+05, 5.00000e+00])], [array([2.02008e+05, 1.00000e+00])], [array([2.0191e+05, 4.0000e+00])], [array([2.01908e+05, 6.00000e+00])], [array([2.02006e+05, 1.00000e+00])], [array([2.0191e+05, 2.0000e+00])], [array([2.02004e+05, 2.00000e+00])], [array([2.01911e+05, 4.00000e+00])], [array([2.02008e+05, 5.00000e+00])], [array([2.01912e+05, 5.00000e+00])], [array([2.02002e+05, 4.00000e+00])], [array([2.02003e+05, 6.00000e+00])], [array([2.02002e+05, 1.00000e+00])], [array([2.02006e+05, 7.00000e+00])], [array([2.02005e+05, 1.00000e+00])], [array([2.0191e+05, 5.0000e+00])], [array([2.02007e+05, 6.00000e+00])], [array([2.02001e+05, 1.00000e+00])], [array([2.01911e+05, 6.00000e+00])], [array([2.01909e+05, 2.00000e+00])], [array([2.02008e+05, 7.00000e+00])], [array([2.02006e+05, 4.00000e+00])], [array([2.02006e+05, 5.00000e+00])], [array([2.02003e+05, 5.00000e+00])], [array([2.02003e+05, 1.00000e+00])]]\n",
            "\n",
            "y_train = [[array([6.])], [array([24.])], [array([16.])], [array([632.])], [array([12.])], [array([614.])], [array([27.])], [array([476.])], [array([31.])], [array([17.])], [array([38.])], [array([1191.])], [array([62.])], [array([15.])], [array([19.])], [array([288.])], [array([258.])], [array([83.])], [array([446.])], [array([452.])], [array([14.])], [array([18.])], [array([25.])], [array([28.])], [array([33.])], [array([10.])], [array([36.])], [array([50.])], [array([20.])], [array([48.])], [array([883.])], [array([1.])], [array([26.])], [array([633.])], [array([42.])], [array([23.])], [array([46.])], [array([20.])], [array([914.])], [array([27.])], [array([740.])], [array([77.])], [array([31.])], [array([283.])], [array([63.])], [array([10.])], [array([25.])], [array([29.])], [array([1223.])], [array([784.])], [array([36.])], [array([491.])], [array([22.])], [array([5.])], [array([53.])], [array([607.])], [array([541.])], [array([18.])], [array([287.])], [array([15.])], [array([6.])], [array([33.])], [array([817.])], [array([927.])], [array([40.])]]\n",
            "\n",
            "y_predic[[88.08105106573257], [-41.37094931056245], [-42.10137493869135], [343.49278116963205], [-42.94290380517086], [446.0670137716054], [-38.46322658084122], [411.8491586509147], [183.27595740257334], [-40.61562148368617], [39.494205080254034], [448.81213189859653], [181.9594592418125], [39.954661308998254], [-39.83535943873753], [350.67588656630676], [413.99701184977647], [61.959441345441434], [444.50602436367853], [421.4911670964068], [-40.95554169218022], [39.82293596424961], [-39.669094114707576], [39.592620698563735], [137.87469283933837], [-42.806973064035134], [-38.20012254417523], [182.31228218986126], [-37.580605782233164], [183.49155192427952], [441.0064408520317], [155.941218798134], [183.10196191840114], [347.00067772804425], [138.70569445246173], [-39.030174615439336], [61.09151503075975], [-45.19111856500231], [449.99719512968903], [39.70222436447122], [341.6787237763342], [62.24085437185187], [138.15637947533486], [346.9371170462215], [61.6740079630666], [-44.46953875632843], [-40.45715877546726], [138.43310299633237], [439.0681898720944], [348.6974090095971], [183.40570889554033], [417.964165458032], [60.49427179497144], [89.48507571210584], [61.38466227148044], [345.26629982652537], [409.5925835768056], [60.190409840266994], [352.47831314021425], [-43.72013837308717], [86.68498000278407], [182.6202717554042], [442.8191451857854], [447.50226239267835], [60.794679594197305]]\n",
            "\n"
          ],
          "name": "stdout"
        },
        {
          "output_type": "error",
          "ename": "ValueError",
          "evalue": "ignored",
          "traceback": [
            "\u001b[0;31m---------------------------------------------------------------------------\u001b[0m",
            "\u001b[0;31mValueError\u001b[0m                                Traceback (most recent call last)",
            "\u001b[0;32m<ipython-input-170-fa1a784bc773>\u001b[0m in \u001b[0;36m<module>\u001b[0;34m()\u001b[0m\n\u001b[1;32m      9\u001b[0m \u001b[0mprint\u001b[0m\u001b[0;34m(\u001b[0m\u001b[0;34m\"y_predic\"\u001b[0m\u001b[0;34m+\u001b[0m\u001b[0mstr\u001b[0m\u001b[0;34m(\u001b[0m\u001b[0myy_predic\u001b[0m\u001b[0;34m)\u001b[0m\u001b[0;34m+\u001b[0m\u001b[0;34m\"\\n\"\u001b[0m\u001b[0;34m)\u001b[0m\u001b[0;34m\u001b[0m\u001b[0;34m\u001b[0m\u001b[0m\n\u001b[1;32m     10\u001b[0m \u001b[0;31m# Concatenamos\u001b[0m\u001b[0;34m\u001b[0m\u001b[0;34m\u001b[0m\u001b[0;34m\u001b[0m\u001b[0m\n\u001b[0;32m---> 11\u001b[0;31m \u001b[0mtabla\u001b[0m \u001b[0;34m=\u001b[0m \u001b[0mnp\u001b[0m\u001b[0;34m.\u001b[0m\u001b[0mconcatenate\u001b[0m\u001b[0;34m(\u001b[0m\u001b[0;34m(\u001b[0m\u001b[0mxx\u001b[0m\u001b[0;34m,\u001b[0m \u001b[0myy\u001b[0m\u001b[0;34m,\u001b[0m\u001b[0myy_predic\u001b[0m\u001b[0;34m)\u001b[0m\u001b[0;34m,\u001b[0m \u001b[0maxis\u001b[0m\u001b[0;34m=\u001b[0m\u001b[0;36m1\u001b[0m\u001b[0;34m)\u001b[0m\u001b[0;34m\u001b[0m\u001b[0;34m\u001b[0m\u001b[0m\n\u001b[0m\u001b[1;32m     12\u001b[0m \u001b[0mprint\u001b[0m\u001b[0;34m(\u001b[0m\u001b[0;34m\"Antes de organizar:\"\u001b[0m\u001b[0;34m+\u001b[0m\u001b[0;34m\"\\n\"\u001b[0m\u001b[0;34m+\u001b[0m\u001b[0mstr\u001b[0m\u001b[0;34m(\u001b[0m\u001b[0mtabla\u001b[0m\u001b[0;34m)\u001b[0m\u001b[0;34m+\u001b[0m\u001b[0;34m\"\\n\"\u001b[0m\u001b[0;34m)\u001b[0m\u001b[0;34m\u001b[0m\u001b[0;34m\u001b[0m\u001b[0m\n\u001b[1;32m     13\u001b[0m \u001b[0;31m# Organizamos y recreamos tabla\u001b[0m\u001b[0;34m\u001b[0m\u001b[0;34m\u001b[0m\u001b[0;34m\u001b[0m\u001b[0m\n",
            "\u001b[0;32m<__array_function__ internals>\u001b[0m in \u001b[0;36mconcatenate\u001b[0;34m(*args, **kwargs)\u001b[0m\n",
            "\u001b[0;31mValueError\u001b[0m: all the input array dimensions for the concatenation axis must match exactly, but along dimension 2, the array at index 0 has size 2 and the array at index 1 has size 1"
          ]
        }
      ]
    },
    {
      "cell_type": "code",
      "metadata": {
        "id": "BU22NbLT0YvX"
      },
      "source": [
        "# Analizando datos de test\n",
        "from sklearn.preprocessing import StandardScaler\n",
        "sc_x_t = StandardScaler()\n",
        "sc_y_t = StandardScaler()\n",
        "x_test= sc_x_t.fit_transform(x_test)\n",
        "y_test= sc_y_t.fit_transform(y_test.reshape(-1,1))"
      ],
      "execution_count": null,
      "outputs": []
    },
    {
      "cell_type": "code",
      "metadata": {
        "id": "jA3VsfUN15Uf"
      },
      "source": [
        "# MODELO SVR - Test\n",
        "from sklearn.svm import SVR\n",
        "regression = SVR(kernel='rbf')\n",
        "regression.fit(x_test.reshape(-1,1),y_test.ravel())"
      ],
      "execution_count": null,
      "outputs": []
    },
    {
      "cell_type": "code",
      "metadata": {
        "id": "TbJmZpyq3S9z"
      },
      "source": [
        "x_valor_t=sc_x_t.inverse_transform(x_test)\n",
        "y_valor_t= sc_y_t.inverse_transform(y_test)\n",
        "y_predic_valor_t= sc_y_t.inverse_transform(regression.predict(x_test.reshape(-1,1)))"
      ],
      "execution_count": null,
      "outputs": []
    },
    {
      "cell_type": "code",
      "metadata": {
        "id": "_vn6bcP_39G6"
      },
      "source": [
        "xx_t = []; yy_t =[]; yy_predic_t=[]\n",
        "total_ciclo= len(x_test[:,0])\n",
        "for i in range( total_ciclo ):\n",
        "  xx_t.append(pd.DataFrame([x_valor_t[i]]))\n",
        "  yy_t.append(pd.DataFrame([y_valor_t[i]]))\n",
        "  yy_predic_t.append(pd.DataFrame([y_predic_valor_t[i]]))\n",
        "print(\"x_valor_t = \"+str(xx_t)+\"\\n\")\n",
        "print(\"y_valor_t = \"+str(yy_t)+\"\\n\")\n",
        "print(\"y_predic_t\"+str(yy_predic_t)+\"\\n\")\n",
        "# Concatenamos \n",
        "tabla_t = np.concatenate((xx_t, yy_t,yy_predic_t), axis=1)\n",
        "print(\"Antes de organizar el test:\"+\"\\n\"+str(tabla_t)+\"\\n\")\n",
        "# Organizamos y recreamos tabla test\n",
        "tabla_t[:,0].sort()\n",
        "for i in range(total_ciclo) :\n",
        "  n_orgz_t =  tabla_t[i,0]\n",
        "  for ii in range( total_ciclo ):\n",
        "    n_norgz_t =  x_valor_t[ii]\n",
        "    if (int(n_norgz_t) == int(n_orgz_t)):\n",
        "      tabla_t[i,1] = y_valor_t[ii]\n",
        "      tabla_t[i,2]= y_predic_valor_t[ii]\n",
        "    else:\n",
        "      pass \n",
        "print(\"Despues de organizar:\"+\"\\n\"+str(tabla_t)+\"\\n\")"
      ],
      "execution_count": null,
      "outputs": []
    },
    {
      "cell_type": "code",
      "metadata": {
        "id": "sWGOTjcQr2Fd"
      },
      "source": [
        "# Graficamos \n",
        "plt.scatter(tabla[:,0],tabla[:,1],color='Red', marker='^',alpha=0.5)\n",
        "plt.plot(tabla[:,0],tabla[:,2],color='Blue', marker='^',alpha=0.5)\n",
        "plt.title(\"Bajas vs SVR\")\n",
        "plt.xlabel(\"Periodo Baja\")\n",
        "plt.ylabel(\"Cantidad\")\n",
        "plt.show()"
      ],
      "execution_count": null,
      "outputs": []
    },
    {
      "cell_type": "code",
      "metadata": {
        "id": "qZpysItQ-wvl"
      },
      "source": [
        "# Graficamos test\n",
        "plt.scatter(tabla_t[:,0],tabla_t[:,1],color='Red', marker='^',alpha=0.5)\n",
        "plt.plot(tabla_t[:,0],tabla_t[:,2],color='Blue', marker='^',alpha=0.5)\n",
        "plt.title(\"Bajas TEST vs SVR\")\n",
        "plt.xlabel(\"Periodo Baja\")\n",
        "plt.ylabel(\"Cantidad\")\n",
        "plt.show()"
      ],
      "execution_count": null,
      "outputs": []
    },
    {
      "cell_type": "code",
      "metadata": {
        "id": "Qb1Y9sXwMIcZ"
      },
      "source": [
        "'''nuevo= np.array([])\n",
        "for i in range(202009 , 202012):\n",
        "  nuevo= np.append(nuevo, i)\n",
        "y_pred=sc_y.inverse_transform(regression.predict(sc_x.transform(nuevo.reshape(-1,1))))\n",
        "pd.DataFrame(y_pred)'''"
      ],
      "execution_count": null,
      "outputs": []
    }
  ]
}