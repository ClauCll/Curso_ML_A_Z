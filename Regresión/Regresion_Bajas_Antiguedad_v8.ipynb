{
  "nbformat": 4,
  "nbformat_minor": 0,
  "metadata": {
    "colab": {
      "name": "Untitled1.ipynb",
      "provenance": [],
      "include_colab_link": true
    },
    "kernelspec": {
      "name": "python3",
      "display_name": "Python 3"
    }
  },
  "cells": [
    {
      "cell_type": "markdown",
      "metadata": {
        "id": "view-in-github",
        "colab_type": "text"
      },
      "source": [
        "<a href=\"https://colab.research.google.com/github/ClauCll/Curso_ML_A_Z/blob/master/Regresi%C3%B3n/Regresion_Bajas_Antiguedad_v8.ipynb\" target=\"_parent\"><img src=\"https://colab.research.google.com/assets/colab-badge.svg\" alt=\"Open In Colab\"/></a>"
      ]
    },
    {
      "cell_type": "markdown",
      "metadata": {
        "id": "-J3qDXeFwvSb"
      },
      "source": [
        "## Cuantas serán las bajas voluntarias de los clientes fijos para un periodo x. (Agosto - Diciembre 2020)\n",
        " "
      ]
    },
    {
      "cell_type": "code",
      "metadata": {
        "id": "Vsqlhqgww1BG"
      },
      "source": [
        "import pandas as pd\n",
        "import numpy as np\n",
        "\n",
        "#Gráfico\n",
        "from mpl_toolkits.mplot3d import axes3d\n",
        "import matplotlib.pyplot as plt \n",
        "from matplotlib import style\n",
        "import matplotlib.ticker as ticker\n",
        "import seaborn as sns\n",
        "\n",
        "import gspread\n",
        "from oauth2client.client import GoogleCredentials \n",
        "from google.colab import auth\n",
        "# Autoriza Claudia\n",
        "auth.authenticate_user()\n",
        "gc = gspread.authorize (GoogleCredentials.get_application_default())"
      ],
      "execution_count": 240,
      "outputs": []
    },
    {
      "cell_type": "markdown",
      "metadata": {
        "id": "2xAoqlB_02Do"
      },
      "source": [
        "### leemos datos"
      ]
    },
    {
      "cell_type": "code",
      "metadata": {
        "id": "y_VVpj56uzRV",
        "outputId": "b184014b-a2e8-430d-ba6f-597c063adf2a",
        "colab": {
          "base_uri": "https://localhost:8080/",
          "height": 54
        }
      },
      "source": [
        "from google.colab import drive\n",
        "drive.mount('/content/drive')"
      ],
      "execution_count": 241,
      "outputs": [
        {
          "output_type": "stream",
          "text": [
            "Drive already mounted at /content/drive; to attempt to forcibly remount, call drive.mount(\"/content/drive\", force_remount=True).\n"
          ],
          "name": "stdout"
        }
      ]
    },
    {
      "cell_type": "code",
      "metadata": {
        "id": "0JYqth2Ty8-k"
      },
      "source": [
        "data = pd.read_csv('/content/drive/My Drive/Dataset/M_BAJAS.txt',delimiter='~')"
      ],
      "execution_count": 242,
      "outputs": []
    },
    {
      "cell_type": "code",
      "metadata": {
        "id": "RbQx30WIGlcX",
        "outputId": "f5d45345-b4db-4646-b3c4-c491a3a98377",
        "colab": {
          "base_uri": "https://localhost:8080/",
          "height": 195
        }
      },
      "source": [
        "data.head(5)"
      ],
      "execution_count": 243,
      "outputs": [
        {
          "output_type": "execute_result",
          "data": {
            "text/html": [
              "<div>\n",
              "<style scoped>\n",
              "    .dataframe tbody tr th:only-of-type {\n",
              "        vertical-align: middle;\n",
              "    }\n",
              "\n",
              "    .dataframe tbody tr th {\n",
              "        vertical-align: top;\n",
              "    }\n",
              "\n",
              "    .dataframe thead th {\n",
              "        text-align: right;\n",
              "    }\n",
              "</style>\n",
              "<table border=\"1\" class=\"dataframe\">\n",
              "  <thead>\n",
              "    <tr style=\"text-align: right;\">\n",
              "      <th></th>\n",
              "      <th>ANIO_BAJA</th>\n",
              "      <th>MES_BAJA</th>\n",
              "      <th>FECHA_BAJA</th>\n",
              "      <th>ANTIGUEDAD</th>\n",
              "      <th>CANT</th>\n",
              "    </tr>\n",
              "  </thead>\n",
              "  <tbody>\n",
              "    <tr>\n",
              "      <th>0</th>\n",
              "      <td>2019</td>\n",
              "      <td>11</td>\n",
              "      <td>01/11/2019</td>\n",
              "      <td>1068</td>\n",
              "      <td>3</td>\n",
              "    </tr>\n",
              "    <tr>\n",
              "      <th>1</th>\n",
              "      <td>2020</td>\n",
              "      <td>4</td>\n",
              "      <td>01/04/2020</td>\n",
              "      <td>860</td>\n",
              "      <td>1</td>\n",
              "    </tr>\n",
              "    <tr>\n",
              "      <th>2</th>\n",
              "      <td>2019</td>\n",
              "      <td>11</td>\n",
              "      <td>05/11/2019</td>\n",
              "      <td>1673</td>\n",
              "      <td>1</td>\n",
              "    </tr>\n",
              "    <tr>\n",
              "      <th>3</th>\n",
              "      <td>2020</td>\n",
              "      <td>2</td>\n",
              "      <td>01/02/2020</td>\n",
              "      <td>1419</td>\n",
              "      <td>1</td>\n",
              "    </tr>\n",
              "    <tr>\n",
              "      <th>4</th>\n",
              "      <td>2019</td>\n",
              "      <td>8</td>\n",
              "      <td>01/08/2019</td>\n",
              "      <td>782</td>\n",
              "      <td>1</td>\n",
              "    </tr>\n",
              "  </tbody>\n",
              "</table>\n",
              "</div>"
            ],
            "text/plain": [
              "   ANIO_BAJA  MES_BAJA  FECHA_BAJA  ANTIGUEDAD  CANT\n",
              "0       2019        11  01/11/2019        1068     3\n",
              "1       2020         4  01/04/2020         860     1\n",
              "2       2019        11  05/11/2019        1673     1\n",
              "3       2020         2  01/02/2020        1419     1\n",
              "4       2019         8  01/08/2019         782     1"
            ]
          },
          "metadata": {
            "tags": []
          },
          "execution_count": 243
        }
      ]
    },
    {
      "cell_type": "code",
      "metadata": {
        "id": "x5gI0SJbW5W6"
      },
      "source": [
        "encabezados= ['Año','Mes','Fecha','Antiguedad','Cant_Bajas']\n",
        "data.columns=encabezados"
      ],
      "execution_count": 244,
      "outputs": []
    },
    {
      "cell_type": "code",
      "metadata": {
        "id": "TkUl4C2US3kq"
      },
      "source": [
        "data.Fecha = pd.to_datetime(data.Fecha)"
      ],
      "execution_count": 233,
      "outputs": []
    },
    {
      "cell_type": "code",
      "metadata": {
        "id": "lB5IaAuJXHsS",
        "outputId": "3b6b5782-2ba8-4109-b78b-793dd021e1a3",
        "colab": {
          "base_uri": "https://localhost:8080/",
          "height": 195
        }
      },
      "source": [
        "data.head(5)"
      ],
      "execution_count": 234,
      "outputs": [
        {
          "output_type": "execute_result",
          "data": {
            "text/html": [
              "<div>\n",
              "<style scoped>\n",
              "    .dataframe tbody tr th:only-of-type {\n",
              "        vertical-align: middle;\n",
              "    }\n",
              "\n",
              "    .dataframe tbody tr th {\n",
              "        vertical-align: top;\n",
              "    }\n",
              "\n",
              "    .dataframe thead th {\n",
              "        text-align: right;\n",
              "    }\n",
              "</style>\n",
              "<table border=\"1\" class=\"dataframe\">\n",
              "  <thead>\n",
              "    <tr style=\"text-align: right;\">\n",
              "      <th></th>\n",
              "      <th>Año</th>\n",
              "      <th>Mes</th>\n",
              "      <th>Fecha</th>\n",
              "      <th>Antiguedad</th>\n",
              "      <th>Cant_Bajas</th>\n",
              "    </tr>\n",
              "  </thead>\n",
              "  <tbody>\n",
              "    <tr>\n",
              "      <th>0</th>\n",
              "      <td>2019</td>\n",
              "      <td>11</td>\n",
              "      <td>2019-01-11</td>\n",
              "      <td>1068</td>\n",
              "      <td>3</td>\n",
              "    </tr>\n",
              "    <tr>\n",
              "      <th>1</th>\n",
              "      <td>2020</td>\n",
              "      <td>4</td>\n",
              "      <td>2020-01-04</td>\n",
              "      <td>860</td>\n",
              "      <td>1</td>\n",
              "    </tr>\n",
              "    <tr>\n",
              "      <th>2</th>\n",
              "      <td>2019</td>\n",
              "      <td>11</td>\n",
              "      <td>2019-05-11</td>\n",
              "      <td>1673</td>\n",
              "      <td>1</td>\n",
              "    </tr>\n",
              "    <tr>\n",
              "      <th>3</th>\n",
              "      <td>2020</td>\n",
              "      <td>2</td>\n",
              "      <td>2020-01-02</td>\n",
              "      <td>1419</td>\n",
              "      <td>1</td>\n",
              "    </tr>\n",
              "    <tr>\n",
              "      <th>4</th>\n",
              "      <td>2019</td>\n",
              "      <td>8</td>\n",
              "      <td>2019-01-08</td>\n",
              "      <td>782</td>\n",
              "      <td>1</td>\n",
              "    </tr>\n",
              "  </tbody>\n",
              "</table>\n",
              "</div>"
            ],
            "text/plain": [
              "    Año  Mes      Fecha  Antiguedad  Cant_Bajas\n",
              "0  2019   11 2019-01-11        1068           3\n",
              "1  2020    4 2020-01-04         860           1\n",
              "2  2019   11 2019-05-11        1673           1\n",
              "3  2020    2 2020-01-02        1419           1\n",
              "4  2019    8 2019-01-08         782           1"
            ]
          },
          "metadata": {
            "tags": []
          },
          "execution_count": 234
        }
      ]
    },
    {
      "cell_type": "code",
      "metadata": {
        "id": "wF0jy-BcazD7",
        "outputId": "0ef7a246-2ba8-43e4-f822-9530b5681186",
        "colab": {
          "base_uri": "https://localhost:8080/",
          "height": 118
        }
      },
      "source": [
        "data.dtypes"
      ],
      "execution_count": 245,
      "outputs": [
        {
          "output_type": "execute_result",
          "data": {
            "text/plain": [
              "Año            int64\n",
              "Mes            int64\n",
              "Fecha         object\n",
              "Antiguedad     int64\n",
              "Cant_Bajas     int64\n",
              "dtype: object"
            ]
          },
          "metadata": {
            "tags": []
          },
          "execution_count": 245
        }
      ]
    },
    {
      "cell_type": "code",
      "metadata": {
        "id": "MND5wUGBWhcM",
        "outputId": "6b29bc23-09ce-43e6-dbc5-f34b1fcf3234",
        "colab": {
          "base_uri": "https://localhost:8080/",
          "height": 118
        }
      },
      "source": [
        " #validamos datos faltantes\n",
        " print(pd.isnull(data).sum())"
      ],
      "execution_count": 246,
      "outputs": [
        {
          "output_type": "stream",
          "text": [
            "Año           0\n",
            "Mes           0\n",
            "Fecha         0\n",
            "Antiguedad    0\n",
            "Cant_Bajas    0\n",
            "dtype: int64\n"
          ],
          "name": "stdout"
        }
      ]
    },
    {
      "cell_type": "code",
      "metadata": {
        "id": "S5N5IgkXbwjx",
        "outputId": "da65988f-f510-4cea-8d30-38ba88574d1a",
        "colab": {
          "base_uri": "https://localhost:8080/",
          "height": 373
        }
      },
      "source": [
        "data.describe(include='all')"
      ],
      "execution_count": 247,
      "outputs": [
        {
          "output_type": "execute_result",
          "data": {
            "text/html": [
              "<div>\n",
              "<style scoped>\n",
              "    .dataframe tbody tr th:only-of-type {\n",
              "        vertical-align: middle;\n",
              "    }\n",
              "\n",
              "    .dataframe tbody tr th {\n",
              "        vertical-align: top;\n",
              "    }\n",
              "\n",
              "    .dataframe thead th {\n",
              "        text-align: right;\n",
              "    }\n",
              "</style>\n",
              "<table border=\"1\" class=\"dataframe\">\n",
              "  <thead>\n",
              "    <tr style=\"text-align: right;\">\n",
              "      <th></th>\n",
              "      <th>Año</th>\n",
              "      <th>Mes</th>\n",
              "      <th>Fecha</th>\n",
              "      <th>Antiguedad</th>\n",
              "      <th>Cant_Bajas</th>\n",
              "    </tr>\n",
              "  </thead>\n",
              "  <tbody>\n",
              "    <tr>\n",
              "      <th>count</th>\n",
              "      <td>17101.000000</td>\n",
              "      <td>17101.000000</td>\n",
              "      <td>17101</td>\n",
              "      <td>17101.000000</td>\n",
              "      <td>17101.000000</td>\n",
              "    </tr>\n",
              "    <tr>\n",
              "      <th>unique</th>\n",
              "      <td>NaN</td>\n",
              "      <td>NaN</td>\n",
              "      <td>315</td>\n",
              "      <td>NaN</td>\n",
              "      <td>NaN</td>\n",
              "    </tr>\n",
              "    <tr>\n",
              "      <th>top</th>\n",
              "      <td>NaN</td>\n",
              "      <td>NaN</td>\n",
              "      <td>01/02/2020</td>\n",
              "      <td>NaN</td>\n",
              "      <td>NaN</td>\n",
              "    </tr>\n",
              "    <tr>\n",
              "      <th>freq</th>\n",
              "      <td>NaN</td>\n",
              "      <td>NaN</td>\n",
              "      <td>848</td>\n",
              "      <td>NaN</td>\n",
              "      <td>NaN</td>\n",
              "    </tr>\n",
              "    <tr>\n",
              "      <th>mean</th>\n",
              "      <td>2019.358459</td>\n",
              "      <td>5.469797</td>\n",
              "      <td>NaN</td>\n",
              "      <td>902.821531</td>\n",
              "      <td>1.561312</td>\n",
              "    </tr>\n",
              "    <tr>\n",
              "      <th>std</th>\n",
              "      <td>0.479562</td>\n",
              "      <td>3.262741</td>\n",
              "      <td>NaN</td>\n",
              "      <td>493.846888</td>\n",
              "      <td>1.115205</td>\n",
              "    </tr>\n",
              "    <tr>\n",
              "      <th>min</th>\n",
              "      <td>2019.000000</td>\n",
              "      <td>1.000000</td>\n",
              "      <td>NaN</td>\n",
              "      <td>0.000000</td>\n",
              "      <td>1.000000</td>\n",
              "    </tr>\n",
              "    <tr>\n",
              "      <th>25%</th>\n",
              "      <td>2019.000000</td>\n",
              "      <td>3.000000</td>\n",
              "      <td>NaN</td>\n",
              "      <td>489.000000</td>\n",
              "      <td>1.000000</td>\n",
              "    </tr>\n",
              "    <tr>\n",
              "      <th>50%</th>\n",
              "      <td>2019.000000</td>\n",
              "      <td>5.000000</td>\n",
              "      <td>NaN</td>\n",
              "      <td>847.000000</td>\n",
              "      <td>1.000000</td>\n",
              "    </tr>\n",
              "    <tr>\n",
              "      <th>75%</th>\n",
              "      <td>2020.000000</td>\n",
              "      <td>7.000000</td>\n",
              "      <td>NaN</td>\n",
              "      <td>1289.000000</td>\n",
              "      <td>2.000000</td>\n",
              "    </tr>\n",
              "    <tr>\n",
              "      <th>max</th>\n",
              "      <td>2020.000000</td>\n",
              "      <td>12.000000</td>\n",
              "      <td>NaN</td>\n",
              "      <td>7276.000000</td>\n",
              "      <td>18.000000</td>\n",
              "    </tr>\n",
              "  </tbody>\n",
              "</table>\n",
              "</div>"
            ],
            "text/plain": [
              "                 Año           Mes       Fecha    Antiguedad    Cant_Bajas\n",
              "count   17101.000000  17101.000000       17101  17101.000000  17101.000000\n",
              "unique           NaN           NaN         315           NaN           NaN\n",
              "top              NaN           NaN  01/02/2020           NaN           NaN\n",
              "freq             NaN           NaN         848           NaN           NaN\n",
              "mean     2019.358459      5.469797         NaN    902.821531      1.561312\n",
              "std         0.479562      3.262741         NaN    493.846888      1.115205\n",
              "min      2019.000000      1.000000         NaN      0.000000      1.000000\n",
              "25%      2019.000000      3.000000         NaN    489.000000      1.000000\n",
              "50%      2019.000000      5.000000         NaN    847.000000      1.000000\n",
              "75%      2020.000000      7.000000         NaN   1289.000000      2.000000\n",
              "max      2020.000000     12.000000         NaN   7276.000000     18.000000"
            ]
          },
          "metadata": {
            "tags": []
          },
          "execution_count": 247
        }
      ]
    },
    {
      "cell_type": "code",
      "metadata": {
        "id": "lK3hH5q9eBqY",
        "outputId": "e4ab0bd1-a173-44d5-e779-b4f4bb2a8188",
        "colab": {
          "base_uri": "https://localhost:8080/",
          "height": 252
        }
      },
      "source": [
        "data.info "
      ],
      "execution_count": 248,
      "outputs": [
        {
          "output_type": "execute_result",
          "data": {
            "text/plain": [
              "<bound method DataFrame.info of         Año  Mes       Fecha  Antiguedad  Cant_Bajas\n",
              "0      2019   11  01/11/2019        1068           3\n",
              "1      2020    4  01/04/2020         860           1\n",
              "2      2019   11  05/11/2019        1673           1\n",
              "3      2020    2  01/02/2020        1419           1\n",
              "4      2019    8  01/08/2019         782           1\n",
              "...     ...  ...         ...         ...         ...\n",
              "17096  2019    8  01/08/2019        1029           1\n",
              "17097  2019    4  01/04/2019         191           1\n",
              "17098  2019   11  01/11/2019         686           1\n",
              "17099  2020    7  01/07/2020        1037           1\n",
              "17100  2019    3  23/03/2019         703           1\n",
              "\n",
              "[17101 rows x 5 columns]>"
            ]
          },
          "metadata": {
            "tags": []
          },
          "execution_count": 248
        }
      ]
    },
    {
      "cell_type": "code",
      "metadata": {
        "id": "m-qkKEZo3o6b"
      },
      "source": [
        "#Agrupamos la columna antiguedad\n",
        "#1 : 1 TRIMESTRE (0-93 DIAS)\n",
        "#2 : 2 TRIMESTRE (94-186 DIAS)\n",
        "#3 : 3 TRIMESTRE (187-279 DIAS)\n",
        "#4 : 4 TRIMESTRE (280-370 DIAS)\n",
        "#5 : A 2 AÑOS (371-725 DIAS) \n",
        "#6 : A 3 AÑOS (726-1095 DIAS)\n",
        "#7 : 4 años en adelante (Máximo DIAS 7276) \n",
        "bins=[0,93,186,279,370,725,1095,7276]\n",
        "names=['1','2','3','4','5','6','7']\n",
        "data['Antiguedad'] = pd.cut(data['Antiguedad'],bins,labels=names)"
      ],
      "execution_count": 249,
      "outputs": []
    },
    {
      "cell_type": "code",
      "metadata": {
        "id": "Ez1C_xIJptVL"
      },
      "source": [
        "data.head(5)"
      ],
      "execution_count": null,
      "outputs": []
    },
    {
      "cell_type": "code",
      "metadata": {
        "id": "DN0uT17ujuNd"
      },
      "source": [
        " #validamos datos faltantes\n",
        " print(pd.isnull(data).sum())"
      ],
      "execution_count": null,
      "outputs": []
    },
    {
      "cell_type": "code",
      "metadata": {
        "id": "fnuyxD9di4M3"
      },
      "source": [
        "data.dropna(subset = ['Antiguedad'] , axis=0, inplace=True)"
      ],
      "execution_count": 252,
      "outputs": []
    },
    {
      "cell_type": "code",
      "metadata": {
        "id": "74Ihp7XaMISv"
      },
      "source": [
        "grupo = data.groupby(by = ['Año','Mes','Antiguedad']).sum()"
      ],
      "execution_count": 253,
      "outputs": []
    },
    {
      "cell_type": "code",
      "metadata": {
        "id": "l2l_qSzlNpUu"
      },
      "source": [
        "grupo= pd.DataFrame(grupo).reset_index()"
      ],
      "execution_count": 254,
      "outputs": []
    },
    {
      "cell_type": "code",
      "metadata": {
        "id": "z8BJoYLEN3I5",
        "outputId": "338c8ba1-d3b0-4aba-874c-c60cee296477",
        "colab": {
          "base_uri": "https://localhost:8080/",
          "height": 195
        }
      },
      "source": [
        "grupo.head(5)"
      ],
      "execution_count": 255,
      "outputs": [
        {
          "output_type": "execute_result",
          "data": {
            "text/html": [
              "<div>\n",
              "<style scoped>\n",
              "    .dataframe tbody tr th:only-of-type {\n",
              "        vertical-align: middle;\n",
              "    }\n",
              "\n",
              "    .dataframe tbody tr th {\n",
              "        vertical-align: top;\n",
              "    }\n",
              "\n",
              "    .dataframe thead th {\n",
              "        text-align: right;\n",
              "    }\n",
              "</style>\n",
              "<table border=\"1\" class=\"dataframe\">\n",
              "  <thead>\n",
              "    <tr style=\"text-align: right;\">\n",
              "      <th></th>\n",
              "      <th>Año</th>\n",
              "      <th>Mes</th>\n",
              "      <th>Antiguedad</th>\n",
              "      <th>Cant_Bajas</th>\n",
              "    </tr>\n",
              "  </thead>\n",
              "  <tbody>\n",
              "    <tr>\n",
              "      <th>0</th>\n",
              "      <td>2019</td>\n",
              "      <td>1</td>\n",
              "      <td>1</td>\n",
              "      <td>29.0</td>\n",
              "    </tr>\n",
              "    <tr>\n",
              "      <th>1</th>\n",
              "      <td>2019</td>\n",
              "      <td>1</td>\n",
              "      <td>2</td>\n",
              "      <td>28.0</td>\n",
              "    </tr>\n",
              "    <tr>\n",
              "      <th>2</th>\n",
              "      <td>2019</td>\n",
              "      <td>1</td>\n",
              "      <td>3</td>\n",
              "      <td>35.0</td>\n",
              "    </tr>\n",
              "    <tr>\n",
              "      <th>3</th>\n",
              "      <td>2019</td>\n",
              "      <td>1</td>\n",
              "      <td>4</td>\n",
              "      <td>125.0</td>\n",
              "    </tr>\n",
              "    <tr>\n",
              "      <th>4</th>\n",
              "      <td>2019</td>\n",
              "      <td>1</td>\n",
              "      <td>5</td>\n",
              "      <td>587.0</td>\n",
              "    </tr>\n",
              "  </tbody>\n",
              "</table>\n",
              "</div>"
            ],
            "text/plain": [
              "    Año  Mes Antiguedad  Cant_Bajas\n",
              "0  2019    1          1        29.0\n",
              "1  2019    1          2        28.0\n",
              "2  2019    1          3        35.0\n",
              "3  2019    1          4       125.0\n",
              "4  2019    1          5       587.0"
            ]
          },
          "metadata": {
            "tags": []
          },
          "execution_count": 255
        }
      ]
    },
    {
      "cell_type": "code",
      "metadata": {
        "id": "RIAoyz3YOAJR",
        "outputId": "736da2ed-f836-49f7-9d95-13237cac2478",
        "colab": {
          "base_uri": "https://localhost:8080/",
          "height": 136
        }
      },
      "source": [
        "grupo.corr(method ='pearson')"
      ],
      "execution_count": 256,
      "outputs": [
        {
          "output_type": "execute_result",
          "data": {
            "text/html": [
              "<div>\n",
              "<style scoped>\n",
              "    .dataframe tbody tr th:only-of-type {\n",
              "        vertical-align: middle;\n",
              "    }\n",
              "\n",
              "    .dataframe tbody tr th {\n",
              "        vertical-align: top;\n",
              "    }\n",
              "\n",
              "    .dataframe thead th {\n",
              "        text-align: right;\n",
              "    }\n",
              "</style>\n",
              "<table border=\"1\" class=\"dataframe\">\n",
              "  <thead>\n",
              "    <tr style=\"text-align: right;\">\n",
              "      <th></th>\n",
              "      <th>Año</th>\n",
              "      <th>Mes</th>\n",
              "      <th>Cant_Bajas</th>\n",
              "    </tr>\n",
              "  </thead>\n",
              "  <tbody>\n",
              "    <tr>\n",
              "      <th>Año</th>\n",
              "      <td>1.000000</td>\n",
              "      <td>0.000000</td>\n",
              "      <td>0.000376</td>\n",
              "    </tr>\n",
              "    <tr>\n",
              "      <th>Mes</th>\n",
              "      <td>0.000000</td>\n",
              "      <td>1.000000</td>\n",
              "      <td>-0.032048</td>\n",
              "    </tr>\n",
              "    <tr>\n",
              "      <th>Cant_Bajas</th>\n",
              "      <td>0.000376</td>\n",
              "      <td>-0.032048</td>\n",
              "      <td>1.000000</td>\n",
              "    </tr>\n",
              "  </tbody>\n",
              "</table>\n",
              "</div>"
            ],
            "text/plain": [
              "                 Año       Mes  Cant_Bajas\n",
              "Año         1.000000  0.000000    0.000376\n",
              "Mes         0.000000  1.000000   -0.032048\n",
              "Cant_Bajas  0.000376 -0.032048    1.000000"
            ]
          },
          "metadata": {
            "tags": []
          },
          "execution_count": 256
        }
      ]
    },
    {
      "cell_type": "code",
      "metadata": {
        "id": "WLKCRVJ2MmrV"
      },
      "source": [
        "x= np.array(data.drop(['Cant_Bajas'],ax1))\n",
        "y= np.array(data['Cant_Bajas'])"
      ],
      "execution_count": 20,
      "outputs": []
    },
    {
      "cell_type": "code",
      "metadata": {
        "id": "19Ctqj3hMOGB"
      },
      "source": [
        "from sklearn.model_selection import train_test_split\n",
        "\n",
        "x_train,x_test,y_train,y_test=train_test_split(x,y,test_size=0.2)"
      ],
      "execution_count": 21,
      "outputs": []
    },
    {
      "cell_type": "code",
      "metadata": {
        "id": "Qji-ahB_89nD"
      },
      "source": [
        "from sklearn.svm import SVR\n",
        "\n",
        "svr_ = SVR(kernel='rbf',C=1.0,epsilon=0.2)\n",
        "svr_.fit(x_train, y_train)\n",
        "y_pred= svr_.predict(x_test)"
      ],
      "execution_count": 28,
      "outputs": []
    },
    {
      "cell_type": "code",
      "metadata": {
        "id": "nwBD7sd8PYZ9",
        "outputId": "838e40e1-c1cf-4a51-cfe3-55e93bd3e4f6",
        "colab": {
          "base_uri": "https://localhost:8080/",
          "height": 34
        }
      },
      "source": [
        "svr_.score(x_train,y_train)"
      ],
      "execution_count": 29,
      "outputs": [
        {
          "output_type": "execute_result",
          "data": {
            "text/plain": [
              "-0.102827173078758"
            ]
          },
          "metadata": {
            "tags": []
          },
          "execution_count": 29
        }
      ]
    },
    {
      "cell_type": "code",
      "metadata": {
        "id": "IHam3VSCVqOA"
      },
      "source": [
        "from sklearn.preprocessing import PolynomialFeatures\n",
        "poly_reg = PolynomialFeatures(degree = 3)\n",
        "x_poly = poly_reg.fit_transform(x_train)"
      ],
      "execution_count": 37,
      "outputs": []
    },
    {
      "cell_type": "code",
      "metadata": {
        "id": "dXOJOo_BWaFb"
      },
      "source": [
        "print(pd.DataFrame(x_poly))"
      ],
      "execution_count": null,
      "outputs": []
    },
    {
      "cell_type": "code",
      "metadata": {
        "id": "RjekD9zaWb53",
        "outputId": "37482863-75fb-4ec0-b581-bfa0a1523b46",
        "colab": {
          "base_uri": "https://localhost:8080/",
          "height": 34
        }
      },
      "source": [
        "from sklearn.linear_model import LinearRegression\n",
        "lineal_poly = LinearRegression()\n",
        "lineal_poly.fit(x_poly,y_train)"
      ],
      "execution_count": 39,
      "outputs": [
        {
          "output_type": "execute_result",
          "data": {
            "text/plain": [
              "LinearRegression(copy_X=True, fit_intercept=True, n_jobs=None, normalize=False)"
            ]
          },
          "metadata": {
            "tags": []
          },
          "execution_count": 39
        }
      ]
    },
    {
      "cell_type": "code",
      "metadata": {
        "id": "o4G229MqWw0W",
        "outputId": "597340c9-2612-451e-e80d-02a0e507d7f6",
        "colab": {
          "base_uri": "https://localhost:8080/",
          "height": 34
        }
      },
      "source": [
        "lineal_poly.score(x_poly,y_train)"
      ],
      "execution_count": 40,
      "outputs": [
        {
          "output_type": "execute_result",
          "data": {
            "text/plain": [
              "0.06117165339805852"
            ]
          },
          "metadata": {
            "tags": []
          },
          "execution_count": 40
        }
      ]
    }
  ]
}