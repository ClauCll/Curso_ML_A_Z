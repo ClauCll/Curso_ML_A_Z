{
  "nbformat": 4,
  "nbformat_minor": 0,
  "metadata": {
    "colab": {
      "name": "Untitled1.ipynb",
      "provenance": [],
      "include_colab_link": true
    },
    "kernelspec": {
      "name": "python3",
      "display_name": "Python 3"
    }
  },
  "cells": [
    {
      "cell_type": "markdown",
      "metadata": {
        "id": "view-in-github",
        "colab_type": "text"
      },
      "source": [
        "<a href=\"https://colab.research.google.com/github/ClauCll/Curso_ML_A_Z/blob/master/Regresi%C3%B3n/Regresion_Bajas_Antiguedad_v8.ipynb\" target=\"_parent\"><img src=\"https://colab.research.google.com/assets/colab-badge.svg\" alt=\"Open In Colab\"/></a>"
      ]
    },
    {
      "cell_type": "markdown",
      "metadata": {
        "id": "-J3qDXeFwvSb"
      },
      "source": [
        "## Cuantas serán las bajas voluntarias de los clientes fijos para un periodo x. (Agosto - Diciembre 2020)\n",
        " "
      ]
    },
    {
      "cell_type": "code",
      "metadata": {
        "id": "Vsqlhqgww1BG"
      },
      "source": [
        "import pandas as pd\n",
        "import numpy as np\n",
        "\n",
        "#Gráfico\n",
        "from mpl_toolkits.mplot3d import axes3d\n",
        "import matplotlib.pyplot as plt \n",
        "from matplotlib import style\n",
        "import matplotlib.ticker as ticker\n",
        "import seaborn as sns\n",
        "\n",
        "import gspread\n",
        "from oauth2client.client import GoogleCredentials \n",
        "from google.colab import auth\n",
        "# Autoriza Claudia\n",
        "auth.authenticate_user()\n",
        "gc = gspread.authorize (GoogleCredentials.get_application_default())"
      ],
      "execution_count": 97,
      "outputs": []
    },
    {
      "cell_type": "markdown",
      "metadata": {
        "id": "2xAoqlB_02Do"
      },
      "source": [
        "### leemos datos"
      ]
    },
    {
      "cell_type": "code",
      "metadata": {
        "id": "y_VVpj56uzRV",
        "outputId": "1ecf8338-255a-4d12-8f97-ce87110d8572",
        "colab": {
          "base_uri": "https://localhost:8080/"
        }
      },
      "source": [
        "from google.colab import drive\n",
        "drive.mount('/content/drive')"
      ],
      "execution_count": 98,
      "outputs": [
        {
          "output_type": "stream",
          "text": [
            "Drive already mounted at /content/drive; to attempt to forcibly remount, call drive.mount(\"/content/drive\", force_remount=True).\n"
          ],
          "name": "stdout"
        }
      ]
    },
    {
      "cell_type": "code",
      "metadata": {
        "id": "0JYqth2Ty8-k",
        "outputId": "68d3e8c2-3d10-42a1-89db-467badc7bfc6",
        "colab": {
          "base_uri": "https://localhost:8080/"
        }
      },
      "source": [
        "data = pd.read_csv('/content/drive/My Drive/Dataset/M_BAJAS.txt',delimiter='~')\n",
        "data.Fecha = pd.to_datetime(data.FECHA_BAJA)"
      ],
      "execution_count": 99,
      "outputs": [
        {
          "output_type": "stream",
          "text": [
            "/usr/local/lib/python3.6/dist-packages/ipykernel_launcher.py:2: UserWarning: Pandas doesn't allow columns to be created via a new attribute name - see https://pandas.pydata.org/pandas-docs/stable/indexing.html#attribute-access\n",
            "  \n"
          ],
          "name": "stderr"
        }
      ]
    },
    {
      "cell_type": "code",
      "metadata": {
        "id": "RbQx30WIGlcX"
      },
      "source": [
        "data.head(5)"
      ],
      "execution_count": null,
      "outputs": []
    },
    {
      "cell_type": "code",
      "metadata": {
        "id": "x5gI0SJbW5W6"
      },
      "source": [
        "encabezados= ['Año','Mes','Fecha','Antiguedad','Cant_Bajas']\n",
        "data.columns=encabezados"
      ],
      "execution_count": 100,
      "outputs": []
    },
    {
      "cell_type": "code",
      "metadata": {
        "id": "lB5IaAuJXHsS"
      },
      "source": [
        "data.head(5)"
      ],
      "execution_count": null,
      "outputs": []
    },
    {
      "cell_type": "code",
      "metadata": {
        "id": "MND5wUGBWhcM"
      },
      "source": [
        " #validamos datos faltantes\n",
        " print(pd.isnull(data).sum())"
      ],
      "execution_count": null,
      "outputs": []
    },
    {
      "cell_type": "code",
      "metadata": {
        "id": "S5N5IgkXbwjx"
      },
      "source": [
        "data.describe(include='all')"
      ],
      "execution_count": null,
      "outputs": []
    },
    {
      "cell_type": "code",
      "metadata": {
        "id": "lK3hH5q9eBqY"
      },
      "source": [
        "data.info "
      ],
      "execution_count": null,
      "outputs": []
    },
    {
      "cell_type": "code",
      "metadata": {
        "id": "m-qkKEZo3o6b"
      },
      "source": [
        "#Agrupamos la columna antiguedad\n",
        "#1 : 1 TRIMESTRE (0-93 DIAS)\n",
        "#2 : 2 TRIMESTRE (94-186 DIAS)\n",
        "#3 : 3 TRIMESTRE (187-279 DIAS)\n",
        "#4 : 4 TRIMESTRE (280-370 DIAS)\n",
        "#5 : A 2 AÑOS (371-725 DIAS) \n",
        "#6 : A 3 AÑOS (726-1095 DIAS)\n",
        "#7 : 4 años en adelante (Máximo DIAS 7276) \n",
        "bins=[-1,93,186,279,370,725,1095,7276]\n",
        "names=['1','2','3','4','5','6','7']\n",
        "data['Antiguedad'] = pd.cut(data['Antiguedad'],bins,labels=names)"
      ],
      "execution_count": 102,
      "outputs": []
    },
    {
      "cell_type": "code",
      "metadata": {
        "id": "t_YnKeJCPmXl",
        "outputId": "2c2102ed-711a-4733-b78d-6da951a82a09",
        "colab": {
          "base_uri": "https://localhost:8080/",
          "height": 47
        }
      },
      "source": [
        "#validamos datos sin clasificar\n",
        "data[pd.isnull(data.Antiguedad)]"
      ],
      "execution_count": 103,
      "outputs": [
        {
          "output_type": "execute_result",
          "data": {
            "text/html": [
              "<div>\n",
              "<style scoped>\n",
              "    .dataframe tbody tr th:only-of-type {\n",
              "        vertical-align: middle;\n",
              "    }\n",
              "\n",
              "    .dataframe tbody tr th {\n",
              "        vertical-align: top;\n",
              "    }\n",
              "\n",
              "    .dataframe thead th {\n",
              "        text-align: right;\n",
              "    }\n",
              "</style>\n",
              "<table border=\"1\" class=\"dataframe\">\n",
              "  <thead>\n",
              "    <tr style=\"text-align: right;\">\n",
              "      <th></th>\n",
              "      <th>Año</th>\n",
              "      <th>Mes</th>\n",
              "      <th>Fecha</th>\n",
              "      <th>Antiguedad</th>\n",
              "      <th>Cant_Bajas</th>\n",
              "    </tr>\n",
              "  </thead>\n",
              "  <tbody>\n",
              "  </tbody>\n",
              "</table>\n",
              "</div>"
            ],
            "text/plain": [
              "Empty DataFrame\n",
              "Columns: [Año, Mes, Fecha, Antiguedad, Cant_Bajas]\n",
              "Index: []"
            ]
          },
          "metadata": {
            "tags": []
          },
          "execution_count": 103
        }
      ]
    },
    {
      "cell_type": "code",
      "metadata": {
        "id": "T8h3TtquOWsY"
      },
      "source": [
        "#pasamos datos a clasificados a entero\n",
        "data['Antiguedad'] = data['Antiguedad'].astype('int64')"
      ],
      "execution_count": 104,
      "outputs": []
    },
    {
      "cell_type": "code",
      "metadata": {
        "id": "GWnAOMUBv4Ph"
      },
      "source": [
        "data.dtypes"
      ],
      "execution_count": null,
      "outputs": []
    },
    {
      "cell_type": "code",
      "metadata": {
        "id": "Ez1C_xIJptVL"
      },
      "source": [
        "data.head(5)"
      ],
      "execution_count": null,
      "outputs": []
    },
    {
      "cell_type": "code",
      "metadata": {
        "id": "DN0uT17ujuNd"
      },
      "source": [
        " #validamos datos faltantes\n",
        " print(pd.isnull(data).sum())"
      ],
      "execution_count": null,
      "outputs": []
    },
    {
      "cell_type": "code",
      "metadata": {
        "id": "74Ihp7XaMISv"
      },
      "source": [
        "grupo = data.groupby(by = ['Año','Mes','Antiguedad']).sum()\n",
        "grupo= pd.DataFrame(grupo).reset_index()"
      ],
      "execution_count": 107,
      "outputs": []
    },
    {
      "cell_type": "code",
      "metadata": {
        "id": "z8BJoYLEN3I5"
      },
      "source": [
        "grupo.head(5)"
      ],
      "execution_count": null,
      "outputs": []
    },
    {
      "cell_type": "code",
      "metadata": {
        "id": "8oP46fCvdWkB"
      },
      "source": [
        " #validamos datos faltantes\n",
        " print(pd.isnull(grupo).sum())"
      ],
      "execution_count": null,
      "outputs": []
    },
    {
      "cell_type": "code",
      "metadata": {
        "id": "yh8BKX9FeFxK"
      },
      "source": [
        "#grupo.dropna(subset = ['Cant_Bajas'] , axis=0, inplace=True)"
      ],
      "execution_count": 96,
      "outputs": []
    },
    {
      "cell_type": "code",
      "metadata": {
        "id": "WLKCRVJ2MmrV"
      },
      "source": [
        "x= grupo.iloc[:,:-1].values\n",
        "x=np.array(x)\n",
        "y= grupo.iloc[:,3].values\n",
        "y = y[:,np.newaxis]"
      ],
      "execution_count": 112,
      "outputs": []
    },
    {
      "cell_type": "code",
      "metadata": {
        "id": "QB-OlPjkfw_G"
      },
      "source": [
        "from sklearn.preprocessing import LabelEncoder, OneHotEncoder\n",
        "from sklearn.compose import ColumnTransformer\n",
        "\n",
        "labelencoder= LabelEncoder()\n",
        "x[:,2] = labelencoder.fit_transform(x[:,2])\n",
        "ct = ColumnTransformer([('one_hot_encoder',OneHotEncoder(categories='auto'),[2])],remainder='passthrough')\n",
        "x=np.array(ct.fit_transform(x),dtype=np.int)"
      ],
      "execution_count": 124,
      "outputs": []
    },
    {
      "cell_type": "code",
      "metadata": {
        "id": "19Ctqj3hMOGB"
      },
      "source": [
        "from sklearn.model_selection import train_test_split\n",
        "x_train, x_test, y_train, y_test = train_test_split(x,y,test_size=0.2, random_state=0)"
      ],
      "execution_count": 126,
      "outputs": []
    },
    {
      "cell_type": "code",
      "metadata": {
        "id": "IHam3VSCVqOA",
        "outputId": "c1c12d8a-07b3-4554-a4f6-8388413e347c",
        "colab": {
          "base_uri": "https://localhost:8080/"
        }
      },
      "source": [
        "from sklearn.preprocessing import PolynomialFeatures\n",
        "poly_reg = PolynomialFeatures(degree = 3)\n",
        "x_poly_train = poly_reg.fit_transform(x_train)\n",
        "x_poly_test = poly_reg.fit_transform(x_test)\n",
        "\n",
        "from sklearn.linear_model import LinearRegression\n",
        "lineal_poly = LinearRegression()\n",
        "lineal_poly.fit(x_poly_train,y_train)\n",
        "\n",
        "print(\"precisión del modelo regresión polinomial\")\n",
        "lineal_poly.score(x_poly_train,y_train)"
      ],
      "execution_count": 130,
      "outputs": [
        {
          "output_type": "stream",
          "text": [
            "precisión del modelo regresión polinomial\n"
          ],
          "name": "stdout"
        },
        {
          "output_type": "execute_result",
          "data": {
            "text/plain": [
              "0.881223363134311"
            ]
          },
          "metadata": {
            "tags": []
          },
          "execution_count": 130
        }
      ]
    },
    {
      "cell_type": "code",
      "metadata": {
        "id": "Y8e8nJB9wEnL"
      },
      "source": [
        "y_predic = lineal_poly.predict(x_poly_test)"
      ],
      "execution_count": null,
      "outputs": []
    },
    {
      "cell_type": "code",
      "metadata": {
        "id": "-XVnMRWp34Oo"
      },
      "source": [
        "print(len(x_test))\n",
        "print(len(y_test))"
      ],
      "execution_count": null,
      "outputs": []
    },
    {
      "cell_type": "code",
      "metadata": {
        "id": "uOgLAud-sRJ6",
        "outputId": "4c9f187a-229a-43e9-ca78-994183d9287c",
        "colab": {
          "base_uri": "https://localhost:8080/",
          "height": 265
        }
      },
      "source": [
        "#Gráfica\n",
        "plt.scatter(x_test[:,8],y_test,color='Blue',linewidth=3)\n",
        "#plt.plot(x_test,y_predic,color='red',linewidth=3)\n",
        "plt.show()"
      ],
      "execution_count": null,
      "outputs": [
        {
          "output_type": "display_data",
          "data": {
            "image/png": "[encoded data removed]",
            "text/plain": [
              "<Figure size 432x288 with 1 Axes>"
            ]
          },
          "metadata": {
            "tags": [],
            "needs_background": "light"
          }
        }
      ]
    },
    {
      "cell_type": "code",
      "metadata": {
        "id": "rBNR4S0TzYEI"
      },
      "source": [
        "pd.DataFrame(x_test)"
      ],
      "execution_count": null,
      "outputs": []
    },
    {
      "cell_type": "code",
      "metadata": {
        "id": "fICFPYOn0vxZ"
      },
      "source": [
        "pd.DataFrame(y_test)"
      ],
      "execution_count": null,
      "outputs": []
    },
    {
      "cell_type": "code",
      "metadata": {
        "id": "7ZZ5F9WBb99E",
        "outputId": "3f163016-ae98-498a-d3e6-36428347fa6a",
        "colab": {
          "base_uri": "https://localhost:8080/",
          "height": 166
        }
      },
      "source": [
        "grupo.corr(method ='pearson')"
      ],
      "execution_count": 111,
      "outputs": [
        {
          "output_type": "execute_result",
          "data": {
            "text/html": [
              "<div>\n",
              "<style scoped>\n",
              "    .dataframe tbody tr th:only-of-type {\n",
              "        vertical-align: middle;\n",
              "    }\n",
              "\n",
              "    .dataframe tbody tr th {\n",
              "        vertical-align: top;\n",
              "    }\n",
              "\n",
              "    .dataframe thead th {\n",
              "        text-align: right;\n",
              "    }\n",
              "</style>\n",
              "<table border=\"1\" class=\"dataframe\">\n",
              "  <thead>\n",
              "    <tr style=\"text-align: right;\">\n",
              "      <th></th>\n",
              "      <th>Año</th>\n",
              "      <th>Mes</th>\n",
              "      <th>Antiguedad</th>\n",
              "      <th>Cant_Bajas</th>\n",
              "    </tr>\n",
              "  </thead>\n",
              "  <tbody>\n",
              "    <tr>\n",
              "      <th>Año</th>\n",
              "      <td>1.000000</td>\n",
              "      <td>-3.729741e-01</td>\n",
              "      <td>0.000000e+00</td>\n",
              "      <td>0.000419</td>\n",
              "    </tr>\n",
              "    <tr>\n",
              "      <th>Mes</th>\n",
              "      <td>-0.372974</td>\n",
              "      <td>1.000000e+00</td>\n",
              "      <td>-2.065386e-18</td>\n",
              "      <td>-0.032045</td>\n",
              "    </tr>\n",
              "    <tr>\n",
              "      <th>Antiguedad</th>\n",
              "      <td>0.000000</td>\n",
              "      <td>-2.065386e-18</td>\n",
              "      <td>1.000000e+00</td>\n",
              "      <td>0.701732</td>\n",
              "    </tr>\n",
              "    <tr>\n",
              "      <th>Cant_Bajas</th>\n",
              "      <td>0.000419</td>\n",
              "      <td>-3.204475e-02</td>\n",
              "      <td>7.017319e-01</td>\n",
              "      <td>1.000000</td>\n",
              "    </tr>\n",
              "  </tbody>\n",
              "</table>\n",
              "</div>"
            ],
            "text/plain": [
              "                 Año           Mes    Antiguedad  Cant_Bajas\n",
              "Año         1.000000 -3.729741e-01  0.000000e+00    0.000419\n",
              "Mes        -0.372974  1.000000e+00 -2.065386e-18   -0.032045\n",
              "Antiguedad  0.000000 -2.065386e-18  1.000000e+00    0.701732\n",
              "Cant_Bajas  0.000419 -3.204475e-02  7.017319e-01    1.000000"
            ]
          },
          "metadata": {
            "tags": []
          },
          "execution_count": 111
        }
      ]
    }
  ]
}