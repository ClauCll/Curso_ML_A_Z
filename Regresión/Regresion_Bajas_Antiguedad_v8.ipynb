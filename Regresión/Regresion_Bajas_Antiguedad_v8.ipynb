{
  "nbformat": 4,
  "nbformat_minor": 0,
  "metadata": {
    "colab": {
      "name": "Untitled1.ipynb",
      "provenance": [],
      "include_colab_link": true
    },
    "kernelspec": {
      "name": "python3",
      "display_name": "Python 3"
    }
  },
  "cells": [
    {
      "cell_type": "markdown",
      "metadata": {
        "id": "view-in-github",
        "colab_type": "text"
      },
      "source": [
        "<a href=\"https://colab.research.google.com/github/ClauCll/Curso_ML_A_Z/blob/master/Regresi%C3%B3n/Regresion_Bajas_Antiguedad_v8.ipynb\" target=\"_parent\"><img src=\"https://colab.research.google.com/assets/colab-badge.svg\" alt=\"Open In Colab\"/></a>"
      ]
    },
    {
      "cell_type": "markdown",
      "metadata": {
        "id": "-J3qDXeFwvSb"
      },
      "source": [
        "## Cuantas serán las bajas voluntarias de los clientes fijos para un periodo x. (Agosto - Diciembre 2020)\n",
        " "
      ]
    },
    {
      "cell_type": "code",
      "metadata": {
        "id": "Vsqlhqgww1BG"
      },
      "source": [
        "import pandas as pd\n",
        "import numpy as np\n",
        "\n",
        "#Gráfico\n",
        "from mpl_toolkits.mplot3d import axes3d\n",
        "import matplotlib.pyplot as plt \n",
        "from matplotlib import style\n",
        "import matplotlib.ticker as ticker\n",
        "import seaborn as sns\n",
        "\n",
        "import gspread\n",
        "from oauth2client.client import GoogleCredentials \n",
        "from google.colab import auth\n",
        "# Autoriza Claudia\n",
        "auth.authenticate_user()\n",
        "gc = gspread.authorize (GoogleCredentials.get_application_default())"
      ],
      "execution_count": 1,
      "outputs": []
    },
    {
      "cell_type": "markdown",
      "metadata": {
        "id": "2xAoqlB_02Do"
      },
      "source": [
        "### leemos datos"
      ]
    },
    {
      "cell_type": "code",
      "metadata": {
        "id": "y_VVpj56uzRV",
        "outputId": "f25716bd-6ee3-4513-e528-807944a361ae",
        "colab": {
          "base_uri": "https://localhost:8080/",
          "height": 54
        }
      },
      "source": [
        "from google.colab import drive\n",
        "drive.mount('/content/drive')"
      ],
      "execution_count": 88,
      "outputs": [
        {
          "output_type": "stream",
          "text": [
            "Drive already mounted at /content/drive; to attempt to forcibly remount, call drive.mount(\"/content/drive\", force_remount=True).\n"
          ],
          "name": "stdout"
        }
      ]
    },
    {
      "cell_type": "code",
      "metadata": {
        "id": "0JYqth2Ty8-k"
      },
      "source": [
        "data = pd.read_csv('/content/drive/My Drive/Dataset/BAJAS_V3.txt',delimiter='~')\n",
        " \n",
        "X  = data.iloc[:,:-1].values\n",
        "Y  = data.iloc[:,8].values\n",
        "Y = Y[:,np.newaxis]"
      ],
      "execution_count": 90,
      "outputs": []
    },
    {
      "cell_type": "code",
      "metadata": {
        "id": "RbQx30WIGlcX",
        "outputId": "30ac673c-4445-4e8e-fe6d-036d470ec958",
        "colab": {
          "base_uri": "https://localhost:8080/",
          "height": 610
        }
      },
      "source": [
        "#data.info()#\n",
        "#data.describe()\n",
        "data"
      ],
      "execution_count": 91,
      "outputs": [
        {
          "output_type": "execute_result",
          "data": {
            "text/html": [
              "<div>\n",
              "<style scoped>\n",
              "    .dataframe tbody tr th:only-of-type {\n",
              "        vertical-align: middle;\n",
              "    }\n",
              "\n",
              "    .dataframe tbody tr th {\n",
              "        vertical-align: top;\n",
              "    }\n",
              "\n",
              "    .dataframe thead th {\n",
              "        text-align: right;\n",
              "    }\n",
              "</style>\n",
              "<table border=\"1\" class=\"dataframe\">\n",
              "  <thead>\n",
              "    <tr style=\"text-align: right;\">\n",
              "      <th></th>\n",
              "      <th>ANIO_BAJA</th>\n",
              "      <th>MES_BAJA</th>\n",
              "      <th>TRIM_1</th>\n",
              "      <th>TRIM_2</th>\n",
              "      <th>TRIM_3</th>\n",
              "      <th>TRIM_4</th>\n",
              "      <th>ENTRE_1_2_ANIOS</th>\n",
              "      <th>ENTRE_3_4_ANIOS</th>\n",
              "      <th>MAS_5_ANIOS</th>\n",
              "      <th>TOTAL_BAJAS</th>\n",
              "    </tr>\n",
              "  </thead>\n",
              "  <tbody>\n",
              "    <tr>\n",
              "      <th>0</th>\n",
              "      <td>2019</td>\n",
              "      <td>2</td>\n",
              "      <td>43</td>\n",
              "      <td>22</td>\n",
              "      <td>45</td>\n",
              "      <td>374</td>\n",
              "      <td>980</td>\n",
              "      <td>496</td>\n",
              "      <td>1</td>\n",
              "      <td>1961</td>\n",
              "    </tr>\n",
              "    <tr>\n",
              "      <th>1</th>\n",
              "      <td>2019</td>\n",
              "      <td>12</td>\n",
              "      <td>42</td>\n",
              "      <td>19</td>\n",
              "      <td>15</td>\n",
              "      <td>181</td>\n",
              "      <td>603</td>\n",
              "      <td>1470</td>\n",
              "      <td>105</td>\n",
              "      <td>2435</td>\n",
              "    </tr>\n",
              "    <tr>\n",
              "      <th>2</th>\n",
              "      <td>2019</td>\n",
              "      <td>1</td>\n",
              "      <td>39</td>\n",
              "      <td>27</td>\n",
              "      <td>36</td>\n",
              "      <td>297</td>\n",
              "      <td>754</td>\n",
              "      <td>371</td>\n",
              "      <td>0</td>\n",
              "      <td>1524</td>\n",
              "    </tr>\n",
              "    <tr>\n",
              "      <th>3</th>\n",
              "      <td>2019</td>\n",
              "      <td>10</td>\n",
              "      <td>29</td>\n",
              "      <td>15</td>\n",
              "      <td>17</td>\n",
              "      <td>134</td>\n",
              "      <td>470</td>\n",
              "      <td>294</td>\n",
              "      <td>19</td>\n",
              "      <td>978</td>\n",
              "    </tr>\n",
              "    <tr>\n",
              "      <th>4</th>\n",
              "      <td>2019</td>\n",
              "      <td>9</td>\n",
              "      <td>26</td>\n",
              "      <td>19</td>\n",
              "      <td>20</td>\n",
              "      <td>142</td>\n",
              "      <td>498</td>\n",
              "      <td>316</td>\n",
              "      <td>10</td>\n",
              "      <td>1031</td>\n",
              "    </tr>\n",
              "    <tr>\n",
              "      <th>5</th>\n",
              "      <td>2019</td>\n",
              "      <td>5</td>\n",
              "      <td>43</td>\n",
              "      <td>29</td>\n",
              "      <td>29</td>\n",
              "      <td>306</td>\n",
              "      <td>741</td>\n",
              "      <td>396</td>\n",
              "      <td>4</td>\n",
              "      <td>1548</td>\n",
              "    </tr>\n",
              "    <tr>\n",
              "      <th>6</th>\n",
              "      <td>2020</td>\n",
              "      <td>7</td>\n",
              "      <td>99</td>\n",
              "      <td>54</td>\n",
              "      <td>39</td>\n",
              "      <td>173</td>\n",
              "      <td>722</td>\n",
              "      <td>433</td>\n",
              "      <td>139</td>\n",
              "      <td>1659</td>\n",
              "    </tr>\n",
              "    <tr>\n",
              "      <th>7</th>\n",
              "      <td>2019</td>\n",
              "      <td>6</td>\n",
              "      <td>20</td>\n",
              "      <td>28</td>\n",
              "      <td>19</td>\n",
              "      <td>216</td>\n",
              "      <td>658</td>\n",
              "      <td>343</td>\n",
              "      <td>8</td>\n",
              "      <td>1292</td>\n",
              "    </tr>\n",
              "    <tr>\n",
              "      <th>8</th>\n",
              "      <td>2020</td>\n",
              "      <td>1</td>\n",
              "      <td>23</td>\n",
              "      <td>17</td>\n",
              "      <td>7</td>\n",
              "      <td>245</td>\n",
              "      <td>701</td>\n",
              "      <td>427</td>\n",
              "      <td>38</td>\n",
              "      <td>1458</td>\n",
              "    </tr>\n",
              "    <tr>\n",
              "      <th>9</th>\n",
              "      <td>2019</td>\n",
              "      <td>3</td>\n",
              "      <td>44</td>\n",
              "      <td>31</td>\n",
              "      <td>26</td>\n",
              "      <td>289</td>\n",
              "      <td>746</td>\n",
              "      <td>396</td>\n",
              "      <td>2</td>\n",
              "      <td>1534</td>\n",
              "    </tr>\n",
              "    <tr>\n",
              "      <th>10</th>\n",
              "      <td>2019</td>\n",
              "      <td>8</td>\n",
              "      <td>19</td>\n",
              "      <td>18</td>\n",
              "      <td>19</td>\n",
              "      <td>168</td>\n",
              "      <td>590</td>\n",
              "      <td>294</td>\n",
              "      <td>6</td>\n",
              "      <td>1114</td>\n",
              "    </tr>\n",
              "    <tr>\n",
              "      <th>11</th>\n",
              "      <td>2019</td>\n",
              "      <td>7</td>\n",
              "      <td>20</td>\n",
              "      <td>33</td>\n",
              "      <td>14</td>\n",
              "      <td>159</td>\n",
              "      <td>637</td>\n",
              "      <td>332</td>\n",
              "      <td>6</td>\n",
              "      <td>1201</td>\n",
              "    </tr>\n",
              "    <tr>\n",
              "      <th>12</th>\n",
              "      <td>2019</td>\n",
              "      <td>4</td>\n",
              "      <td>35</td>\n",
              "      <td>26</td>\n",
              "      <td>17</td>\n",
              "      <td>247</td>\n",
              "      <td>583</td>\n",
              "      <td>310</td>\n",
              "      <td>3</td>\n",
              "      <td>1221</td>\n",
              "    </tr>\n",
              "    <tr>\n",
              "      <th>13</th>\n",
              "      <td>2020</td>\n",
              "      <td>3</td>\n",
              "      <td>51</td>\n",
              "      <td>17</td>\n",
              "      <td>23</td>\n",
              "      <td>190</td>\n",
              "      <td>726</td>\n",
              "      <td>452</td>\n",
              "      <td>74</td>\n",
              "      <td>1533</td>\n",
              "    </tr>\n",
              "    <tr>\n",
              "      <th>14</th>\n",
              "      <td>2020</td>\n",
              "      <td>4</td>\n",
              "      <td>54</td>\n",
              "      <td>21</td>\n",
              "      <td>22</td>\n",
              "      <td>98</td>\n",
              "      <td>509</td>\n",
              "      <td>326</td>\n",
              "      <td>54</td>\n",
              "      <td>1084</td>\n",
              "    </tr>\n",
              "    <tr>\n",
              "      <th>15</th>\n",
              "      <td>2020</td>\n",
              "      <td>2</td>\n",
              "      <td>34</td>\n",
              "      <td>15</td>\n",
              "      <td>18</td>\n",
              "      <td>312</td>\n",
              "      <td>869</td>\n",
              "      <td>526</td>\n",
              "      <td>42</td>\n",
              "      <td>1816</td>\n",
              "    </tr>\n",
              "    <tr>\n",
              "      <th>16</th>\n",
              "      <td>2020</td>\n",
              "      <td>5</td>\n",
              "      <td>69</td>\n",
              "      <td>11</td>\n",
              "      <td>19</td>\n",
              "      <td>99</td>\n",
              "      <td>350</td>\n",
              "      <td>231</td>\n",
              "      <td>38</td>\n",
              "      <td>817</td>\n",
              "    </tr>\n",
              "    <tr>\n",
              "      <th>17</th>\n",
              "      <td>2019</td>\n",
              "      <td>11</td>\n",
              "      <td>35</td>\n",
              "      <td>19</td>\n",
              "      <td>22</td>\n",
              "      <td>153</td>\n",
              "      <td>484</td>\n",
              "      <td>294</td>\n",
              "      <td>11</td>\n",
              "      <td>1018</td>\n",
              "    </tr>\n",
              "    <tr>\n",
              "      <th>18</th>\n",
              "      <td>2020</td>\n",
              "      <td>6</td>\n",
              "      <td>88</td>\n",
              "      <td>42</td>\n",
              "      <td>26</td>\n",
              "      <td>132</td>\n",
              "      <td>686</td>\n",
              "      <td>395</td>\n",
              "      <td>107</td>\n",
              "      <td>1476</td>\n",
              "    </tr>\n",
              "  </tbody>\n",
              "</table>\n",
              "</div>"
            ],
            "text/plain": [
              "    ANIO_BAJA  MES_BAJA  TRIM_1  ...  ENTRE_3_4_ANIOS  MAS_5_ANIOS  TOTAL_BAJAS\n",
              "0        2019         2      43  ...              496            1         1961\n",
              "1        2019        12      42  ...             1470          105         2435\n",
              "2        2019         1      39  ...              371            0         1524\n",
              "3        2019        10      29  ...              294           19          978\n",
              "4        2019         9      26  ...              316           10         1031\n",
              "5        2019         5      43  ...              396            4         1548\n",
              "6        2020         7      99  ...              433          139         1659\n",
              "7        2019         6      20  ...              343            8         1292\n",
              "8        2020         1      23  ...              427           38         1458\n",
              "9        2019         3      44  ...              396            2         1534\n",
              "10       2019         8      19  ...              294            6         1114\n",
              "11       2019         7      20  ...              332            6         1201\n",
              "12       2019         4      35  ...              310            3         1221\n",
              "13       2020         3      51  ...              452           74         1533\n",
              "14       2020         4      54  ...              326           54         1084\n",
              "15       2020         2      34  ...              526           42         1816\n",
              "16       2020         5      69  ...              231           38          817\n",
              "17       2019        11      35  ...              294           11         1018\n",
              "18       2020         6      88  ...              395          107         1476\n",
              "\n",
              "[19 rows x 10 columns]"
            ]
          },
          "metadata": {
            "tags": []
          },
          "execution_count": 91
        }
      ]
    },
    {
      "cell_type": "code",
      "metadata": {
        "id": "2TE6QtHbPGlm",
        "outputId": "6aa408b9-c03b-417d-cf9c-b95c05a78295",
        "colab": {
          "base_uri": "https://localhost:8080/",
          "height": 104
        }
      },
      "source": [
        "from sklearn.model_selection import train_test_split\n",
        "from sklearn.metrics import accuracy_score\n",
        "from sklearn.svm import SVR\n",
        "from sklearn.linear_model import LogisticRegression\n",
        "\n",
        "# 1trim\n",
        "#entrenamos datos\n",
        "x_train = X[:,0]\n",
        "x_train = x_train[:,np.newaxis]\n",
        "y_train = X[:,1]\n",
        "y_train = y_train[:,np.newaxis]\n",
        "\n",
        "#Modelo regresión Logística\n",
        "logreg= LogisticRegression()\n",
        "logreg.fit(x_train, y_train)\n",
        "y_predic_train_m1 = logreg.predict(x_train)\n",
        "print('Precisión Modelo Regresión Logística')\n",
        "print(logreg.score(x_train,y_train))\n"
      ],
      "execution_count": 5,
      "outputs": [
        {
          "output_type": "stream",
          "text": [
            "Precisión Modelo Regresión Logística\n",
            "0.7142857142857143\n"
          ],
          "name": "stdout"
        },
        {
          "output_type": "stream",
          "text": [
            "/usr/local/lib/python3.6/dist-packages/sklearn/utils/validation.py:760: DataConversionWarning: A column-vector y was passed when a 1d array was expected. Please change the shape of y to (n_samples, ), for example using ravel().\n",
            "  y = column_or_1d(y, warn=True)\n"
          ],
          "name": "stderr"
        }
      ]
    },
    {
      "cell_type": "code",
      "metadata": {
        "id": "lM440GPiUC7w",
        "outputId": "199a442e-446f-4e4c-aa7b-6981ca3cbbd2",
        "colab": {
          "base_uri": "https://localhost:8080/",
          "height": 302
        }
      },
      "source": [
        "print('Datos entrenamiento')\n",
        "print(y_train)\n",
        "print('Resultado predicción entrenamiento')\n",
        "print(pd.DataFrame(y_predic_train_m1))"
      ],
      "execution_count": 6,
      "outputs": [
        {
          "output_type": "stream",
          "text": [
            "Datos entrenamiento\n",
            "[[54]\n",
            " [39]\n",
            " [48]\n",
            " [60]\n",
            " [45]\n",
            " [56]\n",
            " [31]]\n",
            "Resultado predicción entrenamiento\n",
            "    0\n",
            "0  60\n",
            "1  31\n",
            "2  48\n",
            "3  60\n",
            "4  45\n",
            "5  56\n",
            "6  31\n"
          ],
          "name": "stdout"
        }
      ]
    },
    {
      "cell_type": "code",
      "metadata": {
        "id": "iod3jZg-vyXg",
        "outputId": "a6888da1-315b-4504-a814-13ea7e657b38",
        "colab": {
          "base_uri": "https://localhost:8080/",
          "height": 295
        }
      },
      "source": [
        "plt.scatter(x_train, y_train, c='red', marker='^', alpha=0.5)\n",
        "plt.scatter(x_train, y_predic_train_m1, c='green', marker='o', alpha=0.3)\n",
        "plt.xlabel('Mes')\n",
        "plt.ylabel('Cantidad')\n",
        "plt.title('Bajas clientes con antiguedad a 3 meses')\n",
        "plt.show()"
      ],
      "execution_count": 7,
      "outputs": [
        {
          "output_type": "display_data",
          "data": {
            "image/png": "[encoded data removed]",
            "text/plain": [
              "<Figure size 432x288 with 1 Axes>"
            ]
          },
          "metadata": {
            "tags": [],
            "needs_background": "light"
          }
        }
      ]
    },
    {
      "cell_type": "code",
      "metadata": {
        "id": "YZFlWrrEUyue"
      },
      "source": [
        "x_mes=[]\n",
        "\n",
        "for _ in list(range(8,13)):\n",
        "  x_mes.append(_)\n",
        "x_mes = np.array(x_mes)[:,np.newaxis]\n"
      ],
      "execution_count": 63,
      "outputs": []
    },
    {
      "cell_type": "code",
      "metadata": {
        "id": "5sL7BY6nWkqP",
        "outputId": "ade64fd1-668d-4d71-dc9f-a3367286b16e",
        "colab": {
          "base_uri": "https://localhost:8080/",
          "height": 34
        }
      },
      "source": [
        "x_mes[0,0]"
      ],
      "execution_count": 55,
      "outputs": [
        {
          "output_type": "execute_result",
          "data": {
            "text/plain": [
              "8"
            ]
          },
          "metadata": {
            "tags": []
          },
          "execution_count": 55
        }
      ]
    },
    {
      "cell_type": "code",
      "metadata": {
        "id": "K1sleO7ebT0I",
        "outputId": "b719fa29-15e0-4fe3-9f78-bff5efdf6a2d",
        "colab": {
          "base_uri": "https://localhost:8080/",
          "height": 34
        }
      },
      "source": [
        "logreg.predict(x_mes[2,0].reshape(-1, 1)) "
      ],
      "execution_count": 79,
      "outputs": [
        {
          "output_type": "execute_result",
          "data": {
            "text/plain": [
              "array([60])"
            ]
          },
          "metadata": {
            "tags": []
          },
          "execution_count": 79
        }
      ]
    },
    {
      "cell_type": "code",
      "metadata": {
        "id": "l3L8HXGeXEf9",
        "outputId": "fa336264-342f-4dd1-d660-430fd84be63b",
        "colab": {
          "base_uri": "https://localhost:8080/",
          "height": 101
        }
      },
      "source": [
        "#Guardamos los resultados\n",
        "concat_y1, concat_x1 = [],[]\n",
        "\n",
        "for _ in list(range(len(y_predic_train_m1))):\n",
        "  concat_y1.append(y_predic_train_m1[_])\n",
        "  concat_x1.append(x_train[_])\n",
        "\n",
        "concat_p_x1, concat_p_y1 = [],[]\n",
        "aux_mes=0\n",
        "for _ in list(range(8,13)):\n",
        "  y_predic_mes = logreg.predict(x_mes[aux_mes,0].reshape(-1, 1))  \n",
        "  print(y_predic_mes) \n",
        "  aux_mes=aux_mes+1\n"
      ],
      "execution_count": 76,
      "outputs": [
        {
          "output_type": "stream",
          "text": [
            "[60]\n",
            "[60]\n",
            "[60]\n",
            "[60]\n",
            "[60]\n"
          ],
          "name": "stdout"
        }
      ]
    },
    {
      "cell_type": "code",
      "metadata": {
        "id": "AP__9C1poii_",
        "outputId": "4fad4f35-40a4-439a-d16e-6213f9004e1d",
        "colab": {
          "base_uri": "https://localhost:8080/",
          "height": 104
        }
      },
      "source": [
        "from sklearn.model_selection import train_test_split\n",
        "from sklearn.metrics import accuracy_score\n",
        "from sklearn.svm import SVR\n",
        "from sklearn.linear_model import LogisticRegression\n",
        "\n",
        "# 2trim\n",
        "#entrenamos datos\n",
        "x_train = X[:,0]\n",
        "x_train = x_train[:,np.newaxis]\n",
        "y_train = X[:,2]\n",
        "y_train = y_train[:,np.newaxis]\n",
        "\n",
        "#Modelo regresión Logística\n",
        "logreg= LogisticRegression()\n",
        "logreg.fit(x_train, y_train)\n",
        "y_predic_train_m1 = logreg.predict(x_train)\n",
        "print('Precisión Modelo Regresión Logística')\n",
        "print(logreg.score(x_train,y_train))\n"
      ],
      "execution_count": 26,
      "outputs": [
        {
          "output_type": "stream",
          "text": [
            "Precisión Modelo Regresión Logística\n",
            "0.5714285714285714\n"
          ],
          "name": "stdout"
        },
        {
          "output_type": "stream",
          "text": [
            "/usr/local/lib/python3.6/dist-packages/sklearn/utils/validation.py:760: DataConversionWarning: A column-vector y was passed when a 1d array was expected. Please change the shape of y to (n_samples, ), for example using ravel().\n",
            "  y = column_or_1d(y, warn=True)\n"
          ],
          "name": "stderr"
        }
      ]
    },
    {
      "cell_type": "code",
      "metadata": {
        "id": "yjTnmZNYpeHY",
        "outputId": "4396d74e-bbae-4c10-8c9e-a91a73eea425",
        "colab": {
          "base_uri": "https://localhost:8080/",
          "height": 302
        }
      },
      "source": [
        "print('Datos entrenamiento')\n",
        "print(y_train)\n",
        "print('Resultado predicción entrenamiento')\n",
        "print(pd.DataFrame(y_predic_train_m1))"
      ],
      "execution_count": 27,
      "outputs": [
        {
          "output_type": "stream",
          "text": [
            "Datos entrenamiento\n",
            "[[35]\n",
            " [19]\n",
            " [24]\n",
            " [44]\n",
            " [24]\n",
            " [20]\n",
            " [22]]\n",
            "Resultado predicción entrenamiento\n",
            "    0\n",
            "0  44\n",
            "1  24\n",
            "2  24\n",
            "3  44\n",
            "4  24\n",
            "5  24\n",
            "6  22\n"
          ],
          "name": "stdout"
        }
      ]
    },
    {
      "cell_type": "code",
      "metadata": {
        "id": "IBlgYiZhpkvE",
        "outputId": "7e79d89b-a8ca-4be2-bba5-4ef99ef48d3c",
        "colab": {
          "base_uri": "https://localhost:8080/",
          "height": 295
        }
      },
      "source": [
        "plt.scatter(x_train, y_train, c='red', marker='^', alpha=0.5)\n",
        "plt.scatter(x_train, y_predic_train_m1, c='green', marker='o', alpha=0.3)\n",
        "plt.xlabel('Mes')\n",
        "plt.ylabel('Cantidad')\n",
        "plt.title('Bajas clientes con antiguedad entre 4 - 6 meses')\n",
        "plt.show()"
      ],
      "execution_count": 28,
      "outputs": [
        {
          "output_type": "display_data",
          "data": {
            "image/png": "[encoded data removed]",
            "text/plain": [
              "<Figure size 432x288 with 1 Axes>"
            ]
          },
          "metadata": {
            "tags": [],
            "needs_background": "light"
          }
        }
      ]
    },
    {
      "cell_type": "code",
      "metadata": {
        "id": "lQaN86b9plv8"
      },
      "source": [
        "#Guardamos los resultados\n",
        "concat_y2, concat_x2 = [],[]\n",
        "\n",
        "for _ in list(range(len(y_predic_train_m1))):\n",
        "  concat_y2.append(y_predic_train_m1[_])\n",
        "  concat_x2.append(x_train[_])\n",
        " "
      ],
      "execution_count": 29,
      "outputs": []
    },
    {
      "cell_type": "code",
      "metadata": {
        "id": "ShpHPQ_cp6Rs",
        "outputId": "587bb873-ca5a-4ba8-e449-b6a9acf44c33",
        "colab": {
          "base_uri": "https://localhost:8080/",
          "height": 104
        }
      },
      "source": [
        "from sklearn.model_selection import train_test_split\n",
        "from sklearn.metrics import accuracy_score\n",
        "from sklearn.svm import SVR\n",
        "from sklearn.linear_model import LogisticRegression\n",
        "\n",
        "# 3trim\n",
        "#entrenamos datos\n",
        "x_train = X[:,0]\n",
        "x_train = x_train[:,np.newaxis]\n",
        "y_train = X[:,3]\n",
        "y_train = y_train[:,np.newaxis]\n",
        "\n",
        "#Modelo regresión Logística\n",
        "logreg= LogisticRegression()\n",
        "logreg.fit(x_train, y_train)\n",
        "y_predic_train_m1 = logreg.predict(x_train)\n",
        "print('Precisión Modelo Regresión Logística')\n",
        "print(logreg.score(x_train,y_train))"
      ],
      "execution_count": 30,
      "outputs": [
        {
          "output_type": "stream",
          "text": [
            "Precisión Modelo Regresión Logística\n",
            "0.7142857142857143\n"
          ],
          "name": "stdout"
        },
        {
          "output_type": "stream",
          "text": [
            "/usr/local/lib/python3.6/dist-packages/sklearn/utils/validation.py:760: DataConversionWarning: A column-vector y was passed when a 1d array was expected. Please change the shape of y to (n_samples, ), for example using ravel().\n",
            "  y = column_or_1d(y, warn=True)\n"
          ],
          "name": "stderr"
        }
      ]
    },
    {
      "cell_type": "code",
      "metadata": {
        "id": "WhrmwBppqQJB",
        "outputId": "573fa656-e752-4f8a-9082-c90377ea3da6",
        "colab": {
          "base_uri": "https://localhost:8080/",
          "height": 302
        }
      },
      "source": [
        "print('Datos entrenamiento')\n",
        "print(y_train)\n",
        "print('Resultado predicción entrenamiento')\n",
        "print(pd.DataFrame(y_predic_train_m1))"
      ],
      "execution_count": 31,
      "outputs": [
        {
          "output_type": "stream",
          "text": [
            "Datos entrenamiento\n",
            "[[23]\n",
            " [32]\n",
            " [25]\n",
            " [27]\n",
            " [20]\n",
            " [24]\n",
            " [22]]\n",
            "Resultado predicción entrenamiento\n",
            "    0\n",
            "0  27\n",
            "1  22\n",
            "2  25\n",
            "3  27\n",
            "4  20\n",
            "5  24\n",
            "6  22\n"
          ],
          "name": "stdout"
        }
      ]
    },
    {
      "cell_type": "code",
      "metadata": {
        "id": "Pu0ZCr7oqRKX",
        "outputId": "ff345b06-e295-46de-c124-2d49690b4855",
        "colab": {
          "base_uri": "https://localhost:8080/",
          "height": 295
        }
      },
      "source": [
        "plt.scatter(x_train, y_train, c='red', marker='^', alpha=0.5)\n",
        "plt.scatter(x_train, y_predic_train_m1, c='green', marker='o', alpha=0.3)\n",
        "plt.xlabel('Mes')\n",
        "plt.ylabel('Cantidad')\n",
        "plt.title('Bajas clientes con antiguedad entre 7 - 9 meses')\n",
        "plt.show()"
      ],
      "execution_count": 32,
      "outputs": [
        {
          "output_type": "display_data",
          "data": {
            "image/png": "[encoded data removed]",
            "text/plain": [
              "<Figure size 432x288 with 1 Axes>"
            ]
          },
          "metadata": {
            "tags": [],
            "needs_background": "light"
          }
        }
      ]
    },
    {
      "cell_type": "code",
      "metadata": {
        "id": "I8g0-W-qqbpX"
      },
      "source": [
        "#Guardamos los resultados\n",
        "concat_y3, concat_x3 = [],[]\n",
        "\n",
        "for _ in list(range(len(y_predic_train_m1))):\n",
        "  concat_y3.append(y_predic_train_m1[_])\n",
        "  concat_x3.append(x_train[_])\n",
        " "
      ],
      "execution_count": 33,
      "outputs": []
    },
    {
      "cell_type": "code",
      "metadata": {
        "id": "D2xYzFBqqiq6",
        "outputId": "540c955f-1088-417e-bca0-d587f4e040d9",
        "colab": {
          "base_uri": "https://localhost:8080/",
          "height": 104
        }
      },
      "source": [
        "from sklearn.model_selection import train_test_split\n",
        "from sklearn.metrics import accuracy_score\n",
        "from sklearn.svm import SVR\n",
        "from sklearn.linear_model import LogisticRegression\n",
        "\n",
        "# 4trim\n",
        "#entrenamos datos\n",
        "x_train = X[:,0]\n",
        "x_train = x_train[:,np.newaxis]\n",
        "y_train = X[:,4]\n",
        "y_train = y_train[:,np.newaxis]\n",
        "\n",
        "#Modelo regresión Logística\n",
        "logreg= LogisticRegression()\n",
        "logreg.fit(x_train, y_train)\n",
        "y_predic_train_m1 = logreg.predict(x_train)\n",
        "print('Precisión Modelo Regresión Logística')\n",
        "print(logreg.score(x_train,y_train))"
      ],
      "execution_count": 34,
      "outputs": [
        {
          "output_type": "stream",
          "text": [
            "Precisión Modelo Regresión Logística\n",
            "0.7142857142857143\n"
          ],
          "name": "stdout"
        },
        {
          "output_type": "stream",
          "text": [
            "/usr/local/lib/python3.6/dist-packages/sklearn/utils/validation.py:760: DataConversionWarning: A column-vector y was passed when a 1d array was expected. Please change the shape of y to (n_samples, ), for example using ravel().\n",
            "  y = column_or_1d(y, warn=True)\n"
          ],
          "name": "stderr"
        }
      ]
    },
    {
      "cell_type": "code",
      "metadata": {
        "id": "Je4mlTndqrX6",
        "outputId": "7506f22e-edff-4896-9dea-7c01622db4eb",
        "colab": {
          "base_uri": "https://localhost:8080/",
          "height": 302
        }
      },
      "source": [
        "print('Datos entrenamiento')\n",
        "print(y_train)\n",
        "print('Resultado predicción entrenamiento')\n",
        "print(pd.DataFrame(y_predic_train_m1))"
      ],
      "execution_count": 35,
      "outputs": [
        {
          "output_type": "stream",
          "text": [
            "Datos entrenamiento\n",
            "[[174]\n",
            " [343]\n",
            " [240]\n",
            " [166]\n",
            " [173]\n",
            " [203]\n",
            " [271]]\n",
            "Resultado predicción entrenamiento\n",
            "     0\n",
            "0  166\n",
            "1  271\n",
            "2  240\n",
            "3  166\n",
            "4  173\n",
            "5  203\n",
            "6  271\n"
          ],
          "name": "stdout"
        }
      ]
    },
    {
      "cell_type": "code",
      "metadata": {
        "id": "TW-oYp11quVn",
        "outputId": "9ab33ac9-c82f-47fd-ff4d-c274b3dc06d1",
        "colab": {
          "base_uri": "https://localhost:8080/",
          "height": 295
        }
      },
      "source": [
        "plt.scatter(x_train, y_train, c='red', marker='^', alpha=0.5)\n",
        "plt.scatter(x_train, y_predic_train_m1, c='green', marker='o', alpha=0.3)\n",
        "plt.xlabel('Mes')\n",
        "plt.ylabel('Cantidad')\n",
        "plt.title('Bajas clientes con antiguedad entre 10 - 12 meses')\n",
        "plt.show()"
      ],
      "execution_count": 36,
      "outputs": [
        {
          "output_type": "display_data",
          "data": {
            "image/png": "[encoded data removed]",
            "text/plain": [
              "<Figure size 432x288 with 1 Axes>"
            ]
          },
          "metadata": {
            "tags": [],
            "needs_background": "light"
          }
        }
      ]
    },
    {
      "cell_type": "code",
      "metadata": {
        "id": "l13iJaGWqyZ5"
      },
      "source": [
        "#Guardamos los resultados\n",
        "concat_y4, concat_x4 = [],[]\n",
        "\n",
        "for _ in list(range(len(y_predic_train_m1))):\n",
        "  concat_y4.append(y_predic_train_m1[_])\n",
        "  concat_x4.append(x_train[_])\n",
        " "
      ],
      "execution_count": 37,
      "outputs": []
    },
    {
      "cell_type": "code",
      "metadata": {
        "id": "GuHT2Iy3q6PO",
        "outputId": "dd2ed3e0-a2cf-4cc7-ab7e-b8e7d3387244",
        "colab": {
          "base_uri": "https://localhost:8080/",
          "height": 104
        }
      },
      "source": [
        "from sklearn.model_selection import train_test_split\n",
        "from sklearn.metrics import accuracy_score\n",
        "from sklearn.svm import SVR\n",
        "from sklearn.linear_model import LogisticRegression\n",
        "\n",
        "# ENTRE_1_2_ANIOS\n",
        "#entrenamos datos\n",
        "x_train = X[:,0]\n",
        "x_train = x_train[:,np.newaxis]\n",
        "y_train = X[:,5]\n",
        "y_train = y_train[:,np.newaxis]\n",
        "\n",
        "#Modelo regresión Logística\n",
        "logreg= LogisticRegression()\n",
        "logreg.fit(x_train, y_train)\n",
        "y_predic_train_m1 = logreg.predict(x_train)\n",
        "print('Precisión Modelo Regresión Logística')\n",
        "print(logreg.score(x_train,y_train))"
      ],
      "execution_count": 38,
      "outputs": [
        {
          "output_type": "stream",
          "text": [
            "Precisión Modelo Regresión Logística\n",
            "0.5714285714285714\n"
          ],
          "name": "stdout"
        },
        {
          "output_type": "stream",
          "text": [
            "/usr/local/lib/python3.6/dist-packages/sklearn/utils/validation.py:760: DataConversionWarning: A column-vector y was passed when a 1d array was expected. Please change the shape of y to (n_samples, ), for example using ravel().\n",
            "  y = column_or_1d(y, warn=True)\n"
          ],
          "name": "stderr"
        }
      ]
    },
    {
      "cell_type": "code",
      "metadata": {
        "id": "4X9ub-fOrEcn",
        "outputId": "1c08fea4-d1c9-40a7-d3b5-d6de0614430b",
        "colab": {
          "base_uri": "https://localhost:8080/",
          "height": 302
        }
      },
      "source": [
        "print('Datos entrenamiento')\n",
        "print(y_train)\n",
        "print('Resultado predicción entrenamiento')\n",
        "print(pd.DataFrame(y_predic_train_m1))"
      ],
      "execution_count": 39,
      "outputs": [
        {
          "output_type": "stream",
          "text": [
            "Datos entrenamiento\n",
            "[[672]\n",
            " [925]\n",
            " [736]\n",
            " [680]\n",
            " [546]\n",
            " [546]\n",
            " [728]]\n",
            "Resultado predicción entrenamiento\n",
            "     0\n",
            "0  546\n",
            "1  728\n",
            "2  546\n",
            "3  680\n",
            "4  546\n",
            "5  546\n",
            "6  728\n"
          ],
          "name": "stdout"
        }
      ]
    },
    {
      "cell_type": "code",
      "metadata": {
        "id": "AGzz_Y_ErHyW",
        "outputId": "96512484-f1de-434e-caa2-ca0d8f90e75d",
        "colab": {
          "base_uri": "https://localhost:8080/",
          "height": 295
        }
      },
      "source": [
        "plt.scatter(x_train, y_train, c='red', marker='^', alpha=0.5)\n",
        "plt.scatter(x_train, y_predic_train_m1, c='green', marker='o', alpha=0.3)\n",
        "plt.xlabel('Mes')\n",
        "plt.ylabel('Cantidad')\n",
        "plt.title('Bajas clientes con antiguedad entre 1 - 2 años')\n",
        "plt.show()"
      ],
      "execution_count": 40,
      "outputs": [
        {
          "output_type": "display_data",
          "data": {
            "image/png": "[encoded data removed]",
            "text/plain": [
              "<Figure size 432x288 with 1 Axes>"
            ]
          },
          "metadata": {
            "tags": [],
            "needs_background": "light"
          }
        }
      ]
    },
    {
      "cell_type": "code",
      "metadata": {
        "id": "oeBdN-U2rORF"
      },
      "source": [
        "#Guardamos los resultados\n",
        "concat_y5, concat_x5 = [],[]\n",
        "\n",
        "for _ in list(range(len(y_predic_train_m1))):\n",
        "  concat_y5.append(y_predic_train_m1[_])\n",
        "  concat_x5.append(x_train[_])\n",
        "\n",
        " "
      ],
      "execution_count": 41,
      "outputs": []
    },
    {
      "cell_type": "code",
      "metadata": {
        "id": "Em1uTOlirUkm",
        "outputId": "249be42a-973b-4f56-a564-28ac563149bb",
        "colab": {
          "base_uri": "https://localhost:8080/",
          "height": 104
        }
      },
      "source": [
        "from sklearn.model_selection import train_test_split\n",
        "from sklearn.metrics import accuracy_score\n",
        "from sklearn.svm import SVR\n",
        "from sklearn.linear_model import LogisticRegression\n",
        "\n",
        "# ENTRE_3_4_ANIOS\n",
        "#entrenamos datos\n",
        "x_train = X[:,0]\n",
        "x_train = x_train[:,np.newaxis]\n",
        "y_train = X[:,6]\n",
        "y_train = y_train[:,np.newaxis]\n",
        "\n",
        "#Modelo regresión Logística\n",
        "logreg= LogisticRegression()\n",
        "logreg.fit(x_train, y_train)\n",
        "y_predic_train_m1 = logreg.predict(x_train)\n",
        "print('Precisión Modelo Regresión Logística')\n",
        "print(logreg.score(x_train,y_train))"
      ],
      "execution_count": 42,
      "outputs": [
        {
          "output_type": "stream",
          "text": [
            "Precisión Modelo Regresión Logística\n",
            "0.7142857142857143\n"
          ],
          "name": "stdout"
        },
        {
          "output_type": "stream",
          "text": [
            "/usr/local/lib/python3.6/dist-packages/sklearn/utils/validation.py:760: DataConversionWarning: A column-vector y was passed when a 1d array was expected. Please change the shape of y to (n_samples, ), for example using ravel().\n",
            "  y = column_or_1d(y, warn=True)\n"
          ],
          "name": "stderr"
        }
      ]
    },
    {
      "cell_type": "code",
      "metadata": {
        "id": "3-9CodCErb8Q",
        "outputId": "1e54140c-a35e-4687-8b44-ea46fcef3dee",
        "colab": {
          "base_uri": "https://localhost:8080/",
          "height": 302
        }
      },
      "source": [
        "print('Datos entrenamiento')\n",
        "print(y_train)\n",
        "print('Resultado predicción entrenamiento')\n",
        "print(pd.DataFrame(y_predic_train_m1))"
      ],
      "execution_count": 43,
      "outputs": [
        {
          "output_type": "stream",
          "text": [
            "Datos entrenamiento\n",
            "[[369]\n",
            " [511]\n",
            " [424]\n",
            " [383]\n",
            " [318]\n",
            " [314]\n",
            " [399]]\n",
            "Resultado predicción entrenamiento\n",
            "     0\n",
            "0  383\n",
            "1  399\n",
            "2  424\n",
            "3  383\n",
            "4  318\n",
            "5  314\n",
            "6  399\n"
          ],
          "name": "stdout"
        }
      ]
    },
    {
      "cell_type": "code",
      "metadata": {
        "id": "XqVBVGRxrfO1",
        "outputId": "82a4f41c-3385-4bd3-d8a2-d0474a3096b4",
        "colab": {
          "base_uri": "https://localhost:8080/",
          "height": 295
        }
      },
      "source": [
        "plt.scatter(x_train, y_train, c='red', marker='^', alpha=0.5)\n",
        "plt.scatter(x_train, y_predic_train_m1, c='green', marker='o', alpha=0.3)\n",
        "plt.xlabel('Mes')\n",
        "plt.ylabel('Cantidad')\n",
        "plt.title('Bajas clientes con antiguedad entre 3 - 4 años')\n",
        "plt.show()"
      ],
      "execution_count": 44,
      "outputs": [
        {
          "output_type": "display_data",
          "data": {
            "image/png": "[encoded data removed]",
            "text/plain": [
              "<Figure size 432x288 with 1 Axes>"
            ]
          },
          "metadata": {
            "tags": [],
            "needs_background": "light"
          }
        }
      ]
    },
    {
      "cell_type": "code",
      "metadata": {
        "id": "a4Bo29Hdrjb4"
      },
      "source": [
        "#Guardamos los resultados\n",
        "concat_y6, concat_x6 = [],[]\n",
        "\n",
        "for _ in list(range(len(y_predic_train_m1))):\n",
        "  concat_y6.append(y_predic_train_m1[_])\n",
        "  concat_x6.append(x_train[_])\n",
        " "
      ],
      "execution_count": 45,
      "outputs": []
    },
    {
      "cell_type": "code",
      "metadata": {
        "id": "bDKByPgHrqOh",
        "outputId": "d291cb26-08dd-46e0-df12-2fded2e6bfdf",
        "colab": {
          "base_uri": "https://localhost:8080/",
          "height": 104
        }
      },
      "source": [
        "from sklearn.model_selection import train_test_split\n",
        "from sklearn.metrics import accuracy_score\n",
        "from sklearn.svm import SVR\n",
        "from sklearn.linear_model import LogisticRegression\n",
        "\n",
        "# MAS_5_ANIOS\n",
        "#entrenamos datos\n",
        "x_train = X[:,0]\n",
        "x_train = x_train[:,np.newaxis]\n",
        "y_train = X[:,7]\n",
        "y_train = y_train[:,np.newaxis]\n",
        "\n",
        "#Modelo regresión Logística\n",
        "logreg= LogisticRegression()\n",
        "logreg.fit(x_train, y_train)\n",
        "y_predic_train_m1 = logreg.predict(x_train)\n",
        "print('Precisión Modelo Regresión Logística')\n",
        "print(logreg.score(x_train,y_train))"
      ],
      "execution_count": 46,
      "outputs": [
        {
          "output_type": "stream",
          "text": [
            "Precisión Modelo Regresión Logística\n",
            "0.7142857142857143\n"
          ],
          "name": "stdout"
        },
        {
          "output_type": "stream",
          "text": [
            "/usr/local/lib/python3.6/dist-packages/sklearn/utils/validation.py:760: DataConversionWarning: A column-vector y was passed when a 1d array was expected. Please change the shape of y to (n_samples, ), for example using ravel().\n",
            "  y = column_or_1d(y, warn=True)\n"
          ],
          "name": "stderr"
        }
      ]
    },
    {
      "cell_type": "code",
      "metadata": {
        "id": "oICKkbp7wrPK",
        "outputId": "b10a043d-6045-44c9-e0ac-a9dae926b241",
        "colab": {
          "base_uri": "https://localhost:8080/",
          "height": 302
        }
      },
      "source": [
        "print('Datos entrenamiento')\n",
        "print(y_train)\n",
        "print('Resultado predicción entrenamiento')\n",
        "print(pd.DataFrame(y_predic_train_m1))"
      ],
      "execution_count": 47,
      "outputs": [
        {
          "output_type": "stream",
          "text": [
            "Datos entrenamiento\n",
            "[[58]\n",
            " [22]\n",
            " [38]\n",
            " [73]\n",
            " [29]\n",
            " [21]\n",
            " [19]]\n",
            "Resultado predicción entrenamiento\n",
            "    0\n",
            "0  73\n",
            "1  19\n",
            "2  38\n",
            "3  73\n",
            "4  29\n",
            "5  21\n",
            "6  19\n"
          ],
          "name": "stdout"
        }
      ]
    },
    {
      "cell_type": "code",
      "metadata": {
        "id": "7nOc3g2fwt2N",
        "outputId": "d29ac9a5-7df3-496c-e825-4d1f19e99c7e",
        "colab": {
          "base_uri": "https://localhost:8080/",
          "height": 295
        }
      },
      "source": [
        "plt.scatter(x_train, y_train, c='red', marker='^', alpha=0.5)\n",
        "plt.scatter(x_train, y_predic_train_m1, c='green', marker='o', alpha=0.3)\n",
        "plt.xlabel('Mes')\n",
        "plt.ylabel('Cantidad')\n",
        "plt.title('Bajas clientes con antiguedad >= 5 años')\n",
        "plt.show()"
      ],
      "execution_count": 48,
      "outputs": [
        {
          "output_type": "display_data",
          "data": {
            "image/png": "[encoded data removed]",
            "text/plain": [
              "<Figure size 432x288 with 1 Axes>"
            ]
          },
          "metadata": {
            "tags": [],
            "needs_background": "light"
          }
        }
      ]
    },
    {
      "cell_type": "code",
      "metadata": {
        "id": "SmGrPMaBw5gD"
      },
      "source": [
        "#Guardamos los resultados\n",
        "concat_y7, concat_x7 = [],[]\n",
        "\n",
        "for _ in list(range(len(y_predic_train_m1))):\n",
        "  concat_y7.append(y_predic_train_m1[_])\n",
        "  concat_x7.append(x_train[_])\n",
        "\n",
        " "
      ],
      "execution_count": 49,
      "outputs": []
    },
    {
      "cell_type": "code",
      "metadata": {
        "id": "SYLuYJtyyayn"
      },
      "source": [
        "eje_x, eje_y = [],[]\n",
        "\n",
        "for _ in list(range(len(concat_x1))):  \n",
        "  eje_x.append(int(concat_x1[_]))\n",
        "  eje_y.append(int(concat_y1[_]))\n",
        "\n",
        "for _ in list(range(len(concat_x1))):    \n",
        "  eje_y[_] = eje_y[_] + int(concat_y2[_])\n",
        "  eje_y[_] = eje_y[_] + int(concat_y3[_])\n",
        "  eje_y[_] = eje_y[_] + int(concat_y4[_])\n",
        "  eje_y[_] = eje_y[_] + int(concat_y5[_])\n",
        "  eje_y[_] = eje_y[_] + int(concat_y6[_])\n",
        "  eje_y[_] = eje_y[_] + int(concat_y7[_])"
      ],
      "execution_count": 50,
      "outputs": []
    },
    {
      "cell_type": "code",
      "metadata": {
        "id": "tkdSTp1s4y6G",
        "outputId": "57e11f7c-400f-4430-d291-9a620659aac0",
        "colab": {
          "base_uri": "https://localhost:8080/",
          "height": 295
        }
      },
      "source": [
        "plt.scatter(eje_x , eje_y , c='green', marker='o', alpha=0.3)\n",
        "plt.xlabel('Mes')\n",
        "plt.ylabel('Cantidad')\n",
        "plt.title('Total Bajas')\n",
        "plt.show()"
      ],
      "execution_count": 51,
      "outputs": [
        {
          "output_type": "display_data",
          "data": {
            "image/png": "[encoded data removed]",
            "text/plain": [
              "<Figure size 432x288 with 1 Axes>"
            ]
          },
          "metadata": {
            "tags": [],
            "needs_background": "light"
          }
        }
      ]
    },
    {
      "cell_type": "code",
      "metadata": {
        "id": "_YYSb_HU5WJr",
        "outputId": "9a2535db-2843-48d7-ef56-7b0e6cc5592b",
        "colab": {
          "base_uri": "https://localhost:8080/",
          "height": 34
        }
      },
      "source": [
        "eje_y"
      ],
      "execution_count": 52,
      "outputs": [
        {
          "output_type": "execute_result",
          "data": {
            "text/plain": [
              "[1299, 1494, 1345, 1433, 1155, 1188, 1492]"
            ]
          },
          "metadata": {
            "tags": []
          },
          "execution_count": 52
        }
      ]
    },
    {
      "cell_type": "code",
      "metadata": {
        "id": "9dOPjck_5bS5",
        "outputId": "4c233f37-ade5-4e92-93b9-10c7737b820a",
        "colab": {
          "base_uri": "https://localhost:8080/",
          "height": 34
        }
      },
      "source": [
        "eje_x"
      ],
      "execution_count": 53,
      "outputs": [
        {
          "output_type": "execute_result",
          "data": {
            "text/plain": [
              "[6, 2, 3, 7, 4, 5, 1]"
            ]
          },
          "metadata": {
            "tags": []
          },
          "execution_count": 53
        }
      ]
    },
    {
      "cell_type": "code",
      "metadata": {
        "id": "lPPveE0QAxDf",
        "outputId": "7a200463-811f-469d-fd02-b99f07410fa9",
        "colab": {
          "base_uri": "https://localhost:8080/",
          "height": 34
        }
      },
      "source": [
        "quede aqui, guardar en cada agrupacionm los datos de la predicciion y listo\n",
        "x_mes=[]\n",
        "x_mes.append(4)\n",
        " \n",
        "y_predic_mes = logreg.predict([x_mes])\n",
        "print(y_predic_mes)"
      ],
      "execution_count": 80,
      "outputs": [
        {
          "output_type": "stream",
          "text": [
            "[29]\n"
          ],
          "name": "stdout"
        }
      ]
    }
  ]
}