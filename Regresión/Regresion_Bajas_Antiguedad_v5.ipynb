{
  "nbformat": 4,
  "nbformat_minor": 0,
  "metadata": {
    "colab": {
      "name": "Untitled1.ipynb",
      "provenance": [],
      "include_colab_link": true
    },
    "kernelspec": {
      "name": "python3",
      "display_name": "Python 3"
    }
  },
  "cells": [
    {
      "cell_type": "markdown",
      "metadata": {
        "id": "view-in-github",
        "colab_type": "text"
      },
      "source": [
        "<a href=\"https://colab.research.google.com/github/ClauCll/Curso_ML_A_Z/blob/master/Regresi%C3%B3n/Regresion_Bajas_Antiguedad_v5.ipynb\" target=\"_parent\"><img src=\"https://colab.research.google.com/assets/colab-badge.svg\" alt=\"Open In Colab\"/></a>"
      ]
    },
    {
      "cell_type": "markdown",
      "metadata": {
        "id": "-J3qDXeFwvSb"
      },
      "source": [
        "## Cuantas serán las bajas voluntarias de los clientes fijos para el periodo 202009 - 202012\n",
        " "
      ]
    },
    {
      "cell_type": "code",
      "metadata": {
        "id": "Vsqlhqgww1BG"
      },
      "source": [
        "import pandas as pd\n",
        "import numpy as np\n",
        "\n",
        "#Gráfico\n",
        "from mpl_toolkits.mplot3d import axes3d\n",
        "import matplotlib.pyplot as plt \n",
        "from matplotlib import style\n",
        "import matplotlib.ticker as ticker\n",
        "import seaborn as sns\n",
        "\n",
        "import gspread\n",
        "from oauth2client.client import GoogleCredentials \n",
        "from google.colab import auth\n",
        "# Autoriza Claudia\n",
        "auth.authenticate_user()\n",
        "gc = gspread.authorize (GoogleCredentials.get_application_default())"
      ],
      "execution_count": 57,
      "outputs": []
    },
    {
      "cell_type": "markdown",
      "metadata": {
        "id": "2xAoqlB_02Do"
      },
      "source": [
        "### leemos datos"
      ]
    },
    {
      "cell_type": "code",
      "metadata": {
        "id": "y_VVpj56uzRV",
        "outputId": "4853393a-ba63-459c-b49f-906ed2208cb1",
        "colab": {
          "base_uri": "https://localhost:8080/",
          "height": 54
        }
      },
      "source": [
        "from google.colab import drive\n",
        "drive.mount('/content/drive')"
      ],
      "execution_count": 58,
      "outputs": [
        {
          "output_type": "stream",
          "text": [
            "Drive already mounted at /content/drive; to attempt to forcibly remount, call drive.mount(\"/content/drive\", force_remount=True).\n"
          ],
          "name": "stdout"
        }
      ]
    },
    {
      "cell_type": "code",
      "metadata": {
        "id": "0JYqth2Ty8-k",
        "outputId": "e875948e-6d32-4478-9a30-dc261fa88421",
        "colab": {
          "base_uri": "https://localhost:8080/",
          "height": 70
        }
      },
      "source": [
        "data = pd.read_csv('/content/drive/My Drive/Dataset/BAJAS.txt',delimiter='~')\n",
        "data = data[['MES_BAJA','TRIM_1','TRIM_2','TRIM_3','TRIM_4','ENTRE_1_2_ANIOS','ENTRE_3_4_ANIOS','MAS_5_ANIOS','TOTAL_BAJAS']]\n",
        "data = data.groupby(['MES_BAJA']).agg({\"MES_BAJA\":'median',\"TRIM_1\": 'median',\"TRIM_2\": 'median',\n",
        "                                \"TRIM_3\": 'median',\"TRIM_4\": 'median',  \n",
        "                                \"ENTRE_1_2_ANIOS\": 'median',\"ENTRE_3_4_ANIOS\": 'median',\n",
        "                                \"MAS_5_ANIOS\": 'median',\"TOTAL_BAJAS\": 'median'})\n",
        "X  = data.iloc[:,:-1].values\n",
        "Y  = data.iloc[:,8]\n",
        "Y = Y[:,np.newaxis]"
      ],
      "execution_count": 67,
      "outputs": [
        {
          "output_type": "stream",
          "text": [
            "/usr/local/lib/python3.6/dist-packages/ipykernel_launcher.py:9: FutureWarning: Support for multi-dimensional indexing (e.g. `obj[:, None]`) is deprecated and will be removed in a future version.  Convert to a numpy array before indexing instead.\n",
            "  if __name__ == '__main__':\n"
          ],
          "name": "stderr"
        }
      ]
    },
    {
      "cell_type": "code",
      "metadata": {
        "id": "Zy30ZT8UFqQ4",
        "outputId": "a661b6cc-6f3a-4f94-d157-1707cf67d4c7",
        "colab": {
          "base_uri": "https://localhost:8080/",
          "height": 432
        }
      },
      "source": [
        "data"
      ],
      "execution_count": 73,
      "outputs": [
        {
          "output_type": "execute_result",
          "data": {
            "text/html": [
              "<div>\n",
              "<style scoped>\n",
              "    .dataframe tbody tr th:only-of-type {\n",
              "        vertical-align: middle;\n",
              "    }\n",
              "\n",
              "    .dataframe tbody tr th {\n",
              "        vertical-align: top;\n",
              "    }\n",
              "\n",
              "    .dataframe thead th {\n",
              "        text-align: right;\n",
              "    }\n",
              "</style>\n",
              "<table border=\"1\" class=\"dataframe\">\n",
              "  <thead>\n",
              "    <tr style=\"text-align: right;\">\n",
              "      <th></th>\n",
              "      <th>MES_BAJA</th>\n",
              "      <th>TRIM_1</th>\n",
              "      <th>TRIM_2</th>\n",
              "      <th>TRIM_3</th>\n",
              "      <th>TRIM_4</th>\n",
              "      <th>ENTRE_1_2_ANIOS</th>\n",
              "      <th>ENTRE_3_4_ANIOS</th>\n",
              "      <th>MAS_5_ANIOS</th>\n",
              "      <th>TOTAL_BAJAS</th>\n",
              "    </tr>\n",
              "    <tr>\n",
              "      <th>MES_BAJA</th>\n",
              "      <th></th>\n",
              "      <th></th>\n",
              "      <th></th>\n",
              "      <th></th>\n",
              "      <th></th>\n",
              "      <th></th>\n",
              "      <th></th>\n",
              "      <th></th>\n",
              "      <th></th>\n",
              "    </tr>\n",
              "  </thead>\n",
              "  <tbody>\n",
              "    <tr>\n",
              "      <th>1</th>\n",
              "      <td>1</td>\n",
              "      <td>31.0</td>\n",
              "      <td>22.0</td>\n",
              "      <td>21.5</td>\n",
              "      <td>271.0</td>\n",
              "      <td>727.5</td>\n",
              "      <td>399.0</td>\n",
              "      <td>19.0</td>\n",
              "      <td>1491.0</td>\n",
              "    </tr>\n",
              "    <tr>\n",
              "      <th>2</th>\n",
              "      <td>2</td>\n",
              "      <td>38.5</td>\n",
              "      <td>18.5</td>\n",
              "      <td>31.5</td>\n",
              "      <td>343.0</td>\n",
              "      <td>924.5</td>\n",
              "      <td>511.0</td>\n",
              "      <td>21.5</td>\n",
              "      <td>1888.5</td>\n",
              "    </tr>\n",
              "    <tr>\n",
              "      <th>3</th>\n",
              "      <td>3</td>\n",
              "      <td>47.5</td>\n",
              "      <td>24.0</td>\n",
              "      <td>24.5</td>\n",
              "      <td>239.5</td>\n",
              "      <td>736.0</td>\n",
              "      <td>424.0</td>\n",
              "      <td>38.0</td>\n",
              "      <td>1533.5</td>\n",
              "    </tr>\n",
              "    <tr>\n",
              "      <th>4</th>\n",
              "      <td>4</td>\n",
              "      <td>44.5</td>\n",
              "      <td>23.5</td>\n",
              "      <td>19.5</td>\n",
              "      <td>172.5</td>\n",
              "      <td>546.0</td>\n",
              "      <td>318.0</td>\n",
              "      <td>28.5</td>\n",
              "      <td>1152.5</td>\n",
              "    </tr>\n",
              "    <tr>\n",
              "      <th>5</th>\n",
              "      <td>5</td>\n",
              "      <td>56.0</td>\n",
              "      <td>20.0</td>\n",
              "      <td>24.0</td>\n",
              "      <td>202.5</td>\n",
              "      <td>545.5</td>\n",
              "      <td>313.5</td>\n",
              "      <td>21.0</td>\n",
              "      <td>1182.5</td>\n",
              "    </tr>\n",
              "    <tr>\n",
              "      <th>6</th>\n",
              "      <td>6</td>\n",
              "      <td>54.0</td>\n",
              "      <td>35.0</td>\n",
              "      <td>22.5</td>\n",
              "      <td>174.0</td>\n",
              "      <td>672.0</td>\n",
              "      <td>369.0</td>\n",
              "      <td>57.5</td>\n",
              "      <td>1384.0</td>\n",
              "    </tr>\n",
              "    <tr>\n",
              "      <th>7</th>\n",
              "      <td>7</td>\n",
              "      <td>59.5</td>\n",
              "      <td>43.5</td>\n",
              "      <td>26.5</td>\n",
              "      <td>166.0</td>\n",
              "      <td>679.5</td>\n",
              "      <td>382.5</td>\n",
              "      <td>72.5</td>\n",
              "      <td>1430.0</td>\n",
              "    </tr>\n",
              "    <tr>\n",
              "      <th>8</th>\n",
              "      <td>8</td>\n",
              "      <td>19.0</td>\n",
              "      <td>18.0</td>\n",
              "      <td>19.0</td>\n",
              "      <td>168.0</td>\n",
              "      <td>590.0</td>\n",
              "      <td>294.0</td>\n",
              "      <td>6.0</td>\n",
              "      <td>1114.0</td>\n",
              "    </tr>\n",
              "    <tr>\n",
              "      <th>9</th>\n",
              "      <td>9</td>\n",
              "      <td>26.0</td>\n",
              "      <td>19.0</td>\n",
              "      <td>20.0</td>\n",
              "      <td>142.0</td>\n",
              "      <td>498.0</td>\n",
              "      <td>316.0</td>\n",
              "      <td>10.0</td>\n",
              "      <td>1031.0</td>\n",
              "    </tr>\n",
              "    <tr>\n",
              "      <th>10</th>\n",
              "      <td>10</td>\n",
              "      <td>29.0</td>\n",
              "      <td>15.0</td>\n",
              "      <td>17.0</td>\n",
              "      <td>134.0</td>\n",
              "      <td>470.0</td>\n",
              "      <td>294.0</td>\n",
              "      <td>19.0</td>\n",
              "      <td>978.0</td>\n",
              "    </tr>\n",
              "    <tr>\n",
              "      <th>11</th>\n",
              "      <td>11</td>\n",
              "      <td>35.0</td>\n",
              "      <td>19.0</td>\n",
              "      <td>22.0</td>\n",
              "      <td>153.0</td>\n",
              "      <td>484.0</td>\n",
              "      <td>294.0</td>\n",
              "      <td>11.0</td>\n",
              "      <td>1018.0</td>\n",
              "    </tr>\n",
              "    <tr>\n",
              "      <th>12</th>\n",
              "      <td>12</td>\n",
              "      <td>42.0</td>\n",
              "      <td>19.0</td>\n",
              "      <td>15.0</td>\n",
              "      <td>181.0</td>\n",
              "      <td>603.0</td>\n",
              "      <td>1470.0</td>\n",
              "      <td>105.0</td>\n",
              "      <td>2435.0</td>\n",
              "    </tr>\n",
              "  </tbody>\n",
              "</table>\n",
              "</div>"
            ],
            "text/plain": [
              "          MES_BAJA  TRIM_1  TRIM_2  ...  ENTRE_3_4_ANIOS  MAS_5_ANIOS  TOTAL_BAJAS\n",
              "MES_BAJA                            ...                                           \n",
              "1                1    31.0    22.0  ...            399.0         19.0       1491.0\n",
              "2                2    38.5    18.5  ...            511.0         21.5       1888.5\n",
              "3                3    47.5    24.0  ...            424.0         38.0       1533.5\n",
              "4                4    44.5    23.5  ...            318.0         28.5       1152.5\n",
              "5                5    56.0    20.0  ...            313.5         21.0       1182.5\n",
              "6                6    54.0    35.0  ...            369.0         57.5       1384.0\n",
              "7                7    59.5    43.5  ...            382.5         72.5       1430.0\n",
              "8                8    19.0    18.0  ...            294.0          6.0       1114.0\n",
              "9                9    26.0    19.0  ...            316.0         10.0       1031.0\n",
              "10              10    29.0    15.0  ...            294.0         19.0        978.0\n",
              "11              11    35.0    19.0  ...            294.0         11.0       1018.0\n",
              "12              12    42.0    19.0  ...           1470.0        105.0       2435.0\n",
              "\n",
              "[12 rows x 9 columns]"
            ]
          },
          "metadata": {
            "tags": []
          },
          "execution_count": 73
        }
      ]
    },
    {
      "cell_type": "code",
      "metadata": {
        "id": "y_xDwGB4P0YC",
        "outputId": "3c047ae1-2195-497c-c7ef-d381aab5527f",
        "colab": {
          "base_uri": "https://localhost:8080/",
          "height": 50
        }
      },
      "source": [
        "X[:,1]"
      ],
      "execution_count": 78,
      "outputs": [
        {
          "output_type": "execute_result",
          "data": {
            "text/plain": [
              "array([31. , 38.5, 47.5, 44.5, 56. , 54. , 59.5, 19. , 26. , 29. , 35. ,\n",
              "       42. ])"
            ]
          },
          "metadata": {
            "tags": []
          },
          "execution_count": 78
        }
      ]
    },
    {
      "cell_type": "code",
      "metadata": {
        "id": "2TE6QtHbPGlm"
      },
      "source": [
        "from sklearn.model_selection import train_test_split\n",
        "from sklearn.metrics import accuracy_score\n",
        "from sklearn.svm import SVR\n",
        "\n",
        "#entrenamos datos\n",
        "x1 = X[:,0]\n",
        "x1 = x1[:,np.newaxis]\n",
        "y1 = X[:,1]\n",
        "y1 = y1[:,np.newaxis]\n",
        "\n",
        "x_train, x_test, y_train, y_test = train_test_split(x1, y1,train_size = 0.8,\n",
        "                                        random_state = 0,\n",
        "                                        shuffle      = True\n",
        "                                    )\n",
        "#escalamos los datos\n",
        "from sklearn.preprocessing import StandardScaler\n",
        "sc_x = StandardScaler()\n",
        "sc_y = StandardScaler()\n",
        "x_train = sc_x.fit_transform(x_train)\n",
        "y_train= sc_y.fit_transform(y_train)\n",
        "x_test = sc_x.fit_transform(x_test)\n",
        "y_test= sc_y.fit_transform(y_test)\n",
        "\n",
        "#aplicando modelo svm\n",
        "svr= SVR(kernel='rbf',degree=3, C=1.0, epsilon=0.2)\n",
        "svr.fit(x_train,y_train)\n"
      ],
      "execution_count": null,
      "outputs": []
    },
    {
      "cell_type": "code",
      "metadata": {
        "id": "V97R6T9OUPqn",
        "outputId": "a6aeccae-f32e-4c5b-c7e5-a0b603d255db",
        "colab": {
          "base_uri": "https://localhost:8080/",
          "height": 50
        }
      },
      "source": [
        "x_valor=sc_x.inverse_transform(x_train)\n",
        "y_valor= sc_y.inverse_transform(y_train)\n",
        "y_predic_valor= sc_y.inverse_transform(svr.predict(x_train))\n",
        "y_predic_valor"
      ],
      "execution_count": 90,
      "outputs": [
        {
          "output_type": "execute_result",
          "data": {
            "text/plain": [
              "array([50.22790588, 56.20731471, 46.7959962 , 53.2532425 , 47.68568031,\n",
              "       48.01223936, 57.85042515, 50.38472232, 54.42429761])"
            ]
          },
          "metadata": {
            "tags": []
          },
          "execution_count": 90
        }
      ]
    },
    {
      "cell_type": "code",
      "metadata": {
        "id": "lM440GPiUC7w"
      },
      "source": [
        "y_valor"
      ],
      "execution_count": null,
      "outputs": []
    },
    {
      "cell_type": "code",
      "metadata": {
        "id": "7jc2YzKIW4Tl",
        "outputId": "886bf884-1e69-4e1d-b562-d46a57092632",
        "colab": {
          "base_uri": "https://localhost:8080/",
          "height": 34
        }
      },
      "source": [
        "x_valor_t=sc_x.inverse_transform(x_test)\n",
        "y_valor_t= sc_y.inverse_transform(y_test)\n",
        "y_predic_valor_t= sc_y.inverse_transform(svr.predict(x_test))\n",
        "y_predic_valor_t"
      ],
      "execution_count": 93,
      "outputs": [
        {
          "output_type": "execute_result",
          "data": {
            "text/plain": [
              "array([57.51431081, 49.55979001, 54.71690563])"
            ]
          },
          "metadata": {
            "tags": []
          },
          "execution_count": 93
        }
      ]
    },
    {
      "cell_type": "code",
      "metadata": {
        "id": "hd2ZhB9RW6Dz"
      },
      "source": [
        "y_valor_t"
      ],
      "execution_count": null,
      "outputs": []
    },
    {
      "cell_type": "code",
      "metadata": {
        "id": "EKtxSMztXyt8",
        "outputId": "7f30705d-3c3c-4a0a-e9b1-248e2b17d869",
        "colab": {
          "base_uri": "https://localhost:8080/",
          "height": 50
        }
      },
      "source": [
        "#score\n",
        "print(svr.score(x_train,y_train))\n",
        "print(svr.score(x_test,y_test))"
      ],
      "execution_count": 86,
      "outputs": [
        {
          "output_type": "stream",
          "text": [
            "0.6030973523074987\n",
            "0.634170741910758\n"
          ],
          "name": "stdout"
        }
      ]
    },
    {
      "cell_type": "code",
      "metadata": {
        "id": "iod3jZg-vyXg",
        "outputId": "e5191b43-3335-45a5-db8e-72a5e62bc0e9",
        "colab": {
          "base_uri": "https://localhost:8080/",
          "height": 295
        }
      },
      "source": [
        "plt.scatter(x_valor, y_valor, c='red', marker='^', alpha=0.5)\n",
        "plt.scatter(x_valor_t , y_valor_t , c='red', marker='*', alpha=0.5)\n",
        "plt.scatter(x_valor, y_predic_valor, c='green', marker='o', alpha=0.3)\n",
        "plt.scatter(x_valor_t , y_predic_valor_t , c='green', marker='o', alpha=0.3)\n",
        "plt.xlabel('Mes')\n",
        "plt.ylabel('Cantidad')\n",
        "plt.title('Bajas clientes con antiguedad primer trimestre')\n",
        "plt.show()"
      ],
      "execution_count": 95,
      "outputs": [
        {
          "output_type": "display_data",
          "data": {
            "image/png": "[encoded data removed]",
            "text/plain": [
              "<Figure size 432x288 with 1 Axes>"
            ]
          },
          "metadata": {
            "tags": [],
            "needs_background": "light"
          }
        }
      ]
    }
  ]
}