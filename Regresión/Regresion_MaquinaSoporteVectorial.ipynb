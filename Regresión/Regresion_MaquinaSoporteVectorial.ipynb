{
  "nbformat": 4,
  "nbformat_minor": 0,
  "metadata": {
    "colab": {
      "name": "Untitled1.ipynb",
      "provenance": [],
      "include_colab_link": true
    },
    "kernelspec": {
      "name": "python3",
      "display_name": "Python 3"
    }
  },
  "cells": [
    {
      "cell_type": "markdown",
      "metadata": {
        "id": "view-in-github",
        "colab_type": "text"
      },
      "source": [
        "<a href=\"https://colab.research.google.com/github/ClauCll/Curso_ML_A_Z/blob/master/Regresi%C3%B3n/Regresion_MaquinaSoporteVectorial.ipynb\" target=\"_parent\"><img src=\"https://colab.research.google.com/assets/colab-badge.svg\" alt=\"Open In Colab\"/></a>"
      ]
    },
    {
      "cell_type": "markdown",
      "metadata": {
        "id": "-J3qDXeFwvSb",
        "colab_type": "text"
      },
      "source": [
        "# Regresión con soporte máquina vectorial (SVR)\n",
        "# objetivo: "
      ]
    },
    {
      "cell_type": "code",
      "metadata": {
        "id": "Vsqlhqgww1BG",
        "colab_type": "code",
        "colab": {}
      },
      "source": [
        "import pandas as pd\n",
        "import numpy as np\n",
        "import matplotlib.pyplot as plt\n",
        "import gspread\n",
        "from oauth2client.client import GoogleCredentials \n",
        "from google.colab import auth\n",
        "# Autoriza Claudia\n",
        "auth.authenticate_user()\n",
        "gc = gspread.authorize (GoogleCredentials.get_application_default())"
      ],
      "execution_count": 59,
      "outputs": []
    },
    {
      "cell_type": "markdown",
      "metadata": {
        "id": "2xAoqlB_02Do",
        "colab_type": "text"
      },
      "source": [
        "### leemos datos"
      ]
    },
    {
      "cell_type": "code",
      "metadata": {
        "id": "y_VVpj56uzRV",
        "colab_type": "code",
        "colab": {
          "base_uri": "https://localhost:8080/",
          "height": 34
        },
        "outputId": "c3b66b5c-dac5-43db-b5a3-9115f1618a9e"
      },
      "source": [
        "from google.colab import drive\n",
        "drive.mount('/content/drive')"
      ],
      "execution_count": 60,
      "outputs": [
        {
          "output_type": "stream",
          "text": [
            "Drive already mounted at /content/drive; to attempt to forcibly remount, call drive.mount(\"/content/drive\", force_remount=True).\n"
          ],
          "name": "stdout"
        }
      ]
    },
    {
      "cell_type": "markdown",
      "metadata": {
        "id": "LDlK13slxMnk",
        "colab_type": "text"
      },
      "source": [
        "# Nueva sección"
      ]
    },
    {
      "cell_type": "code",
      "metadata": {
        "id": "0JYqth2Ty8-k",
        "colab_type": "code",
        "colab": {}
      },
      "source": [
        "data1 = pd.read_csv('/content/drive/My Drive/Dataset/Position_Salaries.csv',delimiter=',')\n",
        "x = data1.iloc [:,1:2].values\n",
        "y = data1.iloc [:,2].values"
      ],
      "execution_count": 61,
      "outputs": []
    },
    {
      "cell_type": "code",
      "metadata": {
        "id": "9HByNNfG68OE",
        "colab_type": "code",
        "colab": {}
      },
      "source": [
        "pd.DataFrame(y)"
      ],
      "execution_count": null,
      "outputs": []
    },
    {
      "cell_type": "markdown",
      "metadata": {
        "id": "TMvIs9DIgZV_",
        "colab_type": "text"
      },
      "source": [
        "### Dividir el data set en conjunto de entrenamiento y conjunto de testing\n",
        "# no dividimos el dataset ya que tenemos solo 10 datos. son muy poquitos.\n",
        "# Escalamos los datos"
      ]
    },
    {
      "cell_type": "code",
      "metadata": {
        "id": "xZq1KN4y3NGh",
        "colab_type": "code",
        "colab": {}
      },
      "source": [
        "\"\"\" from sklearn.model_selection import train_test_split\n",
        "x_train, x_test, y_train, y_test = train_test_split(x,y,test_size=0.2, random_state=0)\n",
        "\"\"\"\n",
        "# Escalado de variables\n",
        "# en este ejemplo no es necesario lo dejaremos comentariado\n",
        "from sklearn.preprocessing import StandardScaler\n",
        "sc_x = StandardScaler()\n",
        "sc_y = StandardScaler()\n",
        "x= sc_x.fit_transform(x)\n",
        "y= sc_y.fit_transform(y.reshape(-1,1))"
      ],
      "execution_count": 63,
      "outputs": []
    },
    {
      "cell_type": "code",
      "metadata": {
        "id": "t5V6r84rgH1Q",
        "colab_type": "code",
        "colab": {}
      },
      "source": [
        "pd.DataFrame(x)"
      ],
      "execution_count": null,
      "outputs": []
    },
    {
      "cell_type": "markdown",
      "metadata": {
        "id": "ica7hyF52HbD",
        "colab_type": "text"
      },
      "source": [
        ""
      ]
    },
    {
      "cell_type": "markdown",
      "metadata": {
        "id": "Fow-3bkhjOVu",
        "colab_type": "text"
      },
      "source": [
        "### Ajustar las caracteristicas SVR\n",
        "# Ajustar el modelo SVR"
      ]
    },
    {
      "cell_type": "code",
      "metadata": {
        "id": "tDBqCWkfjVjY",
        "colab_type": "code",
        "colab": {
          "base_uri": "https://localhost:8080/",
          "height": 105
        },
        "outputId": "fc1143d0-069a-4fc6-dbbe-e39b65c6aa86"
      },
      "source": [
        "from sklearn.svm import SVR\n",
        "regression = SVR(kernel='rbf')\n",
        "regression.fit(x,y)"
      ],
      "execution_count": 51,
      "outputs": [
        {
          "output_type": "stream",
          "text": [
            "/usr/local/lib/python3.6/dist-packages/sklearn/utils/validation.py:760: DataConversionWarning: A column-vector y was passed when a 1d array was expected. Please change the shape of y to (n_samples, ), for example using ravel().\n",
            "  y = column_or_1d(y, warn=True)\n"
          ],
          "name": "stderr"
        },
        {
          "output_type": "execute_result",
          "data": {
            "text/plain": [
              "SVR(C=1.0, cache_size=200, coef0=0.0, degree=3, epsilon=0.1, gamma='scale',\n",
              "    kernel='rbf', max_iter=-1, shrinking=True, tol=0.001, verbose=False)"
            ]
          },
          "metadata": {
            "tags": []
          },
          "execution_count": 51
        }
      ]
    },
    {
      "cell_type": "code",
      "metadata": {
        "id": "Qb1Y9sXwMIcZ",
        "colab_type": "code",
        "colab": {}
      },
      "source": [
        "y_pred = sc_y.inverse_transform(regression.predict(sc_x.transform([[6.5]]) ))"
      ],
      "execution_count": 54,
      "outputs": []
    },
    {
      "cell_type": "code",
      "metadata": {
        "id": "jfRA3XQQEpDn",
        "colab_type": "code",
        "colab": {
          "base_uri": "https://localhost:8080/",
          "height": 80
        },
        "outputId": "8cca5334-03b1-479b-d13a-1b0f7627e109"
      },
      "source": [
        "pd.DataFrame(y_pred)"
      ],
      "execution_count": 55,
      "outputs": [
        {
          "output_type": "execute_result",
          "data": {
            "text/html": [
              "<div>\n",
              "<style scoped>\n",
              "    .dataframe tbody tr th:only-of-type {\n",
              "        vertical-align: middle;\n",
              "    }\n",
              "\n",
              "    .dataframe tbody tr th {\n",
              "        vertical-align: top;\n",
              "    }\n",
              "\n",
              "    .dataframe thead th {\n",
              "        text-align: right;\n",
              "    }\n",
              "</style>\n",
              "<table border=\"1\" class=\"dataframe\">\n",
              "  <thead>\n",
              "    <tr style=\"text-align: right;\">\n",
              "      <th></th>\n",
              "      <th>0</th>\n",
              "    </tr>\n",
              "  </thead>\n",
              "  <tbody>\n",
              "    <tr>\n",
              "      <th>0</th>\n",
              "      <td>170370.020407</td>\n",
              "    </tr>\n",
              "  </tbody>\n",
              "</table>\n",
              "</div>"
            ],
            "text/plain": [
              "               0\n",
              "0  170370.020407"
            ]
          },
          "metadata": {
            "tags": []
          },
          "execution_count": 55
        }
      ]
    },
    {
      "cell_type": "markdown",
      "metadata": {
        "id": "4kCSDLgVkpuH",
        "colab_type": "text"
      },
      "source": [
        "### Visualizar los resultados"
      ]
    },
    {
      "cell_type": "code",
      "metadata": {
        "id": "BTgjC8X1P6T8",
        "colab_type": "code",
        "colab": {
          "base_uri": "https://localhost:8080/",
          "height": 295
        },
        "outputId": "fb51d8f1-2249-4e30-fccc-b0d98051d950"
      },
      "source": [
        "plt.scatter (x,y, color=\"Red\")\n",
        "plt.plot (x,regression.predict(x),color=\"blue\")\n",
        "plt.title (\"Modelo SVR\")\n",
        "plt.xlabel(\"Nivel empleado\")\n",
        "plt.ylabel(\"Sueldo\")\n",
        "plt.show()"
      ],
      "execution_count": 39,
      "outputs": [
        {
          "output_type": "display_data",
          "data": {
            "image/png": "[encoded data removed]",
            "text/plain": [
              "<Figure size 432x288 with 1 Axes>"
            ]
          },
          "metadata": {
            "tags": [],
            "needs_background": "light"
          }
        }
      ]
    },
    {
      "cell_type": "code",
      "metadata": {
        "id": "0C2BeF_NegJt",
        "colab_type": "code",
        "colab": {}
      },
      "source": [
        "x_valor = sc_x.inverse_transform(x)\n",
        "y_valor = sc_y.inverse_transform(y)"
      ],
      "execution_count": 57,
      "outputs": []
    },
    {
      "cell_type": "code",
      "metadata": {
        "id": "aUtTiDi4MGOr",
        "colab_type": "code",
        "colab": {
          "base_uri": "https://localhost:8080/",
          "height": 295
        },
        "outputId": "e4f237c4-a49e-4660-bfbd-3c602e693594"
      },
      "source": [
        "x_grid= np.arange(min(x_valor),max(x_valor),0.1)\n",
        "x_grid= x_grid.reshape(len(x_grid),1)\n",
        "plt.scatter(x_valor,y_valor,color=\"Red\")\n",
        "plt.plot(x_valor,regression.predict(x_valor),color=\"blue\")\n",
        "plt.title(\"Modelo SVR Valor Real\")\n",
        "plt.xlabel(\"Nivel empleado\")\n",
        "plt.ylabel(\"Sueldo\")\n",
        "plt.show()"
      ],
      "execution_count": 58,
      "outputs": [
        {
          "output_type": "display_data",
          "data": {
            "image/png": "[encoded data removed]",
            "text/plain": [
              "<Figure size 432x288 with 1 Axes>"
            ]
          },
          "metadata": {
            "tags": [],
            "needs_background": "light"
          }
        }
      ]
    }
  ]
}