{
  "nbformat": 4,
  "nbformat_minor": 0,
  "metadata": {
    "colab": {
      "name": "Untitled1.ipynb",
      "provenance": [],
      "include_colab_link": true
    },
    "kernelspec": {
      "name": "python3",
      "display_name": "Python 3"
    }
  },
  "cells": [
    {
      "cell_type": "markdown",
      "metadata": {
        "id": "view-in-github",
        "colab_type": "text"
      },
      "source": [
        "<a href=\"https://colab.research.google.com/github/ClauCll/Curso_ML_A_Z/blob/master/Regresi%C3%B3n/Regresion_Bajas_Antiguedad_v3.ipynb\" target=\"_parent\"><img src=\"https://colab.research.google.com/assets/colab-badge.svg\" alt=\"Open In Colab\"/></a>"
      ]
    },
    {
      "cell_type": "markdown",
      "metadata": {
        "id": "-J3qDXeFwvSb"
      },
      "source": [
        "## Cuantas serán las bajas voluntarias de los clientes fijos para el periodo 202009 - 202012\n",
        " "
      ]
    },
    {
      "cell_type": "code",
      "metadata": {
        "id": "Vsqlhqgww1BG"
      },
      "source": [
        "import pandas as pd\n",
        "import numpy as np\n",
        "from mpl_toolkits.mplot3d import axes3d\n",
        "import matplotlib.pyplot as plt\n",
        "import gspread\n",
        "from oauth2client.client import GoogleCredentials \n",
        "from google.colab import auth\n",
        "# Autoriza Claudia\n",
        "auth.authenticate_user()\n",
        "gc = gspread.authorize (GoogleCredentials.get_application_default())"
      ],
      "execution_count": 1,
      "outputs": []
    },
    {
      "cell_type": "markdown",
      "metadata": {
        "id": "2xAoqlB_02Do"
      },
      "source": [
        "### leemos datos"
      ]
    },
    {
      "cell_type": "code",
      "metadata": {
        "id": "y_VVpj56uzRV",
        "outputId": "aa21d26f-c1d2-4e31-e8c8-d77f8fcc6795",
        "colab": {
          "base_uri": "https://localhost:8080/",
          "height": 34
        }
      },
      "source": [
        "from google.colab import drive\n",
        "drive.mount('/content/drive')"
      ],
      "execution_count": 2,
      "outputs": [
        {
          "output_type": "stream",
          "text": [
            "Mounted at /content/drive\n"
          ],
          "name": "stdout"
        }
      ]
    },
    {
      "cell_type": "code",
      "metadata": {
        "id": "0JYqth2Ty8-k"
      },
      "source": [
        "data = pd.read_csv('/content/drive/My Drive/Dataset/DBajas_ANTIGUEDAD.txt',delimiter='~')\n",
        "X  = data.iloc[:,:-1].values\n",
        "Y  = data.iloc[:,2].values\n",
        "Y = Y[:,np.newaxis]"
      ],
      "execution_count": 3,
      "outputs": []
    },
    {
      "cell_type": "code",
      "metadata": {
        "id": "9uNGk3W0Oj0I"
      },
      "source": [
        "i_año = [] # identificador de año\n",
        "x_año = [] # año\n",
        "x_mes = [] # mes\n",
        "\n",
        "for ciclo in X[:,0]:\n",
        "    x_mes.append(int(str(ciclo)[4:6]))\n",
        "    if str(ciclo)[0:4] == \"2019\":\n",
        "        x_año.append(2019)        \n",
        "        i_año.append(0) \n",
        "    if str(ciclo)[0:4] == \"2020\":\n",
        "        x_año.append(2020)        \n",
        "        i_año.append(1)\n",
        "      \n",
        "i_año = np.array(i_año)[:,np.newaxis]\n",
        "x_año = np.array(x_año)[:,np.newaxis]\n",
        "x_mes = np.array(x_mes)[:,np.newaxis]"
      ],
      "execution_count": 4,
      "outputs": []
    },
    {
      "cell_type": "code",
      "metadata": {
        "id": "OsUZIAN9QLfm"
      },
      "source": [
        "# Años de antiguedad \n",
        "# 0 -> Negro\n",
        "# 1 -> Rojo\n",
        "# 2 -> Naranja\n",
        "# 3 -> Amarillo \n",
        "# 4 -> Azul\n",
        "# 5 -> Violeta \n",
        "# 6 -> Verde   años de antiguedad desde 6 años en adelante\n",
        "\n",
        "i_antiguedad = []\n",
        "for ciclo in X[:,1]:\n",
        "    if int(ciclo) == 0:\n",
        "        i_antiguedad.append(0)\n",
        "    if int(ciclo) == 1:\n",
        "        i_antiguedad.append(1)\n",
        "    if int(ciclo) == 2:\n",
        "        i_antiguedad.append(2)\n",
        "    if int(ciclo) == 3:\n",
        "        i_antiguedad.append(3)\n",
        "    if int(ciclo) == 4:\n",
        "        i_antiguedad.append(4)\n",
        "    if int(ciclo) == 5:\n",
        "        i_antiguedad.append(5)\n",
        "    if int(ciclo) >  5:\n",
        "        i_antiguedad.append(6) \n",
        "i_antiguedad = np.array(i_antiguedad)[:,np.newaxis]"
      ],
      "execution_count": 5,
      "outputs": []
    },
    {
      "cell_type": "code",
      "metadata": {
        "id": "gJH0X0VOb41h"
      },
      "source": [
        "c0,c1,c2,c3 ,c4 ,c5 ,c6  = [],[],[],[],[],[],[]\n",
        "cont=0\n",
        "for num in  list(range (2019,2021)):   \n",
        "        cont = cont +1 \n",
        "        for ciclo in list(range(len(X[:,1]))):  \n",
        "\n",
        "            if i_antiguedad[ciclo,0] == 0 and x_año[ciclo,0] == num :\n",
        "              if cont ==1 :\n",
        "                c0.append(cont)\n",
        "              else:\n",
        "                c0[ciclo] = cont\n",
        "            else:\n",
        "              if cont ==1 :\n",
        "                c0.append(0)  \n",
        "\n",
        "            if i_antiguedad[ciclo,0] == 1 and x_año[ciclo,0] == num :\n",
        "              if cont ==1 :\n",
        "                c1.append(cont)\n",
        "              else:\n",
        "                c1[ciclo] = cont\n",
        "            else:\n",
        "              if cont ==1 :\n",
        "                c1.append(0) \n",
        "\n",
        "            if i_antiguedad[ciclo,0] == 2 and x_año[ciclo,0] == num :\n",
        "              if cont ==1 :\n",
        "                c2.append(cont)\n",
        "              else:\n",
        "                c2[ciclo] = cont\n",
        "            else:\n",
        "              if cont ==1 :\n",
        "                c2.append(0) \n",
        "\n",
        "            if i_antiguedad[ciclo,0] == 3 and x_año[ciclo,0] == num :\n",
        "              if cont ==1 :\n",
        "                c3.append(cont)\n",
        "              else:\n",
        "                c3[ciclo] = cont\n",
        "            else:\n",
        "              if cont ==1 :\n",
        "                c3.append(0) \n",
        "\n",
        "            if i_antiguedad[ciclo,0] == 4 and x_año[ciclo,0] == num :\n",
        "              if cont ==1 :\n",
        "                c4.append(cont)\n",
        "              else:\n",
        "                c4[ciclo] = cont\n",
        "            else:\n",
        "              if cont ==1 :\n",
        "                c4.append(0) \n",
        "\n",
        "            if i_antiguedad[ciclo,0] == 5 and x_año[ciclo,0] == num :\n",
        "              if cont ==1 :\n",
        "                c5.append(cont)\n",
        "              else:\n",
        "                c5[ciclo] = cont\n",
        "            else:\n",
        "              if cont ==1 :\n",
        "                c5.append(0)   \n",
        "\n",
        "            if i_antiguedad[ciclo,0] == 6 and x_año[ciclo,0] == num :\n",
        "              if cont ==1 :\n",
        "                c6.append(cont)\n",
        "              else:\n",
        "                c6[ciclo] = cont\n",
        "            else:\n",
        "              if cont ==1 :\n",
        "                c6.append(0)                          \n",
        "\n",
        "c0  = np.array(c0 )[:,np.newaxis]\n",
        "c1  = np.array(c1 )[:,np.newaxis]\n",
        "c2  = np.array(c2 )[:,np.newaxis]\n",
        "c3  = np.array(c3 )[:,np.newaxis]\n",
        "c4  = np.array(c4 )[:,np.newaxis]\n",
        "c5  = np.array(c5 )[:,np.newaxis]\n",
        "c6  = np.array(c6 )[:,np.newaxis]"
      ],
      "execution_count": 6,
      "outputs": []
    },
    {
      "cell_type": "code",
      "metadata": {
        "id": "oDKLYZdIhGDl",
        "outputId": "a4f46d3f-578c-4407-ce1c-2394a33471fe",
        "colab": {
          "base_uri": "https://localhost:8080/",
          "height": 295
        }
      },
      "source": [
        "color_={0:\"Black\",1:\"tomato\",2:\"fuchsia\",3:\"darkcyan\",4:\"Blue\",5:\"purple\",6:\"Green\"}\n",
        "fig, ax = plt.subplots()\n",
        "for ciclo in list(range (2019,2021)):     \n",
        "  if ciclo == 2019:  \n",
        "    ax.scatter(\n",
        "    x_mes[ c0[:,0]==1,0],\n",
        "    Y[ c0[:,0]==1,0],\n",
        "    c= color_[0],\n",
        "    marker = \"^\",\n",
        "    label = ciclo,\n",
        "    alpha=0.5) \n",
        "\n",
        "    ax.scatter(\n",
        "    x_mes[ c1[:,0]==1,0],\n",
        "    Y[ c1[:,0]==1,0],\n",
        "    c= color_[1],\n",
        "    marker = \"^\",\n",
        "    label = ciclo,\n",
        "    alpha=0.5) \n",
        "\n",
        "    ax.scatter(\n",
        "    x_mes[ c2[:,0]==1,0],\n",
        "    Y[ c2[:,0]==1,0],\n",
        "    c= color_[2],\n",
        "    marker = \"^\",\n",
        "    label = ciclo,\n",
        "    alpha=0.5) \n",
        "\n",
        "    ax.scatter(\n",
        "    x_mes[ c3[:,0]==1,0],\n",
        "    Y[ c3[:,0]==1,0],\n",
        "    c= color_[3],\n",
        "    marker = \"^\",\n",
        "    label = ciclo,\n",
        "    alpha=0.5) \n",
        "\n",
        "    ax.scatter(\n",
        "    x_mes[ c4[:,0]==1,0],\n",
        "    Y[ c4[:,0]==1,0],\n",
        "    c= color_[4],\n",
        "    marker = \"^\",\n",
        "    label = ciclo,\n",
        "    alpha=0.5) \n",
        "\n",
        "    ax.scatter(\n",
        "    x_mes[ c5[:,0]==1,0],\n",
        "    Y[ c5[:,0]==1,0],\n",
        "    c= color_[5],\n",
        "    marker = \"^\",\n",
        "    label = ciclo,\n",
        "    alpha=0.5) \n",
        "\n",
        "    ax.scatter(\n",
        "    x_mes[ c6[:,0]==1,0],\n",
        "    Y[ c6[:,0]==1,0],\n",
        "    c= color_[6],\n",
        "    marker = \"^\",\n",
        "    label = ciclo,\n",
        "    alpha=0.5) \n",
        "\n",
        "  else:\n",
        "    ax.scatter(\n",
        "    x_mes[ c0[:,0]==2,0],\n",
        "    Y[ c0[:,0]==2,0],\n",
        "    c= color_[0],\n",
        "    marker = \"o\",\n",
        "    label = ciclo,\n",
        "    alpha=0.5)\n",
        "\n",
        "    ax.scatter(\n",
        "    x_mes[ c1[:,0]==2,0],\n",
        "    Y[ c1[:,0]==2,0],\n",
        "    c= color_[1],\n",
        "    marker = \"o\",\n",
        "    label = ciclo,\n",
        "    alpha=0.5)\n",
        "\n",
        "    ax.scatter(\n",
        "    x_mes[ c2[:,0]==2,0],\n",
        "    Y[ c2[:,0]==2,0],\n",
        "    c= color_[2],\n",
        "    marker = \"o\",\n",
        "    label = ciclo,\n",
        "    alpha=0.5)\n",
        "\n",
        "    ax.scatter(\n",
        "    x_mes[ c3[:,0]==2,0],\n",
        "    Y[ c3[:,0]==2,0],\n",
        "    c= color_[3],\n",
        "    marker = \"o\",\n",
        "    label = ciclo,\n",
        "    alpha=0.5)\n",
        "\n",
        "    ax.scatter(\n",
        "    x_mes[ c4[:,0]==2,0],\n",
        "    Y[ c4[:,0]==2,0],\n",
        "    c= color_[4],\n",
        "    marker = \"o\",\n",
        "    label = ciclo,\n",
        "    alpha=0.5)\n",
        "\n",
        "    ax.scatter(\n",
        "    x_mes[ c5[:,0]==2,0],\n",
        "    Y[ c5[:,0]==2,0],\n",
        "    c= color_[5],\n",
        "    marker = \"o\",\n",
        "    label = ciclo,\n",
        "    alpha=0.5)\n",
        "\n",
        "    ax.scatter(\n",
        "    x_mes[ c6[:,0]==2,0],\n",
        "    Y[ c6[:,0]==2,0],\n",
        "    c= color_[6],\n",
        "    marker = \"o\",\n",
        "    label = ciclo,\n",
        "    alpha=0.5)\n",
        "\n",
        "plt.xlabel('Mes')\n",
        "plt.ylabel('Cantidad')\n",
        "plt.title('Bajas por antiguedad')\n",
        "plt.show()\n"
      ],
      "execution_count": 7,
      "outputs": [
        {
          "output_type": "display_data",
          "data": {
            "image/png": "[encoded data removed]",
            "text/plain": [
              "<Figure size 432x288 with 1 Axes>"
            ]
          },
          "metadata": {
            "tags": [],
            "needs_background": "light"
          }
        }
      ]
    },
    {
      "cell_type": "code",
      "metadata": {
        "id": "4-qoVokjnmWo"
      },
      "source": [
        "color_={0:\"Black\",1:\"tomato\",2:\"fuchsia\",3:\"darkcyan\",4:\"Blue\",5:\"purple\",6:\"Green\"}\n",
        "fig, ax = plt.subplots()\n",
        "for ciclo in list(range (2019,2021)):     \n",
        "  if ciclo == 2019:  \n",
        "    ax.scatter(\n",
        "    x_mes[ c0[:,0]==1,0],\n",
        "    Y[ c0[:,0]==1,0],\n",
        "    c= color_[0],\n",
        "    marker = \"^\",\n",
        "    label = ciclo,\n",
        "    alpha=0.5)     \n",
        "\n",
        "  else:\n",
        "    ax.scatter(\n",
        "    x_mes[ c0[:,0]==2,0],\n",
        "    Y[ c0[:,0]==2,0],\n",
        "    c= color_[0],\n",
        "    marker = \"o\",\n",
        "    label = ciclo,\n",
        "    alpha=0.5)\n",
        "\n",
        "\n",
        "plt.legend()\n",
        "plt.xlabel('Mes')\n",
        "plt.ylabel('Cantidad')\n",
        "plt.title('Bajas por antiguedad 0 años')\n",
        "plt.show()"
      ],
      "execution_count": null,
      "outputs": []
    },
    {
      "cell_type": "code",
      "metadata": {
        "id": "yx2LTwL9oMlO"
      },
      "source": [
        "color_={0:\"Black\",1:\"tomato\",2:\"fuchsia\",3:\"darkcyan\",4:\"Blue\",5:\"purple\",6:\"Green\"}\n",
        "fig, ax = plt.subplots()\n",
        "for ciclo in list(range (2019,2021)):     \n",
        "  if ciclo == 2019:  \n",
        "    ax.scatter(\n",
        "    x_mes[ c1[:,0]==1,0],\n",
        "    Y[ c1[:,0]==1,0],\n",
        "    c= color_[1],\n",
        "    marker = \"^\",\n",
        "    label = ciclo,\n",
        "    alpha=0.5)     \n",
        "\n",
        "  else:\n",
        "    ax.scatter(\n",
        "    x_mes[ c1[:,0]==2,0],\n",
        "    Y[ c1[:,0]==2,0],\n",
        "    c= color_[1],\n",
        "    marker = \"o\",\n",
        "    label = ciclo,\n",
        "    alpha=0.5)\n",
        "\n",
        "\n",
        "plt.legend()\n",
        "plt.xlabel('Mes')\n",
        "plt.ylabel('Cantidad')\n",
        "plt.title('Bajas por antiguedad 1 año')\n",
        "plt.show()"
      ],
      "execution_count": null,
      "outputs": []
    },
    {
      "cell_type": "code",
      "metadata": {
        "id": "4N8a0fScoh1X"
      },
      "source": [
        "color_={0:\"Black\",1:\"tomato\",2:\"fuchsia\",3:\"darkcyan\",4:\"Blue\",5:\"purple\",6:\"Green\"}\n",
        "fig, ax = plt.subplots()\n",
        "for ciclo in list(range (2019,2021)):     \n",
        "  if ciclo == 2019:  \n",
        "    ax.scatter(\n",
        "    x_mes[ c2[:,0]==1,0],\n",
        "    Y[ c2[:,0]==1,0],\n",
        "    c= color_[2],\n",
        "    marker = \"^\",\n",
        "    label = ciclo,\n",
        "    alpha=0.5)     \n",
        "\n",
        "  else:\n",
        "    ax.scatter(\n",
        "    x_mes[ c2[:,0]==2,0],\n",
        "    Y[ c2[:,0]==2,0],\n",
        "    c= color_[2],\n",
        "    marker = \"o\",\n",
        "    label = ciclo,\n",
        "    alpha=0.5)\n",
        "\n",
        "\n",
        "plt.legend()\n",
        "plt.xlabel('Mes')\n",
        "plt.ylabel('Cantidad')\n",
        "plt.title('Bajas por antiguedad 2 años')\n",
        "plt.show()"
      ],
      "execution_count": null,
      "outputs": []
    },
    {
      "cell_type": "code",
      "metadata": {
        "id": "mNjc7m7motG-"
      },
      "source": [
        "color_={0:\"Black\",1:\"tomato\",2:\"fuchsia\",3:\"darkcyan\",4:\"Blue\",5:\"purple\",6:\"Green\"}\n",
        "fig, ax = plt.subplots()\n",
        "for ciclo in list(range (2019,2021)):     \n",
        "  if ciclo == 2019:  \n",
        "    ax.scatter(\n",
        "    x_mes[ c3[:,0]==1,0],\n",
        "    Y[ c3[:,0]==1,0],\n",
        "    c= color_[3],\n",
        "    marker = \"^\",\n",
        "    label = ciclo,\n",
        "    alpha=0.5)     \n",
        "\n",
        "  else:\n",
        "    ax.scatter(\n",
        "    x_mes[ c3[:,0]==2,0],\n",
        "    Y[ c3[:,0]==2,0],\n",
        "    c= color_[3],\n",
        "    marker = \"o\",\n",
        "    label = ciclo,\n",
        "    alpha=0.5)\n",
        "\n",
        "\n",
        "plt.legend()\n",
        "plt.xlabel('Mes')\n",
        "plt.ylabel('Cantidad')\n",
        "plt.title('Bajas por antiguedad 3 años')\n",
        "plt.show()"
      ],
      "execution_count": null,
      "outputs": []
    },
    {
      "cell_type": "code",
      "metadata": {
        "id": "7mWmFb7RpNXf"
      },
      "source": [
        "color_={0:\"Black\",1:\"tomato\",2:\"fuchsia\",3:\"darkcyan\",4:\"Blue\",5:\"purple\",6:\"Green\"}\n",
        "fig, ax = plt.subplots()\n",
        "for ciclo in list(range (2019,2021)):     \n",
        "  if ciclo == 2019:  \n",
        "    ax.scatter(\n",
        "    x_mes[ c4[:,0]==1,0],\n",
        "    Y[ c4[:,0]==1,0],\n",
        "    c= color_[4],\n",
        "    marker = \"^\",\n",
        "    label = ciclo,\n",
        "    alpha=0.5)     \n",
        "\n",
        "  else:\n",
        "    ax.scatter(\n",
        "    x_mes[ c4[:,0]==2,0],\n",
        "    Y[ c4[:,0]==2,0],\n",
        "    c= color_[4],\n",
        "    marker = \"o\",\n",
        "    label = ciclo,\n",
        "    alpha=0.5)\n",
        "\n",
        "\n",
        "plt.legend()\n",
        "plt.xlabel('Mes')\n",
        "plt.ylabel('Cantidad')\n",
        "plt.title('Bajas por antiguedad 4 años')\n",
        "plt.show()"
      ],
      "execution_count": null,
      "outputs": []
    },
    {
      "cell_type": "code",
      "metadata": {
        "id": "kl4jzfJGpkg3"
      },
      "source": [
        "color_={0:\"Black\",1:\"tomato\",2:\"fuchsia\",3:\"darkcyan\",4:\"Blue\",5:\"purple\",6:\"Green\"}\n",
        "fig, ax = plt.subplots()\n",
        "for ciclo in list(range (2019,2021)):     \n",
        "  if ciclo == 2019:  \n",
        "    ax.scatter(\n",
        "    x_mes[ c5[:,0]==1,0],\n",
        "    Y[ c5[:,0]==1,0],\n",
        "    c= color_[5],\n",
        "    marker = \"^\",\n",
        "    label = ciclo,\n",
        "    alpha=0.5)     \n",
        "\n",
        "  else:\n",
        "    ax.scatter(\n",
        "    x_mes[ c5[:,0]==2,0],\n",
        "    Y[ c5[:,0]==2,0],\n",
        "    c= color_[5],\n",
        "    marker = \"o\",\n",
        "    label = ciclo,\n",
        "    alpha=0.5)\n",
        "\n",
        "\n",
        "plt.legend()\n",
        "plt.xlabel('Mes')\n",
        "plt.ylabel('Cantidad')\n",
        "plt.title('Bajas por antiguedad 5 años')\n",
        "plt.show()"
      ],
      "execution_count": null,
      "outputs": []
    },
    {
      "cell_type": "code",
      "metadata": {
        "id": "KOR8t_g8puko"
      },
      "source": [
        "color_={0:\"Black\",1:\"tomato\",2:\"fuchsia\",3:\"darkcyan\",4:\"Blue\",5:\"purple\",6:\"Green\"}\n",
        "fig, ax = plt.subplots()\n",
        "for ciclo in list(range (2019,2021)):     \n",
        "  if ciclo == 2019:  \n",
        "    ax.scatter(\n",
        "    x_mes[ c6[:,0]==1,0],\n",
        "    Y[ c6[:,0]==1,0],\n",
        "    c= color_[6],\n",
        "    marker = \"^\",\n",
        "    label = ciclo,\n",
        "    alpha=0.5)     \n",
        "\n",
        "  else:\n",
        "    ax.scatter(\n",
        "    x_mes[ c6[:,0]==2,0],\n",
        "    Y[ c6[:,0]==2,0],\n",
        "    c= color_[6],\n",
        "    marker = \"o\",\n",
        "    label = ciclo,\n",
        "    alpha=0.5)\n",
        "\n",
        "\n",
        "plt.legend()\n",
        "plt.xlabel('Mes')\n",
        "plt.ylabel('Cantidad')\n",
        "plt.title('Bajas por antiguedad >=6 años')\n",
        "plt.show()"
      ],
      "execution_count": null,
      "outputs": []
    },
    {
      "cell_type": "markdown",
      "metadata": {
        "id": "zPAqqmtHFw5k"
      },
      "source": [
        ""
      ]
    },
    {
      "cell_type": "markdown",
      "metadata": {
        "id": "hpFu72_s7-mj"
      },
      "source": [
        "## Modelo SVM"
      ]
    },
    {
      "cell_type": "code",
      "metadata": {
        "id": "A22ITLBX8C9W"
      },
      "source": [
        "from sklearn.model_selection import train_test_split\n",
        "from sklearn.metrics import accuracy_score\n",
        "from sklearn.svm import SVR"
      ],
      "execution_count": 15,
      "outputs": []
    },
    {
      "cell_type": "code",
      "metadata": {
        "id": "G5BKDtaa8EY5"
      },
      "source": [
        "x  = x_mes[ c3[:,0]==1 , 0 ]\n",
        "y  = Y [ c3[:,0]==1 , 0 ]\n",
        "x  = x[:,np.newaxis]\n",
        "y  = y[:,np.newaxis]\n",
        "\n",
        "x_train, x_test, y_train, y_test = train_test_split(x,y ,test_size=0.2, random_state=0)"
      ],
      "execution_count": 82,
      "outputs": []
    },
    {
      "cell_type": "code",
      "metadata": {
        "id": "hgCuk9XMWJAj"
      },
      "source": [
        "svr= SVR(kernel='rbf',degree=3, C=1.0, epsilon=0.2)\n",
        "svr.fit(x_train,y_train)"
      ],
      "execution_count": null,
      "outputs": []
    },
    {
      "cell_type": "code",
      "metadata": {
        "id": "EKtxSMztXyt8"
      },
      "source": [
        "y_predic = svr.predict(x_test)"
      ],
      "execution_count": 84,
      "outputs": []
    },
    {
      "cell_type": "code",
      "metadata": {
        "id": "nceUui5fZu6s",
        "outputId": "959efe9a-b91b-4bf4-9883-65a57d273d70",
        "colab": {
          "base_uri": "https://localhost:8080/",
          "height": 265
        }
      },
      "source": [
        "plt.scatter(x_test,y_test, color='red')\n",
        "plt.plot(x_test,y_predic, color='Blue' )\n",
        "plt.show()"
      ],
      "execution_count": 85,
      "outputs": [
        {
          "output_type": "display_data",
          "data": {
            "image/png": "[encoded data removed]",
            "text/plain": [
              "<Figure size 432x288 with 1 Axes>"
            ]
          },
          "metadata": {
            "tags": [],
            "needs_background": "light"
          }
        }
      ]
    },
    {
      "cell_type": "code",
      "metadata": {
        "id": "kFNM4iYiaggB",
        "outputId": "6d7e5855-a9b4-4383-a0db-a64ed67989fd",
        "colab": {
          "base_uri": "https://localhost:8080/",
          "height": 34
        }
      },
      "source": [
        "#Precisión del modelo\n",
        "print(svr.score(x_test,y_test))"
      ],
      "execution_count": 86,
      "outputs": [
        {
          "output_type": "stream",
          "text": [
            "0.0458665612401169\n"
          ],
          "name": "stdout"
        }
      ]
    },
    {
      "cell_type": "code",
      "metadata": {
        "id": "JTGGGcQha12I",
        "outputId": "0fe4e231-d629-467f-dbc0-6c17ade8875d",
        "colab": {
          "base_uri": "https://localhost:8080/",
          "height": 34
        }
      },
      "source": [
        "print(svr.score(x_test,y_predic))"
      ],
      "execution_count": 87,
      "outputs": [
        {
          "output_type": "stream",
          "text": [
            "1.0\n"
          ],
          "name": "stdout"
        }
      ]
    }
  ]
}