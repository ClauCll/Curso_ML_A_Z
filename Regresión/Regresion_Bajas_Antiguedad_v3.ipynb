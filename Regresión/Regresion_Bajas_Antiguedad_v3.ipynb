{
  "nbformat": 4,
  "nbformat_minor": 0,
  "metadata": {
    "colab": {
      "name": "Untitled1.ipynb",
      "provenance": [],
      "include_colab_link": true
    },
    "kernelspec": {
      "name": "python3",
      "display_name": "Python 3"
    }
  },
  "cells": [
    {
      "cell_type": "markdown",
      "metadata": {
        "id": "view-in-github",
        "colab_type": "text"
      },
      "source": [
        "<a href=\"https://colab.research.google.com/github/ClauCll/Curso_ML_A_Z/blob/master/Regresi%C3%B3n/Regresion_Bajas_Antiguedad_v3.ipynb\" target=\"_parent\"><img src=\"https://colab.research.google.com/assets/colab-badge.svg\" alt=\"Open In Colab\"/></a>"
      ]
    },
    {
      "cell_type": "markdown",
      "metadata": {
        "id": "-J3qDXeFwvSb"
      },
      "source": [
        "## Cuantas serán las bajas voluntarias de los clientes fijos para el periodo 202009 - 202012\n",
        " "
      ]
    },
    {
      "cell_type": "code",
      "metadata": {
        "id": "Vsqlhqgww1BG"
      },
      "source": [
        "import pandas as pd\n",
        "import numpy as np\n",
        "from mpl_toolkits.mplot3d import axes3d\n",
        "import matplotlib.pyplot as plt\n",
        "import gspread\n",
        "from oauth2client.client import GoogleCredentials \n",
        "from google.colab import auth\n",
        "# Autoriza Claudia\n",
        "auth.authenticate_user()\n",
        "gc = gspread.authorize (GoogleCredentials.get_application_default())"
      ],
      "execution_count": null,
      "outputs": []
    },
    {
      "cell_type": "markdown",
      "metadata": {
        "id": "2xAoqlB_02Do"
      },
      "source": [
        "### leemos datos"
      ]
    },
    {
      "cell_type": "code",
      "metadata": {
        "id": "y_VVpj56uzRV",
        "outputId": "01de4f8e-72ac-4eb1-dd18-d4c1071f1fb1",
        "colab": {
          "base_uri": "https://localhost:8080/",
          "height": 34
        }
      },
      "source": [
        "from google.colab import drive\n",
        "drive.mount('/content/drive')"
      ],
      "execution_count": null,
      "outputs": [
        {
          "output_type": "stream",
          "text": [
            "Drive already mounted at /content/drive; to attempt to forcibly remount, call drive.mount(\"/content/drive\", force_remount=True).\n"
          ],
          "name": "stdout"
        }
      ]
    },
    {
      "cell_type": "code",
      "metadata": {
        "id": "0JYqth2Ty8-k"
      },
      "source": [
        "data = pd.read_csv('/content/drive/My Drive/Dataset/DBajas_ANTIGUEDAD.txt',delimiter='~')\n",
        "X  = data.iloc[:,:-1].values\n",
        "Y  = data.iloc[:,2].values\n",
        "Y = Y[:,np.newaxis]"
      ],
      "execution_count": null,
      "outputs": []
    },
    {
      "cell_type": "code",
      "metadata": {
        "id": "9uNGk3W0Oj0I"
      },
      "source": [
        "i_año = [] # identificador de año\n",
        "x_año = [] # año\n",
        "x_mes = [] # mes\n",
        "\n",
        "for ciclo in X[:,0]:\n",
        "    x_mes.append(int(str(ciclo)[4:6]))\n",
        "    if str(ciclo)[0:4] == \"2019\":\n",
        "        x_año.append(2019)        \n",
        "        i_año.append(0) \n",
        "    if str(ciclo)[0:4] == \"2020\":\n",
        "        x_año.append(2020)        \n",
        "        i_año.append(1)\n",
        "      \n",
        "i_año = np.array(i_año)[:,np.newaxis]\n",
        "x_año = np.array(x_año)[:,np.newaxis]\n",
        "x_mes = np.array(x_mes)[:,np.newaxis]"
      ],
      "execution_count": null,
      "outputs": []
    },
    {
      "cell_type": "code",
      "metadata": {
        "id": "OsUZIAN9QLfm"
      },
      "source": [
        "# Años de antiguedad \n",
        "# 0 -> Negro\n",
        "# 1 -> Rojo\n",
        "# 2 -> Naranja\n",
        "# 3 -> Amarillo \n",
        "# 4 -> Azul\n",
        "# 5 -> Violeta \n",
        "# 6 -> Verde   años de antiguedad desde 6 años en adelante\n",
        "\n",
        "i_antiguedad = []\n",
        "for ciclo in X[:,1]:\n",
        "    if int(ciclo) == 0:\n",
        "        i_antiguedad.append(0)\n",
        "    if int(ciclo) == 1:\n",
        "        i_antiguedad.append(1)\n",
        "    if int(ciclo) == 2:\n",
        "        i_antiguedad.append(2)\n",
        "    if int(ciclo) == 3:\n",
        "        i_antiguedad.append(3)\n",
        "    if int(ciclo) == 4:\n",
        "        i_antiguedad.append(4)\n",
        "    if int(ciclo) == 5:\n",
        "        i_antiguedad.append(5)\n",
        "    if int(ciclo) >  5:\n",
        "        i_antiguedad.append(6) \n",
        "i_antiguedad = np.array(i_antiguedad)[:,np.newaxis]"
      ],
      "execution_count": null,
      "outputs": []
    },
    {
      "cell_type": "code",
      "metadata": {
        "id": "gJH0X0VOb41h"
      },
      "source": [
        "c0,c1,c2,c3 ,c4 ,c5 ,c6  = [],[],[],[],[],[],[]\n",
        "cont=0\n",
        "for num in  list(range (2019,2021)):   \n",
        "        cont = cont +1 \n",
        "        for ciclo in list(range(len(X[:,1]))):            \n",
        "            if i_antiguedad[ciclo,0] == 0 and x_año[ciclo,0] == num :\n",
        "              if cont ==1 :\n",
        "                c0.append(1)\n",
        "              else:\n",
        "                c0[ciclo] = 1\n",
        "            else:\n",
        "              if cont ==1 :\n",
        "                c0.append(0)              \n",
        "            if i_antiguedad[ciclo,0] == 1 and x_año[ciclo,0] == num :\n",
        "              if cont ==1 :\n",
        "                c1.append(1)\n",
        "              else:\n",
        "                c1[ciclo] = 1\n",
        "            else:\n",
        "              if cont ==1 :\n",
        "                c1.append(0)              \n",
        "            if i_antiguedad[ciclo,0] == 2 and x_año[ciclo,0] == num :\n",
        "              if cont ==1 :\n",
        "                c2.append(1)\n",
        "              else:\n",
        "                c2[ciclo] = 1\n",
        "            else:\n",
        "              if cont ==1 :\n",
        "                c2.append(0)              \n",
        "            if i_antiguedad[ciclo,0] == 3 and x_año[ciclo,0] == num :\n",
        "              if cont ==1 :\n",
        "                c3.append(1)\n",
        "              else:\n",
        "                c3[ciclo] = 1\n",
        "            else:\n",
        "              if cont ==1 :\n",
        "                c3.append(0)              \n",
        "            if i_antiguedad[ciclo,0] == 4 and x_año[ciclo,0] == num :\n",
        "              if cont ==1 :\n",
        "                c4.append(1)\n",
        "              else:\n",
        "                c4[ciclo] = 1\n",
        "            else:\n",
        "              if cont ==1 :\n",
        "                c4.append(0)              \n",
        "            if i_antiguedad[ciclo,0] == 5 and x_año[ciclo,0] == num :\n",
        "              if cont ==1 :\n",
        "                c5.append(1)\n",
        "              else:\n",
        "                c5[ciclo] = 1\n",
        "            else:\n",
        "              if cont ==1 :\n",
        "                c5.append(0)              \n",
        "            if i_antiguedad[ciclo,0] == 6 and x_año[ciclo,0] == num :\n",
        "              if cont ==1 :\n",
        "                c6.append(1)\n",
        "              else:\n",
        "                c6[ciclo] = 1\n",
        "            else:\n",
        "              if cont ==1 :\n",
        "                c6.append(0)              \n",
        "            \n",
        "\n",
        "c0  = np.array(c0 )[:,np.newaxis]\n",
        "c1  = np.array(c1 )[:,np.newaxis]\n",
        "c2  = np.array(c2 )[:,np.newaxis]\n",
        "c3  = np.array(c3 )[:,np.newaxis]\n",
        "c4  = np.array(c4 )[:,np.newaxis]\n",
        "c5  = np.array(c5 )[:,np.newaxis]\n",
        "c6  = np.array(c6 )[:,np.newaxis]"
      ],
      "execution_count": null,
      "outputs": []
    },
    {
      "cell_type": "code",
      "metadata": {
        "id": "oDKLYZdIhGDl",
        "outputId": "57e6226a-a49e-47ea-a000-f3a247e1b162",
        "colab": {
          "base_uri": "https://localhost:8080/",
          "height": 333
        }
      },
      "source": [
        "\n",
        "fig, ax = plt.subplots()\n",
        "for ciclo in list(range (2019,2021)):\n",
        "  print(ciclo)\n",
        "  if ciclo == 2019: \n",
        "    print ('sombrero')\n",
        "    marca =\"^\"\n",
        "  else:\n",
        "    print ('cero')\n",
        "    marca =\"o\"\n",
        "  ax.scatter(\n",
        "    x_mes[ c0[:,0]==1,0],\n",
        "    Y[ c0[:,0]==1,0],\n",
        "    c=\"black\",\n",
        "    marker = marca,\n",
        "    label = ciclo,\n",
        "    alpha=0.5)\n",
        "plt.legend()\n",
        "plt.show()\n"
      ],
      "execution_count": null,
      "outputs": [
        {
          "output_type": "stream",
          "text": [
            "2019\n",
            "sombrero\n",
            "2020\n",
            "cero\n"
          ],
          "name": "stdout"
        },
        {
          "output_type": "display_data",
          "data": {
            "image/png": "[encoded data removed]",
            "text/plain": [
              "<Figure size 432x288 with 1 Axes>"
            ]
          },
          "metadata": {
            "tags": [],
            "needs_background": "light"
          }
        }
      ]
    },
    {
      "cell_type": "code",
      "metadata": {
        "id": "n0uDUb3iLXj6"
      },
      "source": [
        "i_antiguedad[:,0]"
      ],
      "execution_count": null,
      "outputs": []
    },
    {
      "cell_type": "code",
      "metadata": {
        "id": "EGGqFoXGfw_r",
        "outputId": "35247710-4775-4245-b352-d1f3e29eb7d7",
        "colab": {
          "base_uri": "https://localhost:8080/",
          "height": 282
        }
      },
      "source": [
        "# 0 -> Negro\n",
        "# 1 -> Rojo\n",
        "# 2 -> Naranja\n",
        "# 3 -> Amarillo \n",
        "# 4 -> Azul\n",
        "# 5 -> Violeta \n",
        "# 6 -> Verde\n",
        "\n",
        "plt.scatter(x_mes[ c0[:,0]==1 , 0 ], Y[ c0[:,0]==1 , 0 ], \n",
        "            c=\"black\", marker='^', alpha=0.5)  \n",
        "plt.scatter(x_mes[ c1[:,0]==1 , 0 ], Y[ c1[:,0]==1 , 0 ], \n",
        "            c=\"red\", marker='^', alpha=0.5)  \n",
        "plt.scatter(x_mes[ c2[:,0]==1 , 0 ], Y[ c2[:,0]==1 , 0 ], \n",
        "            c=\"orange\", marker='^', alpha=0.5)  \n",
        "plt.scatter(x_mes[ c3[:,0]==1 , 0 ], Y[ c3[:,0]==1 , 0 ], \n",
        "            c=\"salmon\", marker='^', alpha=0.5)  \n",
        "plt.scatter(x_mes[ c4[:,0]==1 , 0 ], Y[ c4[:,0]==1 , 0 ], \n",
        "            c=\"blue\", marker='^', alpha=0.5)  \n",
        "plt.scatter(x_mes[ c5[:,0]==1 , 0 ], Y[ c5[:,0]==1 , 0 ], \n",
        "            c=\"violet\", marker='^', alpha=0.5)  \n",
        "plt.scatter(x_mes[ c6[:,0]==1 , 0 ], Y[ c6[:,0]==1 , 0 ], \n",
        "            c=\"green\", marker='^', alpha=0.5)  "
      ],
      "execution_count": null,
      "outputs": [
        {
          "output_type": "execute_result",
          "data": {
            "text/plain": [
              "<matplotlib.collections.PathCollection at 0x7fc891ac54e0>"
            ]
          },
          "metadata": {
            "tags": []
          },
          "execution_count": 236
        },
        {
          "output_type": "display_data",
          "data": {
            "image/png": "[encoded data removed]",
            "text/plain": [
              "<Figure size 432x288 with 1 Axes>"
            ]
          },
          "metadata": {
            "tags": [],
            "needs_background": "light"
          }
        }
      ]
    },
    {
      "cell_type": "code",
      "metadata": {
        "id": "jhXkWbBQFxEu"
      },
      "source": [
        "c4[:,0]"
      ],
      "execution_count": null,
      "outputs": []
    },
    {
      "cell_type": "markdown",
      "metadata": {
        "id": "zPAqqmtHFw5k"
      },
      "source": [
        ""
      ]
    },
    {
      "cell_type": "code",
      "metadata": {
        "id": "aGhtYHLm7CJn"
      },
      "source": [
        "\n",
        "\n",
        "plt.scatter(x_mes[ c0[:,0]==1 , 0 ], Y[ c0[:,0]==1 , 0 ], \n",
        "            c=\"black\", marker='^', alpha=0.5) # 2019 -> i_año(0)\n",
        "plt.scatter(x_mes[ c1[:,0]==1 , 0 ], Y[ c1[:,0]==1 , 0 ], \n",
        "            c=\"red\", marker='^', alpha=0.5) # 2019 -> i_año(0)\n",
        "plt.scatter(x_mes[ c2[:,0]==1 , 0 ], Y[ c2[:,0]==1 , 0 ], \n",
        "            c=\"orange\", marker='^', alpha=0.5) # 2019 -> i_año(0)\n",
        "plt.scatter(x_mes[ c3[:,0]==1 , 0 ], Y[ c3[:,0]==1 , 0 ], \n",
        "            c=\"salmon\", marker='^', alpha=0.5) # 2019 -> i_año(0)\n",
        "plt.scatter(x_mes[ c4[:,0]==1 , 0 ], Y[ c4[:,0]==1 , 0 ], \n",
        "            c=\"blue\", marker='^', alpha=0.5) # 2019 -> i_año(0)\n",
        "plt.scatter(x_mes[ c5[:,0]==1 , 0 ], Y[ c5[:,0]==1 , 0 ], \n",
        "            c=\"violet\", marker='^', alpha=0.5) # 2019 -> i_año(0)\n",
        "plt.scatter(x_mes[ c6[:,0]==1 , 0 ], Y[ c6[:,0]==1 , 0 ], \n",
        "            c=\"green\", marker='^', alpha=0.5) # 2019 -> i_año(0)\n",
        "\n",
        "plt.scatter(x_mes[ c7[:,0]==1 , 0 ], Y[ c7[:,0]==1 , 0 ], \n",
        "            c=\"black\", marker='o', alpha=0.5) # 2020 -> i_año(1)\n",
        "plt.scatter(x_mes[ c8[:,0]==1 , 0 ], Y[ c8[:,0]==1 , 0 ], \n",
        "            c=\"red\", marker='o', alpha=0.5) # 2020 -> i_año(1)\n",
        "plt.scatter(x_mes[ c9[:,0]==1 , 0 ], Y[ c9[:,0]==1 , 0 ], \n",
        "            c=\"orange\", marker='o', alpha=0.5) # 2020 -> i_año(1)\n",
        "plt.scatter(x_mes[ c10[:,0]==1 , 0 ], Y[ c10[:,0]==1 , 0 ], \n",
        "            c=\"salmon\", marker='o', alpha=0.5) # 2020 -> i_año(1)\n",
        "plt.scatter(x_mes[ c11[:,0]==1 , 0 ], Y[ c11[:,0]==1 , 0 ], \n",
        "            c=\"blue\", marker='o', alpha=0.5) # 2020 -> i_año(1)\n",
        "plt.scatter(x_mes[ c12[:,0]==1 , 0 ], Y[ c12[:,0]==1 , 0 ], \n",
        "            c=\"violet\", marker='o', alpha=0.5) # 2020 -> i_año(1)\n",
        "plt.scatter(x_mes[ c13[:,0]==1 , 0 ], Y[ c13[:,0]==1 , 0 ], \n",
        "            c=\"green\", marker='o', alpha=0.5) # 2020 -> i_año(1)\n",
        "\n",
        "# 0 -> Negro\n",
        "# 1 -> Rojo\n",
        "# 2 -> Naranja\n",
        "# 3 -> Amarillo \n",
        "# 4 -> Azul\n",
        "# 5 -> Violeta \n",
        "# 6 -> Verde\n",
        "\n",
        "plt.xlabel('Mes')\n",
        "plt.ylabel('Cantidad')\n",
        "plt.title('Bajas por antiguedad')\n",
        "plt.show()\n",
        "\n",
        "\n",
        "plt.scatter(x_mes[ c0[:,0]==1 , 0 ], Y[ c0[:,0]==1 , 0 ], \n",
        "            c=\"black\", marker='^', alpha=0.5) # 2019 -> i_año(0)\n",
        "\n",
        "plt.scatter(x_mes[ c7[:,0]==1 , 0 ], Y[ c7[:,0]==1 , 0 ], \n",
        "            c=\"black\", marker='o', alpha=0.5) # 2020 -> i_año(1)\n",
        "\n",
        "plt.xlabel('Mes')\n",
        "plt.ylabel('Cantidad')\n",
        "plt.title('Bajas por antiguedad -0 años-')\n",
        "plt.show()\n",
        "\n",
        "\n",
        "\n",
        "plt.scatter(x_mes[ c1[:,0]==1 , 0 ], Y[ c1[:,0]==1 , 0 ], \n",
        "            c=\"red\", marker='^', alpha=0.5) # 2019 -> i_año(0)\n",
        "\n",
        "plt.scatter(x_mes[ c8[:,0]==1 , 0 ], Y[ c8[:,0]==1 , 0 ], \n",
        "            c=\"red\", marker='o', alpha=0.5) # 2020 -> i_año(1)\n",
        "\n",
        "plt.xlabel('Mes')\n",
        "plt.ylabel('Cantidad')\n",
        "plt.title('Bajas por antiguedad -1 años-')\n",
        "plt.show()\n",
        "\n",
        "\n",
        "\n",
        "plt.scatter(x_mes[ c2[:,0]==1 , 0 ], Y[ c2[:,0]==1 , 0 ], \n",
        "            c=\"orange\", marker='^', alpha=0.5) # 2019 -> i_año(0)\n",
        "\n",
        "plt.scatter(x_mes[ c9[:,0]==1 , 0 ], Y[ c9[:,0]==1 , 0 ], \n",
        "            c=\"orange\", marker='o', alpha=0.5) # 2020 -> i_año(1)\n",
        "\n",
        "plt.xlabel('Mes')\n",
        "plt.ylabel('Cantidad')\n",
        "plt.title('Bajas por antiguedad -2 años-')\n",
        "plt.show()\n",
        "\n",
        "\n",
        "\n",
        "plt.scatter(x_mes[ c3[:,0]==1 , 0 ], Y[ c3[:,0]==1 , 0 ], \n",
        "            c=\"salmon\", marker='^', alpha=0.5) # 2019 -> i_año(0)\n",
        "\n",
        "plt.scatter(x_mes[ c10[:,0]==1 , 0 ], Y[ c10[:,0]==1 , 0 ], \n",
        "            c=\"salmon\", marker='o', alpha=0.5) # 2020 -> i_año(1)\n",
        "\n",
        "plt.xlabel('Mes')\n",
        "plt.ylabel('Cantidad')\n",
        "plt.title('Bajas por antiguedad -3 años-')\n",
        "plt.show()\n",
        "\n",
        "\n",
        "\n",
        "plt.scatter(x_mes[ c4[:,0]==1 , 0 ], Y[ c4[:,0]==1 , 0 ], \n",
        "            c=\"blue\", marker='^', alpha=0.5) # 2019 -> i_año(0)\n",
        "\n",
        "plt.scatter(x_mes[ c11[:,0]==1 , 0 ], Y[ c11[:,0]==1 , 0 ], \n",
        "            c=\"blue\", marker='o', alpha=0.5) # 2020 -> i_año(1)\n",
        "\n",
        "plt.xlabel('Mes')\n",
        "plt.ylabel('Cantidad')\n",
        "plt.title('Bajas por antiguedad -4 años-')\n",
        "plt.show()\n",
        "\n",
        "\n",
        "\n",
        "plt.scatter(x_mes[ c5[:,0]==1 , 0 ], Y[ c5[:,0]==1 , 0 ], \n",
        "            c=\"violet\", marker='^', alpha=0.5) # 2019 -> i_año(0)\n",
        "\n",
        "plt.scatter(x_mes[ c12[:,0]==1 , 0 ], Y[ c12[:,0]==1 , 0 ], \n",
        "            c=\"violet\", marker='o', alpha=0.5) # 2020 -> i_año(1)\n",
        "\n",
        "plt.xlabel('Mes')\n",
        "plt.ylabel('Cantidad')\n",
        "plt.title('Bajas por antiguedad -5 años-')\n",
        "plt.show()\n",
        "\n",
        "\n",
        "\n",
        "plt.scatter(x_mes[ c6[:,0]==1 , 0 ], Y[ c6[:,0]==1 , 0 ], \n",
        "            c=\"green\", marker='^', alpha=0.5) # 2019 -> i_año(0)\n",
        "\n",
        "plt.scatter(x_mes[ c13[:,0]==1 , 0 ], Y[ c13[:,0]==1 , 0 ], \n",
        "            c=\"green\", marker='o', alpha=0.5) # 2020 -> i_año(1)\n",
        "\n",
        "plt.xlabel('Mes')\n",
        "plt.ylabel('Cantidad')\n",
        "plt.title('Bajas por antiguedad -mas de 5 años-')\n",
        "plt.show()"
      ],
      "execution_count": null,
      "outputs": []
    },
    {
      "cell_type": "markdown",
      "metadata": {
        "id": "hpFu72_s7-mj"
      },
      "source": [
        "## Modelo Polinómico"
      ]
    },
    {
      "cell_type": "code",
      "metadata": {
        "id": "A22ITLBX8C9W"
      },
      "source": [
        "from sklearn.model_selection import train_test_split\n",
        "from sklearn.linear_model import LinearRegression\n",
        "from sklearn.preprocessing import PolynomialFeatures \n",
        "from sklearn.metrics import accuracy_score"
      ],
      "execution_count": null,
      "outputs": []
    },
    {
      "cell_type": "code",
      "metadata": {
        "id": "G5BKDtaa8EY5",
        "outputId": "cbbb0afb-efc6-4bb8-e4c9-56fc60b3a15f",
        "colab": {
          "base_uri": "https://localhost:8080/",
          "height": 1000
        }
      },
      "source": [
        "# 2019 - 1 año de antiguedad\n",
        "x  = x_mes[ c1[:,0]==1 , 0 ]\n",
        "y  = Y    [ c1[:,0]==1 , 0 ]\n",
        "\n",
        "x  = x[:,np.newaxis]\n",
        "y  = y[:,np.newaxis]\n",
        "x_train, x_test, y_train, y_test = train_test_split(x, y, \n",
        "                                                    test_size = 0.3, \n",
        "                                                    random_state = 0)\n",
        "\n",
        "gra_poly = 3 # grado del polinomio \n",
        "\n",
        "pf      = PolynomialFeatures(degree = gra_poly)    \n",
        "X_poly  = pf.fit_transform(x_train.reshape(-1,1))  \n",
        "regresion_lineal = LinearRegression() \n",
        "  \n",
        "modelo1 = regresion_lineal.fit(X_poly, y_train) \n",
        "\n",
        "print(\"\\n\" + 'w = ' + str(modelo1.coef_) + ', b = ' + str(modelo1.intercept_))\n",
        "\n",
        "# Train - Exactitud\n",
        "x_ = x_train\n",
        "y_ = y_train\n",
        "x_ = pf.fit_transform(x_.reshape(-1,1))\n",
        "y_predict_train = modelo1.predict(x_)\n",
        "print(\"\\n\"+\"2019 - score_train = \"+str(modelo1.score(x_,y_))+\"\\n\")\n",
        "\n",
        "# Test - Exactitud\n",
        "x__            = x_test\n",
        "y__            = y_test\n",
        "x__            = pf.fit_transform(x__.reshape(-1,1))\n",
        "y_predict_test = modelo1.predict(x__)\n",
        "print(\"2019 - score_test  = \"+str(modelo1.score(x__,y__))+\"\\n\")\n",
        "\n",
        "plt.scatter(x_train, y_train, c='red', marker='^', alpha=0.5)\n",
        "plt.scatter(x_test , y_test , c='red', marker='*', alpha=0.5)\n",
        "plt.scatter(x_train, y_predict_train, c='green', marker='o', alpha=0.3)\n",
        "plt.scatter(x_test , y_predict_test , c='green', marker='o', alpha=0.3)\n",
        "plt.xlabel('Mes')\n",
        "plt.ylabel('Cantidad')\n",
        "plt.title('Bajas por antiguedad -2019 - 1 año de antiguedad-')\n",
        "plt.show()\n",
        "\n",
        "# 2020 - 1 año de antiguedad\n",
        "x  = x_mes[ c8[:,0]==1 , 0 ]\n",
        "y  = Y    [ c8[:,0]==1 , 0 ]\n",
        "\n",
        "x  = x[:,np.newaxis]\n",
        "y  = y[:,np.newaxis]\n",
        "x_train, x_test, y_train, y_test = train_test_split(x, y, \n",
        "                                                    test_size = 0.3, \n",
        "                                                    random_state = 0)\n",
        "\n",
        "gra_poly = 2 # grado del polinomio \n",
        "\n",
        "pf      = PolynomialFeatures(degree = gra_poly)    \n",
        "X_poly  = pf.fit_transform(x_train.reshape(-1,1))  \n",
        "regresion_lineal = LinearRegression() \n",
        "  \n",
        "modelo2 = regresion_lineal.fit(X_poly, y_train) \n",
        "\n",
        "print(\"\\n\" + 'w = ' + str(modelo2.coef_) + ', b = ' + str(modelo2.intercept_))\n",
        "\n",
        "# Train - Exactitud\n",
        "x_ = x_train\n",
        "y_ = y_train\n",
        "x_ = pf.fit_transform(x_.reshape(-1,1))\n",
        "y_predict_train = modelo2.predict(x_)\n",
        "print(\"\\n\"+\"2020 - score_train = \"+str(modelo2.score(x_,y_))+\"\\n\")\n",
        "\n",
        "# Test - Exactitud\n",
        "x__            = x_test\n",
        "y__            = y_test\n",
        "x__            = pf.fit_transform(x__.reshape(-1,1))\n",
        "y_predict_test = modelo2.predict(x__)\n",
        "print(\"2020 - score_test  = \"+str(modelo2.score(x__,y__))+\"\\n\")\n",
        "\n",
        "plt.scatter(x_train, y_train, c='blue', marker='^', alpha=0.5)\n",
        "plt.scatter(x_test , y_test , c='blue', marker='*', alpha=0.5)\n",
        "plt.scatter(x_train, y_predict_train, c='black', marker='o', alpha=0.3)\n",
        "plt.scatter(x_test , y_predict_test , c='black', marker='o', alpha=0.3)\n",
        "plt.xlabel('Mes')\n",
        "plt.ylabel('Cantidad')\n",
        "plt.title('Bajas por antiguedad -2020 - 1 año de antiguedad-')\n",
        "\n",
        "\n",
        "#% mes < agosto >\n",
        "v_pr = [8] # valor a predecir\n",
        "\n",
        "v_pr = np.array(v_pr)\n",
        "v_pr = v_pr[:,np.newaxis]\n",
        "x_pr = pf.fit_transform(v_pr.reshape(-1,1))\n",
        "\n",
        "# y_pr1= modelo1.predict(x_pr)\n",
        "y_pr2= modelo2.predict(x_pr)\n",
        "print(\"\\n\"+\"La cantidad de bajas para el mes \"+str(v_pr[0][0])+\n",
        "      \" de 2020 es -> \"+str(y_pr2[0][0]))\n",
        "\n",
        "plt.scatter(v_pr, y_pr2, c='violet', marker='o', alpha=1)\n",
        "plt.show()\n",
        "\n",
        "# 2019 - 1 año de antiguedad\n",
        "x  = x_mes[ c1[:,0]==1 , 0 ]\n",
        "y  = Y    [ c1[:,0]==1 , 0 ]\n",
        "\n",
        "x  = x[:,np.newaxis]\n",
        "y  = y[:,np.newaxis]\n",
        "x_train, x_test, y_train, y_test = train_test_split(x, y, \n",
        "                                                    test_size = 0.3, \n",
        "                                                    random_state = 0)\n",
        "\n",
        "gra_poly = 3 # grado del polinomio \n",
        "\n",
        "pf      = PolynomialFeatures(degree = gra_poly)    \n",
        "X_poly  = pf.fit_transform(x_train.reshape(-1,1))  \n",
        "regresion_lineal = LinearRegression() \n",
        "  \n",
        "modelo1 = regresion_lineal.fit(X_poly, y_train) \n",
        "\n",
        "print(\"\\n\" + 'w = ' + str(modelo1.coef_) + ', b = ' + str(modelo1.intercept_))\n",
        "\n",
        "# Train - Exactitud\n",
        "x_ = x_train\n",
        "y_ = y_train\n",
        "x_ = pf.fit_transform(x_.reshape(-1,1))\n",
        "y_predict_train = modelo1.predict(x_)\n",
        "print(\"\\n\"+\"2019 - score_train = \"+str(modelo1.score(x_,y_))+\"\\n\")\n",
        "\n",
        "# Test - Exactitud\n",
        "x__            = x_test\n",
        "y__            = y_test\n",
        "x__            = pf.fit_transform(x__.reshape(-1,1))\n",
        "y_predict_test = modelo1.predict(x__)\n",
        "print(\"2019 - score_test  = \"+str(modelo1.score(x__,y__))+\"\\n\")\n",
        "\n",
        "plt.scatter(x_train, y_train, c='red', marker='^', alpha=0.5)\n",
        "plt.scatter(x_test , y_test , c='red', marker='*', alpha=0.5)\n",
        "plt.scatter(x_train, y_predict_train, c='green', marker='o', alpha=0.3)\n",
        "plt.scatter(x_test , y_predict_test , c='green', marker='o', alpha=0.3)\n",
        "\n",
        "\n",
        "# 2020 - 1 año de antiguedad\n",
        "x  = x_mes[ c8[:,0]==1 , 0 ]\n",
        "y  = Y    [ c8[:,0]==1 , 0 ]\n",
        "\n",
        "x  = x[:,np.newaxis]\n",
        "y  = y[:,np.newaxis]\n",
        "x_train, x_test, y_train, y_test = train_test_split(x, y, \n",
        "                                                    test_size = 0.3, \n",
        "                                                    random_state = 0)\n",
        "\n",
        "gra_poly = 2 # grado del polinomio \n",
        "\n",
        "pf      = PolynomialFeatures(degree = gra_poly)    \n",
        "X_poly  = pf.fit_transform(x_train.reshape(-1,1))  \n",
        "regresion_lineal = LinearRegression() \n",
        "  \n",
        "modelo2 = regresion_lineal.fit(X_poly, y_train) \n",
        "\n",
        "print(\"\\n\" + 'w = ' + str(modelo2.coef_) + ', b = ' + str(modelo2.intercept_))\n",
        "\n",
        "# Train - Exactitud\n",
        "x_ = x_train\n",
        "y_ = y_train\n",
        "x_ = pf.fit_transform(x_.reshape(-1,1))\n",
        "y_predict_train = modelo2.predict(x_)\n",
        "print(\"\\n\"+\"2020 - score_train = \"+str(modelo2.score(x_,y_))+\"\\n\")\n",
        "\n",
        "# Test - Exactitud\n",
        "x__            = x_test\n",
        "y__            = y_test\n",
        "x__            = pf.fit_transform(x__.reshape(-1,1))\n",
        "y_predict_test = modelo2.predict(x__)\n",
        "print(\"2020 - score_test  = \"+str(modelo2.score(x__,y__))+\"\\n\")\n",
        "\n",
        "plt.scatter(x_train, y_train, c='blue', marker='^', alpha=0.5)\n",
        "plt.scatter(x_test , y_test , c='blue', marker='*', alpha=0.5)\n",
        "plt.scatter(x_train, y_predict_train, c='black', marker='o', alpha=0.3)\n",
        "plt.scatter(x_test , y_predict_test , c='black', marker='o', alpha=0.3)\n",
        "plt.xlabel('Mes')\n",
        "plt.ylabel('Cantidad')\n",
        "plt.title('Bajas por antiguedad -2019,2020 - 1 año de antiguedad-')\n",
        "\n",
        "\n",
        "#% mes < agosto >\n",
        "v_pr = [8] # valor a predecir\n",
        "\n",
        "v_pr = np.array(v_pr)\n",
        "v_pr = v_pr[:,np.newaxis]\n",
        "x_pr = pf.fit_transform(v_pr.reshape(-1,1))\n",
        "\n",
        "# y_pr1= modelo1.predict(x_pr)\n",
        "y_pr2= modelo2.predict(x_pr)\n",
        "print(\"\\n\"+\"La cantidad de bajas para el mes \"+str(v_pr[0][0])+\n",
        "      \" de 2020 es -> \"+str(y_pr2[0][0]))\n",
        "\n",
        "plt.scatter(v_pr, y_pr2, c='violet', marker='o', alpha=1)\n",
        "\n",
        "#% mes < septiembre >\n",
        "v_pr = [9] # valor a predecir\n",
        "\n",
        "v_pr = np.array(v_pr)\n",
        "v_pr = v_pr[:,np.newaxis]\n",
        "x_pr = pf.fit_transform(v_pr.reshape(-1,1))\n",
        "\n",
        "# y_pr1= modelo1.predict(x_pr)\n",
        "y_pr2= modelo2.predict(x_pr)\n",
        "print(\"\\n\"+\"La cantidad de bajas para el mes \"+str(v_pr[0][0])+\n",
        "      \" de 2020 es -> \"+str(y_pr2[0][0]))\n",
        "\n",
        "plt.scatter(v_pr, y_pr2, c='violet', marker='o', alpha=1)\n",
        "\n",
        "#% mes < octubre >\n",
        "v_pr = [10] # valor a predecir\n",
        "\n",
        "v_pr = np.array(v_pr)\n",
        "v_pr = v_pr[:,np.newaxis]\n",
        "x_pr = pf.fit_transform(v_pr.reshape(-1,1))\n",
        "\n",
        "# y_pr1= modelo1.predict(x_pr)\n",
        "y_pr2= modelo2.predict(x_pr)\n",
        "print(\"\\n\"+\"La cantidad de bajas para el mes \"+str(v_pr[0][0])+\n",
        "      \" de 2020 es -> \"+str(y_pr2[0][0]))\n",
        "\n",
        "plt.scatter(v_pr, y_pr2, c='violet', marker='o', alpha=1)\n",
        "\n",
        "#% mes < noviembre >\n",
        "v_pr = [11] # valor a predecir\n",
        "\n",
        "v_pr = np.array(v_pr)\n",
        "v_pr = v_pr[:,np.newaxis]\n",
        "x_pr = pf.fit_transform(v_pr.reshape(-1,1))\n",
        "\n",
        "# y_pr1= modelo1.predict(x_pr)\n",
        "y_pr2= modelo2.predict(x_pr)\n",
        "print(\"\\n\"+\"La cantidad de bajas para el mes \"+str(v_pr[0][0])+\n",
        "      \" de 2020 es -> \"+str(y_pr2[0][0]))\n",
        "\n",
        "plt.scatter(v_pr, y_pr2, c='violet', marker='o', alpha=1)\n",
        "\n",
        "#% mes < diciembre >\n",
        "v_pr = [12] # valor a predecir\n",
        "\n",
        "v_pr = np.array(v_pr)\n",
        "v_pr = v_pr[:,np.newaxis]\n",
        "x_pr = pf.fit_transform(v_pr.reshape(-1,1))\n",
        "\n",
        "# y_pr1= modelo1.predict(x_pr)\n",
        "y_pr2= modelo2.predict(x_pr)\n",
        "print(\"\\n\"+\"La cantidad de bajas para el mes \"+str(v_pr[0][0])+\n",
        "      \" de 2020 es -> \"+str(y_pr2[0][0]))\n",
        "\n",
        "plt.scatter(v_pr, y_pr2, c='violet', marker='o', alpha=1)\n",
        "plt.show()\n"
      ],
      "execution_count": null,
      "outputs": [
        {
          "output_type": "stream",
          "text": [
            "\n",
            "w = [[  0.          63.01080691 -20.68312089   1.18875071]], b = [660.05072305]\n",
            "\n",
            "2019 - score_train = 0.6251180340597025\n",
            "\n",
            "2019 - score_test  = 0.9903010867842832\n",
            "\n"
          ],
          "name": "stdout"
        },
        {
          "output_type": "display_data",
          "data": {
            "image/png": "[encoded data removed]",
            "text/plain": [
              "<Figure size 432x288 with 1 Axes>"
            ]
          },
          "metadata": {
            "tags": [],
            "needs_background": "light"
          }
        },
        {
          "output_type": "stream",
          "text": [
            "\n",
            "w = [[   0.         -121.08974359   13.16666667]], b = [744.73076923]\n",
            "\n",
            "2020 - score_train = 0.4820072352316792\n",
            "\n",
            "2020 - score_test  = 0.29014190936924145\n",
            "\n",
            "\n",
            "La cantidad de bajas para el mes 8 de 2020 es -> 618.6794871794858\n"
          ],
          "name": "stdout"
        },
        {
          "output_type": "display_data",
          "data": {
            "image/png": "[encoded data removed]",
            "text/plain": [
              "<Figure size 432x288 with 1 Axes>"
            ]
          },
          "metadata": {
            "tags": [],
            "needs_background": "light"
          }
        },
        {
          "output_type": "stream",
          "text": [
            "\n",
            "w = [[  0.          63.01080691 -20.68312089   1.18875071]], b = [660.05072305]\n",
            "\n",
            "2019 - score_train = 0.6251180340597025\n",
            "\n",
            "2019 - score_test  = 0.9903010867842832\n",
            "\n",
            "\n",
            "w = [[   0.         -121.08974359   13.16666667]], b = [744.73076923]\n",
            "\n",
            "2020 - score_train = 0.4820072352316792\n",
            "\n",
            "2020 - score_test  = 0.29014190936924145\n",
            "\n",
            "\n",
            "La cantidad de bajas para el mes 8 de 2020 es -> 618.6794871794858\n",
            "\n",
            "La cantidad de bajas para el mes 9 de 2020 es -> 721.4230769230753\n",
            "\n",
            "La cantidad de bajas para el mes 10 de 2020 es -> 850.4999999999977\n",
            "\n",
            "La cantidad de bajas para el mes 11 de 2020 es -> 1005.9102564102536\n",
            "\n",
            "La cantidad de bajas para el mes 12 de 2020 es -> 1187.6538461538428\n"
          ],
          "name": "stdout"
        },
        {
          "output_type": "display_data",
          "data": {
            "image/png": "[encoded data removed]",
            "text/plain": [
              "<Figure size 432x288 with 1 Axes>"
            ]
          },
          "metadata": {
            "tags": [],
            "needs_background": "light"
          }
        }
      ]
    }
  ]
}