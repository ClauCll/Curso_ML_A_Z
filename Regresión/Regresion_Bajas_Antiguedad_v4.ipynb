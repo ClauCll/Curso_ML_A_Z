{
  "nbformat": 4,
  "nbformat_minor": 0,
  "metadata": {
    "colab": {
      "name": "Untitled1.ipynb",
      "provenance": [],
      "include_colab_link": true
    },
    "kernelspec": {
      "name": "python3",
      "display_name": "Python 3"
    }
  },
  "cells": [
    {
      "cell_type": "markdown",
      "metadata": {
        "id": "view-in-github",
        "colab_type": "text"
      },
      "source": [
        "<a href=\"https://colab.research.google.com/github/ClauCll/Curso_ML_A_Z/blob/master/Regresi%C3%B3n/Regresion_Bajas_Antiguedad_v4.ipynb\" target=\"_parent\"><img src=\"https://colab.research.google.com/assets/colab-badge.svg\" alt=\"Open In Colab\"/></a>"
      ]
    },
    {
      "cell_type": "markdown",
      "metadata": {
        "id": "-J3qDXeFwvSb"
      },
      "source": [
        "## Cuantas serán las bajas voluntarias de los clientes fijos para el periodo 202009 - 202012\n",
        " "
      ]
    },
    {
      "cell_type": "code",
      "metadata": {
        "id": "Vsqlhqgww1BG"
      },
      "source": [
        "import pandas as pd\n",
        "import numpy as np\n",
        "\n",
        "#Gráfico\n",
        "from mpl_toolkits.mplot3d import axes3d\n",
        "import matplotlib.pyplot as plt \n",
        "from matplotlib import style\n",
        "import matplotlib.ticker as ticker\n",
        "import seaborn as sns\n",
        "\n",
        "import gspread\n",
        "from oauth2client.client import GoogleCredentials \n",
        "from google.colab import auth\n",
        "# Autoriza Claudia\n",
        "auth.authenticate_user()\n",
        "gc = gspread.authorize (GoogleCredentials.get_application_default())"
      ],
      "execution_count": 63,
      "outputs": []
    },
    {
      "cell_type": "markdown",
      "metadata": {
        "id": "2xAoqlB_02Do"
      },
      "source": [
        "### leemos datos"
      ]
    },
    {
      "cell_type": "code",
      "metadata": {
        "id": "y_VVpj56uzRV",
        "outputId": "fb2ef50f-7bfa-450a-d905-69c342a1fc50",
        "colab": {
          "base_uri": "https://localhost:8080/",
          "height": 55
        }
      },
      "source": [
        "from google.colab import drive\n",
        "drive.mount('/content/drive')"
      ],
      "execution_count": 64,
      "outputs": [
        {
          "output_type": "stream",
          "text": [
            "Drive already mounted at /content/drive; to attempt to forcibly remount, call drive.mount(\"/content/drive\", force_remount=True).\n"
          ],
          "name": "stdout"
        }
      ]
    },
    {
      "cell_type": "code",
      "metadata": {
        "id": "0JYqth2Ty8-k",
        "outputId": "ced7d38c-4934-4a07-b949-ae3e8bf9c097",
        "colab": {
          "base_uri": "https://localhost:8080/",
          "height": 72
        }
      },
      "source": [
        "data = pd.read_csv('/content/drive/My Drive/Dataset/BAJAS.txt',delimiter='~')\n",
        "data.MES_BAJA = data.MES_BAJA.astype(\"str\")\n",
        "data.ANIO_BAJA = data.ANIO_BAJA.astype(\"str\")\n",
        "X  = data.iloc[:,:-1].values\n",
        "Y  = data.iloc[:,9]\n",
        "Y = Y[:,np.newaxis]"
      ],
      "execution_count": 65,
      "outputs": [
        {
          "output_type": "stream",
          "text": [
            "/usr/local/lib/python3.6/dist-packages/ipykernel_launcher.py:6: FutureWarning: Support for multi-dimensional indexing (e.g. `obj[:, None]`) is deprecated and will be removed in a future version.  Convert to a numpy array before indexing instead.\n",
            "  \n"
          ],
          "name": "stderr"
        }
      ]
    },
    {
      "cell_type": "code",
      "metadata": {
        "id": "Ebh_hcBvresE",
        "outputId": "bd6125f8-2e43-4dff-845f-92643291f521",
        "colab": {
          "base_uri": "https://localhost:8080/",
          "height": 635
        }
      },
      "source": [
        "pd.DataFrame(X)"
      ],
      "execution_count": 60,
      "outputs": [
        {
          "output_type": "execute_result",
          "data": {
            "text/html": [
              "<div>\n",
              "<style scoped>\n",
              "    .dataframe tbody tr th:only-of-type {\n",
              "        vertical-align: middle;\n",
              "    }\n",
              "\n",
              "    .dataframe tbody tr th {\n",
              "        vertical-align: top;\n",
              "    }\n",
              "\n",
              "    .dataframe thead th {\n",
              "        text-align: right;\n",
              "    }\n",
              "</style>\n",
              "<table border=\"1\" class=\"dataframe\">\n",
              "  <thead>\n",
              "    <tr style=\"text-align: right;\">\n",
              "      <th></th>\n",
              "      <th>0</th>\n",
              "      <th>1</th>\n",
              "      <th>2</th>\n",
              "      <th>3</th>\n",
              "      <th>4</th>\n",
              "      <th>5</th>\n",
              "      <th>6</th>\n",
              "      <th>7</th>\n",
              "      <th>8</th>\n",
              "    </tr>\n",
              "  </thead>\n",
              "  <tbody>\n",
              "    <tr>\n",
              "      <th>0</th>\n",
              "      <td>2019</td>\n",
              "      <td>2</td>\n",
              "      <td>43</td>\n",
              "      <td>22</td>\n",
              "      <td>45</td>\n",
              "      <td>374</td>\n",
              "      <td>980</td>\n",
              "      <td>496</td>\n",
              "      <td>1</td>\n",
              "    </tr>\n",
              "    <tr>\n",
              "      <th>1</th>\n",
              "      <td>2019</td>\n",
              "      <td>12</td>\n",
              "      <td>42</td>\n",
              "      <td>19</td>\n",
              "      <td>15</td>\n",
              "      <td>181</td>\n",
              "      <td>603</td>\n",
              "      <td>1470</td>\n",
              "      <td>105</td>\n",
              "    </tr>\n",
              "    <tr>\n",
              "      <th>2</th>\n",
              "      <td>2019</td>\n",
              "      <td>1</td>\n",
              "      <td>39</td>\n",
              "      <td>27</td>\n",
              "      <td>36</td>\n",
              "      <td>297</td>\n",
              "      <td>754</td>\n",
              "      <td>371</td>\n",
              "      <td>0</td>\n",
              "    </tr>\n",
              "    <tr>\n",
              "      <th>3</th>\n",
              "      <td>2019</td>\n",
              "      <td>10</td>\n",
              "      <td>29</td>\n",
              "      <td>15</td>\n",
              "      <td>17</td>\n",
              "      <td>134</td>\n",
              "      <td>470</td>\n",
              "      <td>294</td>\n",
              "      <td>19</td>\n",
              "    </tr>\n",
              "    <tr>\n",
              "      <th>4</th>\n",
              "      <td>2019</td>\n",
              "      <td>9</td>\n",
              "      <td>26</td>\n",
              "      <td>19</td>\n",
              "      <td>20</td>\n",
              "      <td>142</td>\n",
              "      <td>498</td>\n",
              "      <td>316</td>\n",
              "      <td>10</td>\n",
              "    </tr>\n",
              "    <tr>\n",
              "      <th>5</th>\n",
              "      <td>2019</td>\n",
              "      <td>5</td>\n",
              "      <td>43</td>\n",
              "      <td>29</td>\n",
              "      <td>29</td>\n",
              "      <td>306</td>\n",
              "      <td>741</td>\n",
              "      <td>396</td>\n",
              "      <td>4</td>\n",
              "    </tr>\n",
              "    <tr>\n",
              "      <th>6</th>\n",
              "      <td>2020</td>\n",
              "      <td>7</td>\n",
              "      <td>99</td>\n",
              "      <td>54</td>\n",
              "      <td>39</td>\n",
              "      <td>173</td>\n",
              "      <td>722</td>\n",
              "      <td>433</td>\n",
              "      <td>139</td>\n",
              "    </tr>\n",
              "    <tr>\n",
              "      <th>7</th>\n",
              "      <td>2019</td>\n",
              "      <td>6</td>\n",
              "      <td>20</td>\n",
              "      <td>28</td>\n",
              "      <td>19</td>\n",
              "      <td>216</td>\n",
              "      <td>658</td>\n",
              "      <td>343</td>\n",
              "      <td>8</td>\n",
              "    </tr>\n",
              "    <tr>\n",
              "      <th>8</th>\n",
              "      <td>2020</td>\n",
              "      <td>1</td>\n",
              "      <td>23</td>\n",
              "      <td>17</td>\n",
              "      <td>7</td>\n",
              "      <td>245</td>\n",
              "      <td>701</td>\n",
              "      <td>427</td>\n",
              "      <td>38</td>\n",
              "    </tr>\n",
              "    <tr>\n",
              "      <th>9</th>\n",
              "      <td>2019</td>\n",
              "      <td>3</td>\n",
              "      <td>44</td>\n",
              "      <td>31</td>\n",
              "      <td>26</td>\n",
              "      <td>289</td>\n",
              "      <td>746</td>\n",
              "      <td>396</td>\n",
              "      <td>2</td>\n",
              "    </tr>\n",
              "    <tr>\n",
              "      <th>10</th>\n",
              "      <td>2019</td>\n",
              "      <td>8</td>\n",
              "      <td>19</td>\n",
              "      <td>18</td>\n",
              "      <td>19</td>\n",
              "      <td>168</td>\n",
              "      <td>590</td>\n",
              "      <td>294</td>\n",
              "      <td>6</td>\n",
              "    </tr>\n",
              "    <tr>\n",
              "      <th>11</th>\n",
              "      <td>2019</td>\n",
              "      <td>7</td>\n",
              "      <td>20</td>\n",
              "      <td>33</td>\n",
              "      <td>14</td>\n",
              "      <td>159</td>\n",
              "      <td>637</td>\n",
              "      <td>332</td>\n",
              "      <td>6</td>\n",
              "    </tr>\n",
              "    <tr>\n",
              "      <th>12</th>\n",
              "      <td>2019</td>\n",
              "      <td>4</td>\n",
              "      <td>35</td>\n",
              "      <td>26</td>\n",
              "      <td>17</td>\n",
              "      <td>247</td>\n",
              "      <td>583</td>\n",
              "      <td>310</td>\n",
              "      <td>3</td>\n",
              "    </tr>\n",
              "    <tr>\n",
              "      <th>13</th>\n",
              "      <td>2020</td>\n",
              "      <td>3</td>\n",
              "      <td>51</td>\n",
              "      <td>17</td>\n",
              "      <td>23</td>\n",
              "      <td>190</td>\n",
              "      <td>726</td>\n",
              "      <td>452</td>\n",
              "      <td>74</td>\n",
              "    </tr>\n",
              "    <tr>\n",
              "      <th>14</th>\n",
              "      <td>2020</td>\n",
              "      <td>4</td>\n",
              "      <td>54</td>\n",
              "      <td>21</td>\n",
              "      <td>22</td>\n",
              "      <td>98</td>\n",
              "      <td>509</td>\n",
              "      <td>326</td>\n",
              "      <td>54</td>\n",
              "    </tr>\n",
              "    <tr>\n",
              "      <th>15</th>\n",
              "      <td>2020</td>\n",
              "      <td>2</td>\n",
              "      <td>34</td>\n",
              "      <td>15</td>\n",
              "      <td>18</td>\n",
              "      <td>312</td>\n",
              "      <td>869</td>\n",
              "      <td>526</td>\n",
              "      <td>42</td>\n",
              "    </tr>\n",
              "    <tr>\n",
              "      <th>16</th>\n",
              "      <td>2020</td>\n",
              "      <td>5</td>\n",
              "      <td>69</td>\n",
              "      <td>11</td>\n",
              "      <td>19</td>\n",
              "      <td>99</td>\n",
              "      <td>350</td>\n",
              "      <td>231</td>\n",
              "      <td>38</td>\n",
              "    </tr>\n",
              "    <tr>\n",
              "      <th>17</th>\n",
              "      <td>2019</td>\n",
              "      <td>11</td>\n",
              "      <td>35</td>\n",
              "      <td>19</td>\n",
              "      <td>22</td>\n",
              "      <td>153</td>\n",
              "      <td>484</td>\n",
              "      <td>294</td>\n",
              "      <td>11</td>\n",
              "    </tr>\n",
              "    <tr>\n",
              "      <th>18</th>\n",
              "      <td>2020</td>\n",
              "      <td>6</td>\n",
              "      <td>88</td>\n",
              "      <td>42</td>\n",
              "      <td>26</td>\n",
              "      <td>132</td>\n",
              "      <td>686</td>\n",
              "      <td>395</td>\n",
              "      <td>107</td>\n",
              "    </tr>\n",
              "  </tbody>\n",
              "</table>\n",
              "</div>"
            ],
            "text/plain": [
              "       0   1   2   3   4    5    6     7    8\n",
              "0   2019   2  43  22  45  374  980   496    1\n",
              "1   2019  12  42  19  15  181  603  1470  105\n",
              "2   2019   1  39  27  36  297  754   371    0\n",
              "3   2019  10  29  15  17  134  470   294   19\n",
              "4   2019   9  26  19  20  142  498   316   10\n",
              "5   2019   5  43  29  29  306  741   396    4\n",
              "6   2020   7  99  54  39  173  722   433  139\n",
              "7   2019   6  20  28  19  216  658   343    8\n",
              "8   2020   1  23  17   7  245  701   427   38\n",
              "9   2019   3  44  31  26  289  746   396    2\n",
              "10  2019   8  19  18  19  168  590   294    6\n",
              "11  2019   7  20  33  14  159  637   332    6\n",
              "12  2019   4  35  26  17  247  583   310    3\n",
              "13  2020   3  51  17  23  190  726   452   74\n",
              "14  2020   4  54  21  22   98  509   326   54\n",
              "15  2020   2  34  15  18  312  869   526   42\n",
              "16  2020   5  69  11  19   99  350   231   38\n",
              "17  2019  11  35  19  22  153  484   294   11\n",
              "18  2020   6  88  42  26  132  686   395  107"
            ]
          },
          "metadata": {
            "tags": []
          },
          "execution_count": 60
        }
      ]
    },
    {
      "cell_type": "code",
      "metadata": {
        "id": "zpEwNaSzfOFJ",
        "outputId": "64a9c84e-f7ce-4e11-bd2b-107612b1e60b",
        "colab": {
          "base_uri": "https://localhost:8080/",
          "height": 34
        }
      },
      "source": [
        "X.shape"
      ],
      "execution_count": 66,
      "outputs": [
        {
          "output_type": "execute_result",
          "data": {
            "text/plain": [
              "(19, 9)"
            ]
          },
          "metadata": {
            "tags": []
          },
          "execution_count": 66
        }
      ]
    },
    {
      "cell_type": "code",
      "metadata": {
        "id": "H6tu530mfBUz",
        "outputId": "5553c728-a5f4-4196-b138-48f8d3d070d6",
        "colab": {
          "base_uri": "https://localhost:8080/",
          "height": 244
        }
      },
      "source": [
        "# Gráfico relación entre el precio y cada cada variables cualitativas\n",
        "# ==============================================================================\n",
        "# Ajustar número de subplots en función del número de columnas\n",
        "fig, axes = plt.subplots(nrows=3, ncols=3, figsize=(12, 8))\n",
        "axes = axes.flat\n",
        "columnas_object = data.select_dtypes(include=['object']).columns\n",
        "\n",
        "for i, colum in enumerate(columnas_object):\n",
        "    sns.boxplot (\n",
        "        x     = colum,\n",
        "        y     = 'TOTAL_BAJAS',\n",
        "        data  = data,\n",
        "        color = \"white\",\n",
        "        ax    = axes[i]\n",
        "    )\n",
        "    axes[i].set_title(f\"Bajas vs {colum}\", fontsize = 8, fontweight = \"bold\")\n",
        "    axes[i].yaxis.set_major_locator(ticker.AutoLocator())\n",
        "    axes[i].tick_params(labelsize = 6)\n",
        "    axes[i].set_xlabel(\"\")\n",
        "    axes[i].set_ylabel(\"\")\n",
        "\n",
        "# Se eliminan los axes vacíos\n",
        "for i in [2,3,4,5,6,7,8]:\n",
        "   fig.delaxes(axes[i])\n",
        "    \n",
        "fig.tight_layout()\n",
        "plt.subplots_adjust(top=0.9)\n",
        "fig.suptitle('Distribución de Bajas por Categoría', fontsize = 10, fontweight = \"bold\");"
      ],
      "execution_count": 109,
      "outputs": [
        {
          "output_type": "display_data",
          "data": {
            "image/png": "[encoded data removed]",
            "text/plain": [
              "<Figure size 864x576 with 2 Axes>"
            ]
          },
          "metadata": {
            "tags": [],
            "needs_background": "light"
          }
        }
      ]
    },
    {
      "cell_type": "code",
      "metadata": {
        "id": "WehBFvYzgUuO"
      },
      "source": [
        "#pasamos las variables cualitativas a binarias\n",
        "from sklearn.preprocessing import LabelEncoder, OneHotEncoder\n",
        "from sklearn.compose import ColumnTransformer\n",
        "\n",
        "labelencoder= LabelEncoder()\n",
        "X[:,0]= labelencoder.fit_transform(X[:,0])\n",
        "X[:,1]= labelencoder.fit_transform(X[:,1])\n",
        "\n",
        "ct = ColumnTransformer([('one_hot_encoder',OneHotEncoder(categories='auto'),[0,1])],remainder='passthrough')\n",
        "X=np.array(ct.fit_transform(X),dtype=np.int)\n",
        "\n",
        "X = X[:,1:]\n"
      ],
      "execution_count": 47,
      "outputs": []
    },
    {
      "cell_type": "code",
      "metadata": {
        "id": "4N5oyNGCs3AO",
        "outputId": "8fe277a3-828f-40e2-91ba-f6f4df32b712",
        "colab": {
          "base_uri": "https://localhost:8080/",
          "height": 124
        }
      },
      "source": [
        "#selección de caracteristicas basadas en L1\n",
        "from sklearn.svm import LinearSVC\n",
        "from sklearn.feature_selection import SelectFromModel\n",
        "\n",
        "lsvc = LinearSVC(C=0.01, penalty=\"l1\", dual=False).fit(X, Y)\n",
        "model = SelectFromModel(lsvc, prefit=True)\n",
        "X2 = model.transform(X)\n",
        "X2.shape"
      ],
      "execution_count": 48,
      "outputs": [
        {
          "output_type": "stream",
          "text": [
            "/usr/local/lib/python3.6/dist-packages/sklearn/utils/validation.py:760: DataConversionWarning: A column-vector y was passed when a 1d array was expected. Please change the shape of y to (n_samples, ), for example using ravel().\n",
            "  y = column_or_1d(y, warn=True)\n",
            "/usr/local/lib/python3.6/dist-packages/sklearn/svm/_base.py:947: ConvergenceWarning: Liblinear failed to converge, increase the number of iterations.\n",
            "  \"the number of iterations.\", ConvergenceWarning)\n"
          ],
          "name": "stderr"
        },
        {
          "output_type": "execute_result",
          "data": {
            "text/plain": [
              "(19, 5)"
            ]
          },
          "metadata": {
            "tags": []
          },
          "execution_count": 48
        }
      ]
    },
    {
      "cell_type": "code",
      "metadata": {
        "id": "UNIg2PDVtL2I"
      },
      "source": [
        "pd.DataFrame(X2)"
      ],
      "execution_count": null,
      "outputs": []
    },
    {
      "cell_type": "code",
      "metadata": {
        "id": "4xNXrQvmqqCk"
      },
      "source": [
        "# Datos en entrenamiento y test.\n",
        "# ==============================================================================\n",
        "from sklearn.model_selection import train_test_split\n",
        "\n",
        "x_train, x_test, y_train, y_test = train_test_split(X2, Y,train_size = 0.8,\n",
        "                                        random_state = 1234,\n",
        "                                        shuffle      = True\n",
        "                                    )\n",
        "#escalamos los datos\n",
        "from sklearn.preprocessing import StandardScaler\n",
        "sc_x = StandardScaler()\n",
        "sc_y = StandardScaler()\n",
        "x_train = sc_x.fit_transform(x_train)\n",
        "y_train= sc_y.fit_transform(y_train)\n",
        "x_test = sc_x.fit_transform(x_test)\n",
        "y_test= sc_y.fit_transform(y_test)\n"
      ],
      "execution_count": 49,
      "outputs": []
    },
    {
      "cell_type": "code",
      "metadata": {
        "id": "XHeIqMSEiQOK"
      },
      "source": [
        "pd.DataFrame(x_train)"
      ],
      "execution_count": null,
      "outputs": []
    },
    {
      "cell_type": "code",
      "metadata": {
        "id": "ft7Zl12nX1Lv"
      },
      "source": [
        "x_train"
      ],
      "execution_count": null,
      "outputs": []
    },
    {
      "cell_type": "markdown",
      "metadata": {
        "id": "hpFu72_s7-mj"
      },
      "source": [
        "## Modelo SVM"
      ]
    },
    {
      "cell_type": "code",
      "metadata": {
        "id": "A22ITLBX8C9W",
        "outputId": "82699e91-10d5-4a80-d692-18ff15eac7d0",
        "colab": {
          "base_uri": "https://localhost:8080/",
          "height": 107
        }
      },
      "source": [
        "from sklearn.model_selection import train_test_split\n",
        "from sklearn.metrics import accuracy_score\n",
        "from sklearn.svm import SVR\n",
        "\n",
        "svr= SVR(kernel='rbf',degree=3, C=1.0, epsilon=0.2)\n",
        "svr.fit(x_train,y_train)"
      ],
      "execution_count": 50,
      "outputs": [
        {
          "output_type": "stream",
          "text": [
            "/usr/local/lib/python3.6/dist-packages/sklearn/utils/validation.py:760: DataConversionWarning: A column-vector y was passed when a 1d array was expected. Please change the shape of y to (n_samples, ), for example using ravel().\n",
            "  y = column_or_1d(y, warn=True)\n"
          ],
          "name": "stderr"
        },
        {
          "output_type": "execute_result",
          "data": {
            "text/plain": [
              "SVR(C=1.0, cache_size=200, coef0=0.0, degree=3, epsilon=0.2, gamma='scale',\n",
              "    kernel='rbf', max_iter=-1, shrinking=True, tol=0.001, verbose=False)"
            ]
          },
          "metadata": {
            "tags": []
          },
          "execution_count": 50
        }
      ]
    },
    {
      "cell_type": "code",
      "metadata": {
        "id": "BMJM9p9LZ2SK"
      },
      "source": [
        "# Gráfico de distribución para cada variable  \n",
        "# ==============================================================================\n",
        "# Ajustar número de subplots en función del número de columnas\n",
        "fig, axes = plt.subplots(nrows=3, ncols=5, figsize=(9, 5))\n",
        "axes = axes.flat\n",
        "columnas_numeric = x_train\n",
        "for i in list(range (0,5)): \n",
        "    sns.distplot(\n",
        "        x_train[:,i],\n",
        "        hist    = True,\n",
        "        rug     = False,\n",
        "        color   = (list(plt.rcParams['axes.prop_cycle'])*2)[i][\"color\"],\n",
        "        kde_kws = {'shade': False, 'linewidth': 1},\n",
        "        ax      = axes[i]\n",
        "    )\n",
        "    axes[i].set_title(x_train[:,i], fontsize = 7, fontweight = \"bold\")\n",
        "    axes[i].tick_params(labelsize = 6)\n",
        "    axes[i].set_xlabel(\"\")\n",
        "    \n",
        "    \n",
        "fig.tight_layout()\n",
        "plt.subplots_adjust(top = 0.9)\n",
        "fig.suptitle('Distribución variables', fontsize = 10, fontweight = \"bold\");"
      ],
      "execution_count": null,
      "outputs": []
    },
    {
      "cell_type": "code",
      "metadata": {
        "id": "EKtxSMztXyt8"
      },
      "source": [
        "y_predic = svr.predict(x_test)"
      ],
      "execution_count": 36,
      "outputs": []
    },
    {
      "cell_type": "code",
      "metadata": {
        "id": "JTGGGcQha12I",
        "outputId": "3c061bcb-5c77-4829-fbd0-b1f962363d93",
        "colab": {
          "base_uri": "https://localhost:8080/",
          "height": 35
        }
      },
      "source": [
        "print(svr.score(x_test,y_predic))"
      ],
      "execution_count": 37,
      "outputs": [
        {
          "output_type": "stream",
          "text": [
            "1.0\n"
          ],
          "name": "stdout"
        }
      ]
    },
    {
      "cell_type": "code",
      "metadata": {
        "id": "SN9Bl0TYwYWU"
      },
      "source": [
        "x_test"
      ],
      "execution_count": null,
      "outputs": []
    },
    {
      "cell_type": "code",
      "metadata": {
        "id": "V2CFwIxowU6k",
        "outputId": "34fda0cb-0067-42e0-f0b9-93eb4009ecb5",
        "colab": {
          "base_uri": "https://localhost:8080/",
          "height": 35
        }
      },
      "source": [
        "y_predic"
      ],
      "execution_count": 39,
      "outputs": [
        {
          "output_type": "execute_result",
          "data": {
            "text/plain": [
              "array([-0.66786437, -0.18962612,  0.75040555, -0.08149598])"
            ]
          },
          "metadata": {
            "tags": []
          },
          "execution_count": 39
        }
      ]
    },
    {
      "cell_type": "code",
      "metadata": {
        "id": "iod3jZg-vyXg"
      },
      "source": [
        ""
      ],
      "execution_count": null,
      "outputs": []
    }
  ]
}