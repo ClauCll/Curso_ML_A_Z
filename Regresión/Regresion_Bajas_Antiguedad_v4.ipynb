{
  "nbformat": 4,
  "nbformat_minor": 0,
  "metadata": {
    "colab": {
      "name": "Untitled1.ipynb",
      "provenance": [],
      "include_colab_link": true
    },
    "kernelspec": {
      "name": "python3",
      "display_name": "Python 3"
    }
  },
  "cells": [
    {
      "cell_type": "markdown",
      "metadata": {
        "id": "view-in-github",
        "colab_type": "text"
      },
      "source": [
        "<a href=\"https://colab.research.google.com/github/ClauCll/Curso_ML_A_Z/blob/master/Regresi%C3%B3n/Regresion_Bajas_Antiguedad_v4.ipynb\" target=\"_parent\"><img src=\"https://colab.research.google.com/assets/colab-badge.svg\" alt=\"Open In Colab\"/></a>"
      ]
    },
    {
      "cell_type": "markdown",
      "metadata": {
        "id": "-J3qDXeFwvSb"
      },
      "source": [
        "## Cuantas serán las bajas voluntarias de los clientes fijos para el periodo 202009 - 202012\n",
        " "
      ]
    },
    {
      "cell_type": "code",
      "metadata": {
        "id": "Vsqlhqgww1BG"
      },
      "source": [
        "import pandas as pd\n",
        "import numpy as np\n",
        "from mpl_toolkits.mplot3d import axes3d\n",
        "import matplotlib.pyplot as plt\n",
        "import gspread\n",
        "from oauth2client.client import GoogleCredentials \n",
        "from google.colab import auth\n",
        "# Autoriza Claudia\n",
        "auth.authenticate_user()\n",
        "gc = gspread.authorize (GoogleCredentials.get_application_default())"
      ],
      "execution_count": 40,
      "outputs": []
    },
    {
      "cell_type": "markdown",
      "metadata": {
        "id": "2xAoqlB_02Do"
      },
      "source": [
        "### leemos datos"
      ]
    },
    {
      "cell_type": "code",
      "metadata": {
        "id": "y_VVpj56uzRV",
        "outputId": "0a37694b-b6d1-4ded-d6d5-d5fbbe3738a8",
        "colab": {
          "base_uri": "https://localhost:8080/",
          "height": 55
        }
      },
      "source": [
        "from google.colab import drive\n",
        "drive.mount('/content/drive')"
      ],
      "execution_count": 41,
      "outputs": [
        {
          "output_type": "stream",
          "text": [
            "Drive already mounted at /content/drive; to attempt to forcibly remount, call drive.mount(\"/content/drive\", force_remount=True).\n"
          ],
          "name": "stdout"
        }
      ]
    },
    {
      "cell_type": "code",
      "metadata": {
        "id": "0JYqth2Ty8-k",
        "outputId": "7af02110-f41b-41cd-e2a0-6a7dd9e1c3e5",
        "colab": {
          "base_uri": "https://localhost:8080/",
          "height": 72
        }
      },
      "source": [
        "data = pd.read_csv('/content/drive/My Drive/Dataset/BAJAS.txt',delimiter='~')\n",
        "X  = data.iloc[:,:-1].values\n",
        "Y  = data.iloc[:,9]\n",
        "Y = Y[:,np.newaxis]"
      ],
      "execution_count": 42,
      "outputs": [
        {
          "output_type": "stream",
          "text": [
            "/usr/local/lib/python3.6/dist-packages/ipykernel_launcher.py:4: FutureWarning: Support for multi-dimensional indexing (e.g. `obj[:, None]`) is deprecated and will be removed in a future version.  Convert to a numpy array before indexing instead.\n",
            "  after removing the cwd from sys.path.\n"
          ],
          "name": "stderr"
        }
      ]
    },
    {
      "cell_type": "code",
      "metadata": {
        "id": "gAsnNhuqC49i"
      },
      "source": [
        "X"
      ],
      "execution_count": null,
      "outputs": []
    },
    {
      "cell_type": "code",
      "metadata": {
        "id": "SKroeJSlQx_H",
        "outputId": "91647ca8-88cb-4eb9-8c59-5a7b4230acf3",
        "colab": {
          "base_uri": "https://localhost:8080/",
          "height": 35
        }
      },
      "source": [
        "#Dimensiones\n",
        "data.shape"
      ],
      "execution_count": 43,
      "outputs": [
        {
          "output_type": "execute_result",
          "data": {
            "text/plain": [
              "(19, 10)"
            ]
          },
          "metadata": {
            "tags": []
          },
          "execution_count": 43
        }
      ]
    },
    {
      "cell_type": "code",
      "metadata": {
        "id": "_NVfJosGApzx",
        "outputId": "2d56932f-34c5-459e-89ee-d54e980e8e60",
        "colab": {
          "base_uri": "https://localhost:8080/",
          "height": 312
        }
      },
      "source": [
        "data.info()"
      ],
      "execution_count": 16,
      "outputs": [
        {
          "output_type": "stream",
          "text": [
            "<class 'pandas.core.frame.DataFrame'>\n",
            "RangeIndex: 19 entries, 0 to 18\n",
            "Data columns (total 10 columns):\n",
            " #   Column           Non-Null Count  Dtype\n",
            "---  ------           --------------  -----\n",
            " 0   ANIO_BAJA        19 non-null     int64\n",
            " 1   MES_BAJA         19 non-null     int64\n",
            " 2   TRIM_1           19 non-null     int64\n",
            " 3   TRIM_2           19 non-null     int64\n",
            " 4   TRIM_3           19 non-null     int64\n",
            " 5   TRIM_4           19 non-null     int64\n",
            " 6   ENTRE_1_2_ANIOS  19 non-null     int64\n",
            " 7   ENTRE_3_4_ANIOS  19 non-null     int64\n",
            " 8   MAS_5_ANIOS      19 non-null     int64\n",
            " 9   TOTAL_BAJAS      19 non-null     int64\n",
            "dtypes: int64(10)\n",
            "memory usage: 1.6 KB\n"
          ],
          "name": "stdout"
        }
      ]
    },
    {
      "cell_type": "code",
      "metadata": {
        "id": "rO9aSLqfAtwl"
      },
      "source": [
        "# Se convierte la variable MES_BAJA tipo string\n",
        "# ==============================================================================\n",
        "data.MES_BAJA = data.MES_BAJA.astype(\"str\")\n",
        "data.ANIO_BAJA = data.ANIO_BAJA.astype(\"str\")"
      ],
      "execution_count": 19,
      "outputs": []
    },
    {
      "cell_type": "code",
      "metadata": {
        "id": "xSXS-aB1RdLN"
      },
      "source": [
        "data.TOTAL_BAJAS"
      ],
      "execution_count": null,
      "outputs": []
    },
    {
      "cell_type": "code",
      "metadata": {
        "id": "Hy51sMesxJ7a",
        "outputId": "e50a074a-2eac-4f08-c119-802f81366898",
        "colab": {
          "base_uri": "https://localhost:8080/",
          "height": 314
        }
      },
      "source": [
        "# Variables numéricas\n",
        "data.select_dtypes(include=['float64', 'int']).describe()"
      ],
      "execution_count": 10,
      "outputs": [
        {
          "output_type": "execute_result",
          "data": {
            "text/html": [
              "<div>\n",
              "<style scoped>\n",
              "    .dataframe tbody tr th:only-of-type {\n",
              "        vertical-align: middle;\n",
              "    }\n",
              "\n",
              "    .dataframe tbody tr th {\n",
              "        vertical-align: top;\n",
              "    }\n",
              "\n",
              "    .dataframe thead th {\n",
              "        text-align: right;\n",
              "    }\n",
              "</style>\n",
              "<table border=\"1\" class=\"dataframe\">\n",
              "  <thead>\n",
              "    <tr style=\"text-align: right;\">\n",
              "      <th></th>\n",
              "      <th>ANIO_BAJA</th>\n",
              "      <th>MES_BAJA</th>\n",
              "      <th>TRIM_1</th>\n",
              "      <th>TRIM_2</th>\n",
              "      <th>TRIM_3</th>\n",
              "      <th>TRIM_4</th>\n",
              "      <th>ENTRE_1_2_ANIOS</th>\n",
              "      <th>ENTRE_3_4_ANIOS</th>\n",
              "      <th>MAS_5_ANIOS</th>\n",
              "      <th>TOTAL_BAJAS</th>\n",
              "    </tr>\n",
              "  </thead>\n",
              "  <tbody>\n",
              "    <tr>\n",
              "      <th>count</th>\n",
              "      <td>19.000000</td>\n",
              "      <td>19.000000</td>\n",
              "      <td>19.000000</td>\n",
              "      <td>19.000000</td>\n",
              "      <td>19.000000</td>\n",
              "      <td>19.000000</td>\n",
              "      <td>19.000000</td>\n",
              "      <td>19.000000</td>\n",
              "      <td>19.000000</td>\n",
              "      <td>19.000000</td>\n",
              "    </tr>\n",
              "    <tr>\n",
              "      <th>mean</th>\n",
              "      <td>2019.368421</td>\n",
              "      <td>5.578947</td>\n",
              "      <td>42.789474</td>\n",
              "      <td>24.368421</td>\n",
              "      <td>22.789474</td>\n",
              "      <td>206.052632</td>\n",
              "      <td>647.736842</td>\n",
              "      <td>426.421053</td>\n",
              "      <td>35.105263</td>\n",
              "      <td>1405.263158</td>\n",
              "    </tr>\n",
              "    <tr>\n",
              "      <th>std</th>\n",
              "      <td>0.495595</td>\n",
              "      <td>3.321910</td>\n",
              "      <td>22.069534</td>\n",
              "      <td>10.430780</td>\n",
              "      <td>9.186820</td>\n",
              "      <td>79.663510</td>\n",
              "      <td>149.704465</td>\n",
              "      <td>263.831031</td>\n",
              "      <td>42.276727</td>\n",
              "      <td>392.473473</td>\n",
              "    </tr>\n",
              "    <tr>\n",
              "      <th>min</th>\n",
              "      <td>2019.000000</td>\n",
              "      <td>1.000000</td>\n",
              "      <td>19.000000</td>\n",
              "      <td>11.000000</td>\n",
              "      <td>7.000000</td>\n",
              "      <td>98.000000</td>\n",
              "      <td>350.000000</td>\n",
              "      <td>231.000000</td>\n",
              "      <td>0.000000</td>\n",
              "      <td>817.000000</td>\n",
              "    </tr>\n",
              "    <tr>\n",
              "      <th>25%</th>\n",
              "      <td>2019.000000</td>\n",
              "      <td>3.000000</td>\n",
              "      <td>27.500000</td>\n",
              "      <td>17.500000</td>\n",
              "      <td>17.500000</td>\n",
              "      <td>147.500000</td>\n",
              "      <td>546.000000</td>\n",
              "      <td>313.000000</td>\n",
              "      <td>5.000000</td>\n",
              "      <td>1099.000000</td>\n",
              "    </tr>\n",
              "    <tr>\n",
              "      <th>50%</th>\n",
              "      <td>2019.000000</td>\n",
              "      <td>5.000000</td>\n",
              "      <td>39.000000</td>\n",
              "      <td>21.000000</td>\n",
              "      <td>20.000000</td>\n",
              "      <td>181.000000</td>\n",
              "      <td>658.000000</td>\n",
              "      <td>371.000000</td>\n",
              "      <td>11.000000</td>\n",
              "      <td>1458.000000</td>\n",
              "    </tr>\n",
              "    <tr>\n",
              "      <th>75%</th>\n",
              "      <td>2020.000000</td>\n",
              "      <td>7.500000</td>\n",
              "      <td>47.500000</td>\n",
              "      <td>28.500000</td>\n",
              "      <td>26.000000</td>\n",
              "      <td>268.000000</td>\n",
              "      <td>733.500000</td>\n",
              "      <td>430.000000</td>\n",
              "      <td>48.000000</td>\n",
              "      <td>1541.000000</td>\n",
              "    </tr>\n",
              "    <tr>\n",
              "      <th>max</th>\n",
              "      <td>2020.000000</td>\n",
              "      <td>12.000000</td>\n",
              "      <td>99.000000</td>\n",
              "      <td>54.000000</td>\n",
              "      <td>45.000000</td>\n",
              "      <td>374.000000</td>\n",
              "      <td>980.000000</td>\n",
              "      <td>1470.000000</td>\n",
              "      <td>139.000000</td>\n",
              "      <td>2435.000000</td>\n",
              "    </tr>\n",
              "  </tbody>\n",
              "</table>\n",
              "</div>"
            ],
            "text/plain": [
              "         ANIO_BAJA   MES_BAJA  ...  MAS_5_ANIOS  TOTAL_BAJAS\n",
              "count    19.000000  19.000000  ...    19.000000    19.000000\n",
              "mean   2019.368421   5.578947  ...    35.105263  1405.263158\n",
              "std       0.495595   3.321910  ...    42.276727   392.473473\n",
              "min    2019.000000   1.000000  ...     0.000000   817.000000\n",
              "25%    2019.000000   3.000000  ...     5.000000  1099.000000\n",
              "50%    2019.000000   5.000000  ...    11.000000  1458.000000\n",
              "75%    2020.000000   7.500000  ...    48.000000  1541.000000\n",
              "max    2020.000000  12.000000  ...   139.000000  2435.000000\n",
              "\n",
              "[8 rows x 10 columns]"
            ]
          },
          "metadata": {
            "tags": []
          },
          "execution_count": 10
        }
      ]
    },
    {
      "cell_type": "code",
      "metadata": {
        "id": "7Pbjalejyw6G",
        "outputId": "8aa108b8-9e3b-498e-f631-3451cd6b15aa",
        "colab": {
          "base_uri": "https://localhost:8080/",
          "height": 312
        }
      },
      "source": [
        "# Valores observados de 1trim\n",
        "# ==============================================================================\n",
        "data.TRIM_1.value_counts()"
      ],
      "execution_count": 12,
      "outputs": [
        {
          "output_type": "execute_result",
          "data": {
            "text/plain": [
              "20    2\n",
              "43    2\n",
              "35    2\n",
              "29    1\n",
              "26    1\n",
              "88    1\n",
              "23    1\n",
              "54    1\n",
              "19    1\n",
              "51    1\n",
              "44    1\n",
              "42    1\n",
              "39    1\n",
              "69    1\n",
              "99    1\n",
              "34    1\n",
              "Name: TRIM_1, dtype: int64"
            ]
          },
          "metadata": {
            "tags": []
          },
          "execution_count": 12
        }
      ]
    },
    {
      "cell_type": "code",
      "metadata": {
        "id": "t87dYyVA_oEq",
        "outputId": "9c6ad6ca-9d72-452d-9cf4-cd63b8b240fb",
        "colab": {
          "base_uri": "https://localhost:8080/",
          "height": 171
        }
      },
      "source": [
        "# Variables cualitativas (tipo object)\n",
        "# ==============================================================================\n",
        "data.select_dtypes(include=['object']).describe()"
      ],
      "execution_count": 20,
      "outputs": [
        {
          "output_type": "execute_result",
          "data": {
            "text/html": [
              "<div>\n",
              "<style scoped>\n",
              "    .dataframe tbody tr th:only-of-type {\n",
              "        vertical-align: middle;\n",
              "    }\n",
              "\n",
              "    .dataframe tbody tr th {\n",
              "        vertical-align: top;\n",
              "    }\n",
              "\n",
              "    .dataframe thead th {\n",
              "        text-align: right;\n",
              "    }\n",
              "</style>\n",
              "<table border=\"1\" class=\"dataframe\">\n",
              "  <thead>\n",
              "    <tr style=\"text-align: right;\">\n",
              "      <th></th>\n",
              "      <th>ANIO_BAJA</th>\n",
              "      <th>MES_BAJA</th>\n",
              "    </tr>\n",
              "  </thead>\n",
              "  <tbody>\n",
              "    <tr>\n",
              "      <th>count</th>\n",
              "      <td>19</td>\n",
              "      <td>19</td>\n",
              "    </tr>\n",
              "    <tr>\n",
              "      <th>unique</th>\n",
              "      <td>2</td>\n",
              "      <td>12</td>\n",
              "    </tr>\n",
              "    <tr>\n",
              "      <th>top</th>\n",
              "      <td>2019</td>\n",
              "      <td>6</td>\n",
              "    </tr>\n",
              "    <tr>\n",
              "      <th>freq</th>\n",
              "      <td>12</td>\n",
              "      <td>2</td>\n",
              "    </tr>\n",
              "  </tbody>\n",
              "</table>\n",
              "</div>"
            ],
            "text/plain": [
              "       ANIO_BAJA MES_BAJA\n",
              "count         19       19\n",
              "unique         2       12\n",
              "top         2019        6\n",
              "freq          12        2"
            ]
          },
          "metadata": {
            "tags": []
          },
          "execution_count": 20
        }
      ]
    },
    {
      "cell_type": "code",
      "metadata": {
        "id": "4OmKB2ckD3_2",
        "outputId": "156fb0ea-14d8-4f24-af40-d5a7a6b2aea6",
        "colab": {
          "base_uri": "https://localhost:8080/",
          "height": 373
        }
      },
      "source": [
        "# Gráfico para cada variable cualitativa\n",
        "# ==============================================================================\n",
        "# Ajustar número de subplots en función del número de columnas\n",
        "fig, axes = plt.subplots(nrows=3, ncols=3, figsize=(9, 5))\n",
        "axes = axes.flat\n",
        "columnas_object = data.select_dtypes(include=['object']).columns\n",
        "\n",
        "for i, colum in enumerate(columnas_object):\n",
        "    data[colum].value_counts().plot.barh(ax = axes[i])\n",
        "    axes[i].set_title(colum, fontsize = 7, fontweight = \"bold\")\n",
        "    axes[i].tick_params(labelsize = 6)\n",
        "    axes[i].set_xlabel(\"\")\n",
        "\n",
        "# Se eliminan los axes vacíos\n",
        "#for i in [7, 8]:\n",
        "#    fig.delaxes(axes[i])\n",
        "    \n",
        "fig.tight_layout()\n",
        "plt.subplots_adjust(top=0.9)\n",
        "fig.suptitle('Distribución variables cualitativas',\n",
        "             fontsize = 10, fontweight = \"bold\");"
      ],
      "execution_count": 25,
      "outputs": [
        {
          "output_type": "display_data",
          "data": {
            "image/png": "[encoded data removed]",
            "text/plain": [
              "<Figure size 648x360 with 9 Axes>"
            ]
          },
          "metadata": {
            "tags": [],
            "needs_background": "light"
          }
        }
      ]
    },
    {
      "cell_type": "code",
      "metadata": {
        "id": "pJzJ4jejIGMa",
        "outputId": "97e28de4-868b-4c85-d3f7-2179c388e662",
        "colab": {
          "base_uri": "https://localhost:8080/",
          "height": 373
        }
      },
      "source": [
        "# Gráfico relación entre el precio y cada cada variables cualitativas\n",
        "# ==============================================================================\n",
        "# Ajustar número de subplots en función del número de columnas\n",
        "import seaborn as sns\n",
        "import matplotlib.ticker as ticker\n",
        "\n",
        "fig, axes = plt.subplots(nrows=3, ncols=3, figsize=(9, 5))\n",
        "axes = axes.flat\n",
        "columnas_object = data.select_dtypes(include=['object']).columns\n",
        "\n",
        "for i, colum in enumerate(columnas_object):\n",
        "    sns.violinplot(\n",
        "        x     = colum,\n",
        "        y     = 'TOTAL_BAJAS',\n",
        "        data  = data,\n",
        "        color = \"white\",\n",
        "        ax    = axes[i]\n",
        "    )\n",
        "    axes[i].set_title(f\"precio vs {colum}\", fontsize = 7, fontweight = \"bold\")\n",
        "    axes[i].yaxis.set_major_formatter(ticker.EngFormatter())\n",
        "    axes[i].tick_params(labelsize = 6)\n",
        "    axes[i].set_xlabel(\"\")\n",
        "    axes[i].set_ylabel(\"\")\n",
        "\n",
        "# Se eliminan los axes vacíos\n",
        "#for i in [7, 8]:\n",
        "#    fig.delaxes(axes[i])\n",
        "    \n",
        "fig.tight_layout()\n",
        "plt.subplots_adjust(top=0.9)\n",
        "fig.suptitle('Distribución del total bajas por grupo', fontsize = 10, fontweight = \"bold\");"
      ],
      "execution_count": 28,
      "outputs": [
        {
          "output_type": "display_data",
          "data": {
            "image/png": "[encoded data removed]",
            "text/plain": [
              "<Figure size 648x360 with 9 Axes>"
            ]
          },
          "metadata": {
            "tags": [],
            "needs_background": "light"
          }
        }
      ]
    },
    {
      "cell_type": "markdown",
      "metadata": {
        "id": "zPAqqmtHFw5k"
      },
      "source": [
        ""
      ]
    },
    {
      "cell_type": "code",
      "metadata": {
        "id": "CRmy1vxlLku1"
      },
      "source": [
        "# Datos en entrenamiento y test.\n",
        "# ==============================================================================\n",
        "from sklearn.model_selection import train_test_split\n",
        "\n",
        "X_train, X_test, y_train, y_test = train_test_split(\n",
        "                                        data.drop('TOTAL_BAJAS', axis = 'columns'),\n",
        "                                        data['TOTAL_BAJAS'],\n",
        "                                        train_size   = 0.8,\n",
        "                                        random_state = 1234,\n",
        "                                        shuffle      = True\n",
        "                                    )"
      ],
      "execution_count": 29,
      "outputs": []
    },
    {
      "cell_type": "code",
      "metadata": {
        "id": "UP8_d2tVL7mA",
        "outputId": "8ab9427a-4672-4fc4-9220-49668d6c9af3",
        "colab": {
          "base_uri": "https://localhost:8080/",
          "height": 173
        }
      },
      "source": [
        "y_test.describe()"
      ],
      "execution_count": 31,
      "outputs": [
        {
          "output_type": "execute_result",
          "data": {
            "text/plain": [
              "count       4.000000\n",
              "mean     1108.250000\n",
              "std       302.584837\n",
              "min       817.000000\n",
              "25%       937.750000\n",
              "50%      1046.000000\n",
              "75%      1216.500000\n",
              "max      1524.000000\n",
              "Name: TOTAL_BAJAS, dtype: float64"
            ]
          },
          "metadata": {
            "tags": []
          },
          "execution_count": 31
        }
      ]
    },
    {
      "cell_type": "code",
      "metadata": {
        "id": "L6VkDy_bMwLu",
        "outputId": "1270565b-157f-4dc1-87f3-23fd33ef941e",
        "colab": {
          "base_uri": "https://localhost:8080/",
          "height": 173
        }
      },
      "source": [
        "y_train.describe()"
      ],
      "execution_count": 30,
      "outputs": [
        {
          "output_type": "execute_result",
          "data": {
            "text/plain": [
              "count      15.000000\n",
              "mean     1484.466667\n",
              "std       382.753159\n",
              "min      1018.000000\n",
              "25%      1211.000000\n",
              "50%      1476.000000\n",
              "75%      1603.500000\n",
              "max      2435.000000\n",
              "Name: TOTAL_BAJAS, dtype: float64"
            ]
          },
          "metadata": {
            "tags": []
          },
          "execution_count": 30
        }
      ]
    },
    {
      "cell_type": "code",
      "metadata": {
        "id": "Fg0sJrCyaUGt",
        "outputId": "a5d0b1ac-d049-4d35-d444-e0fa2b22690f",
        "colab": {
          "base_uri": "https://localhost:8080/",
          "height": 124
        }
      },
      "source": [
        "#selección de caracteristicas basadas en L1\n",
        "from sklearn.svm import LinearSVC\n",
        "from sklearn.feature_selection import SelectFromModel\n",
        "\n",
        "lsvc = LinearSVC(C=0.01, penalty=\"l1\", dual=False).fit(X, Y)\n",
        "model = SelectFromModel(lsvc, prefit=True)\n",
        "X_new = model.transform(X)\n",
        "X_new.shape\n"
      ],
      "execution_count": 48,
      "outputs": [
        {
          "output_type": "stream",
          "text": [
            "/usr/local/lib/python3.6/dist-packages/sklearn/utils/validation.py:760: DataConversionWarning: A column-vector y was passed when a 1d array was expected. Please change the shape of y to (n_samples, ), for example using ravel().\n",
            "  y = column_or_1d(y, warn=True)\n",
            "/usr/local/lib/python3.6/dist-packages/sklearn/svm/_base.py:947: ConvergenceWarning: Liblinear failed to converge, increase the number of iterations.\n",
            "  \"the number of iterations.\", ConvergenceWarning)\n"
          ],
          "name": "stderr"
        },
        {
          "output_type": "execute_result",
          "data": {
            "text/plain": [
              "(19, 5)"
            ]
          },
          "metadata": {
            "tags": []
          },
          "execution_count": 48
        }
      ]
    },
    {
      "cell_type": "code",
      "metadata": {
        "id": "O-KtZ2ImfHka"
      },
      "source": [
        "X_new "
      ],
      "execution_count": null,
      "outputs": []
    },
    {
      "cell_type": "markdown",
      "metadata": {
        "id": "hpFu72_s7-mj"
      },
      "source": [
        "## Modelo SVM"
      ]
    },
    {
      "cell_type": "code",
      "metadata": {
        "id": "A22ITLBX8C9W"
      },
      "source": [
        "from sklearn.model_selection import train_test_split\n",
        "from sklearn.metrics import accuracy_score\n",
        "from sklearn.svm import SVR"
      ],
      "execution_count": null,
      "outputs": []
    },
    {
      "cell_type": "code",
      "metadata": {
        "id": "G5BKDtaa8EY5"
      },
      "source": [
        "x  = x_mes[ c3[:,0]==1 , 0 ]\n",
        "y  = Y [ c3[:,0]==1 , 0 ]\n",
        "x  = x[:,np.newaxis]\n",
        "y  = y[:,np.newaxis]\n",
        "\n",
        "x_train, x_test, y_train, y_test = train_test_split(x,y ,test_size=0.2, random_state=0)"
      ],
      "execution_count": null,
      "outputs": []
    },
    {
      "cell_type": "code",
      "metadata": {
        "id": "hgCuk9XMWJAj"
      },
      "source": [
        "svr= SVR(kernel='rbf',degree=3, C=1.0, epsilon=0.2)\n",
        "svr.fit(x_train,y_train)"
      ],
      "execution_count": null,
      "outputs": []
    },
    {
      "cell_type": "code",
      "metadata": {
        "id": "EKtxSMztXyt8"
      },
      "source": [
        "y_predic = svr.predict(x_test)"
      ],
      "execution_count": null,
      "outputs": []
    },
    {
      "cell_type": "code",
      "metadata": {
        "id": "JTGGGcQha12I",
        "outputId": "0fe4e231-d629-467f-dbc0-6c17ade8875d",
        "colab": {
          "base_uri": "https://localhost:8080/",
          "height": 34
        }
      },
      "source": [
        "print(svr.score(x_test,y_predic))"
      ],
      "execution_count": null,
      "outputs": [
        {
          "output_type": "stream",
          "text": [
            "1.0\n"
          ],
          "name": "stdout"
        }
      ]
    }
  ]
}