{
  "nbformat": 4,
  "nbformat_minor": 0,
  "metadata": {
    "colab": {
      "name": "Untitled1.ipynb",
      "provenance": [],
      "include_colab_link": true
    },
    "kernelspec": {
      "name": "python3",
      "display_name": "Python 3"
    }
  },
  "cells": [
    {
      "cell_type": "markdown",
      "metadata": {
        "id": "view-in-github",
        "colab_type": "text"
      },
      "source": [
        "<a href=\"https://colab.research.google.com/github/ClauCll/Curso_ML_A_Z/blob/master/Regresi%C3%B3n/Regresion_Bajas_Antiguedad_v4.ipynb\" target=\"_parent\"><img src=\"https://colab.research.google.com/assets/colab-badge.svg\" alt=\"Open In Colab\"/></a>"
      ]
    },
    {
      "cell_type": "markdown",
      "metadata": {
        "id": "-J3qDXeFwvSb"
      },
      "source": [
        "## Cuantas serán las bajas voluntarias de los clientes fijos para el periodo 202009 - 202012\n",
        " "
      ]
    },
    {
      "cell_type": "code",
      "metadata": {
        "id": "Vsqlhqgww1BG"
      },
      "source": [
        "import pandas as pd\n",
        "import numpy as np\n",
        "from mpl_toolkits.mplot3d import axes3d\n",
        "import matplotlib.pyplot as plt\n",
        "import gspread\n",
        "from oauth2client.client import GoogleCredentials \n",
        "from google.colab import auth\n",
        "# Autoriza Claudia\n",
        "auth.authenticate_user()\n",
        "gc = gspread.authorize (GoogleCredentials.get_application_default())"
      ],
      "execution_count": 1,
      "outputs": []
    },
    {
      "cell_type": "markdown",
      "metadata": {
        "id": "2xAoqlB_02Do"
      },
      "source": [
        "### leemos datos"
      ]
    },
    {
      "cell_type": "code",
      "metadata": {
        "id": "y_VVpj56uzRV",
        "outputId": "07c171bc-2911-4dad-a98d-d56d16fd8e91",
        "colab": {
          "base_uri": "https://localhost:8080/",
          "height": 55
        }
      },
      "source": [
        "from google.colab import drive\n",
        "drive.mount('/content/drive')"
      ],
      "execution_count": 3,
      "outputs": [
        {
          "output_type": "stream",
          "text": [
            "Drive already mounted at /content/drive; to attempt to forcibly remount, call drive.mount(\"/content/drive\", force_remount=True).\n"
          ],
          "name": "stdout"
        }
      ]
    },
    {
      "cell_type": "code",
      "metadata": {
        "id": "0JYqth2Ty8-k",
        "outputId": "67751750-31ed-4e32-8e18-76aa0b45d4e7",
        "colab": {
          "base_uri": "https://localhost:8080/",
          "height": 71
        }
      },
      "source": [
        "data = pd.read_csv('/content/drive/My Drive/Dataset/BAJAS.txt',delimiter='~')\n",
        "X  = data.iloc[:,:-1].values\n",
        "Y  = data.iloc[:,9]\n",
        "Y = Y[:,np.newaxis]"
      ],
      "execution_count": 4,
      "outputs": [
        {
          "output_type": "stream",
          "text": [
            "/usr/local/lib/python3.6/dist-packages/ipykernel_launcher.py:4: FutureWarning: Support for multi-dimensional indexing (e.g. `obj[:, None]`) is deprecated and will be removed in a future version.  Convert to a numpy array before indexing instead.\n",
            "  after removing the cwd from sys.path.\n"
          ],
          "name": "stderr"
        }
      ]
    },
    {
      "cell_type": "code",
      "metadata": {
        "id": "SKroeJSlQx_H",
        "outputId": "34a721c0-74f5-46d9-8934-5ebb0b701a9c",
        "colab": {
          "base_uri": "https://localhost:8080/",
          "height": 34
        }
      },
      "source": [
        "#Dimensiones\n",
        "data.shape"
      ],
      "execution_count": 7,
      "outputs": [
        {
          "output_type": "execute_result",
          "data": {
            "text/plain": [
              "(19, 10)"
            ]
          },
          "metadata": {
            "tags": []
          },
          "execution_count": 7
        }
      ]
    },
    {
      "cell_type": "code",
      "metadata": {
        "id": "xSXS-aB1RdLN",
        "outputId": "7c6b85f3-feba-4c09-98c0-4d11f4b093e5",
        "colab": {
          "base_uri": "https://localhost:8080/",
          "height": 357
        }
      },
      "source": [
        "data.TOTAL_BAJAS"
      ],
      "execution_count": 9,
      "outputs": [
        {
          "output_type": "execute_result",
          "data": {
            "text/plain": [
              "0     1961\n",
              "1     2435\n",
              "2     1524\n",
              "3      978\n",
              "4     1031\n",
              "5     1548\n",
              "6     1659\n",
              "7     1292\n",
              "8     1458\n",
              "9     1534\n",
              "10    1114\n",
              "11    1201\n",
              "12    1221\n",
              "13    1533\n",
              "14    1084\n",
              "15    1816\n",
              "16     817\n",
              "17    1018\n",
              "18    1476\n",
              "Name: TOTAL_BAJAS, dtype: int64"
            ]
          },
          "metadata": {
            "tags": []
          },
          "execution_count": 9
        }
      ]
    },
    {
      "cell_type": "code",
      "metadata": {
        "id": "Hy51sMesxJ7a",
        "outputId": "e50a074a-2eac-4f08-c119-802f81366898",
        "colab": {
          "base_uri": "https://localhost:8080/",
          "height": 297
        }
      },
      "source": [
        "# Variables numéricas\n",
        "data.select_dtypes(include=['float64', 'int']).describe()"
      ],
      "execution_count": 10,
      "outputs": [
        {
          "output_type": "execute_result",
          "data": {
            "text/html": [
              "<div>\n",
              "<style scoped>\n",
              "    .dataframe tbody tr th:only-of-type {\n",
              "        vertical-align: middle;\n",
              "    }\n",
              "\n",
              "    .dataframe tbody tr th {\n",
              "        vertical-align: top;\n",
              "    }\n",
              "\n",
              "    .dataframe thead th {\n",
              "        text-align: right;\n",
              "    }\n",
              "</style>\n",
              "<table border=\"1\" class=\"dataframe\">\n",
              "  <thead>\n",
              "    <tr style=\"text-align: right;\">\n",
              "      <th></th>\n",
              "      <th>ANIO_BAJA</th>\n",
              "      <th>MES_BAJA</th>\n",
              "      <th>TRIM_1</th>\n",
              "      <th>TRIM_2</th>\n",
              "      <th>TRIM_3</th>\n",
              "      <th>TRIM_4</th>\n",
              "      <th>ENTRE_1_2_ANIOS</th>\n",
              "      <th>ENTRE_3_4_ANIOS</th>\n",
              "      <th>MAS_5_ANIOS</th>\n",
              "      <th>TOTAL_BAJAS</th>\n",
              "    </tr>\n",
              "  </thead>\n",
              "  <tbody>\n",
              "    <tr>\n",
              "      <th>count</th>\n",
              "      <td>19.000000</td>\n",
              "      <td>19.000000</td>\n",
              "      <td>19.000000</td>\n",
              "      <td>19.000000</td>\n",
              "      <td>19.000000</td>\n",
              "      <td>19.000000</td>\n",
              "      <td>19.000000</td>\n",
              "      <td>19.000000</td>\n",
              "      <td>19.000000</td>\n",
              "      <td>19.000000</td>\n",
              "    </tr>\n",
              "    <tr>\n",
              "      <th>mean</th>\n",
              "      <td>2019.368421</td>\n",
              "      <td>5.578947</td>\n",
              "      <td>42.789474</td>\n",
              "      <td>24.368421</td>\n",
              "      <td>22.789474</td>\n",
              "      <td>206.052632</td>\n",
              "      <td>647.736842</td>\n",
              "      <td>426.421053</td>\n",
              "      <td>35.105263</td>\n",
              "      <td>1405.263158</td>\n",
              "    </tr>\n",
              "    <tr>\n",
              "      <th>std</th>\n",
              "      <td>0.495595</td>\n",
              "      <td>3.321910</td>\n",
              "      <td>22.069534</td>\n",
              "      <td>10.430780</td>\n",
              "      <td>9.186820</td>\n",
              "      <td>79.663510</td>\n",
              "      <td>149.704465</td>\n",
              "      <td>263.831031</td>\n",
              "      <td>42.276727</td>\n",
              "      <td>392.473473</td>\n",
              "    </tr>\n",
              "    <tr>\n",
              "      <th>min</th>\n",
              "      <td>2019.000000</td>\n",
              "      <td>1.000000</td>\n",
              "      <td>19.000000</td>\n",
              "      <td>11.000000</td>\n",
              "      <td>7.000000</td>\n",
              "      <td>98.000000</td>\n",
              "      <td>350.000000</td>\n",
              "      <td>231.000000</td>\n",
              "      <td>0.000000</td>\n",
              "      <td>817.000000</td>\n",
              "    </tr>\n",
              "    <tr>\n",
              "      <th>25%</th>\n",
              "      <td>2019.000000</td>\n",
              "      <td>3.000000</td>\n",
              "      <td>27.500000</td>\n",
              "      <td>17.500000</td>\n",
              "      <td>17.500000</td>\n",
              "      <td>147.500000</td>\n",
              "      <td>546.000000</td>\n",
              "      <td>313.000000</td>\n",
              "      <td>5.000000</td>\n",
              "      <td>1099.000000</td>\n",
              "    </tr>\n",
              "    <tr>\n",
              "      <th>50%</th>\n",
              "      <td>2019.000000</td>\n",
              "      <td>5.000000</td>\n",
              "      <td>39.000000</td>\n",
              "      <td>21.000000</td>\n",
              "      <td>20.000000</td>\n",
              "      <td>181.000000</td>\n",
              "      <td>658.000000</td>\n",
              "      <td>371.000000</td>\n",
              "      <td>11.000000</td>\n",
              "      <td>1458.000000</td>\n",
              "    </tr>\n",
              "    <tr>\n",
              "      <th>75%</th>\n",
              "      <td>2020.000000</td>\n",
              "      <td>7.500000</td>\n",
              "      <td>47.500000</td>\n",
              "      <td>28.500000</td>\n",
              "      <td>26.000000</td>\n",
              "      <td>268.000000</td>\n",
              "      <td>733.500000</td>\n",
              "      <td>430.000000</td>\n",
              "      <td>48.000000</td>\n",
              "      <td>1541.000000</td>\n",
              "    </tr>\n",
              "    <tr>\n",
              "      <th>max</th>\n",
              "      <td>2020.000000</td>\n",
              "      <td>12.000000</td>\n",
              "      <td>99.000000</td>\n",
              "      <td>54.000000</td>\n",
              "      <td>45.000000</td>\n",
              "      <td>374.000000</td>\n",
              "      <td>980.000000</td>\n",
              "      <td>1470.000000</td>\n",
              "      <td>139.000000</td>\n",
              "      <td>2435.000000</td>\n",
              "    </tr>\n",
              "  </tbody>\n",
              "</table>\n",
              "</div>"
            ],
            "text/plain": [
              "         ANIO_BAJA   MES_BAJA  ...  MAS_5_ANIOS  TOTAL_BAJAS\n",
              "count    19.000000  19.000000  ...    19.000000    19.000000\n",
              "mean   2019.368421   5.578947  ...    35.105263  1405.263158\n",
              "std       0.495595   3.321910  ...    42.276727   392.473473\n",
              "min    2019.000000   1.000000  ...     0.000000   817.000000\n",
              "25%    2019.000000   3.000000  ...     5.000000  1099.000000\n",
              "50%    2019.000000   5.000000  ...    11.000000  1458.000000\n",
              "75%    2020.000000   7.500000  ...    48.000000  1541.000000\n",
              "max    2020.000000  12.000000  ...   139.000000  2435.000000\n",
              "\n",
              "[8 rows x 10 columns]"
            ]
          },
          "metadata": {
            "tags": []
          },
          "execution_count": 10
        }
      ]
    },
    {
      "cell_type": "code",
      "metadata": {
        "id": "7Pbjalejyw6G",
        "outputId": "8aa108b8-9e3b-498e-f631-3451cd6b15aa",
        "colab": {
          "base_uri": "https://localhost:8080/",
          "height": 306
        }
      },
      "source": [
        "# Valores observados de 1trim\n",
        "# ==============================================================================\n",
        "data.TRIM_1.value_counts()"
      ],
      "execution_count": 12,
      "outputs": [
        {
          "output_type": "execute_result",
          "data": {
            "text/plain": [
              "20    2\n",
              "43    2\n",
              "35    2\n",
              "29    1\n",
              "26    1\n",
              "88    1\n",
              "23    1\n",
              "54    1\n",
              "19    1\n",
              "51    1\n",
              "44    1\n",
              "42    1\n",
              "39    1\n",
              "69    1\n",
              "99    1\n",
              "34    1\n",
              "Name: TRIM_1, dtype: int64"
            ]
          },
          "metadata": {
            "tags": []
          },
          "execution_count": 12
        }
      ]
    },
    {
      "cell_type": "code",
      "metadata": {
        "id": "y1ulzOlozLaY"
      },
      "source": [
        "# Se convierte la variable MES_BAJA tipo string\n",
        "# ==============================================================================\n",
        "#datos.MES_BAJA = datos.MES_BAJA.astype(\"str\")"
      ],
      "execution_count": null,
      "outputs": []
    },
    {
      "cell_type": "markdown",
      "metadata": {
        "id": "zPAqqmtHFw5k"
      },
      "source": [
        ""
      ]
    },
    {
      "cell_type": "markdown",
      "metadata": {
        "id": "hpFu72_s7-mj"
      },
      "source": [
        "## Modelo SVM"
      ]
    },
    {
      "cell_type": "code",
      "metadata": {
        "id": "A22ITLBX8C9W"
      },
      "source": [
        "from sklearn.model_selection import train_test_split\n",
        "from sklearn.metrics import accuracy_score\n",
        "from sklearn.svm import SVR"
      ],
      "execution_count": null,
      "outputs": []
    },
    {
      "cell_type": "code",
      "metadata": {
        "id": "G5BKDtaa8EY5"
      },
      "source": [
        "x  = x_mes[ c3[:,0]==1 , 0 ]\n",
        "y  = Y [ c3[:,0]==1 , 0 ]\n",
        "x  = x[:,np.newaxis]\n",
        "y  = y[:,np.newaxis]\n",
        "\n",
        "x_train, x_test, y_train, y_test = train_test_split(x,y ,test_size=0.2, random_state=0)"
      ],
      "execution_count": null,
      "outputs": []
    },
    {
      "cell_type": "code",
      "metadata": {
        "id": "hgCuk9XMWJAj"
      },
      "source": [
        "svr= SVR(kernel='rbf',degree=3, C=1.0, epsilon=0.2)\n",
        "svr.fit(x_train,y_train)"
      ],
      "execution_count": null,
      "outputs": []
    },
    {
      "cell_type": "code",
      "metadata": {
        "id": "EKtxSMztXyt8"
      },
      "source": [
        "y_predic = svr.predict(x_test)"
      ],
      "execution_count": null,
      "outputs": []
    },
    {
      "cell_type": "code",
      "metadata": {
        "id": "JTGGGcQha12I",
        "outputId": "0fe4e231-d629-467f-dbc0-6c17ade8875d",
        "colab": {
          "base_uri": "https://localhost:8080/",
          "height": 34
        }
      },
      "source": [
        "print(svr.score(x_test,y_predic))"
      ],
      "execution_count": null,
      "outputs": [
        {
          "output_type": "stream",
          "text": [
            "1.0\n"
          ],
          "name": "stdout"
        }
      ]
    }
  ]
}