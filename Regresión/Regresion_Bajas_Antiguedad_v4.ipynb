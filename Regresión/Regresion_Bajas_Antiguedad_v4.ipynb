{
  "nbformat": 4,
  "nbformat_minor": 0,
  "metadata": {
    "colab": {
      "name": "Untitled1.ipynb",
      "provenance": [],
      "include_colab_link": true
    },
    "kernelspec": {
      "name": "python3",
      "display_name": "Python 3"
    }
  },
  "cells": [
    {
      "cell_type": "markdown",
      "metadata": {
        "id": "view-in-github",
        "colab_type": "text"
      },
      "source": [
        "<a href=\"https://colab.research.google.com/github/ClauCll/Curso_ML_A_Z/blob/master/Regresi%C3%B3n/Regresion_Bajas_Antiguedad_v4.ipynb\" target=\"_parent\"><img src=\"https://colab.research.google.com/assets/colab-badge.svg\" alt=\"Open In Colab\"/></a>"
      ]
    },
    {
      "cell_type": "markdown",
      "metadata": {
        "id": "-J3qDXeFwvSb"
      },
      "source": [
        "## Cuantas serán las bajas voluntarias de los clientes fijos para el periodo 202009 - 202012\n",
        " "
      ]
    },
    {
      "cell_type": "code",
      "metadata": {
        "id": "Vsqlhqgww1BG"
      },
      "source": [
        "import pandas as pd\n",
        "import numpy as np\n",
        "from mpl_toolkits.mplot3d import axes3d\n",
        "import matplotlib.pyplot as plt\n",
        "import gspread\n",
        "from oauth2client.client import GoogleCredentials \n",
        "from google.colab import auth\n",
        "# Autoriza Claudia\n",
        "auth.authenticate_user()\n",
        "gc = gspread.authorize (GoogleCredentials.get_application_default())"
      ],
      "execution_count": 147,
      "outputs": []
    },
    {
      "cell_type": "markdown",
      "metadata": {
        "id": "2xAoqlB_02Do"
      },
      "source": [
        "### leemos datos"
      ]
    },
    {
      "cell_type": "code",
      "metadata": {
        "id": "y_VVpj56uzRV",
        "outputId": "b8a6aa65-a2e7-4a3f-fe77-27cb1f7300db",
        "colab": {
          "base_uri": "https://localhost:8080/",
          "height": 54
        }
      },
      "source": [
        "from google.colab import drive\n",
        "drive.mount('/content/drive')"
      ],
      "execution_count": 148,
      "outputs": [
        {
          "output_type": "stream",
          "text": [
            "Drive already mounted at /content/drive; to attempt to forcibly remount, call drive.mount(\"/content/drive\", force_remount=True).\n"
          ],
          "name": "stdout"
        }
      ]
    },
    {
      "cell_type": "code",
      "metadata": {
        "id": "0JYqth2Ty8-k",
        "outputId": "e696e64b-212b-4995-b28b-0a95507a48a9",
        "colab": {
          "base_uri": "https://localhost:8080/",
          "height": 70
        }
      },
      "source": [
        "data = pd.read_csv('/content/drive/My Drive/Dataset/BAJAS.txt',delimiter='~')\n",
        "X  = data.iloc[:,:-1].values\n",
        "Y  = data.iloc[:,3]\n",
        "Y = Y[:,np.newaxis]"
      ],
      "execution_count": 160,
      "outputs": [
        {
          "output_type": "stream",
          "text": [
            "/usr/local/lib/python3.6/dist-packages/ipykernel_launcher.py:4: FutureWarning: Support for multi-dimensional indexing (e.g. `obj[:, None]`) is deprecated and will be removed in a future version.  Convert to a numpy array before indexing instead.\n",
            "  after removing the cwd from sys.path.\n"
          ],
          "name": "stderr"
        }
      ]
    },
    {
      "cell_type": "code",
      "metadata": {
        "id": "gJH0X0VOb41h"
      },
      "source": [
        "c1,c2,c3,c4,c5,c6,c7 = [],[],[],[],[],[],[]\n",
        "\n",
        "Anio= 2019\n",
        "for ciclo in list(range(len(X[:,0]))):  \n",
        "      if X[ciclo,2] == 1 and X[ciclo,0] == Anio:              \n",
        "        c1.append(1)\n",
        "      else:    \n",
        "        c1.append(0) \n",
        "      if X[ciclo,2] == 2 and X[ciclo,0] == Anio:                \n",
        "        c2.append(1)\n",
        "      else:    \n",
        "        c2.append(0) \n",
        "      if X[ciclo,2] == 3 and X[ciclo,0] == Anio:                \n",
        "        c3.append(1)\n",
        "      else:    \n",
        "        c3.append(0) \n",
        "      if X[ciclo,2] == 4 and X[ciclo,0] == Anio:                \n",
        "        c4.append(1)\n",
        "      else:    \n",
        "        c4.append(0)\n",
        "      if X[ciclo,2] == 5 and X[ciclo,0] == Anio:                \n",
        "        c5.append(1)\n",
        "      else:    \n",
        "        c5.append(0)\n",
        "      if X[ciclo,2] == 6 and X[ciclo,0] == Anio:                \n",
        "        c6.append(1)\n",
        "      else:    \n",
        "        c6.append(0)\n",
        "      if X[ciclo,2] == 7 and X[ciclo,0] == Anio:                \n",
        "        c7.append(1)\n",
        "      else:    \n",
        "        c7.append(0)\n",
        "\n",
        "c1  = np.array(c1 )[:,np.newaxis]\n",
        "c2  = np.array(c2 )[:,np.newaxis]\n",
        "c3  = np.array(c3 )[:,np.newaxis]\n",
        "c4  = np.array(c4 )[:,np.newaxis]\n",
        "c5  = np.array(c5 )[:,np.newaxis]\n",
        "c6  = np.array(c6 )[:,np.newaxis]\n",
        "c7  = np.array(c7 )[:,np.newaxis]"
      ],
      "execution_count": 168,
      "outputs": []
    },
    {
      "cell_type": "code",
      "metadata": {
        "id": "zUSrtSrO-Rf-",
        "outputId": "40297495-6738-4283-eed1-6d68ffd285be",
        "colab": {
          "base_uri": "https://localhost:8080/",
          "height": 34
        }
      },
      "source": [
        "X[ c1[:,0]==1,1]"
      ],
      "execution_count": 186,
      "outputs": [
        {
          "output_type": "execute_result",
          "data": {
            "text/plain": [
              "array([ 2,  9,  4,  8, 10,  3, 12,  5,  1,  7, 11,  6])"
            ]
          },
          "metadata": {
            "tags": []
          },
          "execution_count": 186
        }
      ]
    },
    {
      "cell_type": "code",
      "metadata": {
        "id": "VvPVf8PHMrlc",
        "outputId": "cd8f1c41-610a-45fa-ee29-3984dc68103c",
        "colab": {
          "base_uri": "https://localhost:8080/",
          "height": 34
        }
      },
      "source": [
        "len(x_mes[ c1[:,0]==1,0])"
      ],
      "execution_count": 177,
      "outputs": [
        {
          "output_type": "execute_result",
          "data": {
            "text/plain": [
              "12"
            ]
          },
          "metadata": {
            "tags": []
          },
          "execution_count": 177
        }
      ]
    },
    {
      "cell_type": "code",
      "metadata": {
        "id": "nCrtbgQ3Q5UM",
        "outputId": "9485631b-433c-4abe-f1f3-a84a1ce5f41c",
        "colab": {
          "base_uri": "https://localhost:8080/",
          "height": 34
        }
      },
      "source": [
        "len(x_mes[ c1[:,0]==1,0])"
      ],
      "execution_count": 180,
      "outputs": [
        {
          "output_type": "execute_result",
          "data": {
            "text/plain": [
              "12"
            ]
          },
          "metadata": {
            "tags": []
          },
          "execution_count": 180
        }
      ]
    },
    {
      "cell_type": "code",
      "metadata": {
        "id": "oDKLYZdIhGDl",
        "outputId": "c8657e98-4d94-44a8-8026-cc10778d6ead",
        "colab": {
          "base_uri": "https://localhost:8080/",
          "height": 295
        }
      },
      "source": [
        "# Periodicidad\n",
        "# 1 -> 1TRIM - Color: Negro\n",
        "# 2 -> 2TRIM - Color: tomato\n",
        "# 3 -> 3TRIM - Color: fuchsia\n",
        "# 4 -> 4TRIM - Color: darkcyan \n",
        "# 5 -> 1-2 años - Color: Blue\n",
        "# 6 -> 3-4 años - Color: purple \n",
        "# 7 -> Mayor/igual 5 años - Color: Green \n",
        "\n",
        "color_={0:\"Black\",1:\"tomato\",2:\"fuchsia\",3:\"darkcyan\",4:\"Blue\",5:\"purple\",6:\"Green\"}\n",
        "fig, ax = plt.subplots()\n",
        "for ciclo in list(range (2019,2021)):     \n",
        "  if ciclo == 2019:  \n",
        "    ax.scatter(\n",
        "    X[ c1[:,0]==1,1],\n",
        "    Y[ c1[:,0]==1,0],\n",
        "    c= color_[0],\n",
        "    marker = \"^\",\n",
        "    label = ciclo,\n",
        "    alpha=0.5) \n",
        "plt.xlabel('Mes')\n",
        "plt.ylabel('Cantidad')\n",
        "plt.title('Bajas por antiguedad')\n",
        "plt.show()\n"
      ],
      "execution_count": 188,
      "outputs": [
        {
          "output_type": "display_data",
          "data": {
            "image/png": "[encoded data removed]",
            "text/plain": [
              "<Figure size 432x288 with 1 Axes>"
            ]
          },
          "metadata": {
            "tags": [],
            "needs_background": "light"
          }
        }
      ]
    },
    {
      "cell_type": "markdown",
      "metadata": {
        "id": "zPAqqmtHFw5k"
      },
      "source": [
        ""
      ]
    },
    {
      "cell_type": "markdown",
      "metadata": {
        "id": "hpFu72_s7-mj"
      },
      "source": [
        "## Modelo SVM"
      ]
    },
    {
      "cell_type": "code",
      "metadata": {
        "id": "A22ITLBX8C9W"
      },
      "source": [
        "from sklearn.model_selection import train_test_split\n",
        "from sklearn.metrics import accuracy_score\n",
        "from sklearn.svm import SVR"
      ],
      "execution_count": null,
      "outputs": []
    },
    {
      "cell_type": "code",
      "metadata": {
        "id": "G5BKDtaa8EY5"
      },
      "source": [
        "x  = x_mes[ c3[:,0]==1 , 0 ]\n",
        "y  = Y [ c3[:,0]==1 , 0 ]\n",
        "x  = x[:,np.newaxis]\n",
        "y  = y[:,np.newaxis]\n",
        "\n",
        "x_train, x_test, y_train, y_test = train_test_split(x,y ,test_size=0.2, random_state=0)"
      ],
      "execution_count": null,
      "outputs": []
    },
    {
      "cell_type": "code",
      "metadata": {
        "id": "hgCuk9XMWJAj"
      },
      "source": [
        "svr= SVR(kernel='rbf',degree=3, C=1.0, epsilon=0.2)\n",
        "svr.fit(x_train,y_train)"
      ],
      "execution_count": null,
      "outputs": []
    },
    {
      "cell_type": "code",
      "metadata": {
        "id": "EKtxSMztXyt8"
      },
      "source": [
        "y_predic = svr.predict(x_test)"
      ],
      "execution_count": null,
      "outputs": []
    },
    {
      "cell_type": "code",
      "metadata": {
        "id": "nceUui5fZu6s",
        "outputId": "959efe9a-b91b-4bf4-9883-65a57d273d70",
        "colab": {
          "base_uri": "https://localhost:8080/",
          "height": 265
        }
      },
      "source": [
        "plt.scatter(x_test,y_test, color='red')\n",
        "plt.plot(x_test,y_predic, color='Blue' )\n",
        "plt.show()"
      ],
      "execution_count": null,
      "outputs": [
        {
          "output_type": "display_data",
          "data": {
            "image/png": "[encoded data removed]",
            "text/plain": [
              "<Figure size 432x288 with 1 Axes>"
            ]
          },
          "metadata": {
            "tags": [],
            "needs_background": "light"
          }
        }
      ]
    },
    {
      "cell_type": "code",
      "metadata": {
        "id": "Lpk12ZptlJtC",
        "outputId": "b51bff89-337b-4f2b-dae1-2b15780bf57a",
        "colab": {
          "base_uri": "https://localhost:8080/",
          "height": 248
        }
      },
      "source": [
        "r=np.exp(-(- x_test **2).sum(1))\n",
        "from mpl_toolkits import mplot3d\n",
        "\n",
        "def plot_3D(elev=30, azim=30, x_test=x_test, y_test=y_test):\n",
        "  ax= plt.subplot(projection='3d')\n",
        "  ax.scatter3D(x_test,y_test,r,c=y_test,s=50,cmap='autumn')\n",
        "  ax.view_init(elev=elev, azim=azim)\n",
        "  ax.set_xlabel('x')\n",
        "  ax.set_ylabel('y')\n",
        "  ax.set_zlabel('z')\n",
        "plot_3D()"
      ],
      "execution_count": null,
      "outputs": [
        {
          "output_type": "display_data",
          "data": {
            "image/png": "[encoded data removed]",
            "text/plain": [
              "<Figure size 432x288 with 1 Axes>"
            ]
          },
          "metadata": {
            "tags": [],
            "needs_background": "light"
          }
        }
      ]
    },
    {
      "cell_type": "code",
      "metadata": {
        "id": "zzoKkSvb-f-n",
        "outputId": "32d062f6-b28f-49ca-aedf-32d6796b808d",
        "colab": {
          "base_uri": "https://localhost:8080/",
          "height": 248
        }
      },
      "source": [
        "r=np.exp(-(- x_test **2).sum(1))\n",
        "from mpl_toolkits import mplot3d\n",
        "\n",
        "color_={0:\"Black\",1:\"tomato\",2:\"fuchsia\",3:\"darkcyan\",4:\"Blue\",5:\"purple\",6:\"Green\"}\n",
        "\n",
        "for ciclo in list(range (2019,2021)): \n",
        "  def plot_3D(elev=30, azim=30, x_test=x_test, y_predic=y_predic):\n",
        "    ax= plt.subplot(projection='3d')\n",
        "    if ciclo == 2019:        \n",
        "        ax.scatter3D(x_test,y_test,r,c=y_test,s=50,cmap='autumn',marker = \"^\")\n",
        "        ax.view_init(elev=elev, azim=azim)         \n",
        "    else:     \n",
        "        ax.scatter3D(x_test,y_test,r,c=y_test,s=50,cmap='autumn',marker = \"o\")\n",
        "        ax.view_init(elev=elev, azim=azim)\n",
        "    ax.set_xlabel('x')\n",
        "    ax.set_ylabel('y')\n",
        "    ax.set_zlabel('z')        \n",
        "plot_3D()   "
      ],
      "execution_count": null,
      "outputs": [
        {
          "output_type": "display_data",
          "data": {
            "image/png": "[encoded data removed]",
            "text/plain": [
              "<Figure size 432x288 with 1 Axes>"
            ]
          },
          "metadata": {
            "tags": [],
            "needs_background": "light"
          }
        }
      ]
    },
    {
      "cell_type": "code",
      "metadata": {
        "id": "G1PvQH0RgSGc",
        "outputId": "d623da48-872c-4fc3-f904-db52c7932cb4",
        "colab": {
          "base_uri": "https://localhost:8080/",
          "height": 34
        }
      },
      "source": [
        "#Precisión del modelo\n",
        "print(svr.score(x_train,y_train))"
      ],
      "execution_count": null,
      "outputs": [
        {
          "output_type": "stream",
          "text": [
            "-0.12107661163547778\n"
          ],
          "name": "stdout"
        }
      ]
    },
    {
      "cell_type": "code",
      "metadata": {
        "id": "kFNM4iYiaggB",
        "outputId": "6d7e5855-a9b4-4383-a0db-a64ed67989fd",
        "colab": {
          "base_uri": "https://localhost:8080/",
          "height": 34
        }
      },
      "source": [
        "print(svr.score(x_test,y_test))"
      ],
      "execution_count": null,
      "outputs": [
        {
          "output_type": "stream",
          "text": [
            "0.0458665612401169\n"
          ],
          "name": "stdout"
        }
      ]
    },
    {
      "cell_type": "code",
      "metadata": {
        "id": "JTGGGcQha12I",
        "outputId": "0fe4e231-d629-467f-dbc0-6c17ade8875d",
        "colab": {
          "base_uri": "https://localhost:8080/",
          "height": 34
        }
      },
      "source": [
        "print(svr.score(x_test,y_predic))"
      ],
      "execution_count": null,
      "outputs": [
        {
          "output_type": "stream",
          "text": [
            "1.0\n"
          ],
          "name": "stdout"
        }
      ]
    },
    {
      "cell_type": "code",
      "metadata": {
        "id": "0cMQC0vKf_Ku",
        "outputId": "93a7dc4b-1350-4681-e6aa-5d97e66007d7",
        "colab": {
          "base_uri": "https://localhost:8080/",
          "height": 67
        }
      },
      "source": [
        "y_test"
      ],
      "execution_count": null,
      "outputs": [
        {
          "output_type": "execute_result",
          "data": {
            "text/plain": [
              "array([[297],\n",
              "       [184],\n",
              "       [236]])"
            ]
          },
          "metadata": {
            "tags": []
          },
          "execution_count": 88
        }
      ]
    },
    {
      "cell_type": "code",
      "metadata": {
        "id": "y9W58jQngBlv"
      },
      "source": [
        "y_predic"
      ],
      "execution_count": null,
      "outputs": []
    },
    {
      "cell_type": "code",
      "metadata": {
        "id": "_BGGfdwvkBoy",
        "outputId": "c27ea1cb-f4ff-4fad-d160-494308e3bab3",
        "colab": {
          "base_uri": "https://localhost:8080/",
          "height": 151
        }
      },
      "source": [
        "svr.support_vectors_"
      ],
      "execution_count": null,
      "outputs": [
        {
          "output_type": "execute_result",
          "data": {
            "text/plain": [
              "array([[ 3.],\n",
              "       [ 8.],\n",
              "       [ 7.],\n",
              "       [ 2.],\n",
              "       [ 1.],\n",
              "       [12.],\n",
              "       [10.],\n",
              "       [11.]])"
            ]
          },
          "metadata": {
            "tags": []
          },
          "execution_count": 91
        }
      ]
    }
  ]
}