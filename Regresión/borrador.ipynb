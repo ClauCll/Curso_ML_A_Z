{
  "nbformat": 4,
  "nbformat_minor": 0,
  "metadata": {
    "colab": {
      "name": "Untitled1.ipynb",
      "provenance": [],
      "include_colab_link": true
    },
    "kernelspec": {
      "name": "python3",
      "display_name": "Python 3"
    }
  },
  "cells": [
    {
      "cell_type": "markdown",
      "metadata": {
        "id": "view-in-github",
        "colab_type": "text"
      },
      "source": [
        "<a href=\"https://colab.research.google.com/github/ClauCll/Curso_ML_A_Z/blob/master/Regresi%C3%B3n/borrador.ipynb\" target=\"_parent\"><img src=\"https://colab.research.google.com/assets/colab-badge.svg\" alt=\"Open In Colab\"/></a>"
      ]
    },
    {
      "cell_type": "markdown",
      "metadata": {
        "id": "-J3qDXeFwvSb"
      },
      "source": [
        "## Cuantas serán las bajas voluntarias de los clientes fijos para un periodo x. (Agosto - Diciembre 2020)\n",
        " "
      ]
    },
    {
      "cell_type": "code",
      "metadata": {
        "id": "Vsqlhqgww1BG"
      },
      "source": [
        "import pandas as pd\n",
        "import numpy as np\n",
        "\n",
        "#Gráfico\n",
        "from mpl_toolkits.mplot3d import axes3d\n",
        "import matplotlib.pyplot as plt \n",
        "from matplotlib import style\n",
        "import matplotlib.ticker as ticker\n",
        "import seaborn as sns\n",
        "\n",
        "import gspread\n",
        "from oauth2client.client import GoogleCredentials \n",
        "from google.colab import auth\n",
        "# Autoriza Claudia\n",
        "auth.authenticate_user()\n",
        "gc = gspread.authorize (GoogleCredentials.get_application_default())"
      ],
      "execution_count": 19,
      "outputs": []
    },
    {
      "cell_type": "markdown",
      "metadata": {
        "id": "2xAoqlB_02Do"
      },
      "source": [
        "### leemos datos"
      ]
    },
    {
      "cell_type": "code",
      "metadata": {
        "id": "y_VVpj56uzRV",
        "outputId": "87a96993-033b-4779-df06-206ead808043",
        "colab": {
          "base_uri": "https://localhost:8080/"
        }
      },
      "source": [
        "from google.colab import drive\n",
        "drive.mount('/content/drive')"
      ],
      "execution_count": 20,
      "outputs": [
        {
          "output_type": "stream",
          "text": [
            "Drive already mounted at /content/drive; to attempt to forcibly remount, call drive.mount(\"/content/drive\", force_remount=True).\n"
          ],
          "name": "stdout"
        }
      ]
    },
    {
      "cell_type": "code",
      "metadata": {
        "id": "0JYqth2Ty8-k",
        "outputId": "62b82404-d580-4621-84af-2816998b77f8",
        "colab": {
          "base_uri": "https://localhost:8080/"
        }
      },
      "source": [
        "data = pd.read_csv('/content/drive/My Drive/Dataset/M_BAJAS.txt',delimiter='~')\n",
        "data.Fecha = pd.to_datetime(data.FECHA_BAJA)"
      ],
      "execution_count": 21,
      "outputs": [
        {
          "output_type": "stream",
          "text": [
            "/usr/local/lib/python3.6/dist-packages/ipykernel_launcher.py:2: UserWarning: Pandas doesn't allow columns to be created via a new attribute name - see https://pandas.pydata.org/pandas-docs/stable/indexing.html#attribute-access\n",
            "  \n"
          ],
          "name": "stderr"
        }
      ]
    },
    {
      "cell_type": "code",
      "metadata": {
        "id": "RbQx30WIGlcX"
      },
      "source": [
        "data.head(5)"
      ],
      "execution_count": null,
      "outputs": []
    },
    {
      "cell_type": "code",
      "metadata": {
        "id": "x5gI0SJbW5W6"
      },
      "source": [
        "encabezados= ['Año','Mes','Fecha','Antiguedad','Cant_Bajas']\n",
        "data.columns=encabezados"
      ],
      "execution_count": 22,
      "outputs": []
    },
    {
      "cell_type": "code",
      "metadata": {
        "id": "lB5IaAuJXHsS"
      },
      "source": [
        "data.head(5)"
      ],
      "execution_count": null,
      "outputs": []
    },
    {
      "cell_type": "code",
      "metadata": {
        "id": "MND5wUGBWhcM"
      },
      "source": [
        " #validamos datos faltantes\n",
        " print(pd.isnull(data).sum())"
      ],
      "execution_count": null,
      "outputs": []
    },
    {
      "cell_type": "code",
      "metadata": {
        "id": "S5N5IgkXbwjx"
      },
      "source": [
        "data.describe(include='all')"
      ],
      "execution_count": null,
      "outputs": []
    },
    {
      "cell_type": "code",
      "metadata": {
        "id": "lK3hH5q9eBqY"
      },
      "source": [
        "data.info "
      ],
      "execution_count": null,
      "outputs": []
    },
    {
      "cell_type": "code",
      "metadata": {
        "id": "m-qkKEZo3o6b"
      },
      "source": [
        "#Agrupamos la columna antiguedad\n",
        "#1 : 1 TRIMESTRE (0-93 DIAS)\n",
        "#2 : 2 TRIMESTRE (94-186 DIAS)\n",
        "#3 : 3 TRIMESTRE (187-279 DIAS)\n",
        "#4 : 4 TRIMESTRE (280-370 DIAS)\n",
        "#5 : A 2 AÑOS (371-725 DIAS) \n",
        "#6 : A 3 AÑOS (726-1095 DIAS)\n",
        "#7 : 4 años en adelante (Máximo DIAS 7276) \n",
        "bins=[-1,93,186,279,370,725,1095,7276]\n",
        "names=['1','2','3','4','5','6','7']\n",
        "data['Antiguedad'] = pd.cut(data['Antiguedad'],bins,labels=names)"
      ],
      "execution_count": 23,
      "outputs": []
    },
    {
      "cell_type": "code",
      "metadata": {
        "id": "t_YnKeJCPmXl",
        "outputId": "4ada3666-a4be-4f5c-9203-553060e94c3c",
        "colab": {
          "base_uri": "https://localhost:8080/",
          "height": 49
        }
      },
      "source": [
        "#validamos datos sin clasificar\n",
        "data[pd.isnull(data.Antiguedad)]"
      ],
      "execution_count": 7,
      "outputs": [
        {
          "output_type": "execute_result",
          "data": {
            "text/html": [
              "<div>\n",
              "<style scoped>\n",
              "    .dataframe tbody tr th:only-of-type {\n",
              "        vertical-align: middle;\n",
              "    }\n",
              "\n",
              "    .dataframe tbody tr th {\n",
              "        vertical-align: top;\n",
              "    }\n",
              "\n",
              "    .dataframe thead th {\n",
              "        text-align: right;\n",
              "    }\n",
              "</style>\n",
              "<table border=\"1\" class=\"dataframe\">\n",
              "  <thead>\n",
              "    <tr style=\"text-align: right;\">\n",
              "      <th></th>\n",
              "      <th>Año</th>\n",
              "      <th>Mes</th>\n",
              "      <th>Fecha</th>\n",
              "      <th>Antiguedad</th>\n",
              "      <th>Cant_Bajas</th>\n",
              "    </tr>\n",
              "  </thead>\n",
              "  <tbody>\n",
              "  </tbody>\n",
              "</table>\n",
              "</div>"
            ],
            "text/plain": [
              "Empty DataFrame\n",
              "Columns: [Año, Mes, Fecha, Antiguedad, Cant_Bajas]\n",
              "Index: []"
            ]
          },
          "metadata": {
            "tags": []
          },
          "execution_count": 7
        }
      ]
    },
    {
      "cell_type": "code",
      "metadata": {
        "id": "T8h3TtquOWsY"
      },
      "source": [
        "#pasamos datos a clasificados a entero\n",
        "data['Antiguedad'] = data['Antiguedad'].astype('int64')"
      ],
      "execution_count": 24,
      "outputs": []
    },
    {
      "cell_type": "code",
      "metadata": {
        "id": "GWnAOMUBv4Ph"
      },
      "source": [
        "data.dtypes"
      ],
      "execution_count": null,
      "outputs": []
    },
    {
      "cell_type": "code",
      "metadata": {
        "id": "Ez1C_xIJptVL"
      },
      "source": [
        "data.head(5)"
      ],
      "execution_count": null,
      "outputs": []
    },
    {
      "cell_type": "code",
      "metadata": {
        "id": "DN0uT17ujuNd"
      },
      "source": [
        " #validamos datos faltantes\n",
        " print(pd.isnull(data).sum())"
      ],
      "execution_count": null,
      "outputs": []
    },
    {
      "cell_type": "code",
      "metadata": {
        "id": "74Ihp7XaMISv"
      },
      "source": [
        "grupo = data.groupby(by = ['Año','Mes','Antiguedad']).sum()\n",
        "grupo= pd.DataFrame(grupo).reset_index()"
      ],
      "execution_count": 25,
      "outputs": []
    },
    {
      "cell_type": "code",
      "metadata": {
        "id": "z8BJoYLEN3I5",
        "outputId": "8e8be93c-a520-4540-c694-2b898662e0bf",
        "colab": {
          "base_uri": "https://localhost:8080/",
          "height": 204
        }
      },
      "source": [
        "grupo.head(5)"
      ],
      "execution_count": 9,
      "outputs": [
        {
          "output_type": "execute_result",
          "data": {
            "text/html": [
              "<div>\n",
              "<style scoped>\n",
              "    .dataframe tbody tr th:only-of-type {\n",
              "        vertical-align: middle;\n",
              "    }\n",
              "\n",
              "    .dataframe tbody tr th {\n",
              "        vertical-align: top;\n",
              "    }\n",
              "\n",
              "    .dataframe thead th {\n",
              "        text-align: right;\n",
              "    }\n",
              "</style>\n",
              "<table border=\"1\" class=\"dataframe\">\n",
              "  <thead>\n",
              "    <tr style=\"text-align: right;\">\n",
              "      <th></th>\n",
              "      <th>Año</th>\n",
              "      <th>Mes</th>\n",
              "      <th>Antiguedad</th>\n",
              "      <th>Cant_Bajas</th>\n",
              "    </tr>\n",
              "  </thead>\n",
              "  <tbody>\n",
              "    <tr>\n",
              "      <th>0</th>\n",
              "      <td>2019</td>\n",
              "      <td>1</td>\n",
              "      <td>1</td>\n",
              "      <td>29.0</td>\n",
              "    </tr>\n",
              "    <tr>\n",
              "      <th>1</th>\n",
              "      <td>2019</td>\n",
              "      <td>1</td>\n",
              "      <td>2</td>\n",
              "      <td>28.0</td>\n",
              "    </tr>\n",
              "    <tr>\n",
              "      <th>2</th>\n",
              "      <td>2019</td>\n",
              "      <td>1</td>\n",
              "      <td>3</td>\n",
              "      <td>35.0</td>\n",
              "    </tr>\n",
              "    <tr>\n",
              "      <th>3</th>\n",
              "      <td>2019</td>\n",
              "      <td>1</td>\n",
              "      <td>4</td>\n",
              "      <td>125.0</td>\n",
              "    </tr>\n",
              "    <tr>\n",
              "      <th>4</th>\n",
              "      <td>2019</td>\n",
              "      <td>1</td>\n",
              "      <td>5</td>\n",
              "      <td>587.0</td>\n",
              "    </tr>\n",
              "  </tbody>\n",
              "</table>\n",
              "</div>"
            ],
            "text/plain": [
              "    Año  Mes Antiguedad  Cant_Bajas\n",
              "0  2019    1          1        29.0\n",
              "1  2019    1          2        28.0\n",
              "2  2019    1          3        35.0\n",
              "3  2019    1          4       125.0\n",
              "4  2019    1          5       587.0"
            ]
          },
          "metadata": {
            "tags": []
          },
          "execution_count": 9
        }
      ]
    },
    {
      "cell_type": "code",
      "metadata": {
        "id": "8oP46fCvdWkB"
      },
      "source": [
        " #validamos datos faltantes\n",
        " print(pd.isnull(grupo).sum())"
      ],
      "execution_count": null,
      "outputs": []
    },
    {
      "cell_type": "code",
      "metadata": {
        "id": "yh8BKX9FeFxK"
      },
      "source": [
        "#grupo.dropna(subset = ['Cant_Bajas'] , axis=0, inplace=True)"
      ],
      "execution_count": null,
      "outputs": []
    },
    {
      "cell_type": "code",
      "metadata": {
        "id": "WLKCRVJ2MmrV"
      },
      "source": [
        "x= grupo.iloc[:,:-1].values\n",
        "x=np.array(x)\n",
        "y= grupo.iloc[:,3].values\n",
        "y = y[:,np.newaxis]"
      ],
      "execution_count": 26,
      "outputs": []
    },
    {
      "cell_type": "code",
      "metadata": {
        "id": "QB-OlPjkfw_G"
      },
      "source": [
        "from sklearn.preprocessing import LabelEncoder, OneHotEncoder\n",
        "from sklearn.compose import ColumnTransformer\n",
        "\n",
        "labelencoder= LabelEncoder()\n",
        "x[:,2] = labelencoder.fit_transform(x[:,2])\n",
        "ct = ColumnTransformer([('one_hot_encoder',OneHotEncoder(categories='auto'),[2])],remainder='passthrough')\n",
        "x=np.array(ct.fit_transform(x),dtype=np.int)"
      ],
      "execution_count": 27,
      "outputs": []
    },
    {
      "cell_type": "code",
      "metadata": {
        "id": "19Ctqj3hMOGB"
      },
      "source": [
        "from sklearn.model_selection import train_test_split\n",
        "x_train, x_test, y_train, y_test = train_test_split(x,y,test_size=0.2, random_state=0)"
      ],
      "execution_count": 28,
      "outputs": []
    },
    {
      "cell_type": "code",
      "metadata": {
        "id": "IHam3VSCVqOA",
        "outputId": "a41e186e-b212-4ca1-a3ba-3fd58c96f0f2",
        "colab": {
          "base_uri": "https://localhost:8080/"
        }
      },
      "source": [
        "from sklearn.preprocessing import PolynomialFeatures\n",
        "poly_reg = PolynomialFeatures(degree = 3)\n",
        "x_poly_train = poly_reg.fit_transform(x_train)\n",
        "x_poly_test = poly_reg.fit_transform(x_test)\n",
        "\n",
        "from sklearn.linear_model import LinearRegression\n",
        "lineal_poly = LinearRegression()\n",
        "lineal_poly.fit(x_poly_train,y_train)\n",
        "\n",
        "print(\"precisión del modelo regresión polinomial\")\n",
        "print(lineal_poly.score(x_poly_train,y_train))"
      ],
      "execution_count": 29,
      "outputs": [
        {
          "output_type": "stream",
          "text": [
            "precisión del modelo regresión polinomial\n",
            "0.881223363134311\n"
          ],
          "name": "stdout"
        }
      ]
    },
    {
      "cell_type": "code",
      "metadata": {
        "id": "Y8e8nJB9wEnL"
      },
      "source": [
        "y_predic_train = lineal_poly.predict(x_poly_train)\n",
        "y_predic_test = lineal_poly.predict(x_poly_test)"
      ],
      "execution_count": 30,
      "outputs": []
    },
    {
      "cell_type": "code",
      "metadata": {
        "id": "qT4vZSmWVygB"
      },
      "source": [
        "cont_reg=0\n",
        "año=2020\n",
        "acum1=0\n",
        "acum2=0\n",
        "acum3=0\n",
        "acum4=0\n",
        "acum5=0\n",
        "acum6=0\n",
        "acum7=0\n",
        "acum8=0\n",
        "acum9=0\n",
        "acum10=0\n",
        "acum11=0\n",
        "acum12=0\n",
        "acump1=0\n",
        "acump2=0\n",
        "acump3=0\n",
        "acump4=0\n",
        "acump5=0\n",
        "acump6=0\n",
        "acump7=0\n",
        "acump8=0\n",
        "acump9=0\n",
        "acump10=0\n",
        "acump11=0\n",
        "acump12=0\n",
        "for _ in x_train[:,8]:\n",
        "  if x_train[cont_reg,7] == año:\n",
        "    if x_train[cont_reg,8]== 1:\n",
        "      acum1=acum1+ y_train[cont_reg]\n",
        "      acump1=acump1+ y_predic_train[cont_reg]\n",
        "    else:\n",
        "      if x_train[cont_reg,8]== 2:\n",
        "        acum2=acum2+ y_train[cont_reg]\n",
        "        acump2=acump2+ y_predic_train[cont_reg]      \n",
        "      else:\n",
        "        if x_train[cont_reg,8]== 3:\n",
        "          acum3=acum3+ y_train[cont_reg]\n",
        "          acump3=acump3+ y_predic_train[cont_reg]     \n",
        "        else:\n",
        "          if x_train[cont_reg,8]== 4:\n",
        "            acum4=acum4+ y_train[cont_reg]\n",
        "            acump4=acump4+ y_predic_train[cont_reg]      \n",
        "          else:\n",
        "            if x_train[cont_reg,8]== 5:\n",
        "              acum5=acum5+ y_train[cont_reg]\n",
        "              acump5=acump5+ y_predic_train[cont_reg]      \n",
        "            else:\n",
        "              if x_train[cont_reg,8]== 6:\n",
        "                acum6=acum6+ y_train[cont_reg]\n",
        "                acump6=acump6+ y_predic_train[cont_reg]      \n",
        "              else:\n",
        "                if x_train[cont_reg,8]== 7:\n",
        "                  acum7=acum7+ y_train[cont_reg]\n",
        "                  acump7=acump7+y_predic_train[cont_reg]      \n",
        "                else:\n",
        "                  if x_train[cont_reg,8]== 8:\n",
        "                    acum8=acum8+ y_train[cont_reg]\n",
        "                    acump8=acump8+ y_predic_train[cont_reg]     \n",
        "                  else:\n",
        "                    if x_train[cont_reg,8]== 9:\n",
        "                      acum9=acum9+ y_train[cont_reg]\n",
        "                      acump9=acump9+ y_predic_train[cont_reg]      \n",
        "                    else:\n",
        "                      if x_train[cont_reg,8]== 10:\n",
        "                        acum10=acum10+ y_train[cont_reg]\n",
        "                        acump10=acump10+ y_predic_train[cont_reg]    \n",
        "                      else:\n",
        "                        if x_train[cont_reg,8]== 11:\n",
        "                          acum11=acum11+ y_train[cont_reg]\n",
        "                          acump11=acump11+ y_predic_train[cont_reg]    \n",
        "                        else:\n",
        "                          if x_train[cont_reg,8]== 12:\n",
        "                            acum12=acum12+ y_train[cont_reg]     \n",
        "                            acump12=acump12+ y_predic_train[cont_reg]       \n",
        "  else:\n",
        "      pass\n",
        "  cont_reg=cont_reg+1\n",
        "x_g, y_g, y_g_p = [],[],[]\n",
        "for _ in range(1,13):\n",
        "  x_g.append(_)\n",
        "  if _ == 1:\n",
        "    y_g.append(acum1)\n",
        "    y_g_p.append(acump1)  \n",
        "  if _== 2:\n",
        "    y_g.append(acum2)\n",
        "    y_g_p.append(acump2)\n",
        "  if _== 3:\n",
        "    y_g.append(acum3)\n",
        "    y_g_p.append(acump3)\n",
        "  if _ == 4:\n",
        "    y_g.append(acum4)\n",
        "    y_g_p.append(acump4)\n",
        "  if _== 5:\n",
        "    y_g.append(acum5)\n",
        "    y_g_p.append(acump5)\n",
        "  if _== 6:\n",
        "    y_g.append(acum6)\n",
        "    y_g_p.append(acump6)\n",
        "  if _ ==7:\n",
        "    y_g.append(acum7)\n",
        "    y_g_p.append(acump7)\n",
        "  if _== 8:\n",
        "    y_g.append(acum8)\n",
        "    y_g_p.append(acump8)\n",
        "  if _== 9:\n",
        "    y_g.append(acum9)\n",
        "    y_g_p.append(acump9)\n",
        "  if _== 10:\n",
        "    y_g.append(acum10)\n",
        "    y_g_p.append(acump10)\n",
        "  if _== 11:\n",
        "    y_g.append(acum11)\n",
        "    y_g_p.append(acump11)\n",
        "  if _== 12:\n",
        "    y_g.append(acum12) \n",
        "    y_g_p.append(acump12)\n",
        "  "
      ],
      "execution_count": 31,
      "outputs": []
    },
    {
      "cell_type": "code",
      "metadata": {
        "id": "SacM1SUXwoMA",
        "outputId": "b6393150-a46b-448c-ce9a-cc63eb7e083d",
        "colab": {
          "base_uri": "https://localhost:8080/",
          "height": 295
        }
      },
      "source": [
        "#Gráfica\n",
        "fig, ax = plt.subplots()\n",
        "for ciclo in list(range (año,año+1)):   \n",
        "  if ciclo == año:      \n",
        "    marca =\"^\"\n",
        "  else:\n",
        "    print ('cero')\n",
        "    marca =\"o\"\n",
        "  ax.scatter(\n",
        "    x_g[:],    \n",
        "    y_g[:],\n",
        "    c=\"Blue\",\n",
        "    marker = marca,\n",
        "    label = ciclo,\n",
        "    alpha=0.5)\n",
        "  ax.plot(\n",
        "    x_g[:],    \n",
        "    y_g_p[:],\n",
        "    c=\"Red\",\n",
        "    marker = marca,\n",
        "    label = ciclo,\n",
        "    alpha=0.5)\n",
        "#plt.legend()\n",
        "plt.title(\"Bajas FTTH Voluntario - Datos de entrenamiento\")\n",
        "plt.xlabel (\"Mes\")\n",
        "plt.ylabel (\"Cantidad\" )\n",
        "plt.show()"
      ],
      "execution_count": 32,
      "outputs": [
        {
          "output_type": "display_data",
          "data": {
            "image/png": "[encoded data removed]",
            "text/plain": [
              "<Figure size 432x288 with 1 Axes>"
            ]
          },
          "metadata": {
            "tags": [],
            "needs_background": "light"
          }
        }
      ]
    },
    {
      "cell_type": "code",
      "metadata": {
        "id": "kq3ISRqMrOFQ"
      },
      "source": [
        "cont_reg=0\n",
        "año=2020\n",
        "acum1=0\n",
        "acum2=0\n",
        "acum3=0\n",
        "acum4=0\n",
        "acum5=0\n",
        "acum6=0\n",
        "acum7=0\n",
        "acum8=0\n",
        "acum9=0\n",
        "acum10=0\n",
        "acum11=0\n",
        "acum12=0\n",
        "acump1=0\n",
        "acump2=0\n",
        "acump3=0\n",
        "acump4=0\n",
        "acump5=0\n",
        "acump6=0\n",
        "acump7=0\n",
        "acump8=0\n",
        "acump9=0\n",
        "acump10=0\n",
        "acump11=0\n",
        "acump12=0\n",
        "for _ in x_test[:,8]:\n",
        "  if x_test[cont_reg,7] == año:\n",
        "    if x_test[cont_reg,8]== 1:\n",
        "      acum1=acum1+ y_test[cont_reg]\n",
        "      acump1=acump1+ y_predic_test[cont_reg]      \n",
        "    else:\n",
        "      if x_test[cont_reg,8]== 2:\n",
        "        acum2=acum2+ y_test[cont_reg]\n",
        "        acump2=acump2+ y_predic_test[cont_reg]       \n",
        "      else:\n",
        "        if x_test[cont_reg,8]== 3:\n",
        "          acum3=acum3+ y_test[cont_reg]\n",
        "          acump3=acump3+ y_predic_test[cont_reg]      \n",
        "        else:\n",
        "          if x_test[cont_reg,8]== 4:\n",
        "            acum4=acum4+ y_test[cont_reg]\n",
        "            acump4=acump4+ y_predic_test[cont_reg]      \n",
        "          else:\n",
        "            if x_test[cont_reg,8]== 5:\n",
        "              acum5=acum5+ y_test[cont_reg]\n",
        "              acump5=acump5+ y_predic_test[cont_reg]       \n",
        "            else:\n",
        "              if x_test[cont_reg,8]== 6:\n",
        "                acum6=acum6+ y_test[cont_reg]\n",
        "                acump6=acump6+ y_predic_test[cont_reg]       \n",
        "              else:\n",
        "                if x_test[cont_reg,8]== 7:\n",
        "                  acum7=acum7+ y_test[cont_reg]\n",
        "                  acump7=acump7+ y_predic_test[cont_reg]       \n",
        "                else:\n",
        "                  if x_test[cont_reg,8]== 8:\n",
        "                    acum8=acum8+ y_test[cont_reg]\n",
        "                    acump8=acump8+ y_predic_test[cont_reg]       \n",
        "                  else:\n",
        "                    if x_test[cont_reg,8]== 9:\n",
        "                      acum9=acum9+ y_test[cont_reg]\n",
        "                      acump9=acump9+ y_predic_test[cont_reg]      \n",
        "                    else:\n",
        "                      if x_test[cont_reg,8]== 10:\n",
        "                        acum10=acum10+ y_test[cont_reg]\n",
        "                        acump10=acump10+ y_predic_test[cont_reg]       \n",
        "                      else:\n",
        "                        if x_test[cont_reg,8]== 11:\n",
        "                          acum11=acum11+ y_test[cont_reg]\n",
        "                          acump11=acump11+ y_predic_test[cont_reg]       \n",
        "                        else:\n",
        "                          if x_test[cont_reg,8]== 12:\n",
        "                            acum12=acum12+ y_test[cont_reg]     \n",
        "                            acump12=acump12+ y_predic_test[cont_reg]        \n",
        "  else:\n",
        "      pass\n",
        "  cont_reg=cont_reg+1\n",
        "x_g_t, y_g_t, y_g_p_t = [],[],[]\n",
        "for _ in range(1,13):\n",
        "  x_g_t.append(_)   \n",
        "  if _ == 1:\n",
        "    y_g_t.append(acum1)\n",
        "    y_g_p_t.append(acump1)    \n",
        "  if _== 2:\n",
        "    y_g_t.append(acum2)\n",
        "    y_g_p_t.append(acump2)\n",
        "  if _== 3:\n",
        "    y_g_t.append(acum3)\n",
        "    y_g_p_t.append(acump3)\n",
        "  if _ == 4:\n",
        "    y_g_t.append(acum4)\n",
        "    y_g_p_t.append(acump4)\n",
        "  if _== 5:\n",
        "    y_g_t.append(acum5)\n",
        "    y_g_p_t.append(acump5)\n",
        "  if _== 6:\n",
        "    y_g_t.append(acum6)\n",
        "    y_g_p_t.append(acump6)\n",
        "  if _ ==7:\n",
        "    y_g_t.append(acum7)\n",
        "    y_g_p_t.append(acump7)\n",
        "  if _== 8:\n",
        "    y_g_t.append(acum8)\n",
        "    y_g_p_t.append(acump8)\n",
        "  if _== 9:\n",
        "    y_g_t.append(acum9)\n",
        "    y_g_p_t.append(acump9)\n",
        "  if _== 10:\n",
        "    y_g_t.append(acum10)\n",
        "    y_g_p_t.append(acump10)\n",
        "  if _== 11:\n",
        "    y_g_t.append(acum11)\n",
        "    y_g_p_t.append(acump11)\n",
        "  if _== 12:\n",
        "    y_g_t.append(acum12) \n",
        "    y_g_p_t.append(acump12)\n",
        "  "
      ],
      "execution_count": 33,
      "outputs": []
    },
    {
      "cell_type": "code",
      "metadata": {
        "id": "hXzIBtJzry2W",
        "outputId": "0b69f81a-c0a2-44df-cbd0-9ec5394cd204",
        "colab": {
          "base_uri": "https://localhost:8080/",
          "height": 295
        }
      },
      "source": [
        "#Gráfica datos test\n",
        "fig, ax = plt.subplots()\n",
        "for ciclo in list(range (año,año+1)):   \n",
        "  if ciclo == año:      \n",
        "    marca =\"^\"\n",
        "  else:\n",
        "    print ('cero')\n",
        "    marca =\"o\"\n",
        "  ax.scatter(\n",
        "    x_g_t[:],    \n",
        "    y_g_t[:],\n",
        "    c=\"Blue\",\n",
        "    marker = marca,\n",
        "    label = ciclo,\n",
        "    alpha=0.5)\n",
        "  ax.plot(\n",
        "    x_g_t[:],    \n",
        "    y_g_p_t[:],\n",
        "    c=\"Red\",\n",
        "    marker = marca,\n",
        "    label = ciclo,\n",
        "    alpha=0.5)\n",
        "#plt.legend()\n",
        "plt.title(\"Bajas FTTH Voluntario - Datos de test\")\n",
        "plt.xlabel (\"Mes\")\n",
        "plt.ylabel (\"Cantidad\" )\n",
        "plt.show()"
      ],
      "execution_count": 34,
      "outputs": [
        {
          "output_type": "display_data",
          "data": {
            "image/png": "[encoded data removed]",
            "text/plain": [
              "<Figure size 432x288 with 1 Axes>"
            ]
          },
          "metadata": {
            "tags": [],
            "needs_background": "light"
          }
        }
      ]
    },
    {
      "cell_type": "code",
      "metadata": {
        "id": "6p6NiWKGEgIc"
      },
      "source": [
        "#Datos a predecir\n",
        "c_anio = [\"2020\"] * 35\n",
        "c_mes = [\"8\"] * 7 + [\"9\"] * 7 + [\"10\"] * 7 + [\"11\"] * 7 + [\"12\"] * 7\n",
        "c_antiguedad = [1,2,3,4,5,6,7] + [1,2,3,4,5,6,7] +[1,2,3,4,5,6,7] +[1,2,3,4,5,6,7] +[1,2,3,4,5,6,7]  \n",
        "df2 = pd.DataFrame({\"Año\": c_anio, \"Mes\": c_mes, \"Antiguedad\": c_antiguedad})"
      ],
      "execution_count": 45,
      "outputs": []
    },
    {
      "cell_type": "code",
      "metadata": {
        "id": "AvIz4cZg0tjk",
        "outputId": "d1fdf64e-5f61-42ab-cad5-3393a0996808",
        "colab": {
          "base_uri": "https://localhost:8080/",
          "height": 204
        }
      },
      "source": [
        "df2.head(5)"
      ],
      "execution_count": 46,
      "outputs": [
        {
          "output_type": "execute_result",
          "data": {
            "text/html": [
              "<div>\n",
              "<style scoped>\n",
              "    .dataframe tbody tr th:only-of-type {\n",
              "        vertical-align: middle;\n",
              "    }\n",
              "\n",
              "    .dataframe tbody tr th {\n",
              "        vertical-align: top;\n",
              "    }\n",
              "\n",
              "    .dataframe thead th {\n",
              "        text-align: right;\n",
              "    }\n",
              "</style>\n",
              "<table border=\"1\" class=\"dataframe\">\n",
              "  <thead>\n",
              "    <tr style=\"text-align: right;\">\n",
              "      <th></th>\n",
              "      <th>Año</th>\n",
              "      <th>Mes</th>\n",
              "      <th>Antiguedad</th>\n",
              "    </tr>\n",
              "  </thead>\n",
              "  <tbody>\n",
              "    <tr>\n",
              "      <th>0</th>\n",
              "      <td>2020</td>\n",
              "      <td>8</td>\n",
              "      <td>1</td>\n",
              "    </tr>\n",
              "    <tr>\n",
              "      <th>1</th>\n",
              "      <td>2020</td>\n",
              "      <td>8</td>\n",
              "      <td>2</td>\n",
              "    </tr>\n",
              "    <tr>\n",
              "      <th>2</th>\n",
              "      <td>2020</td>\n",
              "      <td>8</td>\n",
              "      <td>3</td>\n",
              "    </tr>\n",
              "    <tr>\n",
              "      <th>3</th>\n",
              "      <td>2020</td>\n",
              "      <td>8</td>\n",
              "      <td>4</td>\n",
              "    </tr>\n",
              "    <tr>\n",
              "      <th>4</th>\n",
              "      <td>2020</td>\n",
              "      <td>8</td>\n",
              "      <td>5</td>\n",
              "    </tr>\n",
              "  </tbody>\n",
              "</table>\n",
              "</div>"
            ],
            "text/plain": [
              "    Año Mes  Antiguedad\n",
              "0  2020   8           1\n",
              "1  2020   8           2\n",
              "2  2020   8           3\n",
              "3  2020   8           4\n",
              "4  2020   8           5"
            ]
          },
          "metadata": {
            "tags": []
          },
          "execution_count": 46
        }
      ]
    },
    {
      "cell_type": "code",
      "metadata": {
        "id": "u8UQdBqTHTWJ"
      },
      "source": [
        "x2= df2.iloc[:,:].values\n",
        "x2=np.array(x2)\n",
        "\n",
        "from sklearn.preprocessing import LabelEncoder, OneHotEncoder\n",
        "from sklearn.compose import ColumnTransformer\n",
        "\n",
        "labelencoder2= LabelEncoder()\n",
        "x2[:,2] = labelencoder2.fit_transform(x2[:,2])\n",
        "ct2 = ColumnTransformer([('one_hot_encoder',OneHotEncoder(categories='auto'),[2])],remainder='passthrough')\n",
        "x2=np.array(ct2.fit_transform(x2),dtype=np.int)"
      ],
      "execution_count": 47,
      "outputs": []
    },
    {
      "cell_type": "code",
      "metadata": {
        "id": "1YXKFVDQ1eOU"
      },
      "source": [
        "x_poly_p = poly_reg.fit_transform(x2)"
      ],
      "execution_count": 50,
      "outputs": []
    },
    {
      "cell_type": "code",
      "metadata": {
        "id": "3fwQ0_GM2ItM"
      },
      "source": [
        "y_predic_x2 = lineal_poly.predict(x_poly_p)"
      ],
      "execution_count": 51,
      "outputs": []
    },
    {
      "cell_type": "code",
      "metadata": {
        "id": "3fxE4Z112mgk"
      },
      "source": [
        "pd.DataFrame(x2)"
      ],
      "execution_count": null,
      "outputs": []
    },
    {
      "cell_type": "code",
      "metadata": {
        "id": "SVgURABboOHi"
      },
      "source": [
        "pd.DataFrame(x_poly_test[0:5])"
      ],
      "execution_count": null,
      "outputs": []
    },
    {
      "cell_type": "code",
      "metadata": {
        "id": "q95vUr381QRS"
      },
      "source": [
        "pd.DataFrame(x_poly_p[0:5])"
      ],
      "execution_count": null,
      "outputs": []
    },
    {
      "cell_type": "code",
      "metadata": {
        "id": "x_U7UMwC3mXa",
        "outputId": "ef4118e2-2a2b-49f8-b334-ce4af5f9dd06",
        "colab": {
          "base_uri": "https://localhost:8080/"
        }
      },
      "source": [
        "x2[:,8]"
      ],
      "execution_count": 54,
      "outputs": [
        {
          "output_type": "execute_result",
          "data": {
            "text/plain": [
              "array([ 8,  8,  8,  8,  8,  8,  8,  9,  9,  9,  9,  9,  9,  9, 10, 10, 10,\n",
              "       10, 10, 10, 10, 11, 11, 11, 11, 11, 11, 11, 12, 12, 12, 12, 12, 12,\n",
              "       12])"
            ]
          },
          "metadata": {
            "tags": []
          },
          "execution_count": 54
        }
      ]
    },
    {
      "cell_type": "code",
      "metadata": {
        "id": "m63QPE1L39zv"
      },
      "source": [
        "pd.DataFrame(y_predic_x2)"
      ],
      "execution_count": null,
      "outputs": []
    },
    {
      "cell_type": "code",
      "metadata": {
        "id": "TBkuMPjA4Kqe"
      },
      "source": [
        "pd.DataFrame(x2)"
      ],
      "execution_count": null,
      "outputs": []
    },
    {
      "cell_type": "code",
      "metadata": {
        "id": "4pDzRptII6lC"
      },
      "source": [
        "cont_reg=0\n",
        "año=2020\n",
        "acump1=0\n",
        "acump2=0\n",
        "acump3=0\n",
        "acump4=0\n",
        "acump5=0\n",
        "acump6=0\n",
        "acump7=0\n",
        "acump8=0\n",
        "acump9=0\n",
        "acump10=0\n",
        "acump11=0\n",
        "acump12=0\n",
        "for _ in x2[:,8]:\n",
        "  if x2[cont_reg,7] == año:\n",
        "    if x2[cont_reg,8]== 1:      \n",
        "      acump1=acump1+ y_predic_x2[cont_reg]      \n",
        "    else:\n",
        "      if x2[cont_reg,8]== 2:        \n",
        "        acump2=acump2+ y_predic_x2[cont_reg]       \n",
        "      else:\n",
        "        if x2[cont_reg,8]== 3:          \n",
        "          acump3=acump3+ y_predic_x2[cont_reg]      \n",
        "        else:\n",
        "          if x2[cont_reg,8]== 4:            \n",
        "            acump4=acump4+ y_predic_x2[cont_reg]      \n",
        "          else:\n",
        "            if x2[cont_reg,8]== 5:              \n",
        "              acump5=acump5+ y_predic_x2[cont_reg]       \n",
        "            else:\n",
        "              if x2[cont_reg,8]== 6:                \n",
        "                acump6=acump6+ y_predic_x2[cont_reg]       \n",
        "              else:\n",
        "                if x2[cont_reg,8]== 7:                  \n",
        "                  acump7=acump7+ y_predic_x2[cont_reg]       \n",
        "                else:\n",
        "                  if x2[cont_reg,8]== 8:                    \n",
        "                    acump8=acump8+ y_predic_x2[cont_reg]       \n",
        "                  else:\n",
        "                    if x2[cont_reg,8]== 9:                      \n",
        "                      acump9=acump9+ y_predic_x2[cont_reg]      \n",
        "                    else:\n",
        "                      if x2[cont_reg,8]== 10:                        \n",
        "                        acump10=acump10+ y_predic_x2[cont_reg]       \n",
        "                      else:\n",
        "                        if x2[cont_reg,8]== 11:                          \n",
        "                          acump11=acump11+ y_predic_x2[cont_reg]       \n",
        "                        else:\n",
        "                          if x2[cont_reg,8]== 12:                               \n",
        "                            acump12=acump12+ y_predic_x2[cont_reg]        \n",
        "  else:\n",
        "      pass\n",
        "  cont_reg=cont_reg+1\n",
        "x2_p, y2_p = [],[]\n",
        "for _ in range(1,13):\n",
        "  x2_p.append(_)   \n",
        "  if _ == 1:    \n",
        "    y2_p.append(acump1)    \n",
        "  if _== 2:    \n",
        "    y2_p.append(acump2)\n",
        "  if _== 3:    \n",
        "    y2_p.append(acump3)\n",
        "  if _ == 4:    \n",
        "    y2_p.append(acump4)\n",
        "  if _== 5:    \n",
        "    y2_p.append(acump5)\n",
        "  if _== 6:    \n",
        "    y2_p.append(acump6)\n",
        "  if _ ==7:    \n",
        "    y2_p.append(acump7)\n",
        "  if _== 8:    \n",
        "    y2_p.append(acump8)\n",
        "  if _== 9:    \n",
        "    y2_p.append(acump9)\n",
        "  if _== 10:    \n",
        "    y2_p.append(acump10)\n",
        "  if _== 11:    \n",
        "    y2_p.append(acump11)\n",
        "  if _== 12:    \n",
        "    y2_p.append(acump12)\n"
      ],
      "execution_count": 61,
      "outputs": []
    },
    {
      "cell_type": "code",
      "metadata": {
        "id": "ngEdh3bYJDvE",
        "outputId": "9aa89428-c4b9-4f48-84bf-4ba0aeee6af0",
        "colab": {
          "base_uri": "https://localhost:8080/",
          "height": 295
        }
      },
      "source": [
        "#Gráfica datos predicción\n",
        "fig, ax = plt.subplots()\n",
        "for ciclo in list(range (año,año+1)):   \n",
        "  if ciclo == año:      \n",
        "    marca =\"o\"\n",
        "  else:\n",
        "    print ('cero')\n",
        "    marca =\"o\"  \n",
        "  ax.scatter(\n",
        "    x_g_t[:],    \n",
        "    y_g_t[:],\n",
        "    c=\"Blue\",\n",
        "    marker = marca,\n",
        "    label = ciclo,\n",
        "    alpha=0.5)\n",
        "  ax.plot(\n",
        "    x2_p[:],    \n",
        "    y2_p[:],\n",
        "    c=\"Red\",\n",
        "    marker = marca,\n",
        "    label = ciclo,\n",
        "    alpha=0.5)\n",
        "#plt.legend()\n",
        "plt.title(\"Bajas FTTH Voluntario - Agosto - Diciembre 2020\")\n",
        "plt.xlabel (\"Mes\")\n",
        "plt.ylabel (\"Cantidad\" )\n",
        "plt.show()"
      ],
      "execution_count": 63,
      "outputs": [
        {
          "output_type": "display_data",
          "data": {
            "image/png": "[encoded data removed]",
            "text/plain": [
              "<Figure size 432x288 with 1 Axes>"
            ]
          },
          "metadata": {
            "tags": [],
            "needs_background": "light"
          }
        }
      ]
    },
    {
      "cell_type": "code",
      "metadata": {
        "id": "FGdzd5BlOWJz"
      },
      "source": [
        ""
      ],
      "execution_count": null,
      "outputs": []
    },
    {
      "cell_type": "code",
      "metadata": {
        "id": "7ZZ5F9WBb99E",
        "outputId": "87a308e9-3bd4-425c-815d-8aa3dcf1838e",
        "colab": {
          "base_uri": "https://localhost:8080/",
          "height": 166
        }
      },
      "source": [
        "grupo.corr(method ='pearson')"
      ],
      "execution_count": null,
      "outputs": [
        {
          "output_type": "execute_result",
          "data": {
            "text/html": [
              "<div>\n",
              "<style scoped>\n",
              "    .dataframe tbody tr th:only-of-type {\n",
              "        vertical-align: middle;\n",
              "    }\n",
              "\n",
              "    .dataframe tbody tr th {\n",
              "        vertical-align: top;\n",
              "    }\n",
              "\n",
              "    .dataframe thead th {\n",
              "        text-align: right;\n",
              "    }\n",
              "</style>\n",
              "<table border=\"1\" class=\"dataframe\">\n",
              "  <thead>\n",
              "    <tr style=\"text-align: right;\">\n",
              "      <th></th>\n",
              "      <th>Año</th>\n",
              "      <th>Mes</th>\n",
              "      <th>Antiguedad</th>\n",
              "      <th>Cant_Bajas</th>\n",
              "    </tr>\n",
              "  </thead>\n",
              "  <tbody>\n",
              "    <tr>\n",
              "      <th>Año</th>\n",
              "      <td>1.000000</td>\n",
              "      <td>-3.729741e-01</td>\n",
              "      <td>0.000000e+00</td>\n",
              "      <td>0.000419</td>\n",
              "    </tr>\n",
              "    <tr>\n",
              "      <th>Mes</th>\n",
              "      <td>-0.372974</td>\n",
              "      <td>1.000000e+00</td>\n",
              "      <td>-2.065386e-18</td>\n",
              "      <td>-0.032045</td>\n",
              "    </tr>\n",
              "    <tr>\n",
              "      <th>Antiguedad</th>\n",
              "      <td>0.000000</td>\n",
              "      <td>-2.065386e-18</td>\n",
              "      <td>1.000000e+00</td>\n",
              "      <td>0.701732</td>\n",
              "    </tr>\n",
              "    <tr>\n",
              "      <th>Cant_Bajas</th>\n",
              "      <td>0.000419</td>\n",
              "      <td>-3.204475e-02</td>\n",
              "      <td>7.017319e-01</td>\n",
              "      <td>1.000000</td>\n",
              "    </tr>\n",
              "  </tbody>\n",
              "</table>\n",
              "</div>"
            ],
            "text/plain": [
              "                 Año           Mes    Antiguedad  Cant_Bajas\n",
              "Año         1.000000 -3.729741e-01  0.000000e+00    0.000419\n",
              "Mes        -0.372974  1.000000e+00 -2.065386e-18   -0.032045\n",
              "Antiguedad  0.000000 -2.065386e-18  1.000000e+00    0.701732\n",
              "Cant_Bajas  0.000419 -3.204475e-02  7.017319e-01    1.000000"
            ]
          },
          "metadata": {
            "tags": []
          },
          "execution_count": 439
        }
      ]
    },
    {
      "cell_type": "code",
      "metadata": {
        "id": "xAebe_Wnug3X",
        "outputId": "0230a662-c7e8-40b2-a97a-255f9dabc676",
        "colab": {
          "base_uri": "https://localhost:8080/"
        }
      },
      "source": [
        "print('Datos del modelo de Regresión')\n",
        "print()\n",
        "print('\"Valor de la pendiente o coeficiente \"a\":')\n",
        "print(lineal_poly.coef_)\n",
        "print('\"Valor de la Intersección \"b\":')\n",
        "print(lineal_poly.intercept_)"
      ],
      "execution_count": null,
      "outputs": [
        {
          "output_type": "stream",
          "text": [
            "Datos del modelo de Regresión\n",
            "\n",
            "\"Valor de la pendiente o coeficiente \"a\":\n",
            "[[-1.87103758e-02 -1.10534783e-02 -9.19002290e-03 -8.09573142e-02\n",
            "   8.25601427e-03 -6.37793851e-04  5.10896656e-02  4.29816632e-02\n",
            "  -5.33724141e-06  7.49705740e-02 -2.34914078e-02  2.82738283e-05\n",
            "   1.20773774e-05 -2.11114793e-07  6.78207934e-08 -1.34211672e-09\n",
            "  -1.75840524e-07 -2.37060581e+01  5.38258348e+03 -1.64873662e-02\n",
            "  -4.00993364e-10 -5.24876782e-08  7.73025386e-06  3.87888477e-09\n",
            "  -2.75187517e-09 -1.66480693e+01  8.56397435e+03 -6.13910033e-02\n",
            "   1.80002644e-08  7.44421413e-10  3.20903304e-11  1.38606993e-09\n",
            "  -6.19895448e+01  2.87561200e+04  5.61059160e-03 -5.70018477e-11\n",
            "  -1.74276621e-10  4.25431912e-11  5.66529173e+00  3.67489338e+03\n",
            "  -3.89240890e-03 -2.07501216e-09 -3.45607987e-11 -3.93036503e+00\n",
            "   7.63541279e+03  5.26101679e-02  4.09841050e-11  5.31230946e+01\n",
            "  -6.49572394e+03  4.70271427e-02  4.74856399e+01 -4.75171850e+04\n",
            "   5.65438692e-07  7.57106601e+01 -2.18279747e+04 -2.34771582e-02\n",
            "   0.00000000e+00 -7.27595761e-12  6.82121026e-13 -9.09494702e-13\n",
            "  -9.09494702e-13 -9.09494702e-13 -2.37060542e+01  5.38258348e+03\n",
            "   0.00000000e+00  4.54747351e-13  9.09494702e-13 -4.54747351e-13\n",
            "   0.00000000e+00  8.47032947e-22  4.23516474e-22  8.47032947e-22\n",
            "  -3.38813179e-21  8.47032947e-21 -2.11758237e-22 -4.23516474e-22\n",
            "   4.23516474e-22 -2.64697796e-23  0.00000000e+00 -1.98523347e-23\n",
            "   2.64697796e-23  2.64697796e-23  8.27180613e-25  2.48154184e-24\n",
            "   8.27180613e-25 -8.27180613e-25 -2.06795153e-25  0.00000000e+00\n",
            "   1.80945759e-25  4.13590306e-25 -5.16987883e-26 -1.03397577e-25\n",
            "   2.58493941e-26  3.87740912e-26  0.00000000e+00  0.00000000e+00\n",
            "  -5.16987883e-26  2.28821735e-02  5.50011209e+00 -3.12063241e+03\n",
            "  -1.64873236e-02  0.00000000e+00  0.00000000e+00  2.01948392e-28\n",
            "   0.00000000e+00  0.00000000e+00 -1.66480693e+01  8.56397435e+03\n",
            "   0.00000000e+00  0.00000000e+00  0.00000000e+00  0.00000000e+00\n",
            "   0.00000000e+00  0.00000000e+00  0.00000000e+00  0.00000000e+00\n",
            "   0.00000000e+00  0.00000000e+00  0.00000000e+00  0.00000000e+00\n",
            "   0.00000000e+00  0.00000000e+00  0.00000000e+00  0.00000000e+00\n",
            "   0.00000000e+00  0.00000000e+00  0.00000000e+00  0.00000000e+00\n",
            "   0.00000000e+00  0.00000000e+00  0.00000000e+00  0.00000000e+00\n",
            "   0.00000000e+00  1.58920730e-02  2.35109479e+00 -3.12124685e+03\n",
            "  -6.13910090e-02  0.00000000e+00  0.00000000e+00  0.00000000e+00\n",
            "   0.00000000e+00 -6.19895448e+01  2.87561200e+04  0.00000000e+00\n",
            "   0.00000000e+00  0.00000000e+00  0.00000000e+00  0.00000000e+00\n",
            "   0.00000000e+00  0.00000000e+00  0.00000000e+00  0.00000000e+00\n",
            "   0.00000000e+00  0.00000000e+00  0.00000000e+00  0.00000000e+00\n",
            "   0.00000000e+00  0.00000000e+00  0.00000000e+00  0.00000000e+00\n",
            "   0.00000000e+00  6.07799318e-02 -1.76354079e+01 -3.12320681e+03\n",
            "   5.61059217e-03  0.00000000e+00  0.00000000e+00  0.00000000e+00\n",
            "   5.66529173e+00  3.67489338e+03  0.00000000e+00  0.00000000e+00\n",
            "   0.00000000e+00  0.00000000e+00  0.00000000e+00  0.00000000e+00\n",
            "   0.00000000e+00  0.00000000e+00  0.00000000e+00  0.00000000e+00\n",
            "   0.00000000e+00  0.00000000e+00 -6.17934127e-03  7.18229359e+00\n",
            "  -3.11998759e+03 -3.89241053e-03  0.00000000e+00  0.00000000e+00\n",
            "  -3.93036503e+00  7.63541279e+03  0.00000000e+00  0.00000000e+00\n",
            "   0.00000000e+00  0.00000000e+00  0.00000000e+00  0.00000000e+00\n",
            "   0.00000000e+00  3.46588713e-03  3.24703036e+00 -3.11938869e+03\n",
            "   5.26101676e-02  0.00000000e+00  5.31230946e+01 -6.49572394e+03\n",
            "   0.00000000e+00  0.00000000e+00  0.00000000e+00 -5.31267760e-02\n",
            "   1.72556946e+01 -3.12022696e+03  4.70271421e-02  4.74856399e+01\n",
            "  -4.75171850e+04 -4.74691435e-02  5.78100025e+01 -3.10328540e+03\n",
            "   7.09082437e-06 -4.28315426e-02  1.23443980e+01  1.31938801e+00]]\n",
            "\"Valor de la Intersección \"b\":\n",
            "[-56051.22424385]\n"
          ],
          "name": "stdout"
        }
      ]
    }
  ]
}